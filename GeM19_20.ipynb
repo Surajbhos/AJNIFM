{
 "cells": [
  {
   "cell_type": "code",
   "execution_count": 1,
   "id": "12cd3e13-1bb6-434c-8a0a-611c576416e4",
   "metadata": {},
   "outputs": [
    {
     "name": "stderr",
     "output_type": "stream",
     "text": [
      "2024-01-09 14:52:01.125636: I tensorflow/core/util/port.cc:110] oneDNN custom operations are on. You may see slightly different numerical results due to floating-point round-off errors from different computation orders. To turn them off, set the environment variable `TF_ENABLE_ONEDNN_OPTS=0`.\n",
      "2024-01-09 14:52:01.152727: I tensorflow/tsl/cuda/cudart_stub.cc:28] Could not find cuda drivers on your machine, GPU will not be used.\n",
      "2024-01-09 14:52:01.310935: I tensorflow/tsl/cuda/cudart_stub.cc:28] Could not find cuda drivers on your machine, GPU will not be used.\n",
      "2024-01-09 14:52:01.312723: I tensorflow/core/platform/cpu_feature_guard.cc:182] This TensorFlow binary is optimized to use available CPU instructions in performance-critical operations.\n",
      "To enable the following instructions: AVX2 AVX512F AVX512_VNNI FMA, in other operations, rebuild TensorFlow with the appropriate compiler flags.\n",
      "2024-01-09 14:52:02.191494: W tensorflow/compiler/tf2tensorrt/utils/py_utils.cc:38] TF-TRT Warning: Could not find TensorRT\n"
     ]
    }
   ],
   "source": [
    "import numpy as np\n",
    "import pandas as pd\n",
    "import seaborn as sns\n",
    "import matplotlib.pyplot as plt\n",
    "import tensorflow as tf\n",
    "from keras import layers\n",
    "import keras\n",
    " \n",
    "%matplotlib inline\n",
    "tf.random.set_seed(42)"
   ]
  },
  {
   "cell_type": "code",
   "execution_count": 2,
   "id": "7e7ad015-f286-437b-9b8e-c8ccc5cf5031",
   "metadata": {},
   "outputs": [],
   "source": [
    "import numpy as np\n",
    "import pandas as pd\n",
    "import math\n",
    "import seaborn as sns\n",
    "import xgboost as xgb\n",
    "import matplotlib.pyplot as plt\n",
    "#import plotly.graph_objects as go\n",
    "import tensorflow as tf\n",
    "#import tensorflow_addons as tfa\n",
    "\n",
    "from sklearn.model_selection import train_test_split\n",
    "from sklearn.ensemble import RandomForestRegressor\n",
    "from sklearn.preprocessing import LabelEncoder\n",
    "from sklearn.svm import SVR\n",
    "#from plotly.subplots import make_subplots\n",
    "from statsmodels.tsa.seasonal import seasonal_decompose\n",
    "from statsmodels.tsa.stattools import adfuller\n",
    "from statsmodels.graphics.tsaplots import plot_acf, plot_pacf\n",
    "from statsmodels.tsa.stattools import acf, pacf\n",
    "from sklearn.pipeline import make_pipeline\n",
    "from sklearn.preprocessing import StandardScaler\n",
    "from sklearn.preprocessing import MinMaxScaler\n",
    "from sklearn.decomposition import PCA\n",
    "from sklearn.model_selection import GridSearchCV\n",
    "from sklearn.metrics import mean_absolute_error\n",
    "from keras import Sequential\n",
    "from keras import layers\n",
    "from keras.models import Model\n",
    "from keras.layers import LSTM, BatchNormalization, Dropout, Dense, Flatten, Conv1D\n",
    "from keras.layers import MaxPooling1D, GRU, Input,Masking, Concatenate, dot\n",
    "from keras.optimizers import Adam, SGD\n",
    "from keras.losses import MeanAbsoluteError\n",
    "from keras.metrics import RootMeanSquaredError\n",
    "from keras.callbacks import EarlyStopping\n",
    "from keras.callbacks import LearningRateScheduler\n",
    "from sklearn.metrics import mean_squared_error"
   ]
  },
  {
   "cell_type": "code",
   "execution_count": 3,
   "id": "72524f84-78b7-40d5-a357-4471c087e51f",
   "metadata": {},
   "outputs": [],
   "source": [
    "df = pd.read_excel(r\"~/Downloads/BID_RA_data/BID_RA_19_20.xlsx\")"
   ]
  },
  {
   "cell_type": "code",
   "execution_count": 4,
   "id": "463484b7-e0e1-458f-a2aa-09a511b1a8b3",
   "metadata": {},
   "outputs": [
    {
     "data": {
      "text/plain": [
       "Order ID                                  int64\n",
       "Order Date                       datetime64[ns]\n",
       "FY_OrderDate                             object\n",
       "Month_Name_OrderDate                     object\n",
       "Purchase Mode                            object\n",
       "Bid start date                   datetime64[ns]\n",
       "Bid end date                     datetime64[ns]\n",
       "HOD ID                                   object\n",
       "Seller ID                                object\n",
       "Order_Quarter                            object\n",
       "Order MSME Verified                      object\n",
       "MSME verfied gender wise                 object\n",
       "MSME verified social category            object\n",
       "Startup verfied                          object\n",
       "Sub Category ID                          object\n",
       "Expected delivery date           datetime64[ns]\n",
       "Shipment received date                   object\n",
       "Order Qty                                 int64\n",
       "Order value                             float64\n",
       "Consignment ID                            int64\n",
       "GeM Invoice Number                       object\n",
       "BID Number                               object\n",
       "Shipment Quantity Received                int64\n",
       "Shipment Quantity Rejected                int64\n",
       "Shipment Quantity Accepted                int64\n",
       "CRAC amount                             float64\n",
       "Total payments                          float64\n",
       "Invoice Date                             object\n",
       "CRAC date                                object\n",
       "Payment Date                             object\n",
       "Payment Type                             object\n",
       "Consignee ID                             object\n",
       "dtype: object"
      ]
     },
     "execution_count": 4,
     "metadata": {},
     "output_type": "execute_result"
    }
   ],
   "source": [
    "df.dtypes"
   ]
  },
  {
   "cell_type": "code",
   "execution_count": 5,
   "id": "d61ec7c6-fe74-41d2-95a3-4c7ca91366da",
   "metadata": {},
   "outputs": [],
   "source": [
    "df1 = df.drop(df.columns[[0, 7, 19, 20, 21, 31]], axis=1)"
   ]
  },
  {
   "cell_type": "code",
   "execution_count": 6,
   "id": "d6b67722-cc26-4bde-aef0-f1c1cb1157fd",
   "metadata": {},
   "outputs": [
    {
     "data": {
      "text/plain": [
       "Order Date                       datetime64[ns]\n",
       "FY_OrderDate                             object\n",
       "Month_Name_OrderDate                     object\n",
       "Purchase Mode                            object\n",
       "Bid start date                   datetime64[ns]\n",
       "Bid end date                     datetime64[ns]\n",
       "Seller ID                                object\n",
       "Order_Quarter                            object\n",
       "Order MSME Verified                      object\n",
       "MSME verfied gender wise                 object\n",
       "MSME verified social category            object\n",
       "Startup verfied                          object\n",
       "Sub Category ID                          object\n",
       "Expected delivery date           datetime64[ns]\n",
       "Shipment received date                   object\n",
       "Order Qty                                 int64\n",
       "Order value                             float64\n",
       "Shipment Quantity Received                int64\n",
       "Shipment Quantity Rejected                int64\n",
       "Shipment Quantity Accepted                int64\n",
       "CRAC amount                             float64\n",
       "Total payments                          float64\n",
       "Invoice Date                             object\n",
       "CRAC date                                object\n",
       "Payment Date                             object\n",
       "Payment Type                             object\n",
       "dtype: object"
      ]
     },
     "execution_count": 6,
     "metadata": {},
     "output_type": "execute_result"
    }
   ],
   "source": [
    "df1.dtypes"
   ]
  },
  {
   "cell_type": "code",
   "execution_count": 7,
   "id": "792deb05-cdc3-403e-abdb-2d043432bc76",
   "metadata": {},
   "outputs": [
    {
     "data": {
      "text/plain": [
       "Seller ID\n",
       "COMP7                                   693703\n",
       "COMP14768                               116971\n",
       "COMP1574                                 61193\n",
       "COMP22181                                59780\n",
       "COMP11321                                29412\n",
       "                                         ...  \n",
       "COMP1844                                     1\n",
       "COMP4971                                     1\n",
       "COMP10E4D2FCFB9A7A5674F5AAD5150B4EC9         1\n",
       "COMP8794                                     1\n",
       "NCOMP30968                                   1\n",
       "Name: count, Length: 4549, dtype: int64"
      ]
     },
     "execution_count": 7,
     "metadata": {},
     "output_type": "execute_result"
    }
   ],
   "source": [
    "df1[\"Seller ID\"].value_counts()"
   ]
  },
  {
   "cell_type": "code",
   "execution_count": 8,
   "id": "40cf3d19-ef71-4c4c-9891-3db8e2c88107",
   "metadata": {},
   "outputs": [],
   "source": [
    "df1[\"price\"] = df1[\"Order value\"]/df1[\"Order Qty\"]"
   ]
  },
  {
   "cell_type": "code",
   "execution_count": 9,
   "id": "4c5c7e69-6057-4fc0-9c41-ff36ed4cff32",
   "metadata": {},
   "outputs": [],
   "source": [
    "import datetime\n",
    "from datetime import datetime as dt"
   ]
  },
  {
   "cell_type": "code",
   "execution_count": 10,
   "id": "475b6854-15c4-4dd4-b90d-3cd6f7a91e7b",
   "metadata": {},
   "outputs": [],
   "source": [
    "df1[\"Time taken to deliver\"] = (df1[\"Expected delivery date\"] - df1[\"Order Date\"]).dt.days"
   ]
  },
  {
   "cell_type": "code",
   "execution_count": 11,
   "id": "058f47a5-d5d8-4fd0-9bfd-e7f5ed28a00c",
   "metadata": {},
   "outputs": [],
   "source": [
    "df1.drop(columns=[\"Month_Name_OrderDate\", \"Order_Quarter\", \"Invoice Date\",\"CRAC date\", \"Payment Date\"], inplace=True)"
   ]
  },
  {
   "cell_type": "code",
   "execution_count": 12,
   "id": "ced4afb1-6409-4e5a-bdd2-3dfed956a700",
   "metadata": {},
   "outputs": [],
   "source": [
    "columns_to_encode = [\"Purchase Mode\", \"MSME verfied gender wise\", \"Order MSME Verified\", \"Startup verfied\"]"
   ]
  },
  {
   "cell_type": "code",
   "execution_count": 13,
   "id": "c3f730b8-b86f-4a22-8e59-7016a1b58aae",
   "metadata": {},
   "outputs": [],
   "source": [
    "le = LabelEncoder()"
   ]
  },
  {
   "cell_type": "code",
   "execution_count": 14,
   "id": "4cce6d14-2a6b-47ca-b122-2f263aec7430",
   "metadata": {},
   "outputs": [],
   "source": [
    "for column in columns_to_encode:\n",
    "       df1[column+'_encoded'] = le.fit_transform(df1[column])"
   ]
  },
  {
   "cell_type": "code",
   "execution_count": 15,
   "id": "d4dc0438-a306-405c-82b3-feb2f3767fec",
   "metadata": {},
   "outputs": [],
   "source": [
    "df1 = df1.drop(columns=[\"Purchase Mode\", \"MSME verfied gender wise\", \"Order MSME Verified\", \"Startup verfied\"])"
   ]
  },
  {
   "cell_type": "code",
   "execution_count": 16,
   "id": "700f1e17-dd5d-4fc1-892b-ae3c345a3341",
   "metadata": {},
   "outputs": [],
   "source": [
    "df1 = df1.drop(columns=[\"FY_OrderDate\", \"Bid start date\", \"Bid end date\"])"
   ]
  },
  {
   "cell_type": "code",
   "execution_count": 17,
   "id": "fbb05204-5100-4a45-b113-1c71b3ac0d47",
   "metadata": {},
   "outputs": [],
   "source": [
    "df1[\"Payment Type\"+'_encoded'] = le.fit_transform(df1[\"Payment Type\"])"
   ]
  },
  {
   "cell_type": "code",
   "execution_count": 18,
   "id": "ff8a13a2-59b5-484d-817c-c0cdf1d0784c",
   "metadata": {},
   "outputs": [],
   "source": [
    "df1[\"MSME verified social category\"+'_encoded'] = le.fit_transform(df1[\"MSME verified social category\"])"
   ]
  },
  {
   "cell_type": "code",
   "execution_count": 19,
   "id": "0e966048-490e-4699-86a7-bc4270d79594",
   "metadata": {},
   "outputs": [],
   "source": [
    "df1 = df1.drop(columns=[\"MSME verified social category\", \"Payment Type\"])"
   ]
  },
  {
   "cell_type": "code",
   "execution_count": 20,
   "id": "86dd26cd-4ded-4ac6-903a-40f0ad4dea3e",
   "metadata": {},
   "outputs": [
    {
     "data": {
      "text/plain": [
       "Index(['Order Date', 'Seller ID', 'Sub Category ID', 'Expected delivery date',\n",
       "       'Shipment received date', 'Order Qty', 'Order value',\n",
       "       'Shipment Quantity Received', 'Shipment Quantity Rejected',\n",
       "       'Shipment Quantity Accepted', 'CRAC amount', 'Total payments', 'price',\n",
       "       'Time taken to deliver', 'Purchase Mode_encoded',\n",
       "       'MSME verfied gender wise_encoded', 'Order MSME Verified_encoded',\n",
       "       'Startup verfied_encoded', 'Payment Type_encoded',\n",
       "       'MSME verified social category_encoded'],\n",
       "      dtype='object')"
      ]
     },
     "execution_count": 20,
     "metadata": {},
     "output_type": "execute_result"
    }
   ],
   "source": [
    "df1.columns"
   ]
  },
  {
   "cell_type": "code",
   "execution_count": 21,
   "id": "58ddd4e9-ec90-4995-a218-6febfaa3cc08",
   "metadata": {},
   "outputs": [],
   "source": [
    "df1 = df1.drop(columns=[\"Order Date\", \"Expected delivery date\", \"Shipment received date\"])"
   ]
  },
  {
   "cell_type": "code",
   "execution_count": 22,
   "id": "d0200db1-4c7d-438d-8334-82b71a31bd05",
   "metadata": {},
   "outputs": [],
   "source": [
    "df1 = df1.drop(columns=['Seller ID'])"
   ]
  },
  {
   "cell_type": "code",
   "execution_count": 23,
   "id": "292013c6-ccd9-4b83-8626-79f08a6b7378",
   "metadata": {},
   "outputs": [],
   "source": [
    "df1[\"Sub Category ID\"+'_encoded'] = le.fit_transform(df1[\"Sub Category ID\"])"
   ]
  },
  {
   "cell_type": "code",
   "execution_count": 24,
   "id": "0f3c3166-639c-4486-b1f3-813cec50e23b",
   "metadata": {},
   "outputs": [],
   "source": [
    "df1 = df1.drop(columns=['Sub Category ID'])"
   ]
  },
  {
   "cell_type": "code",
   "execution_count": 30,
   "id": "47a16383-66d4-4854-8b6b-c8455babc8e7",
   "metadata": {},
   "outputs": [
    {
     "data": {
      "text/plain": [
       "Index(['Order Qty', 'Order value', 'Shipment Quantity Received',\n",
       "       'Shipment Quantity Rejected', 'Shipment Quantity Accepted',\n",
       "       'CRAC amount', 'Total payments', 'price', 'Time taken to deliver',\n",
       "       'Purchase Mode_encoded', 'MSME verfied gender wise_encoded',\n",
       "       'Order MSME Verified_encoded', 'Startup verfied_encoded',\n",
       "       'Payment Type_encoded', 'MSME verified social category_encoded',\n",
       "       'Sub Category ID_encoded'],\n",
       "      dtype='object')"
      ]
     },
     "execution_count": 30,
     "metadata": {},
     "output_type": "execute_result"
    }
   ],
   "source": [
    "df1.columns"
   ]
  },
  {
   "cell_type": "code",
   "execution_count": 31,
   "id": "93513b81-3bf9-42e4-8eea-d2f6ec337d89",
   "metadata": {},
   "outputs": [
    {
     "data": {
      "text/plain": [
       "Sub Category ID_encoded\n",
       "593     811482\n",
       "147      89195\n",
       "139      61019\n",
       "41        8535\n",
       "466       7739\n",
       "         ...  \n",
       "1016         1\n",
       "928          1\n",
       "1093         1\n",
       "59           1\n",
       "620          1\n",
       "Name: count, Length: 1352, dtype: int64"
      ]
     },
     "execution_count": 31,
     "metadata": {},
     "output_type": "execute_result"
    }
   ],
   "source": [
    "df1[\"Sub Category ID_encoded\"].value_counts()"
   ]
  },
  {
   "cell_type": "code",
   "execution_count": 32,
   "id": "a815fbe6-c6f6-4f47-b410-5b2e4f3b66cc",
   "metadata": {},
   "outputs": [],
   "source": [
    "df2=df1[df1[\"Sub Category ID_encoded\"]==147]"
   ]
  },
  {
   "cell_type": "code",
   "execution_count": 33,
   "id": "a07ac942-da88-4a1b-ad3f-e8964173508b",
   "metadata": {},
   "outputs": [
    {
     "data": {
      "text/plain": [
       "(89195, 16)"
      ]
     },
     "execution_count": 33,
     "metadata": {},
     "output_type": "execute_result"
    }
   ],
   "source": [
    "df2.shape"
   ]
  },
  {
   "cell_type": "code",
   "execution_count": null,
   "id": "1742ed6d-3e0b-40a3-93cd-76bb103196ad",
   "metadata": {},
   "outputs": [],
   "source": []
  },
  {
   "cell_type": "code",
   "execution_count": 34,
   "id": "c5668a38-9d65-4b0e-9587-0aef3d5532b8",
   "metadata": {},
   "outputs": [],
   "source": [
    "df3=df1[df1[\"Sub Category ID_encoded\"]==593]"
   ]
  },
  {
   "cell_type": "code",
   "execution_count": 35,
   "id": "6f92eb69-5794-4f21-9411-52a3900604da",
   "metadata": {},
   "outputs": [
    {
     "data": {
      "text/plain": [
       "(811482, 16)"
      ]
     },
     "execution_count": 35,
     "metadata": {},
     "output_type": "execute_result"
    }
   ],
   "source": [
    "df3.shape"
   ]
  },
  {
   "cell_type": "code",
   "execution_count": null,
   "id": "6f4fca15-6410-4636-ac48-9d334e4a358d",
   "metadata": {},
   "outputs": [],
   "source": []
  },
  {
   "cell_type": "code",
   "execution_count": 36,
   "id": "e5eed7eb-44f3-4e4d-9139-2612f9daeb25",
   "metadata": {},
   "outputs": [],
   "source": [
    "X = df2.drop(columns=['Time taken to deliver'])\n",
    "y = df2['Time taken to deliver']"
   ]
  },
  {
   "cell_type": "code",
   "execution_count": 26,
   "id": "2e97a028-105d-4046-a07f-059bd9bf1af5",
   "metadata": {},
   "outputs": [],
   "source": [
    "X = df1.drop(columns=['Time taken to deliver'])\n",
    "y = df1['Time taken to deliver']"
   ]
  },
  {
   "cell_type": "code",
   "execution_count": 37,
   "id": "4d9bc4c6-e6b7-43c0-b67a-84e9abc0308a",
   "metadata": {},
   "outputs": [
    {
     "data": {
      "text/plain": [
       "Index(['Order Qty', 'Order value', 'Shipment Quantity Received',\n",
       "       'Shipment Quantity Rejected', 'Shipment Quantity Accepted',\n",
       "       'CRAC amount', 'Total payments', 'price', 'Purchase Mode_encoded',\n",
       "       'MSME verfied gender wise_encoded', 'Order MSME Verified_encoded',\n",
       "       'Startup verfied_encoded', 'Payment Type_encoded',\n",
       "       'MSME verified social category_encoded', 'Sub Category ID_encoded'],\n",
       "      dtype='object')"
      ]
     },
     "execution_count": 37,
     "metadata": {},
     "output_type": "execute_result"
    }
   ],
   "source": [
    "X.columns"
   ]
  },
  {
   "cell_type": "code",
   "execution_count": 38,
   "id": "b6cafc52-cf24-4312-9a0e-57ebd9fe88a1",
   "metadata": {},
   "outputs": [
    {
     "data": {
      "text/plain": [
       "(89195, 15)"
      ]
     },
     "execution_count": 38,
     "metadata": {},
     "output_type": "execute_result"
    }
   ],
   "source": [
    "X.shape"
   ]
  },
  {
   "cell_type": "code",
   "execution_count": 39,
   "id": "beb5afa9-aa0a-4322-8b5c-2e1dec79a415",
   "metadata": {},
   "outputs": [],
   "source": [
    "X_train, X_test, y_train, y_test = train_test_split(X, y, test_size=0.2)"
   ]
  },
  {
   "cell_type": "code",
   "execution_count": 40,
   "id": "02fdad15-0219-4a95-8275-66113498354e",
   "metadata": {},
   "outputs": [
    {
     "data": {
      "text/html": [
       "<div>\n",
       "<style scoped>\n",
       "    .dataframe tbody tr th:only-of-type {\n",
       "        vertical-align: middle;\n",
       "    }\n",
       "\n",
       "    .dataframe tbody tr th {\n",
       "        vertical-align: top;\n",
       "    }\n",
       "\n",
       "    .dataframe thead th {\n",
       "        text-align: right;\n",
       "    }\n",
       "</style>\n",
       "<table border=\"1\" class=\"dataframe\">\n",
       "  <thead>\n",
       "    <tr style=\"text-align: right;\">\n",
       "      <th></th>\n",
       "      <th>Order Qty</th>\n",
       "      <th>Order value</th>\n",
       "      <th>Shipment Quantity Received</th>\n",
       "      <th>Shipment Quantity Rejected</th>\n",
       "      <th>Shipment Quantity Accepted</th>\n",
       "      <th>CRAC amount</th>\n",
       "      <th>Total payments</th>\n",
       "      <th>price</th>\n",
       "      <th>Purchase Mode_encoded</th>\n",
       "      <th>MSME verfied gender wise_encoded</th>\n",
       "      <th>Order MSME Verified_encoded</th>\n",
       "      <th>Startup verfied_encoded</th>\n",
       "      <th>Payment Type_encoded</th>\n",
       "      <th>MSME verified social category_encoded</th>\n",
       "      <th>Sub Category ID_encoded</th>\n",
       "    </tr>\n",
       "  </thead>\n",
       "  <tbody>\n",
       "    <tr>\n",
       "      <th>127949</th>\n",
       "      <td>156000</td>\n",
       "      <td>523380000.0</td>\n",
       "      <td>562</td>\n",
       "      <td>0</td>\n",
       "      <td>562</td>\n",
       "      <td>1885510.0</td>\n",
       "      <td>2328370.0</td>\n",
       "      <td>3355.0</td>\n",
       "      <td>0</td>\n",
       "      <td>0</td>\n",
       "      <td>0</td>\n",
       "      <td>0</td>\n",
       "      <td>3</td>\n",
       "      <td>0</td>\n",
       "      <td>147</td>\n",
       "    </tr>\n",
       "    <tr>\n",
       "      <th>139486</th>\n",
       "      <td>156000</td>\n",
       "      <td>523380000.0</td>\n",
       "      <td>689</td>\n",
       "      <td>0</td>\n",
       "      <td>689</td>\n",
       "      <td>2311595.0</td>\n",
       "      <td>2013000.0</td>\n",
       "      <td>3355.0</td>\n",
       "      <td>0</td>\n",
       "      <td>0</td>\n",
       "      <td>0</td>\n",
       "      <td>0</td>\n",
       "      <td>3</td>\n",
       "      <td>0</td>\n",
       "      <td>147</td>\n",
       "    </tr>\n",
       "    <tr>\n",
       "      <th>71415</th>\n",
       "      <td>156000</td>\n",
       "      <td>523380000.0</td>\n",
       "      <td>321</td>\n",
       "      <td>0</td>\n",
       "      <td>321</td>\n",
       "      <td>1076955.0</td>\n",
       "      <td>2103585.0</td>\n",
       "      <td>3355.0</td>\n",
       "      <td>0</td>\n",
       "      <td>0</td>\n",
       "      <td>0</td>\n",
       "      <td>0</td>\n",
       "      <td>3</td>\n",
       "      <td>0</td>\n",
       "      <td>147</td>\n",
       "    </tr>\n",
       "    <tr>\n",
       "      <th>157336</th>\n",
       "      <td>104000</td>\n",
       "      <td>348920000.0</td>\n",
       "      <td>503</td>\n",
       "      <td>0</td>\n",
       "      <td>503</td>\n",
       "      <td>1687565.0</td>\n",
       "      <td>1643950.0</td>\n",
       "      <td>3355.0</td>\n",
       "      <td>0</td>\n",
       "      <td>0</td>\n",
       "      <td>1</td>\n",
       "      <td>0</td>\n",
       "      <td>1</td>\n",
       "      <td>0</td>\n",
       "      <td>147</td>\n",
       "    </tr>\n",
       "    <tr>\n",
       "      <th>76488</th>\n",
       "      <td>156000</td>\n",
       "      <td>523380000.0</td>\n",
       "      <td>675</td>\n",
       "      <td>0</td>\n",
       "      <td>675</td>\n",
       "      <td>2264625.0</td>\n",
       "      <td>2348500.0</td>\n",
       "      <td>3355.0</td>\n",
       "      <td>0</td>\n",
       "      <td>0</td>\n",
       "      <td>0</td>\n",
       "      <td>0</td>\n",
       "      <td>3</td>\n",
       "      <td>0</td>\n",
       "      <td>147</td>\n",
       "    </tr>\n",
       "  </tbody>\n",
       "</table>\n",
       "</div>"
      ],
      "text/plain": [
       "        Order Qty  Order value  Shipment Quantity Received  \\\n",
       "127949     156000  523380000.0                         562   \n",
       "139486     156000  523380000.0                         689   \n",
       "71415      156000  523380000.0                         321   \n",
       "157336     104000  348920000.0                         503   \n",
       "76488      156000  523380000.0                         675   \n",
       "\n",
       "        Shipment Quantity Rejected  Shipment Quantity Accepted  CRAC amount  \\\n",
       "127949                           0                         562    1885510.0   \n",
       "139486                           0                         689    2311595.0   \n",
       "71415                            0                         321    1076955.0   \n",
       "157336                           0                         503    1687565.0   \n",
       "76488                            0                         675    2264625.0   \n",
       "\n",
       "        Total payments   price  Purchase Mode_encoded  \\\n",
       "127949       2328370.0  3355.0                      0   \n",
       "139486       2013000.0  3355.0                      0   \n",
       "71415        2103585.0  3355.0                      0   \n",
       "157336       1643950.0  3355.0                      0   \n",
       "76488        2348500.0  3355.0                      0   \n",
       "\n",
       "        MSME verfied gender wise_encoded  Order MSME Verified_encoded  \\\n",
       "127949                                 0                            0   \n",
       "139486                                 0                            0   \n",
       "71415                                  0                            0   \n",
       "157336                                 0                            1   \n",
       "76488                                  0                            0   \n",
       "\n",
       "        Startup verfied_encoded  Payment Type_encoded  \\\n",
       "127949                        0                     3   \n",
       "139486                        0                     3   \n",
       "71415                         0                     3   \n",
       "157336                        0                     1   \n",
       "76488                         0                     3   \n",
       "\n",
       "        MSME verified social category_encoded  Sub Category ID_encoded  \n",
       "127949                                      0                      147  \n",
       "139486                                      0                      147  \n",
       "71415                                       0                      147  \n",
       "157336                                      0                      147  \n",
       "76488                                       0                      147  "
      ]
     },
     "execution_count": 40,
     "metadata": {},
     "output_type": "execute_result"
    }
   ],
   "source": [
    "X_train.head()"
   ]
  },
  {
   "cell_type": "code",
   "execution_count": 41,
   "id": "b9d8e5ce-07c8-4f9e-a16e-80290da12e2c",
   "metadata": {},
   "outputs": [
    {
     "name": "stdout",
     "output_type": "stream",
     "text": [
      "(71356, 15) (71356,) (17839, 15) (17839,)\n"
     ]
    }
   ],
   "source": [
    "X_train_bil, y_train_bil = np.array(X_train), np.array(y_train)\n",
    "X_test_bil, y_test_bil = np.array(X_test), np.array(y_test)\n",
    "#X_train_bil = X_train_bil.reshape((X_train_bil.shape[0], 1, X_train_bil.shape[1]))\n",
    "#X_test_bil = X_test_bil.reshape((X_test_bil.shape[0], 1, X_test_bil.shape[1]))\n",
    "print(X_train_bil.shape, y_train_bil.shape, X_test_bil.shape, y_test_bil.shape)"
   ]
  },
  {
   "cell_type": "code",
   "execution_count": 42,
   "id": "36be206b-d87e-4251-93c3-bd4a29a063dc",
   "metadata": {},
   "outputs": [
    {
     "data": {
      "text/plain": [
       "Order Qty                                  int64\n",
       "Order value                              float64\n",
       "Shipment Quantity Received                 int64\n",
       "Shipment Quantity Rejected                 int64\n",
       "Shipment Quantity Accepted                 int64\n",
       "CRAC amount                              float64\n",
       "Total payments                           float64\n",
       "price                                    float64\n",
       "Purchase Mode_encoded                      int64\n",
       "MSME verfied gender wise_encoded           int64\n",
       "Order MSME Verified_encoded                int64\n",
       "Startup verfied_encoded                    int64\n",
       "Payment Type_encoded                       int64\n",
       "MSME verified social category_encoded      int64\n",
       "Sub Category ID_encoded                    int64\n",
       "dtype: object"
      ]
     },
     "execution_count": 42,
     "metadata": {},
     "output_type": "execute_result"
    }
   ],
   "source": [
    "X_train.dtypes"
   ]
  },
  {
   "cell_type": "code",
   "execution_count": null,
   "id": "cf022ed6-7afe-45d5-8b93-5d1aa84e4643",
   "metadata": {},
   "outputs": [],
   "source": []
  },
  {
   "cell_type": "code",
   "execution_count": null,
   "id": "5b084ec8-36b3-4275-ae98-f89a66ed340c",
   "metadata": {},
   "outputs": [],
   "source": [
    "## Deep Belief Network with RBMs"
   ]
  },
  {
   "cell_type": "code",
   "execution_count": null,
   "id": "96c0c214-82c3-4eee-9d00-7cf7052490d5",
   "metadata": {},
   "outputs": [],
   "source": []
  },
  {
   "cell_type": "code",
   "execution_count": null,
   "id": "d7728119-d496-49bb-8fe9-ff0dba356e1e",
   "metadata": {},
   "outputs": [],
   "source": []
  },
  {
   "cell_type": "code",
   "execution_count": null,
   "id": "e0ac4167-8bce-4ae2-bf0e-cdc442a1a336",
   "metadata": {},
   "outputs": [],
   "source": []
  },
  {
   "cell_type": "code",
   "execution_count": null,
   "id": "7a5701b5-3dac-4160-bd10-17bdd2bf9167",
   "metadata": {},
   "outputs": [],
   "source": []
  },
  {
   "cell_type": "code",
   "execution_count": null,
   "id": "83cbd5a3-1025-4f38-aa52-2475f96e4687",
   "metadata": {},
   "outputs": [],
   "source": []
  },
  {
   "cell_type": "code",
   "execution_count": null,
   "id": "6db0cd51-9281-46e0-96ff-12a99351ea2f",
   "metadata": {},
   "outputs": [],
   "source": []
  },
  {
   "cell_type": "code",
   "execution_count": null,
   "id": "70bbead8-b0cc-4b96-aaf5-4e3e405f094c",
   "metadata": {},
   "outputs": [],
   "source": []
  },
  {
   "cell_type": "code",
   "execution_count": null,
   "id": "7e3a8488-f43c-434c-9432-e127750e62b0",
   "metadata": {},
   "outputs": [],
   "source": []
  },
  {
   "cell_type": "code",
   "execution_count": null,
   "id": "372520c5-39ac-4ed0-9016-154d6b899d99",
   "metadata": {},
   "outputs": [],
   "source": []
  },
  {
   "cell_type": "code",
   "execution_count": 32,
   "id": "4fce37ca-71cb-442c-877c-44a360234174",
   "metadata": {},
   "outputs": [],
   "source": [
    "# LSTM"
   ]
  },
  {
   "cell_type": "code",
   "execution_count": 35,
   "id": "abc22609-c5a3-42a7-b63c-95bb378f12da",
   "metadata": {},
   "outputs": [],
   "source": [
    "from tensorflow.keras.models import Sequential\n",
    "from tensorflow.keras.layers import Dense, LSTM, Dropout, RepeatVector, TimeDistributed\n",
    "from keras.layers import RepeatVector\n",
    "from keras.layers import Bidirectional"
   ]
  },
  {
   "cell_type": "code",
   "execution_count": 34,
   "id": "60c22846-bcdd-41fa-a3be-f9d794c2a291",
   "metadata": {},
   "outputs": [],
   "source": [
    "def create_model():\n",
    "  model = Sequential()\n",
    "  model.add(LSTM(128, activation='relu', return_sequences=True))\n",
    "  model.add(LSTM(64, activation='relu', return_sequences=False))\n",
    "  model.add(RepeatVector(7))\n",
    "  model.add(LSTM(64, activation='relu', return_sequences=True))\n",
    "  model.add(LSTM(128, activation='relu', return_sequences=True))\n",
    "\n",
    "  model.add(Bidirectional(LSTM(128, activation='relu',return_sequences=True)))\n",
    "  model.add(LSTM(64, activation='relu', return_sequences=True))\n",
    "  model.add(Dropout(0.25))\n",
    "  model.add(LSTM(64, activation='relu', return_sequences=False))\n",
    "  model.add(Dropout(0.25))\n",
    "\n",
    "  model.add(Dense(10,activation='relu'))\n",
    "  model.add(Dense(1,activation='relu'))\n",
    "  model.compile(loss='mse', optimizer='adam')\n",
    "  model.build(input_shape=(1,15,1)) \n",
    "  model.summary()\n",
    "  return model\n"
   ]
  },
  {
   "cell_type": "code",
   "execution_count": 35,
   "id": "a5cf5993-0e4d-42f1-9feb-d11e17b123ca",
   "metadata": {},
   "outputs": [
    {
     "name": "stdout",
     "output_type": "stream",
     "text": [
      "Model: \"sequential\"\n",
      "_________________________________________________________________\n",
      " Layer (type)                Output Shape              Param #   \n",
      "=================================================================\n",
      " lstm (LSTM)                 (1, 15, 128)              66560     \n",
      "                                                                 \n",
      " lstm_1 (LSTM)               (1, 64)                   49408     \n",
      "                                                                 \n",
      " repeat_vector (RepeatVecto  (1, 7, 64)                0         \n",
      " r)                                                              \n",
      "                                                                 \n",
      " lstm_2 (LSTM)               (1, 7, 64)                33024     \n",
      "                                                                 \n",
      " lstm_3 (LSTM)               (1, 7, 128)               98816     \n",
      "                                                                 \n",
      " bidirectional (Bidirection  (1, 7, 256)               263168    \n",
      " al)                                                             \n",
      "                                                                 \n",
      " lstm_5 (LSTM)               (1, 7, 64)                82176     \n",
      "                                                                 \n",
      " dropout (Dropout)           (1, 7, 64)                0         \n",
      "                                                                 \n",
      " lstm_6 (LSTM)               (1, 64)                   33024     \n",
      "                                                                 \n",
      " dropout_1 (Dropout)         (1, 64)                   0         \n",
      "                                                                 \n",
      " dense (Dense)               (1, 10)                   650       \n",
      "                                                                 \n",
      " dense_1 (Dense)             (1, 1)                    11        \n",
      "                                                                 \n",
      "=================================================================\n",
      "Total params: 626837 (2.39 MB)\n",
      "Trainable params: 626837 (2.39 MB)\n",
      "Non-trainable params: 0 (0.00 Byte)\n",
      "_________________________________________________________________\n",
      "Epoch 1/10\n",
      "4588/4588 [==============================] - 280s 60ms/step - loss: 3693107.5000 - val_loss: 1833.5293\n",
      "Epoch 2/10\n",
      "4588/4588 [==============================] - 274s 60ms/step - loss: 3514.7668 - val_loss: 1833.5293\n",
      "Epoch 3/10\n",
      "4588/4588 [==============================] - 281s 61ms/step - loss: 19284.6113 - val_loss: 1833.5293\n",
      "Epoch 4/10\n",
      "4588/4588 [==============================] - 277s 60ms/step - loss: 1837.0420 - val_loss: 1833.5293\n",
      "Epoch 5/10\n",
      "4588/4588 [==============================] - 282s 62ms/step - loss: 1838.1799 - val_loss: 1833.5293\n",
      "Epoch 6/10\n",
      "4588/4588 [==============================] - 279s 61ms/step - loss: 1902.2854 - val_loss: 1833.5293\n",
      "Epoch 7/10\n",
      "4588/4588 [==============================] - 271s 59ms/step - loss: 1848.8618 - val_loss: 1833.5293\n",
      "Epoch 8/10\n",
      "4588/4588 [==============================] - 294s 64ms/step - loss: 1837.0444 - val_loss: 1833.5293\n",
      "Epoch 9/10\n",
      "4588/4588 [==============================] - 269s 59ms/step - loss: 1837.0441 - val_loss: 1833.5293\n",
      "Epoch 10/10\n",
      "4588/4588 [==============================] - 266s 58ms/step - loss: 1837.0447 - val_loss: 1833.5293\n"
     ]
    }
   ],
   "source": [
    "model_lsauto=create_model()\n",
    "history = model_lsauto.fit(X_train_bil, y_train_bil, epochs=10, batch_size=128, validation_split=0.3)\n"
   ]
  },
  {
   "cell_type": "code",
   "execution_count": 36,
   "id": "1ab7424a-09ec-497e-a69b-b0ef0242d333",
   "metadata": {},
   "outputs": [
    {
     "name": "stdout",
     "output_type": "stream",
     "text": [
      "6554/6554 [==============================] - 55s 8ms/step\n"
     ]
    }
   ],
   "source": [
    "y_pred_lsauto = model_lsauto.predict(X_test_bil)"
   ]
  },
  {
   "cell_type": "code",
   "execution_count": 36,
   "id": "7eb40fdc-80a5-4446-8735-14373a14b510",
   "metadata": {},
   "outputs": [],
   "source": [
    "from sklearn.metrics import mean_absolute_error\n",
    "from keras.layers import Bidirectional\n",
    "from sklearn.metrics import mean_squared_error,r2_score,mean_absolute_error\n",
    "from sklearn.preprocessing import MinMaxScaler"
   ]
  },
  {
   "cell_type": "code",
   "execution_count": 38,
   "id": "80de5e76-16c4-4732-afe3-3e73f3d41e6f",
   "metadata": {},
   "outputs": [
    {
     "name": "stdout",
     "output_type": "stream",
     "text": [
      "Root Mean Squared Error: 42.81820364928231\n",
      "Mean Squared Error: 1833.3985637514127\n"
     ]
    }
   ],
   "source": [
    "mse_lsauto_seen = mean_squared_error(y_test, y_pred_lsauto)\n",
    "rmse_lsauto_seen = np.sqrt(mse_lsauto_seen)\n",
    "print(f\"Root Mean Squared Error: {rmse_lsauto_seen}\")\n",
    "print(f\"Mean Squared Error: {mse_lsauto_seen}\")"
   ]
  },
  {
   "cell_type": "code",
   "execution_count": 39,
   "id": "6dd06975-8c26-424a-b064-7632acff30ce",
   "metadata": {},
   "outputs": [
    {
     "data": {
      "text/html": [
       "<div>\n",
       "<style scoped>\n",
       "    .dataframe tbody tr th:only-of-type {\n",
       "        vertical-align: middle;\n",
       "    }\n",
       "\n",
       "    .dataframe tbody tr th {\n",
       "        vertical-align: top;\n",
       "    }\n",
       "\n",
       "    .dataframe thead th {\n",
       "        text-align: right;\n",
       "    }\n",
       "</style>\n",
       "<table border=\"1\" class=\"dataframe\">\n",
       "  <thead>\n",
       "    <tr style=\"text-align: right;\">\n",
       "      <th></th>\n",
       "      <th>Real</th>\n",
       "      <th>Predicted</th>\n",
       "    </tr>\n",
       "  </thead>\n",
       "  <tbody>\n",
       "    <tr>\n",
       "      <th>838852</th>\n",
       "      <td>30</td>\n",
       "      <td>0.0</td>\n",
       "    </tr>\n",
       "    <tr>\n",
       "      <th>838853</th>\n",
       "      <td>30</td>\n",
       "      <td>0.0</td>\n",
       "    </tr>\n",
       "    <tr>\n",
       "      <th>838854</th>\n",
       "      <td>30</td>\n",
       "      <td>0.0</td>\n",
       "    </tr>\n",
       "    <tr>\n",
       "      <th>838855</th>\n",
       "      <td>45</td>\n",
       "      <td>0.0</td>\n",
       "    </tr>\n",
       "    <tr>\n",
       "      <th>838856</th>\n",
       "      <td>30</td>\n",
       "      <td>0.0</td>\n",
       "    </tr>\n",
       "  </tbody>\n",
       "</table>\n",
       "</div>"
      ],
      "text/plain": [
       "        Real  Predicted\n",
       "838852    30        0.0\n",
       "838853    30        0.0\n",
       "838854    30        0.0\n",
       "838855    45        0.0\n",
       "838856    30        0.0"
      ]
     },
     "execution_count": 39,
     "metadata": {},
     "output_type": "execute_result"
    }
   ],
   "source": [
    "# Create a DataFrame of Real and Predicted values\n",
    "prices_lsauto_seen = pd.DataFrame({\n",
    "    \"Real\": y_test.ravel(),\n",
    "    \"Predicted\": y_pred_lsauto.ravel()\n",
    "}, index = df1.index[-len(y_test): ]) \n",
    "prices_lsauto_seen.head()"
   ]
  },
  {
   "cell_type": "code",
   "execution_count": null,
   "id": "bdd7f560-e533-4a3d-8d34-641f2d5c4809",
   "metadata": {},
   "outputs": [],
   "source": []
  },
  {
   "cell_type": "code",
   "execution_count": null,
   "id": "d6261ff1-e0cc-49ad-bc67-95d67620e214",
   "metadata": {},
   "outputs": [],
   "source": [
    "## Autoencoder on unseen data"
   ]
  },
  {
   "cell_type": "code",
   "execution_count": 60,
   "id": "154813b2-a862-4f7b-9609-3a1e7ec73fe7",
   "metadata": {},
   "outputs": [],
   "source": [
    "df22 = pd.read_excel(r\"~/Downloads/BID_RA_data/BID_RA_22_23.xlsx\")"
   ]
  },
  {
   "cell_type": "code",
   "execution_count": 86,
   "id": "e0f3a4ea-185e-4798-82a8-8e8d8447063d",
   "metadata": {},
   "outputs": [
    {
     "name": "stdout",
     "output_type": "stream",
     "text": [
      "(106588, 15) (106588,) (26648, 15) (26648,)\n"
     ]
    }
   ],
   "source": [
    "df22_1 = df22.drop(df22.columns[[0, 7, 19, 20, 21, 31 ]], axis=1)\n",
    "df22_1[\"price\"] = df22_1[\"Order value\"]/df22_1[\"Order Qty\"]\n",
    "df22_1[\"Time taken to deliver\"] = (df22_1[\"Expected delivery date\"] - df22_1[\"Order Date\"]).dt.days\n",
    "df22_1.drop(columns=[\"Month_Name_OrderDate\", \"Order_Quarter\", \"Invoice Date\",\"CRAC date\", \"Payment Date\"], inplace=True)\n",
    "for column in columns_to_encode:\n",
    "       df22_1[column+'_encoded'] = le.fit_transform(df22_1[column])\n",
    "df22_1 = df22_1.drop(columns=[\"FY_OrderDate\", \"Bid start date\", \"Bid end date\"])\n",
    "df22_1[\"Payment Type\"+'_encoded'] = le.fit_transform(df22_1[\"Payment Type\"])\n",
    "df22_1[\"MSME verified social category\"+'_encoded'] = le.fit_transform(df22_1[\"MSME verified social category\"])\n",
    "df22_1[\"Sub Category ID\"+'_encoded'] = le.fit_transform(df22_1[\"Sub Category ID\"])\n",
    "df22_1= df22_1.drop(columns=['Seller ID'])\n",
    "df22_1 = df22_1.drop(columns=[\"MSME verified social category\", \"Payment Type\"])\n",
    "df22_1 = df22_1.drop(columns=[\"Order Date\", \"Expected delivery date\", \"Shipment received date\"])\n",
    "df22_1 = df22_1.drop(columns=[\"Sub Category ID\"])\n",
    "df22_1 = df22_1.drop(columns=[\"Purchase Mode\", \"Order MSME Verified\", \"MSME verfied gender wise\", \"Startup verfied\"])\n",
    "df22_1[\"Sub Category ID_encoded\"].value_counts()\n",
    "df22_1=df22_1[df22_1[\"Sub Category ID_encoded\"]==1379]\n",
    "df22_1.shape\n",
    "I = df22_1.drop(columns=['Time taken to deliver'])\n",
    "j = df22_1['Time taken to deliver']\n",
    "I_train, I_test, j_train, j_test = train_test_split(I, j, test_size=0.2)\n",
    "I_train_bil, j_train_bil = np.array(I_train), np.array(j_train)\n",
    "I_test_bil, j_test_bil = np.array(I_test), np.array(j_test)\n",
    "\n",
    "print(I_train_bil.shape, j_train_bil.shape, I_test_bil.shape, j_test_bil.shape)"
   ]
  },
  {
   "cell_type": "code",
   "execution_count": 66,
   "id": "9007e786-c967-46f9-9f40-152fc469b46d",
   "metadata": {},
   "outputs": [
    {
     "ename": "NameError",
     "evalue": "name 'model_lsauto' is not defined",
     "output_type": "error",
     "traceback": [
      "\u001b[0;31m---------------------------------------------------------------------------\u001b[0m",
      "\u001b[0;31mNameError\u001b[0m                                 Traceback (most recent call last)",
      "Cell \u001b[0;32mIn[66], line 1\u001b[0m\n\u001b[0;32m----> 1\u001b[0m j_pred_lsauto \u001b[38;5;241m=\u001b[39m \u001b[43mmodel_lsauto\u001b[49m\u001b[38;5;241m.\u001b[39mpredict(I_test_bil)\n",
      "\u001b[0;31mNameError\u001b[0m: name 'model_lsauto' is not defined"
     ]
    }
   ],
   "source": [
    "j_pred_lsauto = model_lsauto.predict(I_test_bil)"
   ]
  },
  {
   "cell_type": "code",
   "execution_count": 46,
   "id": "2427f120-a484-4107-b63e-fd7262503fb7",
   "metadata": {},
   "outputs": [
    {
     "name": "stdout",
     "output_type": "stream",
     "text": [
      "Root Mean Squared Error: 246.53051849241626\n",
      "Mean Squared Error: 60777.2965481396\n"
     ]
    }
   ],
   "source": [
    "mse_lsauto_unseen = mean_squared_error(j_test, j_pred_lsauto)\n",
    "rmse_lsauto_unseen = np.sqrt(mse_lsauto_unseen)\n",
    "print(f\"Root Mean Squared Error: {rmse_lsauto_unseen}\")\n",
    "print(f\"Mean Squared Error: {mse_lsauto_unseen}\")"
   ]
  },
  {
   "cell_type": "code",
   "execution_count": 48,
   "id": "a9fba12c-6ce8-4683-aa92-d59545798267",
   "metadata": {},
   "outputs": [
    {
     "data": {
      "text/html": [
       "<div>\n",
       "<style scoped>\n",
       "    .dataframe tbody tr th:only-of-type {\n",
       "        vertical-align: middle;\n",
       "    }\n",
       "\n",
       "    .dataframe tbody tr th {\n",
       "        vertical-align: top;\n",
       "    }\n",
       "\n",
       "    .dataframe thead th {\n",
       "        text-align: right;\n",
       "    }\n",
       "</style>\n",
       "<table border=\"1\" class=\"dataframe\">\n",
       "  <thead>\n",
       "    <tr style=\"text-align: right;\">\n",
       "      <th></th>\n",
       "      <th>Real</th>\n",
       "      <th>Predicted</th>\n",
       "    </tr>\n",
       "  </thead>\n",
       "  <tbody>\n",
       "    <tr>\n",
       "      <th>838852</th>\n",
       "      <td>214</td>\n",
       "      <td>0.0</td>\n",
       "    </tr>\n",
       "    <tr>\n",
       "      <th>838853</th>\n",
       "      <td>214</td>\n",
       "      <td>0.0</td>\n",
       "    </tr>\n",
       "    <tr>\n",
       "      <th>838854</th>\n",
       "      <td>214</td>\n",
       "      <td>0.0</td>\n",
       "    </tr>\n",
       "    <tr>\n",
       "      <th>838855</th>\n",
       "      <td>326</td>\n",
       "      <td>0.0</td>\n",
       "    </tr>\n",
       "    <tr>\n",
       "      <th>838856</th>\n",
       "      <td>367</td>\n",
       "      <td>0.0</td>\n",
       "    </tr>\n",
       "  </tbody>\n",
       "</table>\n",
       "</div>"
      ],
      "text/plain": [
       "        Real  Predicted\n",
       "838852   214        0.0\n",
       "838853   214        0.0\n",
       "838854   214        0.0\n",
       "838855   326        0.0\n",
       "838856   367        0.0"
      ]
     },
     "execution_count": 48,
     "metadata": {},
     "output_type": "execute_result"
    }
   ],
   "source": [
    "# Create a DataFrame of Real and Predicted values\n",
    "prices_lsauto_seen = pd.DataFrame({\n",
    "    \"Real\": j_test.ravel(),\n",
    "    \"Predicted\": j_pred_lsauto.ravel()\n",
    "}, index = df1.index[-len(y_test): ]) \n",
    "prices_lsauto_seen.head()"
   ]
  },
  {
   "cell_type": "code",
   "execution_count": null,
   "id": "3435f5bc-9e2b-4fad-b91e-ceb43bc3ce8d",
   "metadata": {},
   "outputs": [],
   "source": []
  },
  {
   "cell_type": "code",
   "execution_count": null,
   "id": "9abb314f-7376-4459-9ef4-f300be511e1b",
   "metadata": {},
   "outputs": [],
   "source": [
    "### GRU MOdel"
   ]
  },
  {
   "cell_type": "code",
   "execution_count": 38,
   "id": "37aea8f4-4026-4d90-957a-f23b224b5c8b",
   "metadata": {},
   "outputs": [
    {
     "name": "stdout",
     "output_type": "stream",
     "text": [
      "Collecting np_utils\n",
      "  Downloading np_utils-0.6.0.tar.gz (61 kB)\n",
      "\u001b[2K     \u001b[38;2;114;156;31m━━━━━━━━━━━━━━━━━━━━━━━━━━━━━━━━━━━━━━━\u001b[0m \u001b[32m62.0/62.0 kB\u001b[0m \u001b[31m630.4 kB/s\u001b[0m eta \u001b[36m0:00:00\u001b[0m kB/s\u001b[0m eta \u001b[36m0:00:01\u001b[0m:01\u001b[0m\n",
      "\u001b[?25h  Preparing metadata (setup.py) ... \u001b[?25ldone\n",
      "\u001b[?25hRequirement already satisfied: numpy>=1.0 in /home/amit/railway/nature/lib/python3.8/site-packages (from np_utils) (1.24.3)\n",
      "Building wheels for collected packages: np_utils\n",
      "  Building wheel for np_utils (setup.py) ... \u001b[?25ldone\n",
      "\u001b[?25h  Created wheel for np_utils: filename=np_utils-0.6.0-py3-none-any.whl size=56438 sha256=83f71a5aaa25598826b48c5acc73511f01b1c8eb9af1b5770a7ea565c044ed88\n",
      "  Stored in directory: /home/amit/.cache/pip/wheels/55/8b/e7/a23fd46c709c21e3e6fcb55978d88b018f80d54018459978c3\n",
      "Successfully built np_utils\n",
      "Installing collected packages: np_utils\n",
      "Successfully installed np_utils-0.6.0\n",
      "\n",
      "\u001b[1m[\u001b[0m\u001b[34;49mnotice\u001b[0m\u001b[1;39;49m]\u001b[0m\u001b[39;49m A new release of pip is available: \u001b[0m\u001b[31;49m23.2.1\u001b[0m\u001b[39;49m -> \u001b[0m\u001b[32;49m23.3.2\u001b[0m\n",
      "\u001b[1m[\u001b[0m\u001b[34;49mnotice\u001b[0m\u001b[1;39;49m]\u001b[0m\u001b[39;49m To update, run: \u001b[0m\u001b[32;49mpip install --upgrade pip\u001b[0m\n"
     ]
    }
   ],
   "source": [
    "!pip install np_utils"
   ]
  },
  {
   "cell_type": "code",
   "execution_count": 54,
   "id": "8d8b776e-d5af-474e-90a3-9baa62db7d5b",
   "metadata": {},
   "outputs": [],
   "source": [
    "from keras.models import Sequential\n",
    "from keras.layers import Dense, Dropout, Activation, Flatten,Reshape\n",
    "from keras.layers import Conv1D, MaxPooling1D, LeakyReLU\n",
    "import np_utils\n",
    "from keras.layers import GRU\n",
    "model_GRU = Sequential()\n",
    "\n",
    "model_GRU.add(GRU(units=50, input_shape=(15,1),return_sequences=False))\n",
    "model_GRU.add(Activation('tanh'))\n",
    "model_GRU.add(Dropout(0.3))\n",
    "model_GRU.add(Dense(1))\n",
    "model_GRU.add(Activation('relu'))\n",
    "model_GRU.compile(loss='mse', optimizer='adam', metrics = ('MAPE'))"
   ]
  },
  {
   "cell_type": "code",
   "execution_count": 55,
   "id": "1dd1c130-f85c-4298-b402-4f2f71b42e7c",
   "metadata": {},
   "outputs": [
    {
     "name": "stdout",
     "output_type": "stream",
     "text": [
      "Model: \"sequential_1\"\n",
      "_________________________________________________________________\n",
      " Layer (type)                Output Shape              Param #   \n",
      "=================================================================\n",
      " gru_1 (GRU)                 (None, 50)                7950      \n",
      "                                                                 \n",
      " activation_2 (Activation)   (None, 50)                0         \n",
      "                                                                 \n",
      " dropout_1 (Dropout)         (None, 50)                0         \n",
      "                                                                 \n",
      " dense_1 (Dense)             (None, 1)                 51        \n",
      "                                                                 \n",
      " activation_3 (Activation)   (None, 1)                 0         \n",
      "                                                                 \n",
      "=================================================================\n",
      "Total params: 8001 (31.25 KB)\n",
      "Trainable params: 8001 (31.25 KB)\n",
      "Non-trainable params: 0 (0.00 Byte)\n",
      "_________________________________________________________________\n"
     ]
    }
   ],
   "source": [
    "model_GRU.summary()"
   ]
  },
  {
   "cell_type": "code",
   "execution_count": 77,
   "id": "45f175d4-40fc-463a-8921-743dd6665253",
   "metadata": {},
   "outputs": [
    {
     "name": "stdout",
     "output_type": "stream",
     "text": [
      "Epoch 1/60\n",
      "558/558 [==============================] - 4s 7ms/step - loss: 64.4054 - MAPE: 7.1125 - val_loss: 0.8568 - val_MAPE: 0.8500\n",
      "Epoch 2/60\n",
      "558/558 [==============================] - 4s 7ms/step - loss: 64.3384 - MAPE: 7.1163 - val_loss: 0.8431 - val_MAPE: 0.8396\n",
      "Epoch 3/60\n",
      "558/558 [==============================] - 4s 7ms/step - loss: 64.4826 - MAPE: 7.1169 - val_loss: 0.8464 - val_MAPE: 0.8421\n",
      "Epoch 4/60\n",
      "558/558 [==============================] - 4s 7ms/step - loss: 62.9605 - MAPE: 7.0468 - val_loss: 0.9332 - val_MAPE: 0.9058\n",
      "Epoch 5/60\n",
      "558/558 [==============================] - 4s 7ms/step - loss: 63.0143 - MAPE: 7.0357 - val_loss: 0.9066 - val_MAPE: 0.8868\n",
      "Epoch 6/60\n",
      "558/558 [==============================] - 4s 7ms/step - loss: 62.9161 - MAPE: 7.0491 - val_loss: 0.7427 - val_MAPE: 0.7588\n",
      "Epoch 7/60\n",
      "558/558 [==============================] - 4s 7ms/step - loss: 61.9213 - MAPE: 6.9873 - val_loss: 0.6073 - val_MAPE: 0.6329\n",
      "Epoch 8/60\n",
      "558/558 [==============================] - 4s 7ms/step - loss: 61.2928 - MAPE: 6.9631 - val_loss: 0.6268 - val_MAPE: 0.6526\n",
      "Epoch 9/60\n",
      "558/558 [==============================] - 4s 7ms/step - loss: 60.1742 - MAPE: 6.8956 - val_loss: 0.8605 - val_MAPE: 0.8528\n",
      "Epoch 10/60\n",
      "558/558 [==============================] - 4s 7ms/step - loss: 60.3001 - MAPE: 6.9042 - val_loss: 0.8286 - val_MAPE: 0.8285\n",
      "Epoch 11/60\n",
      "558/558 [==============================] - 4s 7ms/step - loss: 60.0932 - MAPE: 6.8865 - val_loss: 0.9603 - val_MAPE: 0.9247\n",
      "Epoch 12/60\n",
      "558/558 [==============================] - 4s 7ms/step - loss: 58.8623 - MAPE: 6.8171 - val_loss: 0.7058 - val_MAPE: 0.7268\n",
      "Epoch 13/60\n",
      "558/558 [==============================] - 4s 7ms/step - loss: 58.3318 - MAPE: 6.7739 - val_loss: 0.7105 - val_MAPE: 0.7309\n",
      "Epoch 14/60\n",
      "558/558 [==============================] - 4s 7ms/step - loss: 58.1650 - MAPE: 6.7820 - val_loss: 0.7050 - val_MAPE: 0.7260\n",
      "Epoch 15/60\n",
      "558/558 [==============================] - 4s 7ms/step - loss: 57.8180 - MAPE: 6.7404 - val_loss: 0.7884 - val_MAPE: 0.7966\n",
      "Epoch 16/60\n",
      "558/558 [==============================] - 4s 7ms/step - loss: 57.0212 - MAPE: 6.7058 - val_loss: 0.7589 - val_MAPE: 0.7725\n",
      "Epoch 17/60\n",
      "558/558 [==============================] - 4s 8ms/step - loss: 56.5146 - MAPE: 6.6769 - val_loss: 0.7485 - val_MAPE: 0.7637\n",
      "Epoch 18/60\n",
      "558/558 [==============================] - 4s 7ms/step - loss: 55.3863 - MAPE: 6.6204 - val_loss: 0.7872 - val_MAPE: 0.7957\n",
      "Epoch 19/60\n",
      "558/558 [==============================] - 5s 8ms/step - loss: 55.2784 - MAPE: 6.6005 - val_loss: 0.9083 - val_MAPE: 0.8880\n",
      "Epoch 20/60\n",
      "558/558 [==============================] - 4s 7ms/step - loss: 54.9691 - MAPE: 6.5835 - val_loss: 0.7251 - val_MAPE: 0.7437\n",
      "Epoch 21/60\n",
      "558/558 [==============================] - 4s 7ms/step - loss: 54.3095 - MAPE: 6.5406 - val_loss: 0.8072 - val_MAPE: 0.8117\n",
      "Epoch 22/60\n",
      "558/558 [==============================] - 4s 7ms/step - loss: 54.1652 - MAPE: 6.5460 - val_loss: 0.7099 - val_MAPE: 0.7304\n",
      "Epoch 23/60\n",
      "558/558 [==============================] - 4s 7ms/step - loss: 52.7995 - MAPE: 6.4473 - val_loss: 0.9802 - val_MAPE: 0.9383\n",
      "Epoch 24/60\n",
      "558/558 [==============================] - 4s 7ms/step - loss: 52.7734 - MAPE: 6.4463 - val_loss: 0.6465 - val_MAPE: 0.6719\n",
      "Epoch 25/60\n",
      "558/558 [==============================] - 4s 7ms/step - loss: 52.0606 - MAPE: 6.4181 - val_loss: 0.8009 - val_MAPE: 0.8067\n",
      "Epoch 26/60\n",
      "558/558 [==============================] - 4s 8ms/step - loss: 51.1207 - MAPE: 6.3611 - val_loss: 0.6296 - val_MAPE: 0.6554\n",
      "Epoch 27/60\n",
      "558/558 [==============================] - 4s 8ms/step - loss: 51.5171 - MAPE: 6.3839 - val_loss: 1.0108 - val_MAPE: 0.9590\n",
      "Epoch 28/60\n",
      "558/558 [==============================] - 4s 7ms/step - loss: 50.0953 - MAPE: 6.2931 - val_loss: 0.7496 - val_MAPE: 0.7646\n",
      "Epoch 29/60\n",
      "558/558 [==============================] - 4s 7ms/step - loss: 50.0621 - MAPE: 6.2844 - val_loss: 0.6438 - val_MAPE: 0.6693\n",
      "Epoch 30/60\n",
      "558/558 [==============================] - 4s 7ms/step - loss: 49.4087 - MAPE: 6.2380 - val_loss: 0.6817 - val_MAPE: 0.7050\n",
      "Epoch 31/60\n",
      "558/558 [==============================] - 4s 7ms/step - loss: 48.9146 - MAPE: 6.2105 - val_loss: 0.6962 - val_MAPE: 0.7181\n",
      "Epoch 32/60\n",
      "558/558 [==============================] - 4s 7ms/step - loss: 48.3999 - MAPE: 6.1795 - val_loss: 0.8948 - val_MAPE: 0.8782\n",
      "Epoch 33/60\n",
      "558/558 [==============================] - 4s 7ms/step - loss: 48.6395 - MAPE: 6.2027 - val_loss: 0.6442 - val_MAPE: 0.6697\n",
      "Epoch 34/60\n",
      "558/558 [==============================] - 4s 7ms/step - loss: 47.8817 - MAPE: 6.1395 - val_loss: 0.5350 - val_MAPE: 0.5533\n",
      "Epoch 35/60\n",
      "558/558 [==============================] - 4s 7ms/step - loss: 46.9964 - MAPE: 6.0867 - val_loss: 0.8512 - val_MAPE: 0.8457\n",
      "Epoch 36/60\n",
      "558/558 [==============================] - 4s 7ms/step - loss: 46.6993 - MAPE: 6.0651 - val_loss: 0.5772 - val_MAPE: 0.6011\n",
      "Epoch 37/60\n",
      "558/558 [==============================] - 4s 8ms/step - loss: 46.0352 - MAPE: 6.0253 - val_loss: 0.6738 - val_MAPE: 0.6977\n",
      "Epoch 38/60\n",
      "558/558 [==============================] - 4s 7ms/step - loss: 45.7817 - MAPE: 6.0122 - val_loss: 0.9426 - val_MAPE: 0.9124\n",
      "Epoch 39/60\n",
      "558/558 [==============================] - 4s 7ms/step - loss: 44.9973 - MAPE: 5.9597 - val_loss: 0.6410 - val_MAPE: 0.6666\n",
      "Epoch 40/60\n",
      "558/558 [==============================] - 4s 7ms/step - loss: 44.1928 - MAPE: 5.9036 - val_loss: 0.5641 - val_MAPE: 0.5867\n",
      "Epoch 41/60\n",
      "558/558 [==============================] - 4s 7ms/step - loss: 44.0641 - MAPE: 5.8861 - val_loss: 0.7675 - val_MAPE: 0.7796\n",
      "Epoch 42/60\n",
      "558/558 [==============================] - 4s 7ms/step - loss: 43.4639 - MAPE: 5.8530 - val_loss: 0.5316 - val_MAPE: 0.5492\n",
      "Epoch 43/60\n",
      "558/558 [==============================] - 4s 7ms/step - loss: 43.1553 - MAPE: 5.8352 - val_loss: 1.0161 - val_MAPE: 0.9625\n",
      "Epoch 44/60\n",
      "558/558 [==============================] - 4s 7ms/step - loss: 42.4926 - MAPE: 5.7902 - val_loss: 0.6051 - val_MAPE: 0.6306\n",
      "Epoch 45/60\n",
      "558/558 [==============================] - 4s 7ms/step - loss: 42.3282 - MAPE: 5.7794 - val_loss: 0.6232 - val_MAPE: 0.6490\n",
      "Epoch 46/60\n",
      "558/558 [==============================] - 5s 8ms/step - loss: 42.0992 - MAPE: 5.7681 - val_loss: 0.6378 - val_MAPE: 0.6634\n",
      "Epoch 47/60\n",
      "558/558 [==============================] - 4s 8ms/step - loss: 41.0859 - MAPE: 5.6961 - val_loss: 0.6179 - val_MAPE: 0.6437\n",
      "Epoch 48/60\n",
      "558/558 [==============================] - 4s 7ms/step - loss: 40.6859 - MAPE: 5.6620 - val_loss: 0.6905 - val_MAPE: 0.7130\n",
      "Epoch 49/60\n",
      "558/558 [==============================] - 4s 7ms/step - loss: 40.2331 - MAPE: 5.6380 - val_loss: 0.7500 - val_MAPE: 0.7650\n",
      "Epoch 50/60\n",
      "558/558 [==============================] - 4s 7ms/step - loss: 40.0821 - MAPE: 5.6165 - val_loss: 0.6496 - val_MAPE: 0.6749\n",
      "Epoch 51/60\n",
      "558/558 [==============================] - 4s 7ms/step - loss: 38.9514 - MAPE: 5.5444 - val_loss: 0.7465 - val_MAPE: 0.7620\n",
      "Epoch 52/60\n",
      "558/558 [==============================] - 4s 7ms/step - loss: 38.9166 - MAPE: 5.5371 - val_loss: 0.5497 - val_MAPE: 0.5704\n",
      "Epoch 53/60\n",
      "558/558 [==============================] - 4s 7ms/step - loss: 38.1941 - MAPE: 5.4911 - val_loss: 0.6682 - val_MAPE: 0.6925\n",
      "Epoch 54/60\n",
      "558/558 [==============================] - 4s 7ms/step - loss: 38.1325 - MAPE: 5.4785 - val_loss: 0.5962 - val_MAPE: 0.6213\n",
      "Epoch 55/60\n",
      "558/558 [==============================] - 4s 6ms/step - loss: 37.5961 - MAPE: 5.4334 - val_loss: 0.7064 - val_MAPE: 0.7273\n",
      "Epoch 56/60\n",
      "558/558 [==============================] - 5s 8ms/step - loss: 36.9986 - MAPE: 5.4096 - val_loss: 0.6728 - val_MAPE: 0.6968\n",
      "Epoch 57/60\n",
      "558/558 [==============================] - 4s 8ms/step - loss: 36.3767 - MAPE: 5.3561 - val_loss: 0.5887 - val_MAPE: 0.6135\n",
      "Epoch 58/60\n",
      "558/558 [==============================] - 4s 7ms/step - loss: 36.1478 - MAPE: 5.3324 - val_loss: 0.7147 - val_MAPE: 0.7346\n",
      "Epoch 59/60\n",
      "558/558 [==============================] - 4s 7ms/step - loss: 35.8470 - MAPE: 5.3167 - val_loss: 0.5459 - val_MAPE: 0.5661\n",
      "Epoch 60/60\n",
      "558/558 [==============================] - 4s 7ms/step - loss: 35.3061 - MAPE: 5.2760 - val_loss: 0.4630 - val_MAPE: 0.4596\n"
     ]
    }
   ],
   "source": [
    "history_GRU = model_GRU.fit(X_train_bil, y_train_bil, validation_data=(X_test_bil, y_test_bil), batch_size = 128, epochs = 60)"
   ]
  },
  {
   "cell_type": "code",
   "execution_count": 78,
   "id": "2d8564c7-cc2a-42c7-a477-d88102ec96d0",
   "metadata": {},
   "outputs": [
    {
     "name": "stdout",
     "output_type": "stream",
     "text": [
      "558/558 [==============================] - 1s 2ms/step\n"
     ]
    }
   ],
   "source": [
    "pred_GRU = model_GRU.predict(X_test_bil)"
   ]
  },
  {
   "cell_type": "code",
   "execution_count": 79,
   "id": "a67e6683-4ab5-4ad4-b303-201a8b75873b",
   "metadata": {},
   "outputs": [
    {
     "data": {
      "text/plain": [
       "array([[89.61144],\n",
       "       [89.61144],\n",
       "       [89.61144],\n",
       "       ...,\n",
       "       [89.61144],\n",
       "       [89.61144],\n",
       "       [89.61144]], dtype=float32)"
      ]
     },
     "execution_count": 79,
     "metadata": {},
     "output_type": "execute_result"
    }
   ],
   "source": [
    "pred_GRU"
   ]
  },
  {
   "cell_type": "code",
   "execution_count": 80,
   "id": "9c84ba2c-bcf6-4312-8942-02ffbf75fc80",
   "metadata": {},
   "outputs": [
    {
     "data": {
      "text/plain": [
       "array([90, 90, 90, ..., 90, 90, 90])"
      ]
     },
     "execution_count": 80,
     "metadata": {},
     "output_type": "execute_result"
    }
   ],
   "source": [
    "y_test_bil"
   ]
  },
  {
   "cell_type": "code",
   "execution_count": 60,
   "id": "57901a7d-eeb9-49fb-96c4-a5f0ec4b5d33",
   "metadata": {},
   "outputs": [
    {
     "data": {
      "image/png": "[encoded data removed]",
      "text/plain": [
       "<Figure size 640x480 with 1 Axes>"
      ]
     },
     "metadata": {},
     "output_type": "display_data"
    }
   ],
   "source": [
    "plt.plot(y_test_bil, color = 'black', label = 'Real Price')\n",
    "plt.plot(pred_GRU, color = 'green', label = 'Predicted Price')\n",
    "plt.title('Delivery time Prediction', fontsize=20)\n",
    "#plt.xticks(range(0,df.shape[0],50),df['Date'].loc[::50],rotation=45)\n",
    "plt.xlabel('DateTime')\n",
    "plt.ylabel('Delivery Time')\n",
    "plt.legend(fontsize=14)\n",
    "plt.show()"
   ]
  },
  {
   "cell_type": "code",
   "execution_count": 59,
   "id": "86f9ad84-3989-442f-ab7c-b4d9749bbd0c",
   "metadata": {},
   "outputs": [
    {
     "name": "stdout",
     "output_type": "stream",
     "text": [
      "Root Mean Squared Error: 0.9666798319187409\n",
      "Mean Squared Error: 0.9344698974384451\n"
     ]
    }
   ],
   "source": [
    "mse_gru_seen = mean_squared_error(y_test, pred_GRU)\n",
    "rmse_gru_seen = np.sqrt(mse_gru_seen)\n",
    "print(f\"Root Mean Squared Error: {rmse_gru_seen}\")\n",
    "print(f\"Mean Squared Error: {mse_gru_seen}\")"
   ]
  },
  {
   "cell_type": "code",
   "execution_count": 81,
   "id": "b43eff09-2e3f-4839-9fce-ef2e5bd2dbd1",
   "metadata": {},
   "outputs": [
    {
     "data": {
      "text/html": [
       "<div>\n",
       "<style scoped>\n",
       "    .dataframe tbody tr th:only-of-type {\n",
       "        vertical-align: middle;\n",
       "    }\n",
       "\n",
       "    .dataframe tbody tr th {\n",
       "        vertical-align: top;\n",
       "    }\n",
       "\n",
       "    .dataframe thead th {\n",
       "        text-align: right;\n",
       "    }\n",
       "</style>\n",
       "<table border=\"1\" class=\"dataframe\">\n",
       "  <thead>\n",
       "    <tr style=\"text-align: right;\">\n",
       "      <th></th>\n",
       "      <th>Real</th>\n",
       "      <th>Predicted</th>\n",
       "    </tr>\n",
       "  </thead>\n",
       "  <tbody>\n",
       "    <tr>\n",
       "      <th>1030726</th>\n",
       "      <td>90</td>\n",
       "      <td>89.611443</td>\n",
       "    </tr>\n",
       "    <tr>\n",
       "      <th>1030727</th>\n",
       "      <td>90</td>\n",
       "      <td>89.611443</td>\n",
       "    </tr>\n",
       "    <tr>\n",
       "      <th>1030728</th>\n",
       "      <td>90</td>\n",
       "      <td>89.611443</td>\n",
       "    </tr>\n",
       "    <tr>\n",
       "      <th>1030729</th>\n",
       "      <td>90</td>\n",
       "      <td>89.611443</td>\n",
       "    </tr>\n",
       "    <tr>\n",
       "      <th>1030730</th>\n",
       "      <td>90</td>\n",
       "      <td>89.611443</td>\n",
       "    </tr>\n",
       "  </tbody>\n",
       "</table>\n",
       "</div>"
      ],
      "text/plain": [
       "         Real  Predicted\n",
       "1030726    90  89.611443\n",
       "1030727    90  89.611443\n",
       "1030728    90  89.611443\n",
       "1030729    90  89.611443\n",
       "1030730    90  89.611443"
      ]
     },
     "execution_count": 81,
     "metadata": {},
     "output_type": "execute_result"
    }
   ],
   "source": [
    "# Create a DataFrame of Real and Predicted values\n",
    "prices_gru_seen = pd.DataFrame({\n",
    "    \"Real\": y_test.ravel(),\n",
    "    \"Predicted\": pred_GRU.ravel()\n",
    "}, index = df1.index[-len(y_test): ]) \n",
    "prices_gru_seen.head()"
   ]
  },
  {
   "cell_type": "code",
   "execution_count": 52,
   "id": "8acf3396-b729-4fad-83d3-d8cbe93b46ba",
   "metadata": {},
   "outputs": [
    {
     "data": {
      "text/html": [
       "<div>\n",
       "<style scoped>\n",
       "    .dataframe tbody tr th:only-of-type {\n",
       "        vertical-align: middle;\n",
       "    }\n",
       "\n",
       "    .dataframe tbody tr th {\n",
       "        vertical-align: top;\n",
       "    }\n",
       "\n",
       "    .dataframe thead th {\n",
       "        text-align: right;\n",
       "    }\n",
       "</style>\n",
       "<table border=\"1\" class=\"dataframe\">\n",
       "  <thead>\n",
       "    <tr style=\"text-align: right;\">\n",
       "      <th></th>\n",
       "      <th>Real</th>\n",
       "      <th>Predicted</th>\n",
       "    </tr>\n",
       "  </thead>\n",
       "  <tbody>\n",
       "    <tr>\n",
       "      <th>1048560</th>\n",
       "      <td>90</td>\n",
       "      <td>89.413689</td>\n",
       "    </tr>\n",
       "    <tr>\n",
       "      <th>1048561</th>\n",
       "      <td>90</td>\n",
       "      <td>89.413689</td>\n",
       "    </tr>\n",
       "    <tr>\n",
       "      <th>1048562</th>\n",
       "      <td>90</td>\n",
       "      <td>89.413689</td>\n",
       "    </tr>\n",
       "    <tr>\n",
       "      <th>1048563</th>\n",
       "      <td>90</td>\n",
       "      <td>89.413689</td>\n",
       "    </tr>\n",
       "    <tr>\n",
       "      <th>1048564</th>\n",
       "      <td>90</td>\n",
       "      <td>89.413689</td>\n",
       "    </tr>\n",
       "  </tbody>\n",
       "</table>\n",
       "</div>"
      ],
      "text/plain": [
       "         Real  Predicted\n",
       "1048560    90  89.413689\n",
       "1048561    90  89.413689\n",
       "1048562    90  89.413689\n",
       "1048563    90  89.413689\n",
       "1048564    90  89.413689"
      ]
     },
     "execution_count": 52,
     "metadata": {},
     "output_type": "execute_result"
    }
   ],
   "source": [
    "prices_gru_seen.tail()"
   ]
  },
  {
   "cell_type": "code",
   "execution_count": null,
   "id": "a92b2fd6-0ae7-4247-b58b-290718d9f514",
   "metadata": {},
   "outputs": [],
   "source": [
    "## On Unseen Data"
   ]
  },
  {
   "cell_type": "code",
   "execution_count": 65,
   "id": "b2bd58b8-3791-41ae-a9ff-a0cbde126b15",
   "metadata": {},
   "outputs": [
    {
     "data": {
      "text/plain": [
       "9251      365\n",
       "439407    214\n",
       "944475    214\n",
       "441525    214\n",
       "873204    214\n",
       "         ... \n",
       "208891    238\n",
       "299924    546\n",
       "904478    214\n",
       "658424    214\n",
       "456894    214\n",
       "Name: Time taken to deliver, Length: 209713, dtype: int64"
      ]
     },
     "execution_count": 65,
     "metadata": {},
     "output_type": "execute_result"
    }
   ],
   "source": [
    "j_test"
   ]
  },
  {
   "cell_type": "code",
   "execution_count": 87,
   "id": "64d8331c-693e-43d3-ba6e-54850c4fdba4",
   "metadata": {},
   "outputs": [
    {
     "name": "stdout",
     "output_type": "stream",
     "text": [
      "833/833 [==============================] - 1s 2ms/step\n"
     ]
    }
   ],
   "source": [
    "j_pred_gru = model_GRU.predict(I_test_bil)"
   ]
  },
  {
   "cell_type": "code",
   "execution_count": null,
   "id": "79386efd-916e-4963-bc19-02e0c77d90f3",
   "metadata": {},
   "outputs": [],
   "source": []
  },
  {
   "cell_type": "code",
   "execution_count": 88,
   "id": "2f579a82-eb19-47da-ae58-5dca44db7b9f",
   "metadata": {},
   "outputs": [
    {
     "name": "stdout",
     "output_type": "stream",
     "text": [
      "Root Mean Squared Error: 254.8750952413254\n",
      "Mean Squared Error: 64961.314174274696\n"
     ]
    }
   ],
   "source": [
    "mse_gru_unseen = mean_squared_error(j_test, j_pred_gru)\n",
    "rmse_gru_unseen = np.sqrt(mse_gru_unseen)\n",
    "print(f\"Root Mean Squared Error: {rmse_gru_unseen}\")\n",
    "print(f\"Mean Squared Error: {mse_gru_unseen}\")"
   ]
  },
  {
   "cell_type": "code",
   "execution_count": null,
   "id": "ab39750a-c204-4ece-a713-59f32b0a5f9a",
   "metadata": {},
   "outputs": [],
   "source": []
  },
  {
   "cell_type": "code",
   "execution_count": null,
   "id": "dafa4d6a-8250-4eb4-a102-04faa9b3f733",
   "metadata": {},
   "outputs": [],
   "source": [
    "#@# "
   ]
  },
  {
   "cell_type": "code",
   "execution_count": 1,
   "id": "a2c3b997-b4cd-49b2-9eaa-d09e86b3fdcf",
   "metadata": {},
   "outputs": [
    {
     "ename": "NameError",
     "evalue": "name 'pd' is not defined",
     "output_type": "error",
     "traceback": [
      "\u001b[0;31m---------------------------------------------------------------------------\u001b[0m",
      "\u001b[0;31mNameError\u001b[0m                                 Traceback (most recent call last)",
      "Cell \u001b[0;32mIn[1], line 2\u001b[0m\n\u001b[1;32m      1\u001b[0m \u001b[38;5;66;03m# Create a DataFrame of Real and Predicted values\u001b[39;00m\n\u001b[0;32m----> 2\u001b[0m prices_gru_unseen \u001b[38;5;241m=\u001b[39m \u001b[43mpd\u001b[49m\u001b[38;5;241m.\u001b[39mDataFrame({\n\u001b[1;32m      3\u001b[0m     \u001b[38;5;124m\"\u001b[39m\u001b[38;5;124mReal\u001b[39m\u001b[38;5;124m\"\u001b[39m: j_test\u001b[38;5;241m.\u001b[39mravel(),\n\u001b[1;32m      4\u001b[0m     \u001b[38;5;124m\"\u001b[39m\u001b[38;5;124mPredicted\u001b[39m\u001b[38;5;124m\"\u001b[39m: j_pred_gru\u001b[38;5;241m.\u001b[39mravel()\n\u001b[1;32m      5\u001b[0m }, index \u001b[38;5;241m=\u001b[39m df1\u001b[38;5;241m.\u001b[39mindex[\u001b[38;5;241m-\u001b[39m\u001b[38;5;28mlen\u001b[39m(j_test): ]) \n\u001b[1;32m      6\u001b[0m \u001b[38;5;66;03m#prices_gru_unseen.head()\u001b[39;00m\n\u001b[1;32m      7\u001b[0m prices_gru_unseen\u001b[38;5;241m.\u001b[39mtail()\n",
      "\u001b[0;31mNameError\u001b[0m: name 'pd' is not defined"
     ]
    }
   ],
   "source": [
    "# Create a DataFrame of Real and Predicted values\n",
    "prices_gru_unseen = pd.DataFrame({\n",
    "    \"Real\": j_test.ravel(),\n",
    "    \"Predicted\": j_pred_gru.ravel()\n",
    "}, index = df1.index[-len(j_test): ]) \n",
    "#prices_gru_unseen.head()\n",
    "prices_gru_unseen.tail()"
   ]
  },
  {
   "cell_type": "code",
   "execution_count": 66,
   "id": "996a7d80-24c5-4d9c-a4d4-41df673215f9",
   "metadata": {},
   "outputs": [
    {
     "name": "stdout",
     "output_type": "stream",
     "text": [
      "Root Mean Squared Error: 208.39893243391418\n",
      "Mean Squared Error: 43430.11503959513\n"
     ]
    }
   ],
   "source": [
    "mse_gru_unseen = mean_squared_error(j_test, j_pred_gru)\n",
    "rmse_gru_unseen = np.sqrt(mse_gru_unseen)\n",
    "print(f\"Root Mean Squared Error: {rmse_gru_unseen}\")\n",
    "print(f\"Mean Squared Error: {mse_gru_unseen}\")"
   ]
  },
  {
   "cell_type": "code",
   "execution_count": 69,
   "id": "321ad14e-529e-4841-b791-e1dd5b80afe6",
   "metadata": {},
   "outputs": [
    {
     "data": {
      "text/html": [
       "<div>\n",
       "<style scoped>\n",
       "    .dataframe tbody tr th:only-of-type {\n",
       "        vertical-align: middle;\n",
       "    }\n",
       "\n",
       "    .dataframe tbody tr th {\n",
       "        vertical-align: top;\n",
       "    }\n",
       "\n",
       "    .dataframe thead th {\n",
       "        text-align: right;\n",
       "    }\n",
       "</style>\n",
       "<table border=\"1\" class=\"dataframe\">\n",
       "  <thead>\n",
       "    <tr style=\"text-align: right;\">\n",
       "      <th></th>\n",
       "      <th>Real</th>\n",
       "      <th>Predicted</th>\n",
       "    </tr>\n",
       "  </thead>\n",
       "  <tbody>\n",
       "    <tr>\n",
       "      <th>838852</th>\n",
       "      <td>365</td>\n",
       "      <td>59.773228</td>\n",
       "    </tr>\n",
       "    <tr>\n",
       "      <th>838853</th>\n",
       "      <td>214</td>\n",
       "      <td>30.246544</td>\n",
       "    </tr>\n",
       "    <tr>\n",
       "      <th>838854</th>\n",
       "      <td>214</td>\n",
       "      <td>39.159740</td>\n",
       "    </tr>\n",
       "    <tr>\n",
       "      <th>838855</th>\n",
       "      <td>214</td>\n",
       "      <td>39.159740</td>\n",
       "    </tr>\n",
       "    <tr>\n",
       "      <th>838856</th>\n",
       "      <td>214</td>\n",
       "      <td>33.590851</td>\n",
       "    </tr>\n",
       "  </tbody>\n",
       "</table>\n",
       "</div>"
      ],
      "text/plain": [
       "        Real  Predicted\n",
       "838852   365  59.773228\n",
       "838853   214  30.246544\n",
       "838854   214  39.159740\n",
       "838855   214  39.159740\n",
       "838856   214  33.590851"
      ]
     },
     "execution_count": 69,
     "metadata": {},
     "output_type": "execute_result"
    }
   ],
   "source": [
    "# Create a DataFrame of Real and Predicted values\n",
    "prices_gru_unseen = pd.DataFrame({\n",
    "    \"Real\": j_test.ravel(),\n",
    "    \"Predicted\": j_pred_gru.ravel()\n",
    "}, index = df1.index[-len(j_test): ]) \n",
    "prices_gru_unseen.head()"
   ]
  },
  {
   "cell_type": "code",
   "execution_count": null,
   "id": "ecc49d0d-66fb-42da-8ef1-3085de36e2bf",
   "metadata": {},
   "outputs": [],
   "source": []
  },
  {
   "cell_type": "code",
   "execution_count": null,
   "id": "2a19aee4-c04a-4eaa-90e3-27d3014cde5b",
   "metadata": {},
   "outputs": [],
   "source": []
  },
  {
   "cell_type": "code",
   "execution_count": null,
   "id": "7a049ecf-0585-45ab-afb9-e5845388a62e",
   "metadata": {},
   "outputs": [],
   "source": [
    "## CATBOOST"
   ]
  },
  {
   "cell_type": "code",
   "execution_count": 44,
   "id": "66bbc024-b1b7-49f8-8d6a-d8d28dfebd20",
   "metadata": {},
   "outputs": [
    {
     "name": "stdout",
     "output_type": "stream",
     "text": [
      "0:\tlearn: 18.8700194\ttotal: 39.7ms\tremaining: 39.7s\n",
      "100:\tlearn: 8.2571147\ttotal: 4.02s\tremaining: 35.8s\n",
      "200:\tlearn: 5.1315569\ttotal: 8.21s\tremaining: 32.7s\n",
      "300:\tlearn: 4.2895311\ttotal: 12.1s\tremaining: 28s\n",
      "400:\tlearn: 3.9599494\ttotal: 16.2s\tremaining: 24.1s\n",
      "500:\tlearn: 3.7768485\ttotal: 20.2s\tremaining: 20.1s\n",
      "600:\tlearn: 3.6660763\ttotal: 23.7s\tremaining: 15.7s\n",
      "700:\tlearn: 3.5673757\ttotal: 27.1s\tremaining: 11.6s\n",
      "800:\tlearn: 3.4840146\ttotal: 30.6s\tremaining: 7.59s\n",
      "900:\tlearn: 3.3908071\ttotal: 34.4s\tremaining: 3.78s\n",
      "999:\tlearn: 3.3079676\ttotal: 38s\tremaining: 0us\n",
      "Root Mean Squared Error: 4.055042401745577\n",
      "Mean Squared Error: 16.443368879954537\n"
     ]
    }
   ],
   "source": [
    "from catboost import CatBoostRegressor\n",
    "model_cb = CatBoostRegressor(iterations=1000,  # Adjust the number of iterations as needed\n",
    "                             learning_rate=0.01,  # Adjust the learning rate as needed\n",
    "                             depth=6,  # Adjust the depth of the trees\n",
    "                             loss_function='RMSE',  # Specify the loss function for regression\n",
    "                             random_seed=42,\n",
    "                            verbose=100)\n",
    "model_cb.fit(X_train_bil, y_train_bil)\n",
    "y_pred_cb = model_cb.predict(X_test_bil)\n",
    "from sklearn.metrics import mean_squared_error\n",
    "mse_cat = mean_squared_error(y_test_bil, y_pred_cb)\n",
    "rmse_cat = np.sqrt(mse_cat)\n",
    "print(f\"Root Mean Squared Error: {rmse_cat}\")\n",
    "print(f\"Mean Squared Error: {mse_cat}\")"
   ]
  },
  {
   "cell_type": "code",
   "execution_count": 45,
   "id": "82a91216-3bfd-4e4b-9963-d5453a4e2ba2",
   "metadata": {},
   "outputs": [
    {
     "data": {
      "text/html": [
       "<div>\n",
       "<style scoped>\n",
       "    .dataframe tbody tr th:only-of-type {\n",
       "        vertical-align: middle;\n",
       "    }\n",
       "\n",
       "    .dataframe tbody tr th {\n",
       "        vertical-align: top;\n",
       "    }\n",
       "\n",
       "    .dataframe thead th {\n",
       "        text-align: right;\n",
       "    }\n",
       "</style>\n",
       "<table border=\"1\" class=\"dataframe\">\n",
       "  <thead>\n",
       "    <tr style=\"text-align: right;\">\n",
       "      <th></th>\n",
       "      <th>Real</th>\n",
       "      <th>Predicted</th>\n",
       "    </tr>\n",
       "  </thead>\n",
       "  <tbody>\n",
       "    <tr>\n",
       "      <th>838852</th>\n",
       "      <td>28</td>\n",
       "      <td>28.143553</td>\n",
       "    </tr>\n",
       "    <tr>\n",
       "      <th>838853</th>\n",
       "      <td>30</td>\n",
       "      <td>30.006564</td>\n",
       "    </tr>\n",
       "    <tr>\n",
       "      <th>838854</th>\n",
       "      <td>30</td>\n",
       "      <td>30.025324</td>\n",
       "    </tr>\n",
       "    <tr>\n",
       "      <th>838855</th>\n",
       "      <td>30</td>\n",
       "      <td>30.006564</td>\n",
       "    </tr>\n",
       "    <tr>\n",
       "      <th>838856</th>\n",
       "      <td>30</td>\n",
       "      <td>29.995327</td>\n",
       "    </tr>\n",
       "  </tbody>\n",
       "</table>\n",
       "</div>"
      ],
      "text/plain": [
       "        Real  Predicted\n",
       "838852    28  28.143553\n",
       "838853    30  30.006564\n",
       "838854    30  30.025324\n",
       "838855    30  30.006564\n",
       "838856    30  29.995327"
      ]
     },
     "execution_count": 45,
     "metadata": {},
     "output_type": "execute_result"
    }
   ],
   "source": [
    "# Create a DataFrame of Real and Predicted values\n",
    "prices_catb_seen = pd.DataFrame({\n",
    "    \"Real\": y_test.ravel(),\n",
    "    \"Predicted\": y_pred_cb.ravel()\n",
    "}, index = df1.index[-len(y_test): ]) \n",
    "prices_catb_seen.head()"
   ]
  },
  {
   "cell_type": "code",
   "execution_count": null,
   "id": "1332f9a2-b7cb-4f21-a822-a29a24fc473f",
   "metadata": {},
   "outputs": [],
   "source": []
  },
  {
   "cell_type": "code",
   "execution_count": null,
   "id": "090c709f-6488-4208-9cf5-efb7c23a60e8",
   "metadata": {},
   "outputs": [],
   "source": [
    "df22 = pd.read_excel(r\"~/Downloads/BID_RA_data/BID_RA_22_23.xlsx\")"
   ]
  },
  {
   "cell_type": "code",
   "execution_count": null,
   "id": "bb3a9579-4433-43fb-8e74-051ad7f73f0e",
   "metadata": {},
   "outputs": [],
   "source": [
    "df22_1 = df22.drop(df22.columns[[0, 7, 19, 20, 21, 31 ]], axis=1)\n",
    "df22_1[\"price\"] = df22_1[\"Order value\"]/df22_1[\"Order Qty\"]\n",
    "df22_1[\"Time taken to deliver\"] = (df22_1[\"Expected delivery date\"] - df22_1[\"Order Date\"]).dt.days\n",
    "df22_1.drop(columns=[\"Month_Name_OrderDate\", \"Order_Quarter\", \"Invoice Date\",\"CRAC date\", \"Payment Date\"], inplace=True)\n",
    "for column in columns_to_encode:\n",
    "       df22_1[column+'_encoded'] = le.fit_transform(df22_1[column])\n",
    "df22_1 = df22_1.drop(columns=[\"FY_OrderDate\", \"Bid start date\", \"Bid end date\"])\n",
    "df22_1[\"Payment Type\"+'_encoded'] = le.fit_transform(df22_1[\"Payment Type\"])\n",
    "df22_1[\"MSME verified social category\"+'_encoded'] = le.fit_transform(df22_1[\"MSME verified social category\"])\n",
    "df22_1[\"Sub Category ID\"+'_encoded'] = le.fit_transform(df22_1[\"Sub Category ID\"])\n",
    "df22_1= df22_1.drop(columns=['Seller ID'])\n",
    "df22_1 = df22_1.drop(columns=[\"MSME verified social category\", \"Payment Type\"])\n",
    "df22_1 = df22_1.drop(columns=[\"Order Date\", \"Expected delivery date\", \"Shipment received date\"])\n",
    "df22_1 = df22_1.drop(columns=[\"Sub Category ID\"])\n",
    "df22_1 = df22_1.drop(columns=[\"Purchase Mode\", \"Order MSME Verified\", \"MSME verfied gender wise\", \"Startup verfied\"])\n",
    "I = df22_1.drop(columns=['Time taken to deliver'])\n",
    "j = df22_1['Time taken to deliver']\n",
    "I_train, I_test, j_train, j_test = train_test_split(I, j, test_size=0.2)\n",
    "I_train_bil, j_train_bil = np.array(I_train), np.array(j_train)\n",
    "I_test_bil, j_test_bil = np.array(I_test), np.array(j_test)\n",
    "\n",
    "print(I_train_bil.shape, j_train_bil.shape, I_test_bil.shape, j_test_bil.shape)"
   ]
  },
  {
   "cell_type": "code",
   "execution_count": null,
   "id": "228eb0c6-a949-425f-a2c1-c5faeac706d3",
   "metadata": {},
   "outputs": [],
   "source": [
    "j_pred_cb = model_cb.predict(j_test_bil)"
   ]
  },
  {
   "cell_type": "code",
   "execution_count": null,
   "id": "ae8722b7-bfab-45bf-8938-681a796a7b9c",
   "metadata": {},
   "outputs": [],
   "source": [
    "\n",
    "from sklearn.metrics import mean_squared_error\n",
    "mse_cat_uns = mean_squared_error(j_test_bil, j_pred_cb)\n",
    "rmse_cat_uns = np.sqrt(mse_cat_uns)\n",
    "print(f\"Root Mean Squared Error: {rmse_cat_uns}\")\n",
    "print(f\"Mean Squared Error: {mse_cat_uns}\")"
   ]
  },
  {
   "cell_type": "code",
   "execution_count": null,
   "id": "8a9086b7-4024-4b2c-aa4e-5684065087de",
   "metadata": {},
   "outputs": [],
   "source": []
  },
  {
   "cell_type": "code",
   "execution_count": null,
   "id": "a459a947-277c-4e9a-bb10-b4d69399a054",
   "metadata": {},
   "outputs": [],
   "source": []
  },
  {
   "cell_type": "code",
   "execution_count": null,
   "id": "43239a3d-0d91-4f2e-826c-ac59b5eabff0",
   "metadata": {},
   "outputs": [],
   "source": []
  },
  {
   "cell_type": "code",
   "execution_count": null,
   "id": "1c8240e4-0f1b-42b9-a48d-b7f9d95668d1",
   "metadata": {},
   "outputs": [],
   "source": []
  },
  {
   "cell_type": "code",
   "execution_count": 32,
   "id": "b8da608a-61c4-433e-9e55-ea188bc620c4",
   "metadata": {},
   "outputs": [],
   "source": [
    "from keras.layers import RepeatVector\n",
    "from keras.layers import Bidirectional"
   ]
  },
  {
   "cell_type": "code",
   "execution_count": 37,
   "id": "3ae5b758-9f05-4584-a937-ec2a443a9dae",
   "metadata": {},
   "outputs": [],
   "source": [
    "def create_model():\n",
    "  model = Sequential()\n",
    "  model.add(LSTM(128, activation='relu', return_sequences=True))\n",
    "  model.add(LSTM(64, activation='relu', return_sequences=False))\n",
    "  model.add(RepeatVector(7))\n",
    "  model.add(LSTM(64, activation='relu', return_sequences=True))\n",
    "  model.add(LSTM(128, activation='relu', return_sequences=True))\n",
    "\n",
    "  model.add(Bidirectional(LSTM(128, activation='relu',return_sequences=True)))\n",
    "  model.add(LSTM(64, activation='relu', return_sequences=True))\n",
    "  model.add(Dropout(0.25))\n",
    "  model.add(LSTM(64, activation='relu', return_sequences=False))\n",
    "  model.add(Dropout(0.25))\n",
    "\n",
    "  model.add(Dense(10,activation='relu'))\n",
    "  model.add(Dense(1,activation='relu'))\n",
    "  model.compile(loss='mse', optimizer='adam')\n",
    "  model.build(input_shape=(1,15,1)) \n",
    "  model.summary()\n",
    "  return model"
   ]
  },
  {
   "cell_type": "code",
   "execution_count": 39,
   "id": "7cf7e16f-bd45-4295-8865-57ff210fe9d5",
   "metadata": {},
   "outputs": [
    {
     "name": "stdout",
     "output_type": "stream",
     "text": [
      "Model: \"sequential\"\n",
      "_________________________________________________________________\n",
      " Layer (type)                Output Shape              Param #   \n",
      "=================================================================\n",
      " lstm (LSTM)                 (1, 15, 128)              66560     \n",
      "                                                                 \n",
      " lstm_1 (LSTM)               (1, 64)                   49408     \n",
      "                                                                 \n",
      " repeat_vector (RepeatVecto  (1, 7, 64)                0         \n",
      " r)                                                              \n",
      "                                                                 \n",
      " lstm_2 (LSTM)               (1, 7, 64)                33024     \n",
      "                                                                 \n",
      " lstm_3 (LSTM)               (1, 7, 128)               98816     \n",
      "                                                                 \n",
      " bidirectional (Bidirection  (1, 7, 256)               263168    \n",
      " al)                                                             \n",
      "                                                                 \n",
      " lstm_5 (LSTM)               (1, 7, 64)                82176     \n",
      "                                                                 \n",
      " dropout (Dropout)           (1, 7, 64)                0         \n",
      "                                                                 \n",
      " lstm_6 (LSTM)               (1, 64)                   33024     \n",
      "                                                                 \n",
      " dropout_1 (Dropout)         (1, 64)                   0         \n",
      "                                                                 \n",
      " dense (Dense)               (1, 10)                   650       \n",
      "                                                                 \n",
      " dense_1 (Dense)             (1, 1)                    11        \n",
      "                                                                 \n",
      "=================================================================\n",
      "Total params: 626837 (2.39 MB)\n",
      "Trainable params: 626837 (2.39 MB)\n",
      "Non-trainable params: 0 (0.00 Byte)\n",
      "_________________________________________________________________\n",
      "Epoch 1/10\n",
      "4588/4588 [==============================] - 302s 64ms/step - loss: 14313655.0000 - val_loss: 1829.5400\n",
      "Epoch 2/10\n",
      "4588/4588 [==============================] - 294s 64ms/step - loss: 4247.0015 - val_loss: 1829.5400\n",
      "Epoch 3/10\n",
      "4588/4588 [==============================] - 279s 61ms/step - loss: 36428.2031 - val_loss: 1829.5400\n",
      "Epoch 4/10\n",
      "4588/4588 [==============================] - 275s 60ms/step - loss: 1844.7589 - val_loss: 1829.5400\n",
      "Epoch 5/10\n",
      "4588/4588 [==============================] - 282s 62ms/step - loss: 1887.6532 - val_loss: 1829.5400\n",
      "Epoch 6/10\n",
      "4588/4588 [==============================] - 291s 64ms/step - loss: 1989.2623 - val_loss: 1829.5400\n",
      "Epoch 7/10\n",
      "4588/4588 [==============================] - 282s 62ms/step - loss: 1840.5577 - val_loss: 1829.5400\n",
      "Epoch 8/10\n",
      "4588/4588 [==============================] - 284s 62ms/step - loss: 1840.5558 - val_loss: 1829.5400\n",
      "Epoch 9/10\n",
      "4588/4588 [==============================] - 273s 59ms/step - loss: 1840.5553 - val_loss: 1829.5400\n",
      "Epoch 10/10\n",
      "4588/4588 [==============================] - 279s 61ms/step - loss: 1840.5569 - val_loss: 1829.5400\n"
     ]
    }
   ],
   "source": [
    "model_lsauto=create_model()\n",
    "history = model_lsauto.fit(X_train_bil, y_train_bil, epochs=10, batch_size=128, validation_split=0.3)\n"
   ]
  },
  {
   "cell_type": "code",
   "execution_count": 41,
   "id": "aada2dcc-a3dc-4732-87be-71c1f889f602",
   "metadata": {},
   "outputs": [
    {
     "name": "stdout",
     "output_type": "stream",
     "text": [
      "6554/6554 [==============================] - 54s 8ms/step\n"
     ]
    }
   ],
   "source": [
    "y_pred_lsauto = model_lsauto.predict(X_test_bil)"
   ]
  },
  {
   "cell_type": "code",
   "execution_count": 42,
   "id": "433566a6-ecf9-4aa5-98a6-1527dfdbb3bd",
   "metadata": {},
   "outputs": [],
   "source": [
    "from sklearn.metrics import mean_absolute_error\n",
    "from keras.layers import Bidirectional\n",
    "from sklearn.metrics import mean_squared_error,r2_score,mean_absolute_error\n",
    "from sklearn.preprocessing import MinMaxScaler"
   ]
  },
  {
   "cell_type": "code",
   "execution_count": 43,
   "id": "4bc11468-c0d4-4887-bc0f-bb832ba38d60",
   "metadata": {},
   "outputs": [
    {
     "name": "stdout",
     "output_type": "stream",
     "text": [
      "Root Mean Squared Error: 42.75912658993916\n",
      "Mean Squared Error: 1828.3429067344418\n"
     ]
    }
   ],
   "source": [
    "mse_lsauto_seen = mean_squared_error(y_test, y_pred_lsauto)\n",
    "rmse_lsauto_seen = np.sqrt(mse_lsauto_seen)\n",
    "print(f\"Root Mean Squared Error: {rmse_lsauto_seen}\")\n",
    "print(f\"Mean Squared Error: {mse_lsauto_seen}\")"
   ]
  },
  {
   "cell_type": "code",
   "execution_count": 45,
   "id": "1cf47798-4aef-4c2e-b30a-04b66618eef3",
   "metadata": {},
   "outputs": [
    {
     "data": {
      "text/html": [
       "<div>\n",
       "<style scoped>\n",
       "    .dataframe tbody tr th:only-of-type {\n",
       "        vertical-align: middle;\n",
       "    }\n",
       "\n",
       "    .dataframe tbody tr th {\n",
       "        vertical-align: top;\n",
       "    }\n",
       "\n",
       "    .dataframe thead th {\n",
       "        text-align: right;\n",
       "    }\n",
       "</style>\n",
       "<table border=\"1\" class=\"dataframe\">\n",
       "  <thead>\n",
       "    <tr style=\"text-align: right;\">\n",
       "      <th></th>\n",
       "      <th>Real</th>\n",
       "      <th>Predicted</th>\n",
       "    </tr>\n",
       "  </thead>\n",
       "  <tbody>\n",
       "    <tr>\n",
       "      <th>838852</th>\n",
       "      <td>30</td>\n",
       "      <td>0.0</td>\n",
       "    </tr>\n",
       "    <tr>\n",
       "      <th>838853</th>\n",
       "      <td>45</td>\n",
       "      <td>0.0</td>\n",
       "    </tr>\n",
       "    <tr>\n",
       "      <th>838854</th>\n",
       "      <td>30</td>\n",
       "      <td>0.0</td>\n",
       "    </tr>\n",
       "    <tr>\n",
       "      <th>838855</th>\n",
       "      <td>45</td>\n",
       "      <td>0.0</td>\n",
       "    </tr>\n",
       "    <tr>\n",
       "      <th>838856</th>\n",
       "      <td>28</td>\n",
       "      <td>0.0</td>\n",
       "    </tr>\n",
       "  </tbody>\n",
       "</table>\n",
       "</div>"
      ],
      "text/plain": [
       "        Real  Predicted\n",
       "838852    30        0.0\n",
       "838853    45        0.0\n",
       "838854    30        0.0\n",
       "838855    45        0.0\n",
       "838856    28        0.0"
      ]
     },
     "execution_count": 45,
     "metadata": {},
     "output_type": "execute_result"
    }
   ],
   "source": [
    "# Create a DataFrame of Real and Predicted values\n",
    "prices_lsauto_seen = pd.DataFrame({\n",
    "    \"Real\": y_test.ravel(),\n",
    "    \"Predicted\": y_pred_lsauto.ravel()\n",
    "}, index = df1.index[-len(y_test): ]) \n",
    "prices_lsauto_seen.head()"
   ]
  },
  {
   "cell_type": "code",
   "execution_count": null,
   "id": "09269574-c562-4c25-8966-9e7d4ef52876",
   "metadata": {},
   "outputs": [],
   "source": []
  },
  {
   "cell_type": "code",
   "execution_count": 61,
   "id": "40aeba31-ed4e-4443-9180-b7d70e9eaebe",
   "metadata": {},
   "outputs": [],
   "source": [
    "## XGBOOST"
   ]
  },
  {
   "cell_type": "code",
   "execution_count": 62,
   "id": "026428cb-4e41-412c-a9b5-8c48c2bb7e3e",
   "metadata": {},
   "outputs": [],
   "source": [
    "import xgboost as xgb"
   ]
  },
  {
   "cell_type": "code",
   "execution_count": 63,
   "id": "8f76d420-c852-49ff-ac64-a39607226a2b",
   "metadata": {},
   "outputs": [],
   "source": [
    "# Create an XGBoost DMatrix for training and testing\n",
    "dtrain = xgb.DMatrix(X_train_bil, label=y_train_bil)\n",
    "dtest = xgb.DMatrix(X_test_bil, label=y_test_bil)"
   ]
  },
  {
   "cell_type": "code",
   "execution_count": 85,
   "id": "48297eb7-d2d5-4afc-9f09-20a2375ba10a",
   "metadata": {},
   "outputs": [],
   "source": [
    "# Set hyperparameters\n",
    "params = {\n",
    "    'max_depth': 4,\n",
    "    'eta': 0.1,\n",
    "    'objective': 'reg:squarederror',  # for regression tasks\n",
    "    'eval_metric': 'rmse'  # root mean squared error for regression\n",
    "}"
   ]
  },
  {
   "cell_type": "code",
   "execution_count": 86,
   "id": "0134af59-0dd3-4cea-973f-0781a6308527",
   "metadata": {},
   "outputs": [],
   "source": [
    "# Train the XGBoost model\n",
    "num_rounds = 200\n",
    "model_xgbt = xgb.train(params, dtrain, num_rounds)"
   ]
  },
  {
   "cell_type": "code",
   "execution_count": 87,
   "id": "715d977f-2f7f-46ba-bd5c-214d006d4fb3",
   "metadata": {},
   "outputs": [],
   "source": [
    "y_pred_xgbt = model_xgbt.predict(dtest)"
   ]
  },
  {
   "cell_type": "code",
   "execution_count": 88,
   "id": "f2af6a6d-2faf-48dc-8349-a442f5b26d92",
   "metadata": {},
   "outputs": [
    {
     "data": {
      "text/plain": [
       "array([29.99893 , 44.935364, 29.99893 , ..., 45.021267, 29.99893 ,\n",
       "       29.99893 ], dtype=float32)"
      ]
     },
     "execution_count": 88,
     "metadata": {},
     "output_type": "execute_result"
    }
   ],
   "source": [
    "y_pred_xgbt"
   ]
  },
  {
   "cell_type": "code",
   "execution_count": 89,
   "id": "263fafcd-1164-41b5-b42c-b074d46ab02f",
   "metadata": {},
   "outputs": [
    {
     "name": "stdout",
     "output_type": "stream",
     "text": [
      "Root Mean Squared Error: 4.598795262983225\n"
     ]
    }
   ],
   "source": [
    "# Evaluate the model using mean squared error\n",
    "mse = mean_squared_error(y_test, y_pred_xgbt)\n",
    "rmse = np.sqrt(mse)\n",
    "print(f\"Root Mean Squared Error: {rmse}\")"
   ]
  },
  {
   "cell_type": "code",
   "execution_count": 90,
   "id": "ba703b0f-aa71-4d62-816f-02f3ba315103",
   "metadata": {},
   "outputs": [
    {
     "data": {
      "text/html": [
       "<div>\n",
       "<style scoped>\n",
       "    .dataframe tbody tr th:only-of-type {\n",
       "        vertical-align: middle;\n",
       "    }\n",
       "\n",
       "    .dataframe tbody tr th {\n",
       "        vertical-align: top;\n",
       "    }\n",
       "\n",
       "    .dataframe thead th {\n",
       "        text-align: right;\n",
       "    }\n",
       "</style>\n",
       "<table border=\"1\" class=\"dataframe\">\n",
       "  <thead>\n",
       "    <tr style=\"text-align: right;\">\n",
       "      <th></th>\n",
       "      <th>Real</th>\n",
       "      <th>Predicted</th>\n",
       "    </tr>\n",
       "  </thead>\n",
       "  <tbody>\n",
       "    <tr>\n",
       "      <th>838852</th>\n",
       "      <td>30</td>\n",
       "      <td>29.998930</td>\n",
       "    </tr>\n",
       "    <tr>\n",
       "      <th>838853</th>\n",
       "      <td>45</td>\n",
       "      <td>44.935364</td>\n",
       "    </tr>\n",
       "    <tr>\n",
       "      <th>838854</th>\n",
       "      <td>30</td>\n",
       "      <td>29.998930</td>\n",
       "    </tr>\n",
       "    <tr>\n",
       "      <th>838855</th>\n",
       "      <td>30</td>\n",
       "      <td>29.998930</td>\n",
       "    </tr>\n",
       "    <tr>\n",
       "      <th>838856</th>\n",
       "      <td>30</td>\n",
       "      <td>29.998930</td>\n",
       "    </tr>\n",
       "  </tbody>\n",
       "</table>\n",
       "</div>"
      ],
      "text/plain": [
       "        Real  Predicted\n",
       "838852    30  29.998930\n",
       "838853    45  44.935364\n",
       "838854    30  29.998930\n",
       "838855    30  29.998930\n",
       "838856    30  29.998930"
      ]
     },
     "execution_count": 90,
     "metadata": {},
     "output_type": "execute_result"
    }
   ],
   "source": [
    "# Create a DataFrame of Real and Predicted values\n",
    "prices_xgb = pd.DataFrame({\n",
    "    \"Real\": y_test.ravel(),\n",
    "    \"Predicted\": y_pred_xgbt.ravel()\n",
    "}, index = df1.index[-len(y_test): ]) \n",
    "prices_xgb.head()"
   ]
  },
  {
   "cell_type": "code",
   "execution_count": null,
   "id": "a02cc444-c41f-48ad-aba9-fff5d1a4e4d4",
   "metadata": {},
   "outputs": [],
   "source": []
  },
  {
   "cell_type": "code",
   "execution_count": 70,
   "id": "c8a5364f-31cc-4adb-804a-483f4e07de86",
   "metadata": {},
   "outputs": [],
   "source": [
    "## Generalization"
   ]
  },
  {
   "cell_type": "code",
   "execution_count": 79,
   "id": "56ea2e8c-0e9e-4d36-acbc-9af0ac7fb25a",
   "metadata": {},
   "outputs": [],
   "source": [
    "df22 = pd.read_excel(r\"~/Downloads/BID_RA_data/BID_RA_22_23.xlsx\")"
   ]
  },
  {
   "cell_type": "code",
   "execution_count": 95,
   "id": "08d605e1-c565-4470-aacd-fdc1d50ec9b5",
   "metadata": {},
   "outputs": [],
   "source": [
    "df22 = pd.read_excel(r\"~/Downloads/BID_RA_data/BID_RA_18_19.xlsx\")"
   ]
  },
  {
   "cell_type": "code",
   "execution_count": null,
   "id": "75b6fbaa-27e8-4683-ab71-fe78f7015bc7",
   "metadata": {},
   "outputs": [],
   "source": [
    "df22_1 = df22.drop(df22.columns[[0, 7, 19, 20, 21, 31 ]], axis=1)\n",
    "df22_1[\"price\"] = df22_1[\"Order value\"]/df22_1[\"Order Qty\"]\n",
    "df22_1[\"Time taken to deliver\"] = (df22_1[\"Expected delivery date\"] - df22_1[\"Order Date\"]).dt.days\n",
    "df22_1.drop(columns=[\"Month_Name_OrderDate\", \"Order_Quarter\", \"Invoice Date\",\"CRAC date\", \"Payment Date\"], inplace=True)\n",
    "for column in columns_to_encode:\n",
    "       df22_1[column+'_encoded'] = le.fit_transform(df22_1[column])\n",
    "df22_1 = df22_1.drop(columns=[\"FY_OrderDate\", \"Bid start date\", \"Bid end date\"])\n",
    "df22_1[\"Payment Type\"+'_encoded'] = le.fit_transform(df22_1[\"Payment Type\"])\n",
    "df22_1[\"MSME verified social category\"+'_encoded'] = le.fit_transform(df22_1[\"MSME verified social category\"])\n",
    "df22_1[\"Sub Category ID\"+'_encoded'] = le.fit_transform(df22_1[\"Sub Category ID\"])\n",
    "df22_1= df22_1.drop(columns=['Seller ID'])\n",
    "df22_1 = df22_1.drop(columns=[\"MSME verified social category\", \"Payment Type\"])\n",
    "df22_1 = df22_1.drop(columns=[\"Order Date\", \"Expected delivery date\", \"Shipment received date\"])\n",
    "df22_1 = df22_1.drop(columns=[\"Sub Category ID\"])\n",
    "df22_1 = df22_1.drop(columns=[\"Purchase Mode\", \"Order MSME Verified\", \"MSME verfied gender wise\", \"Startup verfied\"])\n",
    "I = df22_1.drop(columns=['Time taken to deliver'])\n",
    "j = df22_1['Time taken to deliver']\n",
    "I_train, I_test, j_train, j_test = train_test_split(I, j, test_size=0.2)\n",
    "I_train_bil, j_train_bil = np.array(I_train), np.array(j_train)\n",
    "I_test_bil, j_test_bil = np.array(I_test), np.array(j_test)\n",
    "\n",
    "print(I_train_bil.shape, j_train_bil.shape, I_test_bil.shape, j_test_bil.shape)"
   ]
  },
  {
   "cell_type": "code",
   "execution_count": null,
   "id": "64a527a0-13bc-4c3f-b785-7fd2dba2323e",
   "metadata": {},
   "outputs": [],
   "source": []
  },
  {
   "cell_type": "code",
   "execution_count": 91,
   "id": "0222e882-e34b-4f6d-bea7-d40a718c027e",
   "metadata": {},
   "outputs": [],
   "source": [
    "dtest_unseen = xgb.DMatrix(I_test_bil, label=j_test_bil)"
   ]
  },
  {
   "cell_type": "code",
   "execution_count": 92,
   "id": "30e30361-3714-4e01-95f5-f09995f077a5",
   "metadata": {},
   "outputs": [],
   "source": [
    "# Make predictions\n",
    "j_pred_xgbt = model_xgbt.predict(dtest_unseen)"
   ]
  },
  {
   "cell_type": "code",
   "execution_count": 93,
   "id": "3c65fcdd-5dc8-4be3-81c1-d2d92864ebd5",
   "metadata": {},
   "outputs": [
    {
     "name": "stdout",
     "output_type": "stream",
     "text": [
      "Root Mean Squared Error: 209.3791625531153\n"
     ]
    }
   ],
   "source": [
    "# Evaluate the model using mean squared error\n",
    "mse_uns_xgb = mean_squared_error(j_test, j_pred_xgbt)\n",
    "rmse_uns_xgb = np.sqrt(mse_uns_xgb)\n",
    "print(f\"Root Mean Squared Error: {rmse_uns_xgb}\")"
   ]
  },
  {
   "cell_type": "code",
   "execution_count": 71,
   "id": "a8587b81-d7a7-4dc0-af96-b6611b125abe",
   "metadata": {},
   "outputs": [
    {
     "ename": "NameError",
     "evalue": "name 'j_pred_xgbt' is not defined",
     "output_type": "error",
     "traceback": [
      "\u001b[0;31m---------------------------------------------------------------------------\u001b[0m",
      "\u001b[0;31mNameError\u001b[0m                                 Traceback (most recent call last)",
      "Cell \u001b[0;32mIn[71], line 4\u001b[0m\n\u001b[1;32m      1\u001b[0m \u001b[38;5;66;03m# Create a DataFrame of Real and Predicted values\u001b[39;00m\n\u001b[1;32m      2\u001b[0m prices_xgb_uns \u001b[38;5;241m=\u001b[39m pd\u001b[38;5;241m.\u001b[39mDataFrame({\n\u001b[1;32m      3\u001b[0m     \u001b[38;5;124m\"\u001b[39m\u001b[38;5;124mReal\u001b[39m\u001b[38;5;124m\"\u001b[39m: j_test\u001b[38;5;241m.\u001b[39mravel(),\n\u001b[0;32m----> 4\u001b[0m     \u001b[38;5;124m\"\u001b[39m\u001b[38;5;124mPredicted\u001b[39m\u001b[38;5;124m\"\u001b[39m: \u001b[43mj_pred_xgbt\u001b[49m\u001b[38;5;241m.\u001b[39mravel()\n\u001b[1;32m      5\u001b[0m }, index \u001b[38;5;241m=\u001b[39m df1\u001b[38;5;241m.\u001b[39mindex[\u001b[38;5;241m-\u001b[39m\u001b[38;5;28mlen\u001b[39m(j_test): ]) \n\u001b[1;32m      6\u001b[0m prices_xgb_uns\u001b[38;5;241m.\u001b[39mtail()\n",
      "\u001b[0;31mNameError\u001b[0m: name 'j_pred_xgbt' is not defined"
     ]
    }
   ],
   "source": [
    "# Create a DataFrame of Real and Predicted values\n",
    "prices_xgb_uns = pd.DataFrame({\n",
    "    \"Real\": j_test.ravel(),\n",
    "    \"Predicted\": j_pred_xgbt.ravel()\n",
    "}, index = df1.index[-len(j_test): ]) \n",
    "prices_xgb_uns.tail()"
   ]
  },
  {
   "cell_type": "code",
   "execution_count": null,
   "id": "eb1ab822-4bf8-4eb7-9108-5ca4b6d13cd8",
   "metadata": {},
   "outputs": [],
   "source": []
  }
 ],
 "metadata": {
  "kernelspec": {
   "display_name": "Python 3 (ipykernel)",
   "language": "python",
   "name": "python3"
  },
  "language_info": {
   "codemirror_mode": {
    "name": "ipython",
    "version": 3
   },
   "file_extension": ".py",
   "mimetype": "text/x-python",
   "name": "python",
   "nbconvert_exporter": "python",
   "pygments_lexer": "ipython3",
   "version": "3.8.10"
  }
 },
 "nbformat": 4,
 "nbformat_minor": 5
}

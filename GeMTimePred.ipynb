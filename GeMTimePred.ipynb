{
 "cells": [
  {
   "cell_type": "code",
   "execution_count": 1,
   "id": "e4391a80-8445-41f7-9613-068fee9e991c",
   "metadata": {},
   "outputs": [
    {
     "name": "stderr",
     "output_type": "stream",
     "text": [
      "2024-02-17 15:21:27.413067: I tensorflow/core/util/port.cc:110] oneDNN custom operations are on. You may see slightly different numerical results due to floating-point round-off errors from different computation orders. To turn them off, set the environment variable `TF_ENABLE_ONEDNN_OPTS=0`.\n",
      "2024-02-17 15:21:27.415875: I tensorflow/tsl/cuda/cudart_stub.cc:28] Could not find cuda drivers on your machine, GPU will not be used.\n",
      "2024-02-17 15:21:27.454819: I tensorflow/tsl/cuda/cudart_stub.cc:28] Could not find cuda drivers on your machine, GPU will not be used.\n",
      "2024-02-17 15:21:27.455480: I tensorflow/core/platform/cpu_feature_guard.cc:182] This TensorFlow binary is optimized to use available CPU instructions in performance-critical operations.\n",
      "To enable the following instructions: AVX2 AVX512F AVX512_VNNI FMA, in other operations, rebuild TensorFlow with the appropriate compiler flags.\n",
      "2024-02-17 15:21:28.299946: W tensorflow/compiler/tf2tensorrt/utils/py_utils.cc:38] TF-TRT Warning: Could not find TensorRT\n"
     ]
    }
   ],
   "source": [
    "import numpy as np\n",
    "import pandas as pd\n",
    "import seaborn as sns\n",
    "import matplotlib.pyplot as plt\n",
    "import tensorflow as tf\n",
    "from keras import layers\n",
    "import keras\n",
    "\n",
    "%matplotlib inline\n",
    "tf.random.set_seed(42)"
   ]
  },
  {
   "cell_type": "code",
   "execution_count": 2,
   "id": "8427fbed-2ea2-4048-a614-5799179ef96a",
   "metadata": {},
   "outputs": [],
   "source": [
    "import numpy as np\n",
    "import pandas as pd\n",
    "import math\n",
    "import seaborn as sns\n",
    "import xgboost as xgb\n",
    "import matplotlib.pyplot as plt\n",
    "#import plotly.graph_objects as go\n",
    "import tensorflow as tf\n",
    "#import tensorflow_addons as tfa\n",
    "\n",
    "from sklearn.model_selection import train_test_split\n",
    "from sklearn.ensemble import RandomForestRegressor\n",
    "from sklearn.preprocessing import LabelEncoder\n",
    "from sklearn.svm import SVR\n",
    "#from plotly.subplots import make_subplots\n",
    "from statsmodels.tsa.seasonal import seasonal_decompose\n",
    "from statsmodels.tsa.stattools import adfuller\n",
    "from statsmodels.graphics.tsaplots import plot_acf, plot_pacf\n",
    "from statsmodels.tsa.stattools import acf, pacf\n",
    "from sklearn.pipeline import make_pipeline\n",
    "from sklearn.preprocessing import StandardScaler\n",
    "from sklearn.preprocessing import MinMaxScaler\n",
    "from sklearn.decomposition import PCA\n",
    "from sklearn.model_selection import GridSearchCV\n",
    "from sklearn.metrics import mean_absolute_error\n",
    "from keras import Sequential\n",
    "from keras import layers\n",
    "from keras.models import Model\n",
    "from keras.layers import LSTM, BatchNormalization, Dropout, Dense, Flatten, Conv1D\n",
    "from keras.layers import MaxPooling1D, GRU, Input,Masking, Concatenate, dot\n",
    "from keras.optimizers import Adam, SGD\n",
    "from keras.losses import MeanAbsoluteError\n",
    "from keras.metrics import RootMeanSquaredError\n",
    "from keras.callbacks import EarlyStopping\n",
    "from keras.callbacks import LearningRateScheduler\n",
    "from sklearn.metrics import mean_squared_error"
   ]
  },
  {
   "cell_type": "markdown",
   "id": "00bf914e-ef98-4a8d-bc35-8b7bbeaf802d",
   "metadata": {},
   "source": [
    "#### Train Dataset \n",
    "#### BID_RA_19_20.xlsx"
   ]
  },
  {
   "cell_type": "code",
   "execution_count": 3,
   "id": "50cabc07-96f6-4db4-8647-932aa5c4bbd1",
   "metadata": {},
   "outputs": [],
   "source": [
    "df = pd.read_excel(r\"~/Downloads/BID_RA_data/BID_RA_19_20.xlsx\")"
   ]
  },
  {
   "cell_type": "code",
   "execution_count": 4,
   "id": "db12c3ec-c471-4155-ad21-6e3f89cbe5d6",
   "metadata": {},
   "outputs": [
    {
     "data": {
      "text/plain": [
       "Order ID                                  int64\n",
       "Order Date                       datetime64[ns]\n",
       "FY_OrderDate                             object\n",
       "Month_Name_OrderDate                     object\n",
       "Purchase Mode                            object\n",
       "Bid start date                   datetime64[ns]\n",
       "Bid end date                     datetime64[ns]\n",
       "HOD ID                                   object\n",
       "Seller ID                                object\n",
       "Order_Quarter                            object\n",
       "Order MSME Verified                      object\n",
       "MSME verfied gender wise                 object\n",
       "MSME verified social category            object\n",
       "Startup verfied                          object\n",
       "Sub Category ID                          object\n",
       "Expected delivery date           datetime64[ns]\n",
       "Shipment received date                   object\n",
       "Order Qty                                 int64\n",
       "Order value                             float64\n",
       "Consignment ID                            int64\n",
       "GeM Invoice Number                       object\n",
       "BID Number                               object\n",
       "Shipment Quantity Received                int64\n",
       "Shipment Quantity Rejected                int64\n",
       "Shipment Quantity Accepted                int64\n",
       "CRAC amount                             float64\n",
       "Total payments                          float64\n",
       "Invoice Date                             object\n",
       "CRAC date                                object\n",
       "Payment Date                             object\n",
       "Payment Type                             object\n",
       "Consignee ID                             object\n",
       "dtype: object"
      ]
     },
     "execution_count": 4,
     "metadata": {},
     "output_type": "execute_result"
    }
   ],
   "source": [
    "df.dtypes"
   ]
  },
  {
   "cell_type": "code",
   "execution_count": 5,
   "id": "d851da7e-3750-4105-957f-7f82e6a2d480",
   "metadata": {},
   "outputs": [],
   "source": [
    "df1 = df.drop(df.columns[[0, 7, 19, 20, 21, 31]], axis=1)"
   ]
  },
  {
   "cell_type": "code",
   "execution_count": 6,
   "id": "a2f3f34c-c2b4-48c0-9bd3-b5e00a7ca3e0",
   "metadata": {},
   "outputs": [],
   "source": [
    "df1[\"price\"] = df1[\"Order value\"]/df1[\"Order Qty\"]"
   ]
  },
  {
   "cell_type": "code",
   "execution_count": 7,
   "id": "1f3cd74e-e903-4f28-a04f-47e447022e0f",
   "metadata": {},
   "outputs": [],
   "source": [
    "import datetime\n",
    "from datetime import datetime as dt"
   ]
  },
  {
   "cell_type": "code",
   "execution_count": 8,
   "id": "f3e158ea-baf2-4339-82ea-3a6527c6764b",
   "metadata": {},
   "outputs": [],
   "source": [
    "df1[\"Time taken to deliver\"] = (df1[\"Expected delivery date\"] - df1[\"Order Date\"]).dt.days"
   ]
  },
  {
   "cell_type": "code",
   "execution_count": 9,
   "id": "ced3fa21-82e6-40c4-b5ee-006a2c23696b",
   "metadata": {},
   "outputs": [],
   "source": [
    "df1.drop(columns=[\"Month_Name_OrderDate\", \"Order_Quarter\", \"Invoice Date\",\"CRAC date\", \"Payment Date\"], inplace=True)"
   ]
  },
  {
   "cell_type": "code",
   "execution_count": 10,
   "id": "f51ba528-16fa-4cfb-bd7f-653d8bfbb5e2",
   "metadata": {},
   "outputs": [],
   "source": [
    "columns_to_encode = [\"Purchase Mode\", \"MSME verfied gender wise\", \"Order MSME Verified\", \"Startup verfied\"]"
   ]
  },
  {
   "cell_type": "code",
   "execution_count": 11,
   "id": "eaef68d3-b908-41d1-81cb-bfee5814726d",
   "metadata": {},
   "outputs": [],
   "source": [
    "le = LabelEncoder()"
   ]
  },
  {
   "cell_type": "code",
   "execution_count": 12,
   "id": "f5805109-7212-41c3-9499-d8d85764c32f",
   "metadata": {},
   "outputs": [],
   "source": [
    "for column in columns_to_encode:\n",
    "       df1[column+'_encoded'] = le.fit_transform(df1[column])"
   ]
  },
  {
   "cell_type": "code",
   "execution_count": 13,
   "id": "d08d183d-e7fa-4919-8a6e-5618c65dc0c4",
   "metadata": {},
   "outputs": [],
   "source": [
    "df1 = df1.drop(columns=[\"Purchase Mode\", \"MSME verfied gender wise\", \"Order MSME Verified\", \"Startup verfied\"])"
   ]
  },
  {
   "cell_type": "code",
   "execution_count": 14,
   "id": "2727759b-53d9-4cec-9392-e9b966f35044",
   "metadata": {},
   "outputs": [],
   "source": [
    "df1 = df1.drop(columns=[\"FY_OrderDate\", \"Bid start date\", \"Bid end date\"])"
   ]
  },
  {
   "cell_type": "code",
   "execution_count": 15,
   "id": "53f527ac-12bf-4def-aefe-7f1924552b62",
   "metadata": {},
   "outputs": [],
   "source": [
    "df1[\"Payment Type\"+'_encoded'] = le.fit_transform(df1[\"Payment Type\"])"
   ]
  },
  {
   "cell_type": "code",
   "execution_count": 16,
   "id": "4d98dd87-1562-4410-949a-4f337ec34637",
   "metadata": {},
   "outputs": [],
   "source": [
    "df1[\"MSME verified social category\"+'_encoded'] = le.fit_transform(df1[\"MSME verified social category\"])"
   ]
  },
  {
   "cell_type": "code",
   "execution_count": 17,
   "id": "fd3f811a-d1d4-4524-9b6e-24e1310f1ce9",
   "metadata": {},
   "outputs": [],
   "source": [
    "df1 = df1.drop(columns=[\"MSME verified social category\", \"Payment Type\"])"
   ]
  },
  {
   "cell_type": "code",
   "execution_count": 18,
   "id": "6189c6d2-8547-4f75-9818-2c6f0bf337cf",
   "metadata": {},
   "outputs": [],
   "source": [
    "df1 = df1.drop(columns=[\"Order Date\", \"Expected delivery date\", \"Shipment received date\"])"
   ]
  },
  {
   "cell_type": "code",
   "execution_count": 19,
   "id": "90eb6e1f-b70b-4137-998b-86f77303ed6d",
   "metadata": {},
   "outputs": [],
   "source": [
    "df1 = df1.drop(columns=['Seller ID'])"
   ]
  },
  {
   "cell_type": "code",
   "execution_count": 20,
   "id": "83f550c2-5255-4240-bded-4f1ab7216340",
   "metadata": {},
   "outputs": [
    {
     "data": {
      "text/plain": [
       "Sub Category ID\n",
       "home_info_comp_comp_de52008682          811482\n",
       "home_comm_nonm_peda_bicy                 89195\n",
       "home_comm_moto_auto_ambu                 61019\n",
       "home_appa_foot_sh88838715_sh71256827      8535\n",
       "home_furn_acco_furn_almi                  7739\n",
       "                                         ...  \n",
       "home_mine_fabr_spec_cott                     1\n",
       "home_medi_medi_me16126272_me82121660         1\n",
       "home_offi_of64586874_draf_geom               1\n",
       "home_appa_pers_bath_swac                     1\n",
       "home_info_data_netw_outd                     1\n",
       "Name: count, Length: 1352, dtype: int64"
      ]
     },
     "execution_count": 20,
     "metadata": {},
     "output_type": "execute_result"
    }
   ],
   "source": [
    "df1[\"Sub Category ID\"].value_counts()"
   ]
  },
  {
   "cell_type": "code",
   "execution_count": 21,
   "id": "dd963afd-fcff-4acd-9045-fd111c14854b",
   "metadata": {},
   "outputs": [],
   "source": [
    "df2=df1[df1[\"Sub Category ID\"]==\"home_info_comp_comp_de52008682\"]"
   ]
  },
  {
   "cell_type": "code",
   "execution_count": 22,
   "id": "a1953879-52f7-4800-9f0e-b1d4daf01133",
   "metadata": {},
   "outputs": [],
   "source": [
    "df2 = df2.drop(columns=['Sub Category ID'])"
   ]
  },
  {
   "cell_type": "code",
   "execution_count": 23,
   "id": "8571e70f-a178-4786-af77-28eae33d6729",
   "metadata": {},
   "outputs": [],
   "source": [
    "X = df2.drop(columns=['Time taken to deliver'])\n",
    "y = df2['Time taken to deliver']"
   ]
  },
  {
   "cell_type": "code",
   "execution_count": 24,
   "id": "59d99d1a-bad9-4f67-916e-043c5aa285d0",
   "metadata": {},
   "outputs": [
    {
     "data": {
      "text/plain": [
       "Index(['Order Qty', 'Order value', 'Shipment Quantity Received',\n",
       "       'Shipment Quantity Rejected', 'Shipment Quantity Accepted',\n",
       "       'CRAC amount', 'Total payments', 'price', 'Purchase Mode_encoded',\n",
       "       'MSME verfied gender wise_encoded', 'Order MSME Verified_encoded',\n",
       "       'Startup verfied_encoded', 'Payment Type_encoded',\n",
       "       'MSME verified social category_encoded'],\n",
       "      dtype='object')"
      ]
     },
     "execution_count": 24,
     "metadata": {},
     "output_type": "execute_result"
    }
   ],
   "source": [
    "X.columns"
   ]
  },
  {
   "cell_type": "code",
   "execution_count": 25,
   "id": "a0fd1a55-e69a-41f5-ad72-56aeb11090a3",
   "metadata": {},
   "outputs": [],
   "source": [
    "X_train, X_test, y_train, y_test = train_test_split(X, y, test_size=0.2)"
   ]
  },
  {
   "cell_type": "code",
   "execution_count": 26,
   "id": "9c59f580-4f33-4bbd-a68a-b669cb12c80d",
   "metadata": {},
   "outputs": [
    {
     "data": {
      "text/html": [
       "<div>\n",
       "<style scoped>\n",
       "    .dataframe tbody tr th:only-of-type {\n",
       "        vertical-align: middle;\n",
       "    }\n",
       "\n",
       "    .dataframe tbody tr th {\n",
       "        vertical-align: top;\n",
       "    }\n",
       "\n",
       "    .dataframe thead th {\n",
       "        text-align: right;\n",
       "    }\n",
       "</style>\n",
       "<table border=\"1\" class=\"dataframe\">\n",
       "  <thead>\n",
       "    <tr style=\"text-align: right;\">\n",
       "      <th></th>\n",
       "      <th>Order Qty</th>\n",
       "      <th>Order value</th>\n",
       "      <th>Shipment Quantity Received</th>\n",
       "      <th>Shipment Quantity Rejected</th>\n",
       "      <th>Shipment Quantity Accepted</th>\n",
       "      <th>CRAC amount</th>\n",
       "      <th>Total payments</th>\n",
       "      <th>price</th>\n",
       "      <th>Purchase Mode_encoded</th>\n",
       "      <th>MSME verfied gender wise_encoded</th>\n",
       "      <th>Order MSME Verified_encoded</th>\n",
       "      <th>Startup verfied_encoded</th>\n",
       "      <th>Payment Type_encoded</th>\n",
       "      <th>MSME verified social category_encoded</th>\n",
       "    </tr>\n",
       "  </thead>\n",
       "  <tbody>\n",
       "    <tr>\n",
       "      <th>1038441</th>\n",
       "      <td>1432</td>\n",
       "      <td>74870688.0</td>\n",
       "      <td>1</td>\n",
       "      <td>0</td>\n",
       "      <td>1</td>\n",
       "      <td>52284.0</td>\n",
       "      <td>52284.0</td>\n",
       "      <td>52284.0</td>\n",
       "      <td>0</td>\n",
       "      <td>0</td>\n",
       "      <td>1</td>\n",
       "      <td>0</td>\n",
       "      <td>1</td>\n",
       "      <td>0</td>\n",
       "    </tr>\n",
       "    <tr>\n",
       "      <th>933364</th>\n",
       "      <td>1432</td>\n",
       "      <td>74870688.0</td>\n",
       "      <td>2</td>\n",
       "      <td>0</td>\n",
       "      <td>2</td>\n",
       "      <td>104568.0</td>\n",
       "      <td>52284.0</td>\n",
       "      <td>52284.0</td>\n",
       "      <td>0</td>\n",
       "      <td>0</td>\n",
       "      <td>1</td>\n",
       "      <td>0</td>\n",
       "      <td>1</td>\n",
       "      <td>0</td>\n",
       "    </tr>\n",
       "    <tr>\n",
       "      <th>741645</th>\n",
       "      <td>1432</td>\n",
       "      <td>74870688.0</td>\n",
       "      <td>1</td>\n",
       "      <td>0</td>\n",
       "      <td>1</td>\n",
       "      <td>52284.0</td>\n",
       "      <td>52284.0</td>\n",
       "      <td>52284.0</td>\n",
       "      <td>0</td>\n",
       "      <td>0</td>\n",
       "      <td>1</td>\n",
       "      <td>0</td>\n",
       "      <td>1</td>\n",
       "      <td>0</td>\n",
       "    </tr>\n",
       "    <tr>\n",
       "      <th>524745</th>\n",
       "      <td>1432</td>\n",
       "      <td>74870688.0</td>\n",
       "      <td>2</td>\n",
       "      <td>0</td>\n",
       "      <td>2</td>\n",
       "      <td>104568.0</td>\n",
       "      <td>52284.0</td>\n",
       "      <td>52284.0</td>\n",
       "      <td>0</td>\n",
       "      <td>0</td>\n",
       "      <td>1</td>\n",
       "      <td>0</td>\n",
       "      <td>1</td>\n",
       "      <td>0</td>\n",
       "    </tr>\n",
       "    <tr>\n",
       "      <th>293495</th>\n",
       "      <td>693</td>\n",
       "      <td>19339551.0</td>\n",
       "      <td>2</td>\n",
       "      <td>0</td>\n",
       "      <td>2</td>\n",
       "      <td>55814.0</td>\n",
       "      <td>50511.0</td>\n",
       "      <td>27907.0</td>\n",
       "      <td>0</td>\n",
       "      <td>0</td>\n",
       "      <td>1</td>\n",
       "      <td>0</td>\n",
       "      <td>3</td>\n",
       "      <td>0</td>\n",
       "    </tr>\n",
       "  </tbody>\n",
       "</table>\n",
       "</div>"
      ],
      "text/plain": [
       "         Order Qty  Order value  Shipment Quantity Received  \\\n",
       "1038441       1432   74870688.0                           1   \n",
       "933364        1432   74870688.0                           2   \n",
       "741645        1432   74870688.0                           1   \n",
       "524745        1432   74870688.0                           2   \n",
       "293495         693   19339551.0                           2   \n",
       "\n",
       "         Shipment Quantity Rejected  Shipment Quantity Accepted  CRAC amount  \\\n",
       "1038441                           0                           1      52284.0   \n",
       "933364                            0                           2     104568.0   \n",
       "741645                            0                           1      52284.0   \n",
       "524745                            0                           2     104568.0   \n",
       "293495                            0                           2      55814.0   \n",
       "\n",
       "         Total payments    price  Purchase Mode_encoded  \\\n",
       "1038441         52284.0  52284.0                      0   \n",
       "933364          52284.0  52284.0                      0   \n",
       "741645          52284.0  52284.0                      0   \n",
       "524745          52284.0  52284.0                      0   \n",
       "293495          50511.0  27907.0                      0   \n",
       "\n",
       "         MSME verfied gender wise_encoded  Order MSME Verified_encoded  \\\n",
       "1038441                                 0                            1   \n",
       "933364                                  0                            1   \n",
       "741645                                  0                            1   \n",
       "524745                                  0                            1   \n",
       "293495                                  0                            1   \n",
       "\n",
       "         Startup verfied_encoded  Payment Type_encoded  \\\n",
       "1038441                        0                     1   \n",
       "933364                         0                     1   \n",
       "741645                         0                     1   \n",
       "524745                         0                     1   \n",
       "293495                         0                     3   \n",
       "\n",
       "         MSME verified social category_encoded  \n",
       "1038441                                      0  \n",
       "933364                                       0  \n",
       "741645                                       0  \n",
       "524745                                       0  \n",
       "293495                                       0  "
      ]
     },
     "execution_count": 26,
     "metadata": {},
     "output_type": "execute_result"
    }
   ],
   "source": [
    "X_train.head()"
   ]
  },
  {
   "cell_type": "code",
   "execution_count": 27,
   "id": "6968a481-7463-4422-9ca4-bff9337b368f",
   "metadata": {},
   "outputs": [
    {
     "name": "stdout",
     "output_type": "stream",
     "text": [
      "(649185, 14) (649185,) (162297, 14) (162297,)\n"
     ]
    }
   ],
   "source": [
    "X_train_bil, y_train_bil = np.array(X_train), np.array(y_train)\n",
    "X_test_bil, y_test_bil = np.array(X_test), np.array(y_test)\n",
    "#X_train_bil = X_train_bil.reshape((X_train_bil.shape[0], 1, X_train_bil.shape[1]))\n",
    "#X_test_bil = X_test_bil.reshape((X_test_bil.shape[0], 1, X_test_bil.shape[1]))\n",
    "print(X_train_bil.shape, y_train_bil.shape, X_test_bil.shape, y_test_bil.shape)"
   ]
  },
  {
   "cell_type": "code",
   "execution_count": 38,
   "id": "833bd28a-de4b-4ba2-83c0-5fd313e7c316",
   "metadata": {},
   "outputs": [],
   "source": [
    "from keras.callbacks import EarlyStopping"
   ]
  },
  {
   "cell_type": "code",
   "execution_count": 29,
   "id": "9508cc68-88a2-4311-8787-5eabd460f338",
   "metadata": {},
   "outputs": [],
   "source": [
    "max_features = 10000\n",
    "max_len = 50"
   ]
  },
  {
   "cell_type": "markdown",
   "id": "4d505bb7-89eb-441d-bbd1-c9bd8b6afb00",
   "metadata": {},
   "source": [
    "## LSTM-GRU Architecture"
   ]
  },
  {
   "cell_type": "code",
   "execution_count": 39,
   "id": "f411f5b3-6476-413f-b7b3-5b64d4f83216",
   "metadata": {},
   "outputs": [],
   "source": [
    "from keras.models import Sequential\n",
    "from keras.layers import Dense, Dropout, Activation, Flatten,Reshape\n",
    "from keras.layers import Conv1D, MaxPooling1D, LeakyReLU\n",
    "import np_utils\n",
    "from keras.layers import Dense, LSTM, Bidirectional\n",
    "from keras.layers import Embedding\n",
    "from keras.layers import GRU\n",
    "model_GRU = Sequential()\n",
    "#model_GRU.add(Bidirectional(LSTM(units=50, dropout=0.5, return_sequences=True)))\n",
    "model_GRU.add(LSTM(units=50, input_shape=(14,1), return_sequences=True))\n",
    "model_GRU.add(Dropout(0.3))\n",
    "model_GRU.add(GRU(units=50, input_shape=(14,1),return_sequences=False))\n",
    "model_GRU.add(Activation('tanh'))\n",
    "model_GRU.add(Dropout(0.3))\n",
    "model_GRU.add(Dense(1))\n",
    "model_GRU.add(Activation('relu'))\n",
    "model_GRU.compile(loss='mse', optimizer='adam', metrics = ('MAPE'))"
   ]
  },
  {
   "cell_type": "code",
   "execution_count": 40,
   "id": "b3ace4df-faf0-48ed-8aa1-f73ec71113f0",
   "metadata": {},
   "outputs": [
    {
     "name": "stdout",
     "output_type": "stream",
     "text": [
      "Model: \"sequential_3\"\n",
      "_________________________________________________________________\n",
      " Layer (type)                Output Shape              Param #   \n",
      "=================================================================\n",
      " lstm_1 (LSTM)               (None, 14, 50)            10400     \n",
      "                                                                 \n",
      " dropout_3 (Dropout)         (None, 14, 50)            0         \n",
      "                                                                 \n",
      " gru_3 (GRU)                 (None, 50)                15300     \n",
      "                                                                 \n",
      " activation_6 (Activation)   (None, 50)                0         \n",
      "                                                                 \n",
      " dropout_4 (Dropout)         (None, 50)                0         \n",
      "                                                                 \n",
      " dense_3 (Dense)             (None, 1)                 51        \n",
      "                                                                 \n",
      " activation_7 (Activation)   (None, 1)                 0         \n",
      "                                                                 \n",
      "=================================================================\n",
      "Total params: 25751 (100.59 KB)\n",
      "Trainable params: 25751 (100.59 KB)\n",
      "Non-trainable params: 0 (0.00 Byte)\n",
      "_________________________________________________________________\n"
     ]
    }
   ],
   "source": [
    "model_GRU.summary()"
   ]
  },
  {
   "cell_type": "code",
   "execution_count": 41,
   "id": "382c8510-8766-4329-b1f6-a0b5eeda4d94",
   "metadata": {},
   "outputs": [],
   "source": [
    "callbacks = [keras.callbacks.EarlyStopping(monitor='val_loss', patience=60,verbose=1)]"
   ]
  },
  {
   "cell_type": "code",
   "execution_count": 42,
   "id": "40b718db-e710-44e3-b765-ad360664cbe8",
   "metadata": {},
   "outputs": [
    {
     "name": "stdout",
     "output_type": "stream",
     "text": [
      "Epoch 1/60\n",
      "5072/5072 [==============================] - 71s 14ms/step - loss: 54.3635 - MAPE: 56238.4336 - val_loss: 18.9887 - val_MAPE: 6.0756\n",
      "Epoch 2/60\n",
      "5072/5072 [==============================] - 68s 13ms/step - loss: 17.3175 - MAPE: 47166.9883 - val_loss: 0.4883 - val_MAPE: 0.3731\n",
      "Epoch 3/60\n",
      "5072/5072 [==============================] - 66s 13ms/step - loss: 6.8698 - MAPE: 46365.2852 - val_loss: 0.4744 - val_MAPE: 0.8454\n",
      "Epoch 4/60\n",
      "5072/5072 [==============================] - 67s 13ms/step - loss: 5.5750 - MAPE: 46090.5625 - val_loss: 0.4146 - val_MAPE: 0.5069\n",
      "Epoch 5/60\n",
      "5072/5072 [==============================] - 67s 13ms/step - loss: 4.4100 - MAPE: 48604.2852 - val_loss: 0.4051 - val_MAPE: 0.5838\n",
      "Epoch 6/60\n",
      "5072/5072 [==============================] - 67s 13ms/step - loss: 3.3950 - MAPE: 49413.9648 - val_loss: 0.4174 - val_MAPE: 0.7868\n",
      "Epoch 7/60\n",
      "5072/5072 [==============================] - 68s 13ms/step - loss: 2.5399 - MAPE: 42116.7734 - val_loss: 0.3729 - val_MAPE: 0.5130\n",
      "Epoch 8/60\n",
      "5072/5072 [==============================] - 67s 13ms/step - loss: 1.8457 - MAPE: 38712.7891 - val_loss: 0.3531 - val_MAPE: 0.2723\n",
      "Epoch 9/60\n",
      "5072/5072 [==============================] - 67s 13ms/step - loss: 1.3202 - MAPE: 31431.6309 - val_loss: 0.3102 - val_MAPE: 0.3514\n",
      "Epoch 10/60\n",
      "5072/5072 [==============================] - 67s 13ms/step - loss: 0.9456 - MAPE: 35422.6875 - val_loss: 0.2899 - val_MAPE: 0.2772\n",
      "Epoch 11/60\n",
      "5072/5072 [==============================] - 67s 13ms/step - loss: 0.7024 - MAPE: 31601.0195 - val_loss: 0.2768 - val_MAPE: 0.2847\n",
      "Epoch 12/60\n",
      "5072/5072 [==============================] - 68s 13ms/step - loss: 0.5708 - MAPE: 37944.5039 - val_loss: 0.2461 - val_MAPE: 0.1918\n",
      "Epoch 13/60\n",
      "5072/5072 [==============================] - 67s 13ms/step - loss: 0.5081 - MAPE: 40906.2852 - val_loss: 0.2641 - val_MAPE: 0.2878\n",
      "Epoch 14/60\n",
      "5072/5072 [==============================] - 67s 13ms/step - loss: 0.4827 - MAPE: 39649.7773 - val_loss: 0.2400 - val_MAPE: 0.1703\n",
      "Epoch 15/60\n",
      "5072/5072 [==============================] - 67s 13ms/step - loss: 0.4706 - MAPE: 36569.1719 - val_loss: 0.2287 - val_MAPE: 0.2307\n",
      "Epoch 16/60\n",
      "5072/5072 [==============================] - 67s 13ms/step - loss: 0.4643 - MAPE: 32386.0566 - val_loss: 0.2368 - val_MAPE: 0.2175\n",
      "Epoch 17/60\n",
      "5072/5072 [==============================] - 68s 13ms/step - loss: 0.4608 - MAPE: 36251.2266 - val_loss: 0.2576 - val_MAPE: 0.3419\n",
      "Epoch 18/60\n",
      "5072/5072 [==============================] - 68s 13ms/step - loss: 0.4542 - MAPE: 39460.2383 - val_loss: 0.4229 - val_MAPE: 0.3264\n",
      "Epoch 19/60\n",
      "5072/5072 [==============================] - 68s 13ms/step - loss: 0.4678 - MAPE: 38438.2852 - val_loss: 0.2388 - val_MAPE: 0.1811\n",
      "Epoch 20/60\n",
      "5072/5072 [==============================] - 69s 14ms/step - loss: 0.4538 - MAPE: 32738.9199 - val_loss: 0.2214 - val_MAPE: 0.2310\n",
      "Epoch 21/60\n",
      "5072/5072 [==============================] - 68s 13ms/step - loss: 0.4512 - MAPE: 33070.8164 - val_loss: 0.2269 - val_MAPE: 0.1849\n",
      "Epoch 22/60\n",
      "5072/5072 [==============================] - 68s 13ms/step - loss: 0.4524 - MAPE: 36751.9844 - val_loss: 0.2304 - val_MAPE: 0.1760\n",
      "Epoch 23/60\n",
      "5072/5072 [==============================] - 68s 13ms/step - loss: 0.4520 - MAPE: 35128.0195 - val_loss: 0.2163 - val_MAPE: 0.1802\n",
      "Epoch 24/60\n",
      "5072/5072 [==============================] - 68s 13ms/step - loss: 0.4485 - MAPE: 35660.1016 - val_loss: 0.2117 - val_MAPE: 0.1334\n",
      "Epoch 25/60\n",
      "5072/5072 [==============================] - 68s 13ms/step - loss: 0.4476 - MAPE: 33047.3711 - val_loss: 0.2126 - val_MAPE: 0.1353\n",
      "Epoch 26/60\n",
      "5072/5072 [==============================] - 68s 13ms/step - loss: 0.4445 - MAPE: 33036.4727 - val_loss: 0.2549 - val_MAPE: 0.2659\n",
      "Epoch 27/60\n",
      "5072/5072 [==============================] - 68s 13ms/step - loss: 0.4551 - MAPE: 28304.7988 - val_loss: 0.2232 - val_MAPE: 0.1439\n",
      "Epoch 28/60\n",
      "5072/5072 [==============================] - 68s 13ms/step - loss: 0.4419 - MAPE: 33585.0117 - val_loss: 0.2165 - val_MAPE: 0.1267\n",
      "Epoch 29/60\n",
      "5072/5072 [==============================] - 68s 13ms/step - loss: 0.4307 - MAPE: 34877.3516 - val_loss: 0.3021 - val_MAPE: 0.1882\n",
      "Epoch 30/60\n",
      "5072/5072 [==============================] - 68s 13ms/step - loss: 0.4417 - MAPE: 29696.0078 - val_loss: 0.2133 - val_MAPE: 0.1887\n",
      "Epoch 31/60\n",
      "5072/5072 [==============================] - 68s 13ms/step - loss: 0.4402 - MAPE: 32975.0781 - val_loss: 0.2158 - val_MAPE: 0.1435\n",
      "Epoch 32/60\n",
      "5072/5072 [==============================] - 68s 13ms/step - loss: 0.4331 - MAPE: 38514.6797 - val_loss: 0.2205 - val_MAPE: 0.2086\n",
      "Epoch 33/60\n",
      "5072/5072 [==============================] - 68s 13ms/step - loss: 0.4359 - MAPE: 32058.7539 - val_loss: 0.2121 - val_MAPE: 0.1440\n",
      "Epoch 34/60\n",
      "5072/5072 [==============================] - 68s 13ms/step - loss: 0.4419 - MAPE: 36010.3086 - val_loss: 0.2611 - val_MAPE: 0.2526\n",
      "Epoch 35/60\n",
      "5072/5072 [==============================] - 68s 14ms/step - loss: 0.4361 - MAPE: 35258.3281 - val_loss: 0.2292 - val_MAPE: 0.1490\n",
      "Epoch 36/60\n",
      "5072/5072 [==============================] - 68s 13ms/step - loss: 0.4377 - MAPE: 37586.4492 - val_loss: 0.2100 - val_MAPE: 0.1677\n",
      "Epoch 37/60\n",
      "5072/5072 [==============================] - 68s 13ms/step - loss: 0.4426 - MAPE: 34919.0508 - val_loss: 0.2144 - val_MAPE: 0.1604\n",
      "Epoch 38/60\n",
      "5072/5072 [==============================] - 68s 13ms/step - loss: 0.4384 - MAPE: 41179.9492 - val_loss: 0.2283 - val_MAPE: 0.1480\n",
      "Epoch 39/60\n",
      "5072/5072 [==============================] - 66s 13ms/step - loss: 0.4314 - MAPE: 41325.4375 - val_loss: 0.2146 - val_MAPE: 0.1617\n",
      "Epoch 40/60\n",
      "5072/5072 [==============================] - 67s 13ms/step - loss: 0.4332 - MAPE: 34756.5469 - val_loss: 0.2359 - val_MAPE: 0.1803\n",
      "Epoch 41/60\n",
      "5072/5072 [==============================] - 69s 14ms/step - loss: 0.4306 - MAPE: 37998.0430 - val_loss: 0.2115 - val_MAPE: 0.1852\n",
      "Epoch 42/60\n",
      "5072/5072 [==============================] - 69s 14ms/step - loss: 0.4408 - MAPE: 33248.6641 - val_loss: 0.2284 - val_MAPE: 0.1479\n",
      "Epoch 43/60\n",
      "5072/5072 [==============================] - 69s 14ms/step - loss: 0.4311 - MAPE: 34289.6172 - val_loss: 0.2136 - val_MAPE: 0.1911\n",
      "Epoch 44/60\n",
      "5072/5072 [==============================] - 69s 14ms/step - loss: 0.4266 - MAPE: 39727.1445 - val_loss: 0.2191 - val_MAPE: 0.2626\n",
      "Epoch 45/60\n",
      "5072/5072 [==============================] - 69s 14ms/step - loss: 0.4388 - MAPE: 31188.0352 - val_loss: 0.2252 - val_MAPE: 0.1596\n",
      "Epoch 46/60\n",
      "5072/5072 [==============================] - 69s 14ms/step - loss: 0.4293 - MAPE: 35518.1172 - val_loss: 0.2122 - val_MAPE: 0.1794\n",
      "Epoch 47/60\n",
      "5072/5072 [==============================] - 69s 14ms/step - loss: 0.4362 - MAPE: 33561.0781 - val_loss: 0.2193 - val_MAPE: 0.1857\n",
      "Epoch 48/60\n",
      "5072/5072 [==============================] - 69s 14ms/step - loss: 0.4271 - MAPE: 33480.4141 - val_loss: 0.2167 - val_MAPE: 0.1664\n",
      "Epoch 49/60\n",
      "5072/5072 [==============================] - 70s 14ms/step - loss: 0.4262 - MAPE: 37120.5859 - val_loss: 0.2103 - val_MAPE: 0.2094\n",
      "Epoch 50/60\n",
      "5072/5072 [==============================] - 70s 14ms/step - loss: 0.4286 - MAPE: 32622.8633 - val_loss: 0.2157 - val_MAPE: 0.1933\n",
      "Epoch 51/60\n",
      "5072/5072 [==============================] - 70s 14ms/step - loss: 0.4221 - MAPE: 36311.2148 - val_loss: 0.2100 - val_MAPE: 0.1956\n",
      "Epoch 52/60\n",
      "5072/5072 [==============================] - 68s 14ms/step - loss: 0.4332 - MAPE: 31408.7305 - val_loss: 0.2220 - val_MAPE: 0.1293\n",
      "Epoch 53/60\n",
      "5072/5072 [==============================] - 69s 14ms/step - loss: 0.4251 - MAPE: 36661.3203 - val_loss: 0.2129 - val_MAPE: 0.2141\n",
      "Epoch 54/60\n",
      "5072/5072 [==============================] - 69s 14ms/step - loss: 0.4245 - MAPE: 38163.5234 - val_loss: 0.2206 - val_MAPE: 0.1736\n",
      "Epoch 55/60\n",
      "5072/5072 [==============================] - 69s 14ms/step - loss: 0.4248 - MAPE: 33858.6562 - val_loss: 0.2235 - val_MAPE: 0.2226\n",
      "Epoch 56/60\n",
      "5072/5072 [==============================] - 66s 13ms/step - loss: 0.4299 - MAPE: 31274.2383 - val_loss: 0.2102 - val_MAPE: 0.1477\n",
      "Epoch 57/60\n",
      "5072/5072 [==============================] - 68s 13ms/step - loss: 0.4318 - MAPE: 37522.7930 - val_loss: 0.2162 - val_MAPE: 0.1962\n",
      "Epoch 58/60\n",
      "5072/5072 [==============================] - 68s 14ms/step - loss: 0.4325 - MAPE: 32532.0859 - val_loss: 0.2357 - val_MAPE: 0.1845\n",
      "Epoch 59/60\n",
      "5072/5072 [==============================] - 68s 13ms/step - loss: 0.4372 - MAPE: 35377.7305 - val_loss: 0.2151 - val_MAPE: 0.1612\n",
      "Epoch 60/60\n",
      "5072/5072 [==============================] - 68s 14ms/step - loss: 0.4359 - MAPE: 30897.9707 - val_loss: 0.2140 - val_MAPE: 0.1937\n"
     ]
    }
   ],
   "source": [
    "history_GRU = model_GRU.fit(X_train_bil, y_train_bil, validation_data=(X_test_bil, y_test_bil), batch_size = 128, epochs = 60, callbacks=callbacks)"
   ]
  },
  {
   "cell_type": "code",
   "execution_count": null,
   "id": "90ba3362-199c-4395-bd51-61f1afff4eb0",
   "metadata": {},
   "outputs": [],
   "source": []
  },
  {
   "cell_type": "markdown",
   "id": "15c171b5-965e-4e89-bf2b-b68f0587d516",
   "metadata": {},
   "source": [
    "## Running LSTM-GRU Hybrid model on test data"
   ]
  },
  {
   "cell_type": "code",
   "execution_count": 43,
   "id": "7bd270ea-bf97-46ce-840b-e2a0f967b55c",
   "metadata": {},
   "outputs": [
    {
     "name": "stdout",
     "output_type": "stream",
     "text": [
      "5072/5072 [==============================] - 12s 2ms/step\n"
     ]
    }
   ],
   "source": [
    "pred_GRU = model_GRU.predict(X_test_bil)"
   ]
  },
  {
   "cell_type": "code",
   "execution_count": 44,
   "id": "969ac00e-3e00-4e9f-8e4d-afb4cea6c6e2",
   "metadata": {},
   "outputs": [],
   "source": [
    "from sklearn.metrics import mean_absolute_error\n",
    "from keras.layers import Bidirectional\n",
    "from sklearn.metrics import mean_squared_error,r2_score,mean_absolute_error\n",
    "from sklearn.preprocessing import MinMaxScaler"
   ]
  },
  {
   "cell_type": "code",
   "execution_count": 46,
   "id": "c027dbfd-de76-4337-ae0a-ccfb789b4e5f",
   "metadata": {},
   "outputs": [
    {
     "data": {
      "text/html": [
       "<div>\n",
       "<style scoped>\n",
       "    .dataframe tbody tr th:only-of-type {\n",
       "        vertical-align: middle;\n",
       "    }\n",
       "\n",
       "    .dataframe tbody tr th {\n",
       "        vertical-align: top;\n",
       "    }\n",
       "\n",
       "    .dataframe thead th {\n",
       "        text-align: right;\n",
       "    }\n",
       "</style>\n",
       "<table border=\"1\" class=\"dataframe\">\n",
       "  <thead>\n",
       "    <tr style=\"text-align: right;\">\n",
       "      <th></th>\n",
       "      <th>Real</th>\n",
       "      <th>Predicted</th>\n",
       "    </tr>\n",
       "  </thead>\n",
       "  <tbody>\n",
       "    <tr>\n",
       "      <th>886268</th>\n",
       "      <td>30</td>\n",
       "      <td>30.035341</td>\n",
       "    </tr>\n",
       "    <tr>\n",
       "      <th>886269</th>\n",
       "      <td>30</td>\n",
       "      <td>30.009228</td>\n",
       "    </tr>\n",
       "    <tr>\n",
       "      <th>886270</th>\n",
       "      <td>30</td>\n",
       "      <td>30.009228</td>\n",
       "    </tr>\n",
       "    <tr>\n",
       "      <th>886271</th>\n",
       "      <td>30</td>\n",
       "      <td>30.035341</td>\n",
       "    </tr>\n",
       "    <tr>\n",
       "      <th>886272</th>\n",
       "      <td>28</td>\n",
       "      <td>28.032667</td>\n",
       "    </tr>\n",
       "  </tbody>\n",
       "</table>\n",
       "</div>"
      ],
      "text/plain": [
       "        Real  Predicted\n",
       "886268    30  30.035341\n",
       "886269    30  30.009228\n",
       "886270    30  30.009228\n",
       "886271    30  30.035341\n",
       "886272    28  28.032667"
      ]
     },
     "execution_count": 46,
     "metadata": {},
     "output_type": "execute_result"
    }
   ],
   "source": [
    "# Create a DataFrame of Real and Predicted values\n",
    "prices_gru_seen = pd.DataFrame({\n",
    "    \"Real\": y_test.ravel(),\n",
    "    \"Predicted\": pred_GRU.ravel()\n",
    "}, index = df1.index[-len(y_test): ]) \n",
    "prices_gru_seen.head()"
   ]
  },
  {
   "cell_type": "code",
   "execution_count": null,
   "id": "620252d1-8b74-4c8a-872a-014fc354d69f",
   "metadata": {},
   "outputs": [],
   "source": []
  },
  {
   "cell_type": "markdown",
   "id": "c5dc67e6-89d8-43d8-8556-0dea0685d6b4",
   "metadata": {},
   "source": [
    "## Catboost Implementation on test data"
   ]
  },
  {
   "cell_type": "code",
   "execution_count": 47,
   "id": "9494e860-f4c4-4068-a9bf-fd5ed72e1ac7",
   "metadata": {},
   "outputs": [
    {
     "name": "stdout",
     "output_type": "stream",
     "text": [
      "0:\tlearn: 4.3073639\ttotal: 160ms\tremaining: 2m 40s\n",
      "100:\tlearn: 1.6317269\ttotal: 5.48s\tremaining: 48.7s\n",
      "200:\tlearn: 0.7042132\ttotal: 10.9s\tremaining: 43.1s\n",
      "300:\tlearn: 0.4348597\ttotal: 16.3s\tremaining: 37.8s\n",
      "400:\tlearn: 0.3670875\ttotal: 21.8s\tremaining: 32.5s\n",
      "500:\tlearn: 0.3420945\ttotal: 27.3s\tremaining: 27.2s\n",
      "600:\tlearn: 0.3274832\ttotal: 32.9s\tremaining: 21.8s\n",
      "700:\tlearn: 0.3180081\ttotal: 38.4s\tremaining: 16.4s\n",
      "800:\tlearn: 0.3087991\ttotal: 43.9s\tremaining: 10.9s\n",
      "900:\tlearn: 0.2992131\ttotal: 49.5s\tremaining: 5.43s\n",
      "999:\tlearn: 0.2894523\ttotal: 55.2s\tremaining: 0us\n",
      "Root Mean Squared Error: 0.3828428766051127\n",
      "Mean Squared Error: 0.14656866816727754\n"
     ]
    }
   ],
   "source": [
    "from catboost import CatBoostRegressor\n",
    "model_cb = CatBoostRegressor(iterations=1000,  # Adjust the number of iterations as needed\n",
    "                             learning_rate=0.01,  # Adjust the learning rate as needed\n",
    "                             depth=10,  # Adjust the depth of the trees\n",
    "                             loss_function='RMSE',  # Specify the loss function for regression\n",
    "                             random_seed=42,\n",
    "                            verbose=100)\n",
    "model_cb.fit(X_train_bil, y_train_bil)\n",
    "y_pred_cb = model_cb.predict(X_test_bil)\n",
    "from sklearn.metrics import mean_squared_error\n",
    "mse_cat = mean_squared_error(y_test_bil, y_pred_cb)\n",
    "rmse_cat = np.sqrt(mse_cat)\n",
    "print(f\"Root Mean Squared Error: {rmse_cat}\")\n",
    "print(f\"Mean Squared Error: {mse_cat}\")"
   ]
  },
  {
   "cell_type": "code",
   "execution_count": 48,
   "id": "79c7c0fc-9100-45b0-a04e-62ac136057e6",
   "metadata": {},
   "outputs": [
    {
     "data": {
      "text/html": [
       "<div>\n",
       "<style scoped>\n",
       "    .dataframe tbody tr th:only-of-type {\n",
       "        vertical-align: middle;\n",
       "    }\n",
       "\n",
       "    .dataframe tbody tr th {\n",
       "        vertical-align: top;\n",
       "    }\n",
       "\n",
       "    .dataframe thead th {\n",
       "        text-align: right;\n",
       "    }\n",
       "</style>\n",
       "<table border=\"1\" class=\"dataframe\">\n",
       "  <thead>\n",
       "    <tr style=\"text-align: right;\">\n",
       "      <th></th>\n",
       "      <th>Real</th>\n",
       "      <th>Predicted</th>\n",
       "    </tr>\n",
       "  </thead>\n",
       "  <tbody>\n",
       "    <tr>\n",
       "      <th>886268</th>\n",
       "      <td>30</td>\n",
       "      <td>30.001874</td>\n",
       "    </tr>\n",
       "    <tr>\n",
       "      <th>886269</th>\n",
       "      <td>30</td>\n",
       "      <td>30.002854</td>\n",
       "    </tr>\n",
       "    <tr>\n",
       "      <th>886270</th>\n",
       "      <td>30</td>\n",
       "      <td>30.002557</td>\n",
       "    </tr>\n",
       "    <tr>\n",
       "      <th>886271</th>\n",
       "      <td>30</td>\n",
       "      <td>30.001874</td>\n",
       "    </tr>\n",
       "    <tr>\n",
       "      <th>886272</th>\n",
       "      <td>28</td>\n",
       "      <td>28.001359</td>\n",
       "    </tr>\n",
       "  </tbody>\n",
       "</table>\n",
       "</div>"
      ],
      "text/plain": [
       "        Real  Predicted\n",
       "886268    30  30.001874\n",
       "886269    30  30.002854\n",
       "886270    30  30.002557\n",
       "886271    30  30.001874\n",
       "886272    28  28.001359"
      ]
     },
     "execution_count": 48,
     "metadata": {},
     "output_type": "execute_result"
    }
   ],
   "source": [
    "# Create a DataFrame of Real and Predicted values\n",
    "prices_catb_seen = pd.DataFrame({\n",
    "    \"Real\": y_test.ravel(),\n",
    "    \"Predicted\": y_pred_cb.ravel()\n",
    "}, index = df1.index[-len(y_test): ]) \n",
    "prices_catb_seen.head()"
   ]
  },
  {
   "cell_type": "code",
   "execution_count": null,
   "id": "d5c9f6c2-1192-4280-8b2e-0ffe4b6d0d08",
   "metadata": {},
   "outputs": [],
   "source": []
  },
  {
   "cell_type": "markdown",
   "id": "621a10ab-6d41-4cb1-9a90-ad8185cbd5a0",
   "metadata": {},
   "source": [
    "## ON UNSEEN DATA "
   ]
  },
  {
   "cell_type": "code",
   "execution_count": 49,
   "id": "78cbfcaa-5c7b-4cfc-a384-ad5c31903c65",
   "metadata": {},
   "outputs": [],
   "source": [
    "df22 = pd.read_excel(r\"~/Downloads/BID_RA_data/BID_RA_22_23.xlsx\")"
   ]
  },
  {
   "cell_type": "code",
   "execution_count": 50,
   "id": "99c0890e-938e-4015-8e72-f32b18e61418",
   "metadata": {},
   "outputs": [
    {
     "data": {
      "text/plain": [
       "Sub Category ID\n",
       "home_info_comp_comp_de52008682          305420\n",
       "home_info_comp_co36451542_inte          172531\n",
       "home_elec_elec_powe_line                170724\n",
       "home_elec_elec_powe_onli                170494\n",
       "home_univ_univ_univ_univ                133236\n",
       "                                         ...  \n",
       "home_powe_elec_elec_weld                     1\n",
       "home_dome_cons_audi_di68048835               1\n",
       "home_dist_he28016675_vent_smok               1\n",
       "home_labo_clin_clin_ferr                     1\n",
       "home_dome_do42264188_dome_do10278707         1\n",
       "Name: count, Length: 1380, dtype: int64"
      ]
     },
     "execution_count": 50,
     "metadata": {},
     "output_type": "execute_result"
    }
   ],
   "source": [
    "df22_1 = df22.drop(df22.columns[[0, 7, 19, 20, 21, 31 ]], axis=1)\n",
    "df22_1[\"price\"] = df22_1[\"Order value\"]/df22_1[\"Order Qty\"]\n",
    "df22_1[\"Time taken to deliver\"] = (df22_1[\"Expected delivery date\"] - df22_1[\"Order Date\"]).dt.days\n",
    "df22_1.drop(columns=[\"Month_Name_OrderDate\", \"Order_Quarter\", \"Invoice Date\",\"CRAC date\", \"Payment Date\"], inplace=True)\n",
    "for column in columns_to_encode:\n",
    "       df22_1[column+'_encoded'] = le.fit_transform(df22_1[column])\n",
    "df22_1 = df22_1.drop(columns=[\"FY_OrderDate\", \"Bid start date\", \"Bid end date\"])\n",
    "df22_1[\"Payment Type\"+'_encoded'] = le.fit_transform(df22_1[\"Payment Type\"])\n",
    "df22_1[\"MSME verified social category\"+'_encoded'] = le.fit_transform(df22_1[\"MSME verified social category\"])\n",
    "\n",
    "df22_1= df22_1.drop(columns=['Seller ID'])\n",
    "df22_1 = df22_1.drop(columns=[\"MSME verified social category\", \"Payment Type\"])\n",
    "df22_1 = df22_1.drop(columns=[\"Order Date\", \"Expected delivery date\", \"Shipment received date\"])\n",
    "df22_1 = df22_1.drop(columns=[\"Purchase Mode\", \"Order MSME Verified\", \"MSME verfied gender wise\", \"Startup verfied\"])\n",
    "df22_1[\"Sub Category ID\"].value_counts()\n",
    "#df22_1=df22_1[df22_1[\"Sub Category ID\"]==\"home_comm_nonm_peda_bicy\"]\n",
    "#print(df22_1.shape)\n",
    "#df22_1 = df22_1.drop(columns=[\"Sub Category ID\"])\n",
    "#I = df22_1.drop(columns=['Time taken to deliver'])\n",
    "#j = df22_1['Time taken to deliver']\n",
    "#I_train, I_test, j_train, j_test = train_test_split(I, j, test_size=0.2)\n",
    "#I_train_bil, j_train_bil = np.array(I_train), np.array(j_train)\n",
    "#I_test_bil, j_test_bil = np.array(I_test), np.array(j_test)\n",
    "\n",
    "#print(I_train_bil.shape, j_train_bil.shape, I_test_bil.shape, j_test_bil.shape)"
   ]
  },
  {
   "cell_type": "code",
   "execution_count": 54,
   "id": "14a69264-6285-4585-8791-bcf55c0bb2e7",
   "metadata": {},
   "outputs": [
    {
     "data": {
      "text/plain": [
       "(1048565, 16)"
      ]
     },
     "execution_count": 54,
     "metadata": {},
     "output_type": "execute_result"
    }
   ],
   "source": [
    "df22_1.shape"
   ]
  },
  {
   "cell_type": "code",
   "execution_count": 55,
   "id": "3fb445ee-e065-456a-9504-ebc09239cfa0",
   "metadata": {},
   "outputs": [
    {
     "data": {
      "text/plain": [
       "Index(['Sub Category ID', 'Order Qty', 'Order value',\n",
       "       'Shipment Quantity Received', 'Shipment Quantity Rejected',\n",
       "       'Shipment Quantity Accepted', 'CRAC amount', 'Total payments', 'price',\n",
       "       'Time taken to deliver', 'Purchase Mode_encoded',\n",
       "       'MSME verfied gender wise_encoded', 'Order MSME Verified_encoded',\n",
       "       'Startup verfied_encoded', 'Payment Type_encoded',\n",
       "       'MSME verified social category_encoded'],\n",
       "      dtype='object')"
      ]
     },
     "execution_count": 55,
     "metadata": {},
     "output_type": "execute_result"
    }
   ],
   "source": [
    "df22_1.columns"
   ]
  },
  {
   "cell_type": "code",
   "execution_count": 56,
   "id": "0b132b06-5529-4ef5-8a1a-aa96502d64a7",
   "metadata": {},
   "outputs": [],
   "source": [
    "df33=df22_1[df22_1[\"Sub Category ID\"]==\"home_info_comp_comp_de52008682\"]"
   ]
  },
  {
   "cell_type": "code",
   "execution_count": 58,
   "id": "c25faa22-49e8-4404-b3d6-cb3cbf39852c",
   "metadata": {},
   "outputs": [
    {
     "data": {
      "text/plain": [
       "(305420, 16)"
      ]
     },
     "execution_count": 58,
     "metadata": {},
     "output_type": "execute_result"
    }
   ],
   "source": [
    "df33.shape"
   ]
  },
  {
   "cell_type": "code",
   "execution_count": 59,
   "id": "b68d8e7d-278e-42a7-b9f3-b6a6e236800c",
   "metadata": {},
   "outputs": [
    {
     "name": "stdout",
     "output_type": "stream",
     "text": [
      "(244336, 14) (244336,) (61084, 14) (61084,)\n"
     ]
    }
   ],
   "source": [
    "df33 = df33.drop(columns=[\"Sub Category ID\"])\n",
    "I = df33.drop(columns=['Time taken to deliver'])\n",
    "j = df33['Time taken to deliver']\n",
    "I_train, I_test, j_train, j_test = train_test_split(I, j, test_size=0.2)\n",
    "I_train_bil, j_train_bil = np.array(I_train), np.array(j_train)\n",
    "I_test_bil, j_test_bil = np.array(I_test), np.array(j_test)\n",
    "\n",
    "print(I_train_bil.shape, j_train_bil.shape, I_test_bil.shape, j_test_bil.shape)"
   ]
  },
  {
   "cell_type": "code",
   "execution_count": 60,
   "id": "145fd614-a455-4e5e-8fcd-3aec7ad9a8d4",
   "metadata": {},
   "outputs": [
    {
     "data": {
      "text/plain": [
       "array([[2.49200000e+03, 1.09530876e+08, 4.00000000e+00, ...,\n",
       "        0.00000000e+00, 1.00000000e+00, 0.00000000e+00],\n",
       "       [2.49200000e+03, 1.09530876e+08, 4.00000000e+00, ...,\n",
       "        0.00000000e+00, 1.00000000e+00, 0.00000000e+00],\n",
       "       [6.00000000e+03, 2.49810000e+08, 3.00000000e+00, ...,\n",
       "        0.00000000e+00, 1.00000000e+00, 0.00000000e+00],\n",
       "       ...,\n",
       "       [6.00000000e+03, 2.49810000e+08, 6.00000000e+00, ...,\n",
       "        0.00000000e+00, 1.00000000e+00, 0.00000000e+00],\n",
       "       [6.00000000e+03, 2.49810000e+08, 3.00000000e+00, ...,\n",
       "        0.00000000e+00, 1.00000000e+00, 0.00000000e+00],\n",
       "       [2.49200000e+03, 1.09530876e+08, 4.00000000e+00, ...,\n",
       "        0.00000000e+00, 1.00000000e+00, 0.00000000e+00]])"
      ]
     },
     "execution_count": 60,
     "metadata": {},
     "output_type": "execute_result"
    }
   ],
   "source": [
    "I_test_bil"
   ]
  },
  {
   "cell_type": "markdown",
   "id": "197a05e6-d5c4-4cd2-9a62-17b537ef9811",
   "metadata": {},
   "source": [
    "## Running LSTM-GRU model on Unseen data"
   ]
  },
  {
   "cell_type": "code",
   "execution_count": 61,
   "id": "3969a0c9-9f2f-4cf6-8776-9edd31128a65",
   "metadata": {},
   "outputs": [
    {
     "name": "stdout",
     "output_type": "stream",
     "text": [
      "1909/1909 [==============================] - 5s 2ms/step\n"
     ]
    }
   ],
   "source": [
    "j_pred_gru = model_GRU.predict(I_test_bil)"
   ]
  },
  {
   "cell_type": "code",
   "execution_count": 62,
   "id": "f06a3e4f-6e00-4f6b-b099-306c1d9fcc53",
   "metadata": {},
   "outputs": [
    {
     "name": "stdout",
     "output_type": "stream",
     "text": [
      "Root Mean Squared Error: 193.67037920764793\n",
      "Mean Squared Error: 37508.21578243414\n"
     ]
    }
   ],
   "source": [
    "mse_gru_unseen = mean_squared_error(j_test, j_pred_gru)\n",
    "rmse_gru_unseen = np.sqrt(mse_gru_unseen)\n",
    "print(f\"Root Mean Squared Error: {rmse_gru_unseen}\")\n",
    "print(f\"Mean Squared Error: {mse_gru_unseen}\")"
   ]
  },
  {
   "cell_type": "code",
   "execution_count": 63,
   "id": "4536d69f-afb3-4136-81ed-5a1b21c6e83d",
   "metadata": {},
   "outputs": [
    {
     "data": {
      "text/html": [
       "<div>\n",
       "<style scoped>\n",
       "    .dataframe tbody tr th:only-of-type {\n",
       "        vertical-align: middle;\n",
       "    }\n",
       "\n",
       "    .dataframe tbody tr th {\n",
       "        vertical-align: top;\n",
       "    }\n",
       "\n",
       "    .dataframe thead th {\n",
       "        text-align: right;\n",
       "    }\n",
       "</style>\n",
       "<table border=\"1\" class=\"dataframe\">\n",
       "  <thead>\n",
       "    <tr style=\"text-align: right;\">\n",
       "      <th></th>\n",
       "      <th>Real</th>\n",
       "      <th>Predicted</th>\n",
       "    </tr>\n",
       "  </thead>\n",
       "  <tbody>\n",
       "    <tr>\n",
       "      <th>1048560</th>\n",
       "      <td>238</td>\n",
       "      <td>33.380970</td>\n",
       "    </tr>\n",
       "    <tr>\n",
       "      <th>1048561</th>\n",
       "      <td>238</td>\n",
       "      <td>33.367104</td>\n",
       "    </tr>\n",
       "    <tr>\n",
       "      <th>1048562</th>\n",
       "      <td>238</td>\n",
       "      <td>32.546757</td>\n",
       "    </tr>\n",
       "    <tr>\n",
       "      <th>1048563</th>\n",
       "      <td>238</td>\n",
       "      <td>33.380970</td>\n",
       "    </tr>\n",
       "    <tr>\n",
       "      <th>1048564</th>\n",
       "      <td>214</td>\n",
       "      <td>30.031805</td>\n",
       "    </tr>\n",
       "  </tbody>\n",
       "</table>\n",
       "</div>"
      ],
      "text/plain": [
       "         Real  Predicted\n",
       "1048560   238  33.380970\n",
       "1048561   238  33.367104\n",
       "1048562   238  32.546757\n",
       "1048563   238  33.380970\n",
       "1048564   214  30.031805"
      ]
     },
     "execution_count": 63,
     "metadata": {},
     "output_type": "execute_result"
    }
   ],
   "source": [
    "# Create a DataFrame of Real and Predicted values\n",
    "prices_gru_unseen = pd.DataFrame({\n",
    "    \"Real\": j_test.ravel(),\n",
    "    \"Predicted\": j_pred_gru.ravel()\n",
    "}, index = df1.index[-len(j_test): ]) \n",
    "#prices_gru_unseen.head()\n",
    "prices_gru_unseen.tail()"
   ]
  },
  {
   "cell_type": "code",
   "execution_count": null,
   "id": "44d68fba-1fca-4db7-a29c-9ff87f28c2ee",
   "metadata": {},
   "outputs": [],
   "source": []
  },
  {
   "cell_type": "markdown",
   "id": "8996c572-f459-4264-8fe8-9d5216f559c8",
   "metadata": {},
   "source": [
    "## Catboost Implementation on unseen data"
   ]
  },
  {
   "cell_type": "code",
   "execution_count": 64,
   "id": "a5b4f31b-c475-4d95-b926-187a5bb413c1",
   "metadata": {},
   "outputs": [],
   "source": [
    "j_pred_cb = model_cb.predict(I_test_bil)"
   ]
  },
  {
   "cell_type": "code",
   "execution_count": 65,
   "id": "3da729d9-a33c-45da-80d5-99f584eca9af",
   "metadata": {},
   "outputs": [
    {
     "name": "stdout",
     "output_type": "stream",
     "text": [
      "Root Mean Squared Error: 195.06662409593508\n",
      "Mean Squared Error: 38050.987836184846\n"
     ]
    }
   ],
   "source": [
    "from sklearn.metrics import mean_squared_error\n",
    "mse_cat_uns = mean_squared_error(j_test_bil, j_pred_cb)\n",
    "rmse_cat_uns = np.sqrt(mse_cat_uns)\n",
    "print(f\"Root Mean Squared Error: {rmse_cat_uns}\")\n",
    "print(f\"Mean Squared Error: {mse_cat_uns}\")"
   ]
  },
  {
   "cell_type": "code",
   "execution_count": 66,
   "id": "f6df5907-2420-446a-829a-1b0dd3eedd33",
   "metadata": {},
   "outputs": [
    {
     "data": {
      "text/html": [
       "<div>\n",
       "<style scoped>\n",
       "    .dataframe tbody tr th:only-of-type {\n",
       "        vertical-align: middle;\n",
       "    }\n",
       "\n",
       "    .dataframe tbody tr th {\n",
       "        vertical-align: top;\n",
       "    }\n",
       "\n",
       "    .dataframe thead th {\n",
       "        text-align: right;\n",
       "    }\n",
       "</style>\n",
       "<table border=\"1\" class=\"dataframe\">\n",
       "  <thead>\n",
       "    <tr style=\"text-align: right;\">\n",
       "      <th></th>\n",
       "      <th>Real</th>\n",
       "      <th>Predicted</th>\n",
       "    </tr>\n",
       "  </thead>\n",
       "  <tbody>\n",
       "    <tr>\n",
       "      <th>801745</th>\n",
       "      <td>214</td>\n",
       "      <td>29.660569</td>\n",
       "    </tr>\n",
       "    <tr>\n",
       "      <th>801746</th>\n",
       "      <td>214</td>\n",
       "      <td>29.660569</td>\n",
       "    </tr>\n",
       "    <tr>\n",
       "      <th>801747</th>\n",
       "      <td>238</td>\n",
       "      <td>29.848272</td>\n",
       "    </tr>\n",
       "    <tr>\n",
       "      <th>801748</th>\n",
       "      <td>238</td>\n",
       "      <td>30.172573</td>\n",
       "    </tr>\n",
       "    <tr>\n",
       "      <th>801749</th>\n",
       "      <td>214</td>\n",
       "      <td>29.660569</td>\n",
       "    </tr>\n",
       "  </tbody>\n",
       "</table>\n",
       "</div>"
      ],
      "text/plain": [
       "        Real  Predicted\n",
       "801745   214  29.660569\n",
       "801746   214  29.660569\n",
       "801747   238  29.848272\n",
       "801748   238  30.172573\n",
       "801749   214  29.660569"
      ]
     },
     "execution_count": 66,
     "metadata": {},
     "output_type": "execute_result"
    }
   ],
   "source": [
    "# Create a DataFrame of Real and Predicted values\n",
    "prices_catb_unseen = pd.DataFrame({\n",
    "    \"Real\": j_test.ravel(),\n",
    "    \"Predicted\": j_pred_cb.ravel()\n",
    "}, index = df33.index[-len(j_test): ]) \n",
    "prices_catb_unseen.head()"
   ]
  },
  {
   "cell_type": "code",
   "execution_count": null,
   "id": "561679d0-94df-4366-869f-817b717b5760",
   "metadata": {},
   "outputs": [],
   "source": []
  }
 ],
 "metadata": {
  "kernelspec": {
   "display_name": "Python 3 (ipykernel)",
   "language": "python",
   "name": "python3"
  },
  "language_info": {
   "codemirror_mode": {
    "name": "ipython",
    "version": 3
   },
   "file_extension": ".py",
   "mimetype": "text/x-python",
   "name": "python",
   "nbconvert_exporter": "python",
   "pygments_lexer": "ipython3",
   "version": "3.8.10"
  }
 },
 "nbformat": 4,
 "nbformat_minor": 5
}

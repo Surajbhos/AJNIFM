{
 "cells": [
  {
   "cell_type": "code",
   "execution_count": 2,
   "id": "8650849f-f8b6-48d8-917b-9cc296c4675b",
   "metadata": {},
   "outputs": [
    {
     "name": "stderr",
     "output_type": "stream",
     "text": [
      "2024-01-01 16:11:24.829824: I tensorflow/core/util/port.cc:110] oneDNN custom operations are on. You may see slightly different numerical results due to floating-point round-off errors from different computation orders. To turn them off, set the environment variable `TF_ENABLE_ONEDNN_OPTS=0`.\n",
      "2024-01-01 16:11:24.860637: I tensorflow/tsl/cuda/cudart_stub.cc:28] Could not find cuda drivers on your machine, GPU will not be used.\n",
      "2024-01-01 16:11:25.026049: I tensorflow/tsl/cuda/cudart_stub.cc:28] Could not find cuda drivers on your machine, GPU will not be used.\n",
      "2024-01-01 16:11:25.027217: I tensorflow/core/platform/cpu_feature_guard.cc:182] This TensorFlow binary is optimized to use available CPU instructions in performance-critical operations.\n",
      "To enable the following instructions: AVX2 AVX512F AVX512_VNNI FMA, in other operations, rebuild TensorFlow with the appropriate compiler flags.\n",
      "2024-01-01 16:11:26.034055: W tensorflow/compiler/tf2tensorrt/utils/py_utils.cc:38] TF-TRT Warning: Could not find TensorRT\n"
     ]
    }
   ],
   "source": [
    "import numpy as np\n",
    "import pandas as pd\n",
    "import seaborn as sns\n",
    "import matplotlib.pyplot as plt\n",
    "import tensorflow as tf\n",
    "from keras import layers\n",
    "import keras\n",
    " \n",
    "%matplotlib inline\n",
    "tf.random.set_seed(42)"
   ]
  },
  {
   "cell_type": "code",
   "execution_count": 3,
   "id": "9df59e0c-ec10-45e2-bbff-49ab8d9632a9",
   "metadata": {},
   "outputs": [],
   "source": [
    "import numpy as np\n",
    "import pandas as pd\n",
    "import math\n",
    "import seaborn as sns\n",
    "import xgboost as xgb\n",
    "import matplotlib.pyplot as plt\n",
    "#import plotly.graph_objects as go\n",
    "import tensorflow as tf\n",
    "#import tensorflow_addons as tfa\n",
    "\n",
    "from sklearn.model_selection import train_test_split\n",
    "from sklearn.ensemble import RandomForestRegressor\n",
    "from sklearn.preprocessing import LabelEncoder\n",
    "from sklearn.svm import SVR\n",
    "#from plotly.subplots import make_subplots\n",
    "from statsmodels.tsa.seasonal import seasonal_decompose\n",
    "from statsmodels.tsa.stattools import adfuller\n",
    "from statsmodels.graphics.tsaplots import plot_acf, plot_pacf\n",
    "from statsmodels.tsa.stattools import acf, pacf\n",
    "from sklearn.pipeline import make_pipeline\n",
    "from sklearn.preprocessing import StandardScaler\n",
    "from sklearn.preprocessing import MinMaxScaler\n",
    "from sklearn.decomposition import PCA\n",
    "from sklearn.model_selection import GridSearchCV\n",
    "from sklearn.metrics import mean_absolute_error\n",
    "from keras import Sequential\n",
    "from keras import layers\n",
    "from keras.models import Model\n",
    "from keras.layers import LSTM, BatchNormalization, Dropout, Dense, Flatten, Conv1D\n",
    "from keras.layers import MaxPooling1D, GRU, Input,Masking, Concatenate, dot\n",
    "from keras.optimizers import Adam, SGD\n",
    "from keras.losses import MeanAbsoluteError\n",
    "from keras.metrics import RootMeanSquaredError\n",
    "from keras.callbacks import EarlyStopping\n",
    "from keras.callbacks import LearningRateScheduler\n",
    "from sklearn.metrics import mean_squared_error"
   ]
  },
  {
   "cell_type": "code",
   "execution_count": 4,
   "id": "dc017884-5170-4efa-80e1-107f8c32cdeb",
   "metadata": {},
   "outputs": [],
   "source": [
    "df = pd.read_excel(r\"~/Downloads/BID_RA_data/BID_RA_20_21.xlsx\")"
   ]
  },
  {
   "cell_type": "code",
   "execution_count": 5,
   "id": "e2281e11-b85a-4c0f-9f9c-a9133795a13b",
   "metadata": {},
   "outputs": [
    {
     "data": {
      "text/html": [
       "<div>\n",
       "<style scoped>\n",
       "    .dataframe tbody tr th:only-of-type {\n",
       "        vertical-align: middle;\n",
       "    }\n",
       "\n",
       "    .dataframe tbody tr th {\n",
       "        vertical-align: top;\n",
       "    }\n",
       "\n",
       "    .dataframe thead th {\n",
       "        text-align: right;\n",
       "    }\n",
       "</style>\n",
       "<table border=\"1\" class=\"dataframe\">\n",
       "  <thead>\n",
       "    <tr style=\"text-align: right;\">\n",
       "      <th></th>\n",
       "      <th>Order ID</th>\n",
       "      <th>Order Date</th>\n",
       "      <th>FY_OrderDate</th>\n",
       "      <th>Month_Name_OrderDate</th>\n",
       "      <th>Purchase Mode</th>\n",
       "      <th>Bid start date</th>\n",
       "      <th>Bid end date</th>\n",
       "      <th>HOD ID</th>\n",
       "      <th>Seller ID</th>\n",
       "      <th>Order_Quarter</th>\n",
       "      <th>...</th>\n",
       "      <th>Shipment Quantity Received</th>\n",
       "      <th>Shipment Quantity Rejected</th>\n",
       "      <th>Shipment Quantity Accepted</th>\n",
       "      <th>CRAC amount</th>\n",
       "      <th>Total payments</th>\n",
       "      <th>Invoice Date</th>\n",
       "      <th>CRAC date</th>\n",
       "      <th>Payment Date</th>\n",
       "      <th>Payment Type</th>\n",
       "      <th>Consignee ID</th>\n",
       "    </tr>\n",
       "  </thead>\n",
       "  <tbody>\n",
       "    <tr>\n",
       "      <th>0</th>\n",
       "      <td>511687744646316</td>\n",
       "      <td>2020-08-28</td>\n",
       "      <td>FY-20-21</td>\n",
       "      <td>Aug 2020</td>\n",
       "      <td>BID</td>\n",
       "      <td>2019-03-26</td>\n",
       "      <td>2019-04-15</td>\n",
       "      <td>SANJEEVVOHRA.664N@NIC.IN</td>\n",
       "      <td>COMP8984</td>\n",
       "      <td>Jul-Sep 2020</td>\n",
       "      <td>...</td>\n",
       "      <td>505.0</td>\n",
       "      <td>0.0</td>\n",
       "      <td>505.0</td>\n",
       "      <td>286335.0</td>\n",
       "      <td>1995840</td>\n",
       "      <td>2020-11-23 00:00:00</td>\n",
       "      <td>2020-12-04 00:00:00</td>\n",
       "      <td>2020-12-08 19:08:17</td>\n",
       "      <td>Online</td>\n",
       "      <td>IC66224A</td>\n",
       "    </tr>\n",
       "    <tr>\n",
       "      <th>1</th>\n",
       "      <td>511687744646316</td>\n",
       "      <td>2020-08-28</td>\n",
       "      <td>FY-20-21</td>\n",
       "      <td>Aug 2020</td>\n",
       "      <td>BID</td>\n",
       "      <td>2019-03-26</td>\n",
       "      <td>2019-04-15</td>\n",
       "      <td>SANJEEVVOHRA.664N@NIC.IN</td>\n",
       "      <td>COMP8984</td>\n",
       "      <td>Jul-Sep 2020</td>\n",
       "      <td>...</td>\n",
       "      <td>505.0</td>\n",
       "      <td>0.0</td>\n",
       "      <td>505.0</td>\n",
       "      <td>286335.0</td>\n",
       "      <td>1588734</td>\n",
       "      <td>2020-11-23 00:00:00</td>\n",
       "      <td>2020-12-04 00:00:00</td>\n",
       "      <td>2020-12-17 20:08:17</td>\n",
       "      <td>Online</td>\n",
       "      <td>IC66224A</td>\n",
       "    </tr>\n",
       "    <tr>\n",
       "      <th>2</th>\n",
       "      <td>511687744646316</td>\n",
       "      <td>2020-08-28</td>\n",
       "      <td>FY-20-21</td>\n",
       "      <td>Aug 2020</td>\n",
       "      <td>BID</td>\n",
       "      <td>2019-03-26</td>\n",
       "      <td>2019-04-15</td>\n",
       "      <td>SANJEEVVOHRA.664N@NIC.IN</td>\n",
       "      <td>COMP8984</td>\n",
       "      <td>Jul-Sep 2020</td>\n",
       "      <td>...</td>\n",
       "      <td>505.0</td>\n",
       "      <td>0.0</td>\n",
       "      <td>505.0</td>\n",
       "      <td>286335.0</td>\n",
       "      <td>1543941</td>\n",
       "      <td>2020-11-23 00:00:00</td>\n",
       "      <td>2020-12-04 00:00:00</td>\n",
       "      <td>2020-12-17 10:22:45</td>\n",
       "      <td>Online</td>\n",
       "      <td>IC66224A</td>\n",
       "    </tr>\n",
       "    <tr>\n",
       "      <th>3</th>\n",
       "      <td>511687744646316</td>\n",
       "      <td>2020-08-28</td>\n",
       "      <td>FY-20-21</td>\n",
       "      <td>Aug 2020</td>\n",
       "      <td>BID</td>\n",
       "      <td>2019-03-26</td>\n",
       "      <td>2019-04-15</td>\n",
       "      <td>SANJEEVVOHRA.664N@NIC.IN</td>\n",
       "      <td>COMP8984</td>\n",
       "      <td>Jul-Sep 2020</td>\n",
       "      <td>...</td>\n",
       "      <td>505.0</td>\n",
       "      <td>0.0</td>\n",
       "      <td>505.0</td>\n",
       "      <td>286335.0</td>\n",
       "      <td>1496880</td>\n",
       "      <td>2020-11-23 00:00:00</td>\n",
       "      <td>2020-12-04 00:00:00</td>\n",
       "      <td>2020-12-08 09:55:55</td>\n",
       "      <td>Online</td>\n",
       "      <td>IC66224A</td>\n",
       "    </tr>\n",
       "    <tr>\n",
       "      <th>4</th>\n",
       "      <td>511687744646316</td>\n",
       "      <td>2020-08-28</td>\n",
       "      <td>FY-20-21</td>\n",
       "      <td>Aug 2020</td>\n",
       "      <td>BID</td>\n",
       "      <td>2019-03-26</td>\n",
       "      <td>2019-04-15</td>\n",
       "      <td>SANJEEVVOHRA.664N@NIC.IN</td>\n",
       "      <td>COMP8984</td>\n",
       "      <td>Jul-Sep 2020</td>\n",
       "      <td>...</td>\n",
       "      <td>505.0</td>\n",
       "      <td>0.0</td>\n",
       "      <td>505.0</td>\n",
       "      <td>286335.0</td>\n",
       "      <td>1394820</td>\n",
       "      <td>2020-11-23 00:00:00</td>\n",
       "      <td>2020-12-04 00:00:00</td>\n",
       "      <td>2020-12-17 10:21:22</td>\n",
       "      <td>Online</td>\n",
       "      <td>IC66224A</td>\n",
       "    </tr>\n",
       "  </tbody>\n",
       "</table>\n",
       "<p>5 rows × 32 columns</p>\n",
       "</div>"
      ],
      "text/plain": [
       "          Order ID Order Date FY_OrderDate Month_Name_OrderDate Purchase Mode  \\\n",
       "0  511687744646316 2020-08-28     FY-20-21             Aug 2020           BID   \n",
       "1  511687744646316 2020-08-28     FY-20-21             Aug 2020           BID   \n",
       "2  511687744646316 2020-08-28     FY-20-21             Aug 2020           BID   \n",
       "3  511687744646316 2020-08-28     FY-20-21             Aug 2020           BID   \n",
       "4  511687744646316 2020-08-28     FY-20-21             Aug 2020           BID   \n",
       "\n",
       "  Bid start date Bid end date                    HOD ID Seller ID  \\\n",
       "0     2019-03-26   2019-04-15  SANJEEVVOHRA.664N@NIC.IN  COMP8984   \n",
       "1     2019-03-26   2019-04-15  SANJEEVVOHRA.664N@NIC.IN  COMP8984   \n",
       "2     2019-03-26   2019-04-15  SANJEEVVOHRA.664N@NIC.IN  COMP8984   \n",
       "3     2019-03-26   2019-04-15  SANJEEVVOHRA.664N@NIC.IN  COMP8984   \n",
       "4     2019-03-26   2019-04-15  SANJEEVVOHRA.664N@NIC.IN  COMP8984   \n",
       "\n",
       "  Order_Quarter  ... Shipment Quantity Received Shipment Quantity Rejected  \\\n",
       "0  Jul-Sep 2020  ...                      505.0                        0.0   \n",
       "1  Jul-Sep 2020  ...                      505.0                        0.0   \n",
       "2  Jul-Sep 2020  ...                      505.0                        0.0   \n",
       "3  Jul-Sep 2020  ...                      505.0                        0.0   \n",
       "4  Jul-Sep 2020  ...                      505.0                        0.0   \n",
       "\n",
       "  Shipment Quantity Accepted CRAC amount Total payments         Invoice Date  \\\n",
       "0                      505.0    286335.0        1995840  2020-11-23 00:00:00   \n",
       "1                      505.0    286335.0        1588734  2020-11-23 00:00:00   \n",
       "2                      505.0    286335.0        1543941  2020-11-23 00:00:00   \n",
       "3                      505.0    286335.0        1496880  2020-11-23 00:00:00   \n",
       "4                      505.0    286335.0        1394820  2020-11-23 00:00:00   \n",
       "\n",
       "             CRAC date         Payment Date  Payment Type  Consignee ID  \n",
       "0  2020-12-04 00:00:00  2020-12-08 19:08:17        Online      IC66224A  \n",
       "1  2020-12-04 00:00:00  2020-12-17 20:08:17        Online      IC66224A  \n",
       "2  2020-12-04 00:00:00  2020-12-17 10:22:45        Online      IC66224A  \n",
       "3  2020-12-04 00:00:00  2020-12-08 09:55:55        Online      IC66224A  \n",
       "4  2020-12-04 00:00:00  2020-12-17 10:21:22        Online      IC66224A  \n",
       "\n",
       "[5 rows x 32 columns]"
      ]
     },
     "execution_count": 5,
     "metadata": {},
     "output_type": "execute_result"
    }
   ],
   "source": [
    "df.head()"
   ]
  },
  {
   "cell_type": "code",
   "execution_count": 6,
   "id": "59451084-f339-4768-bbb9-aea310f540f1",
   "metadata": {},
   "outputs": [
    {
     "data": {
      "text/plain": [
       "Order ID                                  int64\n",
       "Order Date                       datetime64[ns]\n",
       "FY_OrderDate                             object\n",
       "Month_Name_OrderDate                     object\n",
       "Purchase Mode                            object\n",
       "Bid start date                   datetime64[ns]\n",
       "Bid end date                     datetime64[ns]\n",
       "HOD ID                                   object\n",
       "Seller ID                                object\n",
       "Order_Quarter                            object\n",
       "Order MSME Verified                      object\n",
       "MSME verfied gender wise                 object\n",
       "MSME verified social category            object\n",
       "Startup verfied                          object\n",
       "Sub Category ID                          object\n",
       "Expected delivery date           datetime64[ns]\n",
       "Shipment received date                   object\n",
       "Order Qty                                 int64\n",
       "Order value                             float64\n",
       "Consignment ID                            int64\n",
       "GeM Invoice Number                       object\n",
       "BID Number                               object\n",
       "Shipment Quantity Received              float64\n",
       "Shipment Quantity Rejected              float64\n",
       "Shipment Quantity Accepted              float64\n",
       "CRAC amount                             float64\n",
       "Total payments                            int64\n",
       "Invoice Date                             object\n",
       "CRAC date                                object\n",
       "Payment Date                             object\n",
       "Payment Type                             object\n",
       "Consignee ID                             object\n",
       "dtype: object"
      ]
     },
     "execution_count": 6,
     "metadata": {},
     "output_type": "execute_result"
    }
   ],
   "source": [
    "df.dtypes"
   ]
  },
  {
   "cell_type": "code",
   "execution_count": 7,
   "id": "98a399ca-8a78-495a-ba78-9503a89dc4e2",
   "metadata": {},
   "outputs": [
    {
     "data": {
      "text/html": [
       "<div>\n",
       "<style scoped>\n",
       "    .dataframe tbody tr th:only-of-type {\n",
       "        vertical-align: middle;\n",
       "    }\n",
       "\n",
       "    .dataframe tbody tr th {\n",
       "        vertical-align: top;\n",
       "    }\n",
       "\n",
       "    .dataframe thead th {\n",
       "        text-align: right;\n",
       "    }\n",
       "</style>\n",
       "<table border=\"1\" class=\"dataframe\">\n",
       "  <thead>\n",
       "    <tr style=\"text-align: right;\">\n",
       "      <th></th>\n",
       "      <th>Order ID</th>\n",
       "      <th>Order Date</th>\n",
       "      <th>FY_OrderDate</th>\n",
       "      <th>Month_Name_OrderDate</th>\n",
       "      <th>Purchase Mode</th>\n",
       "      <th>Bid start date</th>\n",
       "      <th>Bid end date</th>\n",
       "      <th>HOD ID</th>\n",
       "      <th>Seller ID</th>\n",
       "      <th>Order_Quarter</th>\n",
       "      <th>...</th>\n",
       "      <th>Shipment Quantity Received</th>\n",
       "      <th>Shipment Quantity Rejected</th>\n",
       "      <th>Shipment Quantity Accepted</th>\n",
       "      <th>CRAC amount</th>\n",
       "      <th>Total payments</th>\n",
       "      <th>Invoice Date</th>\n",
       "      <th>CRAC date</th>\n",
       "      <th>Payment Date</th>\n",
       "      <th>Payment Type</th>\n",
       "      <th>Consignee ID</th>\n",
       "    </tr>\n",
       "  </thead>\n",
       "  <tbody>\n",
       "    <tr>\n",
       "      <th>0</th>\n",
       "      <td>511687744646316</td>\n",
       "      <td>2020-08-28</td>\n",
       "      <td>FY-20-21</td>\n",
       "      <td>Aug 2020</td>\n",
       "      <td>BID</td>\n",
       "      <td>2019-03-26</td>\n",
       "      <td>2019-04-15</td>\n",
       "      <td>SANJEEVVOHRA.664N@NIC.IN</td>\n",
       "      <td>COMP8984</td>\n",
       "      <td>Jul-Sep 2020</td>\n",
       "      <td>...</td>\n",
       "      <td>505.0</td>\n",
       "      <td>0.0</td>\n",
       "      <td>505.0</td>\n",
       "      <td>286335.0</td>\n",
       "      <td>1995840</td>\n",
       "      <td>2020-11-23 00:00:00</td>\n",
       "      <td>2020-12-04 00:00:00</td>\n",
       "      <td>2020-12-08 19:08:17</td>\n",
       "      <td>Online</td>\n",
       "      <td>IC66224A</td>\n",
       "    </tr>\n",
       "    <tr>\n",
       "      <th>1</th>\n",
       "      <td>511687744646316</td>\n",
       "      <td>2020-08-28</td>\n",
       "      <td>FY-20-21</td>\n",
       "      <td>Aug 2020</td>\n",
       "      <td>BID</td>\n",
       "      <td>2019-03-26</td>\n",
       "      <td>2019-04-15</td>\n",
       "      <td>SANJEEVVOHRA.664N@NIC.IN</td>\n",
       "      <td>COMP8984</td>\n",
       "      <td>Jul-Sep 2020</td>\n",
       "      <td>...</td>\n",
       "      <td>505.0</td>\n",
       "      <td>0.0</td>\n",
       "      <td>505.0</td>\n",
       "      <td>286335.0</td>\n",
       "      <td>1588734</td>\n",
       "      <td>2020-11-23 00:00:00</td>\n",
       "      <td>2020-12-04 00:00:00</td>\n",
       "      <td>2020-12-17 20:08:17</td>\n",
       "      <td>Online</td>\n",
       "      <td>IC66224A</td>\n",
       "    </tr>\n",
       "    <tr>\n",
       "      <th>2</th>\n",
       "      <td>511687744646316</td>\n",
       "      <td>2020-08-28</td>\n",
       "      <td>FY-20-21</td>\n",
       "      <td>Aug 2020</td>\n",
       "      <td>BID</td>\n",
       "      <td>2019-03-26</td>\n",
       "      <td>2019-04-15</td>\n",
       "      <td>SANJEEVVOHRA.664N@NIC.IN</td>\n",
       "      <td>COMP8984</td>\n",
       "      <td>Jul-Sep 2020</td>\n",
       "      <td>...</td>\n",
       "      <td>505.0</td>\n",
       "      <td>0.0</td>\n",
       "      <td>505.0</td>\n",
       "      <td>286335.0</td>\n",
       "      <td>1543941</td>\n",
       "      <td>2020-11-23 00:00:00</td>\n",
       "      <td>2020-12-04 00:00:00</td>\n",
       "      <td>2020-12-17 10:22:45</td>\n",
       "      <td>Online</td>\n",
       "      <td>IC66224A</td>\n",
       "    </tr>\n",
       "    <tr>\n",
       "      <th>3</th>\n",
       "      <td>511687744646316</td>\n",
       "      <td>2020-08-28</td>\n",
       "      <td>FY-20-21</td>\n",
       "      <td>Aug 2020</td>\n",
       "      <td>BID</td>\n",
       "      <td>2019-03-26</td>\n",
       "      <td>2019-04-15</td>\n",
       "      <td>SANJEEVVOHRA.664N@NIC.IN</td>\n",
       "      <td>COMP8984</td>\n",
       "      <td>Jul-Sep 2020</td>\n",
       "      <td>...</td>\n",
       "      <td>505.0</td>\n",
       "      <td>0.0</td>\n",
       "      <td>505.0</td>\n",
       "      <td>286335.0</td>\n",
       "      <td>1496880</td>\n",
       "      <td>2020-11-23 00:00:00</td>\n",
       "      <td>2020-12-04 00:00:00</td>\n",
       "      <td>2020-12-08 09:55:55</td>\n",
       "      <td>Online</td>\n",
       "      <td>IC66224A</td>\n",
       "    </tr>\n",
       "    <tr>\n",
       "      <th>4</th>\n",
       "      <td>511687744646316</td>\n",
       "      <td>2020-08-28</td>\n",
       "      <td>FY-20-21</td>\n",
       "      <td>Aug 2020</td>\n",
       "      <td>BID</td>\n",
       "      <td>2019-03-26</td>\n",
       "      <td>2019-04-15</td>\n",
       "      <td>SANJEEVVOHRA.664N@NIC.IN</td>\n",
       "      <td>COMP8984</td>\n",
       "      <td>Jul-Sep 2020</td>\n",
       "      <td>...</td>\n",
       "      <td>505.0</td>\n",
       "      <td>0.0</td>\n",
       "      <td>505.0</td>\n",
       "      <td>286335.0</td>\n",
       "      <td>1394820</td>\n",
       "      <td>2020-11-23 00:00:00</td>\n",
       "      <td>2020-12-04 00:00:00</td>\n",
       "      <td>2020-12-17 10:21:22</td>\n",
       "      <td>Online</td>\n",
       "      <td>IC66224A</td>\n",
       "    </tr>\n",
       "  </tbody>\n",
       "</table>\n",
       "<p>5 rows × 32 columns</p>\n",
       "</div>"
      ],
      "text/plain": [
       "          Order ID Order Date FY_OrderDate Month_Name_OrderDate Purchase Mode  \\\n",
       "0  511687744646316 2020-08-28     FY-20-21             Aug 2020           BID   \n",
       "1  511687744646316 2020-08-28     FY-20-21             Aug 2020           BID   \n",
       "2  511687744646316 2020-08-28     FY-20-21             Aug 2020           BID   \n",
       "3  511687744646316 2020-08-28     FY-20-21             Aug 2020           BID   \n",
       "4  511687744646316 2020-08-28     FY-20-21             Aug 2020           BID   \n",
       "\n",
       "  Bid start date Bid end date                    HOD ID Seller ID  \\\n",
       "0     2019-03-26   2019-04-15  SANJEEVVOHRA.664N@NIC.IN  COMP8984   \n",
       "1     2019-03-26   2019-04-15  SANJEEVVOHRA.664N@NIC.IN  COMP8984   \n",
       "2     2019-03-26   2019-04-15  SANJEEVVOHRA.664N@NIC.IN  COMP8984   \n",
       "3     2019-03-26   2019-04-15  SANJEEVVOHRA.664N@NIC.IN  COMP8984   \n",
       "4     2019-03-26   2019-04-15  SANJEEVVOHRA.664N@NIC.IN  COMP8984   \n",
       "\n",
       "  Order_Quarter  ... Shipment Quantity Received Shipment Quantity Rejected  \\\n",
       "0  Jul-Sep 2020  ...                      505.0                        0.0   \n",
       "1  Jul-Sep 2020  ...                      505.0                        0.0   \n",
       "2  Jul-Sep 2020  ...                      505.0                        0.0   \n",
       "3  Jul-Sep 2020  ...                      505.0                        0.0   \n",
       "4  Jul-Sep 2020  ...                      505.0                        0.0   \n",
       "\n",
       "  Shipment Quantity Accepted CRAC amount Total payments         Invoice Date  \\\n",
       "0                      505.0    286335.0        1995840  2020-11-23 00:00:00   \n",
       "1                      505.0    286335.0        1588734  2020-11-23 00:00:00   \n",
       "2                      505.0    286335.0        1543941  2020-11-23 00:00:00   \n",
       "3                      505.0    286335.0        1496880  2020-11-23 00:00:00   \n",
       "4                      505.0    286335.0        1394820  2020-11-23 00:00:00   \n",
       "\n",
       "             CRAC date         Payment Date  Payment Type  Consignee ID  \n",
       "0  2020-12-04 00:00:00  2020-12-08 19:08:17        Online      IC66224A  \n",
       "1  2020-12-04 00:00:00  2020-12-17 20:08:17        Online      IC66224A  \n",
       "2  2020-12-04 00:00:00  2020-12-17 10:22:45        Online      IC66224A  \n",
       "3  2020-12-04 00:00:00  2020-12-08 09:55:55        Online      IC66224A  \n",
       "4  2020-12-04 00:00:00  2020-12-17 10:21:22        Online      IC66224A  \n",
       "\n",
       "[5 rows x 32 columns]"
      ]
     },
     "execution_count": 7,
     "metadata": {},
     "output_type": "execute_result"
    }
   ],
   "source": [
    "df.head()"
   ]
  },
  {
   "cell_type": "code",
   "execution_count": null,
   "id": "e9669e11-7fb5-423a-ab67-2538d2a2a366",
   "metadata": {},
   "outputs": [],
   "source": [
    "df"
   ]
  },
  {
   "cell_type": "code",
   "execution_count": 8,
   "id": "5bd60937-97b9-4ea4-89c6-959e5fdf88eb",
   "metadata": {},
   "outputs": [
    {
     "data": {
      "text/plain": [
       "Sub Category ID\n",
       "home_clea_clea_rest_sa22374311          339464\n",
       "home_comm_vehi_2518_au07318205           64297\n",
       "home_info_comp_comp_0806                 42551\n",
       "home_mate_cont_bags_bags                 41438\n",
       "home_info_data_data_spli                 29428\n",
       "                                         ...  \n",
       "home_fa68031381_agri_agri_po54470100         1\n",
       "home_medi_woun_band_st00338710               1\n",
       "home_dist_in40220274_pump_spec               1\n",
       "home_chem_comp_orga_meth                     1\n",
       "home_info_so18353664_engi_inje               1\n",
       "Name: count, Length: 3166, dtype: int64"
      ]
     },
     "execution_count": 8,
     "metadata": {},
     "output_type": "execute_result"
    }
   ],
   "source": [
    "df[\"Sub Category ID\"].value_counts()"
   ]
  },
  {
   "cell_type": "code",
   "execution_count": 32,
   "id": "c82b51c2-9d60-48d9-b50b-483816f90255",
   "metadata": {},
   "outputs": [],
   "source": [
    "df1 = df.drop(df.columns[[0, 7, 8, 14, 19, 20, 21, 31 ]], axis=1)"
   ]
  },
  {
   "cell_type": "code",
   "execution_count": 33,
   "id": "7e1da721-a96e-4c67-82ae-8138c607db03",
   "metadata": {},
   "outputs": [
    {
     "data": {
      "text/plain": [
       "Index(['Order Date', 'FY_OrderDate', 'Month_Name_OrderDate', 'Purchase Mode',\n",
       "       'Bid start date', 'Bid end date', 'Order_Quarter',\n",
       "       'Order MSME Verified', 'MSME verfied gender wise',\n",
       "       'MSME verified social category', 'Startup verfied',\n",
       "       'Expected delivery date', 'Shipment received date', 'Order Qty',\n",
       "       'Order value', 'Shipment Quantity Received',\n",
       "       'Shipment Quantity Rejected', 'Shipment Quantity Accepted',\n",
       "       'CRAC amount', 'Total payments', 'Invoice Date', 'CRAC date',\n",
       "       'Payment Date', 'Payment Type'],\n",
       "      dtype='object')"
      ]
     },
     "execution_count": 33,
     "metadata": {},
     "output_type": "execute_result"
    }
   ],
   "source": [
    "df1.columns"
   ]
  },
  {
   "cell_type": "code",
   "execution_count": 34,
   "id": "5e3d429e-8fba-4f0f-9e7a-2cdddca6431a",
   "metadata": {},
   "outputs": [
    {
     "data": {
      "text/plain": [
       "Order Date                       0\n",
       "FY_OrderDate                     0\n",
       "Month_Name_OrderDate             0\n",
       "Purchase Mode                    0\n",
       "Bid start date                   0\n",
       "Bid end date                     0\n",
       "Order_Quarter                    0\n",
       "Order MSME Verified              0\n",
       "MSME verfied gender wise         0\n",
       "MSME verified social category    0\n",
       "Startup verfied                  0\n",
       "Expected delivery date           0\n",
       "Shipment received date           0\n",
       "Order Qty                        0\n",
       "Order value                      0\n",
       "Shipment Quantity Received       0\n",
       "Shipment Quantity Rejected       0\n",
       "Shipment Quantity Accepted       0\n",
       "CRAC amount                      0\n",
       "Total payments                   0\n",
       "Invoice Date                     0\n",
       "CRAC date                        0\n",
       "Payment Date                     0\n",
       "Payment Type                     0\n",
       "dtype: int64"
      ]
     },
     "execution_count": 34,
     "metadata": {},
     "output_type": "execute_result"
    }
   ],
   "source": [
    "df1.isnull().sum()"
   ]
  },
  {
   "cell_type": "code",
   "execution_count": 35,
   "id": "0667ebde-fd38-491b-b355-0c50fe01b38b",
   "metadata": {},
   "outputs": [],
   "source": [
    "df1[\"price\"] = df1[\"Order value\"]/df1[\"Order Qty\"]"
   ]
  },
  {
   "cell_type": "code",
   "execution_count": 36,
   "id": "d1e7beae-12fd-4396-961c-ffc979fdcba3",
   "metadata": {},
   "outputs": [
    {
     "data": {
      "text/plain": [
       "(1048565, 25)"
      ]
     },
     "execution_count": 36,
     "metadata": {},
     "output_type": "execute_result"
    }
   ],
   "source": [
    "df1.shape"
   ]
  },
  {
   "cell_type": "code",
   "execution_count": 84,
   "id": "a838e949-d197-46fe-8826-cf2c101e87d2",
   "metadata": {},
   "outputs": [],
   "source": [
    "###df1['Order Date new']=df1['Order Date'].dt.strftime('%Y-%m-%d %H:%M:%S')"
   ]
  },
  {
   "cell_type": "code",
   "execution_count": 37,
   "id": "019643e7-42a7-4bba-be96-65000e7963d2",
   "metadata": {},
   "outputs": [
    {
     "data": {
      "text/plain": [
       "array(['2020-08-28T00:00:00.000000000', '2020-08-28T00:00:00.000000000',\n",
       "       '2020-08-28T00:00:00.000000000', ...,\n",
       "       '2020-11-27T00:00:00.000000000', '2020-11-27T00:00:00.000000000',\n",
       "       '2020-11-27T00:00:00.000000000'], dtype='datetime64[ns]')"
      ]
     },
     "execution_count": 37,
     "metadata": {},
     "output_type": "execute_result"
    }
   ],
   "source": [
    "df1['Order Date'].values"
   ]
  },
  {
   "cell_type": "code",
   "execution_count": 86,
   "id": "4e132600-a14c-481c-bc9e-82d4bd6afbc0",
   "metadata": {},
   "outputs": [],
   "source": [
    "###df1['Order Date new'] = pd.to_datetime(df1['Order Date new'])"
   ]
  },
  {
   "cell_type": "code",
   "execution_count": 38,
   "id": "9d4af3d8-b65b-4655-a8c9-6805dfcf5b85",
   "metadata": {},
   "outputs": [
    {
     "data": {
      "text/plain": [
       "array([datetime.datetime(2020, 12, 21, 0, 0),\n",
       "       datetime.datetime(2020, 12, 21, 0, 0),\n",
       "       datetime.datetime(2020, 12, 21, 0, 0), ...,\n",
       "       datetime.datetime(2020, 12, 22, 0, 0),\n",
       "       datetime.datetime(2020, 12, 22, 0, 0),\n",
       "       datetime.datetime(2020, 12, 22, 0, 0)], dtype=object)"
      ]
     },
     "execution_count": 38,
     "metadata": {},
     "output_type": "execute_result"
    }
   ],
   "source": [
    "df1[\"Shipment received date\"].values"
   ]
  },
  {
   "cell_type": "code",
   "execution_count": 39,
   "id": "a991ae75-0b9c-4ff3-89e3-54848f5c21f3",
   "metadata": {},
   "outputs": [
    {
     "data": {
      "text/plain": [
       "array(['2020-11-26T00:00:00.000000000', '2020-11-26T00:00:00.000000000',\n",
       "       '2020-11-26T00:00:00.000000000', ...,\n",
       "       '2020-12-27T00:00:00.000000000', '2020-12-27T00:00:00.000000000',\n",
       "       '2020-12-27T00:00:00.000000000'], dtype='datetime64[ns]')"
      ]
     },
     "execution_count": 39,
     "metadata": {},
     "output_type": "execute_result"
    }
   ],
   "source": [
    "df1[\"Expected delivery date\"].values"
   ]
  },
  {
   "cell_type": "code",
   "execution_count": 68,
   "id": "3962cdf9-fb36-46a3-b02d-9dc4c7099e3e",
   "metadata": {},
   "outputs": [
    {
     "ename": "TypeError",
     "evalue": "int() argument must be a string, a bytes-like object or a number, not 'datetime.datetime'",
     "output_type": "error",
     "traceback": [
      "\u001b[0;31m---------------------------------------------------------------------------\u001b[0m",
      "\u001b[0;31mTypeError\u001b[0m                                 Traceback (most recent call last)",
      "Cell \u001b[0;32mIn[68], line 1\u001b[0m\n\u001b[0;32m----> 1\u001b[0m df1[\u001b[38;5;124m'\u001b[39m\u001b[38;5;124mship_ts\u001b[39m\u001b[38;5;124m'\u001b[39m] \u001b[38;5;241m=\u001b[39m \u001b[43mdf1\u001b[49m\u001b[43m[\u001b[49m\u001b[38;5;124;43m'\u001b[39;49m\u001b[38;5;124;43mShipment received date\u001b[39;49m\u001b[38;5;124;43m'\u001b[39;49m\u001b[43m]\u001b[49m\u001b[38;5;241;43m.\u001b[39;49m\u001b[43mvalues\u001b[49m\u001b[38;5;241;43m.\u001b[39;49m\u001b[43mastype\u001b[49m\u001b[43m(\u001b[49m\u001b[43mnp\u001b[49m\u001b[38;5;241;43m.\u001b[39;49m\u001b[43mint64\u001b[49m\u001b[43m)\u001b[49m \u001b[38;5;241m/\u001b[39m\u001b[38;5;241m/\u001b[39m \u001b[38;5;241m10\u001b[39m \u001b[38;5;241m*\u001b[39m\u001b[38;5;241m*\u001b[39m \u001b[38;5;241m9\u001b[39m\n",
      "\u001b[0;31mTypeError\u001b[0m: int() argument must be a string, a bytes-like object or a number, not 'datetime.datetime'"
     ]
    }
   ],
   "source": [
    "###df1['ship_ts'] = df1['Shipment received date'].values.astype(np.int64) // 10 ** 9\n"
   ]
  },
  {
   "cell_type": "code",
   "execution_count": 40,
   "id": "005aa514-9b35-428d-9a07-798dd2b29fa4",
   "metadata": {},
   "outputs": [],
   "source": [
    "import datetime\n",
    "from datetime import datetime as dt"
   ]
  },
  {
   "cell_type": "code",
   "execution_count": 41,
   "id": "7c1e050b-cea0-414d-bd9e-bf7095cdfa97",
   "metadata": {},
   "outputs": [],
   "source": [
    "df1[\"Time taken to deliver\"] = (df1[\"Expected delivery date\"] - df1[\"Order Date\"]).dt.days"
   ]
  },
  {
   "cell_type": "code",
   "execution_count": 42,
   "id": "ead13d79-0c13-4a35-971d-fd2265b6133c",
   "metadata": {},
   "outputs": [
    {
     "data": {
      "text/plain": [
       "Order Date                       datetime64[ns]\n",
       "FY_OrderDate                             object\n",
       "Month_Name_OrderDate                     object\n",
       "Purchase Mode                            object\n",
       "Bid start date                   datetime64[ns]\n",
       "Bid end date                     datetime64[ns]\n",
       "Order_Quarter                            object\n",
       "Order MSME Verified                      object\n",
       "MSME verfied gender wise                 object\n",
       "MSME verified social category            object\n",
       "Startup verfied                          object\n",
       "Expected delivery date           datetime64[ns]\n",
       "Shipment received date                   object\n",
       "Order Qty                                 int64\n",
       "Order value                             float64\n",
       "Shipment Quantity Received              float64\n",
       "Shipment Quantity Rejected              float64\n",
       "Shipment Quantity Accepted              float64\n",
       "CRAC amount                             float64\n",
       "Total payments                            int64\n",
       "Invoice Date                             object\n",
       "CRAC date                                object\n",
       "Payment Date                             object\n",
       "Payment Type                             object\n",
       "price                                   float64\n",
       "Time taken to deliver                     int64\n",
       "dtype: object"
      ]
     },
     "execution_count": 42,
     "metadata": {},
     "output_type": "execute_result"
    }
   ],
   "source": [
    "df1.dtypes"
   ]
  },
  {
   "cell_type": "code",
   "execution_count": 43,
   "id": "b57b75fd-5499-476a-b280-f7749397dc7e",
   "metadata": {},
   "outputs": [
    {
     "data": {
      "text/plain": [
       "0          90\n",
       "1          90\n",
       "2          90\n",
       "3          90\n",
       "4          90\n",
       "           ..\n",
       "1048560    30\n",
       "1048561    30\n",
       "1048562    30\n",
       "1048563    30\n",
       "1048564    30\n",
       "Name: Time taken to deliver, Length: 1048565, dtype: int64"
      ]
     },
     "execution_count": 43,
     "metadata": {},
     "output_type": "execute_result"
    }
   ],
   "source": [
    "df1.iloc[:,-1]"
   ]
  },
  {
   "cell_type": "code",
   "execution_count": 44,
   "id": "567779d5-1172-48b6-ba33-54540a2173bf",
   "metadata": {},
   "outputs": [],
   "source": [
    "df1.drop(columns=[\"Month_Name_OrderDate\", \"Order_Quarter\", \"Invoice Date\",\"CRAC date\", \"Payment Date\"], inplace=True)"
   ]
  },
  {
   "cell_type": "code",
   "execution_count": 45,
   "id": "f365b577-7f2b-41e4-a2db-3d07b07c1ab4",
   "metadata": {},
   "outputs": [
    {
     "data": {
      "text/plain": [
       "Index(['Order Date', 'FY_OrderDate', 'Purchase Mode', 'Bid start date',\n",
       "       'Bid end date', 'Order MSME Verified', 'MSME verfied gender wise',\n",
       "       'MSME verified social category', 'Startup verfied',\n",
       "       'Expected delivery date', 'Shipment received date', 'Order Qty',\n",
       "       'Order value', 'Shipment Quantity Received',\n",
       "       'Shipment Quantity Rejected', 'Shipment Quantity Accepted',\n",
       "       'CRAC amount', 'Total payments', 'Payment Type', 'price',\n",
       "       'Time taken to deliver'],\n",
       "      dtype='object')"
      ]
     },
     "execution_count": 45,
     "metadata": {},
     "output_type": "execute_result"
    }
   ],
   "source": [
    "df1.columns"
   ]
  },
  {
   "cell_type": "code",
   "execution_count": 46,
   "id": "52271d41-dc03-4909-87af-3855da0d4dda",
   "metadata": {},
   "outputs": [
    {
     "data": {
      "text/plain": [
       "Purchase Mode\n",
       "BID    811967\n",
       "RA     236598\n",
       "Name: count, dtype: int64"
      ]
     },
     "execution_count": 46,
     "metadata": {},
     "output_type": "execute_result"
    }
   ],
   "source": [
    "df1[\"Purchase Mode\"].value_counts()"
   ]
  },
  {
   "cell_type": "code",
   "execution_count": 47,
   "id": "a38a8fd4-790f-48ce-827c-86739c2086e0",
   "metadata": {},
   "outputs": [
    {
     "data": {
      "text/plain": [
       "MSME verfied gender wise\n",
       "-         924734\n",
       "Female    123831\n",
       "Name: count, dtype: int64"
      ]
     },
     "execution_count": 47,
     "metadata": {},
     "output_type": "execute_result"
    }
   ],
   "source": [
    "df1[\"MSME verfied gender wise\"].value_counts()"
   ]
  },
  {
   "cell_type": "code",
   "execution_count": 48,
   "id": "c8d75ace-baf0-4842-9f40-da34931acc0b",
   "metadata": {},
   "outputs": [
    {
     "data": {
      "text/plain": [
       "Order MSME Verified\n",
       "Others    535898\n",
       "MSME      512667\n",
       "Name: count, dtype: int64"
      ]
     },
     "execution_count": 48,
     "metadata": {},
     "output_type": "execute_result"
    }
   ],
   "source": [
    "df1[\"Order MSME Verified\"].value_counts()"
   ]
  },
  {
   "cell_type": "code",
   "execution_count": 49,
   "id": "6bdd502a-591e-4f47-a2a6-91e538d8190a",
   "metadata": {},
   "outputs": [
    {
     "data": {
      "text/plain": [
       "Startup verfied\n",
       "-           1035643\n",
       "Verified      12922\n",
       "Name: count, dtype: int64"
      ]
     },
     "execution_count": 49,
     "metadata": {},
     "output_type": "execute_result"
    }
   ],
   "source": [
    "df1[\"Startup verfied\"].value_counts()"
   ]
  },
  {
   "cell_type": "code",
   "execution_count": 50,
   "id": "f0286a26-eaf6-4e7c-bf5a-e041462c1d33",
   "metadata": {},
   "outputs": [],
   "source": [
    "columns_to_encode = [\"Purchase Mode\", \"MSME verfied gender wise\", \"Order MSME Verified\", \"Startup verfied\"]"
   ]
  },
  {
   "cell_type": "code",
   "execution_count": 51,
   "id": "b20ff106-4b89-4000-86e1-879cd83c0cf5",
   "metadata": {},
   "outputs": [],
   "source": [
    "le = LabelEncoder()"
   ]
  },
  {
   "cell_type": "code",
   "execution_count": 52,
   "id": "60fd08b7-50f7-458a-8e11-3ada403a9c84",
   "metadata": {},
   "outputs": [],
   "source": [
    "for column in columns_to_encode:\n",
    "       df1[column+'_encoded'] = le.fit_transform(df1[column])"
   ]
  },
  {
   "cell_type": "code",
   "execution_count": 53,
   "id": "40fbb6b5-e8dd-4a3d-88f4-4187e261a331",
   "metadata": {},
   "outputs": [
    {
     "data": {
      "text/plain": [
       "Index(['Order Date', 'FY_OrderDate', 'Purchase Mode', 'Bid start date',\n",
       "       'Bid end date', 'Order MSME Verified', 'MSME verfied gender wise',\n",
       "       'MSME verified social category', 'Startup verfied',\n",
       "       'Expected delivery date', 'Shipment received date', 'Order Qty',\n",
       "       'Order value', 'Shipment Quantity Received',\n",
       "       'Shipment Quantity Rejected', 'Shipment Quantity Accepted',\n",
       "       'CRAC amount', 'Total payments', 'Payment Type', 'price',\n",
       "       'Time taken to deliver', 'Purchase Mode_encoded',\n",
       "       'MSME verfied gender wise_encoded', 'Order MSME Verified_encoded',\n",
       "       'Startup verfied_encoded'],\n",
       "      dtype='object')"
      ]
     },
     "execution_count": 53,
     "metadata": {},
     "output_type": "execute_result"
    }
   ],
   "source": [
    "df1.columns"
   ]
  },
  {
   "cell_type": "code",
   "execution_count": 54,
   "id": "f5474020-6291-4c97-8f20-657b40221f22",
   "metadata": {},
   "outputs": [],
   "source": [
    "df1 = df1.drop(columns=[\"Purchase Mode\", \"MSME verfied gender wise\", \"Order MSME Verified\", \"Startup verfied\"])"
   ]
  },
  {
   "cell_type": "code",
   "execution_count": 55,
   "id": "2c5e236d-2333-4cbb-abe1-368ac0cfcf27",
   "metadata": {},
   "outputs": [
    {
     "data": {
      "text/plain": [
       "Index(['Order Date', 'FY_OrderDate', 'Bid start date', 'Bid end date',\n",
       "       'MSME verified social category', 'Expected delivery date',\n",
       "       'Shipment received date', 'Order Qty', 'Order value',\n",
       "       'Shipment Quantity Received', 'Shipment Quantity Rejected',\n",
       "       'Shipment Quantity Accepted', 'CRAC amount', 'Total payments',\n",
       "       'Payment Type', 'price', 'Time taken to deliver',\n",
       "       'Purchase Mode_encoded', 'MSME verfied gender wise_encoded',\n",
       "       'Order MSME Verified_encoded', 'Startup verfied_encoded'],\n",
       "      dtype='object')"
      ]
     },
     "execution_count": 55,
     "metadata": {},
     "output_type": "execute_result"
    }
   ],
   "source": [
    "df1.columns"
   ]
  },
  {
   "cell_type": "code",
   "execution_count": 56,
   "id": "0a1c244b-12c5-4d9f-97e0-36fdb4accafd",
   "metadata": {},
   "outputs": [
    {
     "data": {
      "text/plain": [
       "Payment Type\n",
       "Online        417061\n",
       "BulkUpdate    369540\n",
       "Offline       226580\n",
       "-              35384\n",
       "Name: count, dtype: int64"
      ]
     },
     "execution_count": 56,
     "metadata": {},
     "output_type": "execute_result"
    }
   ],
   "source": [
    "df1[\"Payment Type\"].value_counts()"
   ]
  },
  {
   "cell_type": "code",
   "execution_count": 57,
   "id": "b3420850-88de-4143-bcd8-f3c7a59671e7",
   "metadata": {},
   "outputs": [
    {
     "data": {
      "text/plain": [
       "MSME verified social category\n",
       "-     1040052\n",
       "SC       8335\n",
       "ST        178\n",
       "Name: count, dtype: int64"
      ]
     },
     "execution_count": 57,
     "metadata": {},
     "output_type": "execute_result"
    }
   ],
   "source": [
    "df1[\"MSME verified social category\"].value_counts()"
   ]
  },
  {
   "cell_type": "code",
   "execution_count": 58,
   "id": "d870de43-4fd8-4b72-bafb-0dcfbe05d9d5",
   "metadata": {},
   "outputs": [
    {
     "data": {
      "text/plain": [
       "FY_OrderDate\n",
       "FY-20-21    1048565\n",
       "Name: count, dtype: int64"
      ]
     },
     "execution_count": 58,
     "metadata": {},
     "output_type": "execute_result"
    }
   ],
   "source": [
    "df1[\"FY_OrderDate\"].value_counts()"
   ]
  },
  {
   "cell_type": "code",
   "execution_count": 59,
   "id": "9c3d9a6b-5108-45de-910d-b19e991b8629",
   "metadata": {},
   "outputs": [],
   "source": [
    "df1 = df1.drop(columns=[\"FY_OrderDate\", \"Bid start date\", \"Bid end date\"])"
   ]
  },
  {
   "cell_type": "code",
   "execution_count": 60,
   "id": "64fcf4d7-fa8b-494c-88d8-66d68d6ba058",
   "metadata": {},
   "outputs": [],
   "source": [
    "df1[\"Payment Type\"+'_encoded'] = le.fit_transform(df1[\"Payment Type\"])"
   ]
  },
  {
   "cell_type": "code",
   "execution_count": 61,
   "id": "9c9943d4-9723-41ad-b97a-e7b85f90c64b",
   "metadata": {},
   "outputs": [],
   "source": [
    "df1[\"MSME verified social category\"+'_encoded'] = le.fit_transform(df1[\"MSME verified social category\"])"
   ]
  },
  {
   "cell_type": "code",
   "execution_count": 62,
   "id": "f0a660e0-1827-4132-a38a-bb4c36ad498c",
   "metadata": {},
   "outputs": [
    {
     "data": {
      "text/plain": [
       "Index(['Order Date', 'MSME verified social category', 'Expected delivery date',\n",
       "       'Shipment received date', 'Order Qty', 'Order value',\n",
       "       'Shipment Quantity Received', 'Shipment Quantity Rejected',\n",
       "       'Shipment Quantity Accepted', 'CRAC amount', 'Total payments',\n",
       "       'Payment Type', 'price', 'Time taken to deliver',\n",
       "       'Purchase Mode_encoded', 'MSME verfied gender wise_encoded',\n",
       "       'Order MSME Verified_encoded', 'Startup verfied_encoded',\n",
       "       'Payment Type_encoded', 'MSME verified social category_encoded'],\n",
       "      dtype='object')"
      ]
     },
     "execution_count": 62,
     "metadata": {},
     "output_type": "execute_result"
    }
   ],
   "source": [
    "df1.columns"
   ]
  },
  {
   "cell_type": "code",
   "execution_count": 63,
   "id": "9b5bc7d2-7af6-4776-a0bc-6cc4739bae77",
   "metadata": {},
   "outputs": [],
   "source": [
    "df1 = df1.drop(columns=[\"MSME verified social category\", \"Payment Type\"])"
   ]
  },
  {
   "cell_type": "code",
   "execution_count": 64,
   "id": "372dc15f-622d-49b5-a69b-9ba5042b37da",
   "metadata": {},
   "outputs": [
    {
     "data": {
      "text/plain": [
       "Order Date                               datetime64[ns]\n",
       "Expected delivery date                   datetime64[ns]\n",
       "Shipment received date                           object\n",
       "Order Qty                                         int64\n",
       "Order value                                     float64\n",
       "Shipment Quantity Received                      float64\n",
       "Shipment Quantity Rejected                      float64\n",
       "Shipment Quantity Accepted                      float64\n",
       "CRAC amount                                     float64\n",
       "Total payments                                    int64\n",
       "price                                           float64\n",
       "Time taken to deliver                             int64\n",
       "Purchase Mode_encoded                             int64\n",
       "MSME verfied gender wise_encoded                  int64\n",
       "Order MSME Verified_encoded                       int64\n",
       "Startup verfied_encoded                           int64\n",
       "Payment Type_encoded                              int64\n",
       "MSME verified social category_encoded             int64\n",
       "dtype: object"
      ]
     },
     "execution_count": 64,
     "metadata": {},
     "output_type": "execute_result"
    }
   ],
   "source": [
    "df1.dtypes"
   ]
  },
  {
   "cell_type": "code",
   "execution_count": 65,
   "id": "8bbb1624-8813-44a2-850f-29dd84031fc8",
   "metadata": {},
   "outputs": [],
   "source": [
    "df1 = df1.drop(columns=[\"Order Date\", \"Expected delivery date\", \"Shipment received date\"])"
   ]
  },
  {
   "cell_type": "code",
   "execution_count": 66,
   "id": "4ff71baf-25d1-48c8-b59c-1644f4846d8e",
   "metadata": {},
   "outputs": [],
   "source": [
    "X = df1.drop(columns=['Time taken to deliver'])\n",
    "y = df1['Time taken to deliver']"
   ]
  },
  {
   "cell_type": "code",
   "execution_count": 67,
   "id": "fca791cc-7bd3-4f13-a2e7-4e91d9fd29f2",
   "metadata": {},
   "outputs": [
    {
     "data": {
      "text/plain": [
       "Index(['Order Qty', 'Order value', 'Shipment Quantity Received',\n",
       "       'Shipment Quantity Rejected', 'Shipment Quantity Accepted',\n",
       "       'CRAC amount', 'Total payments', 'price', 'Purchase Mode_encoded',\n",
       "       'MSME verfied gender wise_encoded', 'Order MSME Verified_encoded',\n",
       "       'Startup verfied_encoded', 'Payment Type_encoded',\n",
       "       'MSME verified social category_encoded'],\n",
       "      dtype='object')"
      ]
     },
     "execution_count": 67,
     "metadata": {},
     "output_type": "execute_result"
    }
   ],
   "source": [
    "X.columns"
   ]
  },
  {
   "cell_type": "code",
   "execution_count": 68,
   "id": "bc883e39-c068-4d33-b43b-10610b5e586b",
   "metadata": {},
   "outputs": [],
   "source": [
    "X_train, X_test, y_train, y_test = train_test_split(X, y, test_size=0.2)"
   ]
  },
  {
   "cell_type": "code",
   "execution_count": 69,
   "id": "3c3d63bf-6c21-4284-9df7-a7ae4cad9b33",
   "metadata": {},
   "outputs": [
    {
     "data": {
      "text/plain": [
       "(838852, 14)"
      ]
     },
     "execution_count": 69,
     "metadata": {},
     "output_type": "execute_result"
    }
   ],
   "source": [
    "X_train.shape"
   ]
  },
  {
   "cell_type": "code",
   "execution_count": 70,
   "id": "b5a3c600-e9da-49d8-9647-cb3663c5008e",
   "metadata": {},
   "outputs": [
    {
     "data": {
      "text/plain": [
       "(1048565, 15)"
      ]
     },
     "execution_count": 70,
     "metadata": {},
     "output_type": "execute_result"
    }
   ],
   "source": [
    "df1.shape"
   ]
  },
  {
   "cell_type": "code",
   "execution_count": 71,
   "id": "f4583e00-941d-432f-b954-12439f5c06f4",
   "metadata": {},
   "outputs": [
    {
     "data": {
      "text/plain": [
       "Order Qty                                  int64\n",
       "Order value                              float64\n",
       "Shipment Quantity Received               float64\n",
       "Shipment Quantity Rejected               float64\n",
       "Shipment Quantity Accepted               float64\n",
       "CRAC amount                              float64\n",
       "Total payments                             int64\n",
       "price                                    float64\n",
       "Purchase Mode_encoded                      int64\n",
       "MSME verfied gender wise_encoded           int64\n",
       "Order MSME Verified_encoded                int64\n",
       "Startup verfied_encoded                    int64\n",
       "Payment Type_encoded                       int64\n",
       "MSME verified social category_encoded      int64\n",
       "dtype: object"
      ]
     },
     "execution_count": 71,
     "metadata": {},
     "output_type": "execute_result"
    }
   ],
   "source": [
    "X_train.dtypes"
   ]
  },
  {
   "cell_type": "code",
   "execution_count": null,
   "id": "c84102be-942c-41f6-8153-0cf9f1fe2586",
   "metadata": {},
   "outputs": [],
   "source": []
  },
  {
   "cell_type": "markdown",
   "id": "ca93e55a-bedd-44eb-bde6-c57e10e1bf91",
   "metadata": {},
   "source": [
    "## RBF Layer"
   ]
  },
  {
   "cell_type": "code",
   "execution_count": 44,
   "id": "2f5ad88d-93dd-4518-a1bc-cd004631ccac",
   "metadata": {},
   "outputs": [],
   "source": [
    "import tensorflow as tf\n",
    "from tensorflow.keras.layers import Layer\n",
    "from tensorflow.keras import backend as K\n",
    "\n",
    "class RBFLayer(Layer):\n",
    "    def __init__(self, units, gamma, **kwargs):\n",
    "        super(RBFLayer, self).__init__(**kwargs)\n",
    "        self.units = units\n",
    "        self.gamma = K.cast_to_floatx(gamma)\n",
    "\n",
    "    def build(self, input_shape):\n",
    "        self.mu = self.add_weight(name='mu',\n",
    "                                  shape=(int(input_shape[1]), self.units),\n",
    "                                  initializer='he_uniform',\n",
    "                                  trainable=True)\n",
    "        super(RBFLayer, self).build(input_shape)\n",
    "\n",
    "    def call(self, inputs):\n",
    "        diff = K.expand_dims(inputs) - self.mu\n",
    "        l2 = K.sum(K.pow(diff, 2), axis=1)\n",
    "        res = K.exp(-1 * self.gamma * l2)\n",
    "        return res\n",
    "\n",
    "    def compute_output_shape(self, input_shape):\n",
    "        return (input_shape[0], self.units)"
   ]
  },
  {
   "cell_type": "code",
   "execution_count": 99,
   "id": "f953ff18-2ed1-4a43-8ce6-4bedd069119f",
   "metadata": {},
   "outputs": [
    {
     "data": {
      "text/plain": [
       "14"
      ]
     },
     "execution_count": 99,
     "metadata": {},
     "output_type": "execute_result"
    }
   ],
   "source": [
    "X_train.shape[1]"
   ]
  },
  {
   "cell_type": "code",
   "execution_count": 100,
   "id": "be93b893-d76d-43c5-a826-28f7e3dbf38f",
   "metadata": {},
   "outputs": [
    {
     "data": {
      "text/plain": [
       "838852"
      ]
     },
     "execution_count": 100,
     "metadata": {},
     "output_type": "execute_result"
    }
   ],
   "source": [
    "X_train.shape[0]"
   ]
  },
  {
   "cell_type": "markdown",
   "id": "d2a9bb87-eaa9-4dc9-a462-c1950e5f6f38",
   "metadata": {},
   "source": [
    "## ConvNet-RBF"
   ]
  },
  {
   "cell_type": "code",
   "execution_count": 60,
   "id": "586205bb-7f05-4a3d-b2ea-6e7516162b22",
   "metadata": {},
   "outputs": [
    {
     "ename": "TypeError",
     "evalue": "'int' object is not iterable",
     "output_type": "error",
     "traceback": [
      "\u001b[0;31m---------------------------------------------------------------------------\u001b[0m",
      "\u001b[0;31mTypeError\u001b[0m                                 Traceback (most recent call last)",
      "Cell \u001b[0;32mIn[60], line 9\u001b[0m\n\u001b[1;32m      6\u001b[0m model_cnrb \u001b[38;5;241m=\u001b[39m Sequential()\n\u001b[1;32m      8\u001b[0m \u001b[38;5;66;03m# Convolutional and Pooling Layers\u001b[39;00m\n\u001b[0;32m----> 9\u001b[0m model_cnrb\u001b[38;5;241m.\u001b[39madd(\u001b[43mConv2D\u001b[49m\u001b[43m(\u001b[49m\u001b[38;5;241;43m32\u001b[39;49m\u001b[43m,\u001b[49m\u001b[43m \u001b[49m\u001b[43m(\u001b[49m\u001b[38;5;241;43m3\u001b[39;49m\u001b[43m,\u001b[49m\u001b[43m \u001b[49m\u001b[38;5;241;43m3\u001b[39;49m\u001b[43m)\u001b[49m\u001b[43m,\u001b[49m\u001b[43m \u001b[49m\u001b[43mactivation\u001b[49m\u001b[38;5;241;43m=\u001b[39;49m\u001b[38;5;124;43m'\u001b[39;49m\u001b[38;5;124;43mrelu\u001b[39;49m\u001b[38;5;124;43m'\u001b[39;49m\u001b[43m,\u001b[49m\u001b[43m \u001b[49m\u001b[43minput_shape\u001b[49m\u001b[38;5;241;43m=\u001b[39;49m\u001b[38;5;241;43m14\u001b[39;49m\u001b[43m)\u001b[49m)\n\u001b[1;32m     10\u001b[0m model_cnrb\u001b[38;5;241m.\u001b[39madd(MaxPooling2D((\u001b[38;5;241m2\u001b[39m, \u001b[38;5;241m2\u001b[39m)))\n\u001b[1;32m     12\u001b[0m \u001b[38;5;66;03m# Flattening Layer\u001b[39;00m\n",
      "File \u001b[0;32m~/railway/nature/lib/python3.8/site-packages/keras/src/dtensor/utils.py:96\u001b[0m, in \u001b[0;36mallow_initializer_layout.<locals>._wrap_function\u001b[0;34m(layer_instance, *args, **kwargs)\u001b[0m\n\u001b[1;32m     93\u001b[0m         \u001b[38;5;28;01mif\u001b[39;00m layout:\n\u001b[1;32m     94\u001b[0m             layout_args[variable_name \u001b[38;5;241m+\u001b[39m \u001b[38;5;124m\"\u001b[39m\u001b[38;5;124m_layout\u001b[39m\u001b[38;5;124m\"\u001b[39m] \u001b[38;5;241m=\u001b[39m layout\n\u001b[0;32m---> 96\u001b[0m \u001b[43minit_method\u001b[49m\u001b[43m(\u001b[49m\u001b[43mlayer_instance\u001b[49m\u001b[43m,\u001b[49m\u001b[43m \u001b[49m\u001b[38;5;241;43m*\u001b[39;49m\u001b[43margs\u001b[49m\u001b[43m,\u001b[49m\u001b[43m \u001b[49m\u001b[38;5;241;43m*\u001b[39;49m\u001b[38;5;241;43m*\u001b[39;49m\u001b[43mkwargs\u001b[49m\u001b[43m)\u001b[49m\n\u001b[1;32m     98\u001b[0m \u001b[38;5;66;03m# Inject the layout parameter after the invocation of __init__()\u001b[39;00m\n\u001b[1;32m     99\u001b[0m \u001b[38;5;28;01mfor\u001b[39;00m layout_param_name, layout \u001b[38;5;129;01min\u001b[39;00m layout_args\u001b[38;5;241m.\u001b[39mitems():\n",
      "File \u001b[0;32m~/railway/nature/lib/python3.8/site-packages/keras/src/layers/convolutional/conv2d.py:179\u001b[0m, in \u001b[0;36mConv2D.__init__\u001b[0;34m(self, filters, kernel_size, strides, padding, data_format, dilation_rate, groups, activation, use_bias, kernel_initializer, bias_initializer, kernel_regularizer, bias_regularizer, activity_regularizer, kernel_constraint, bias_constraint, **kwargs)\u001b[0m\n\u001b[1;32m    158\u001b[0m \u001b[38;5;129m@utils\u001b[39m\u001b[38;5;241m.\u001b[39mallow_initializer_layout\n\u001b[1;32m    159\u001b[0m \u001b[38;5;28;01mdef\u001b[39;00m \u001b[38;5;21m__init__\u001b[39m(\n\u001b[1;32m    160\u001b[0m     \u001b[38;5;28mself\u001b[39m,\n\u001b[0;32m   (...)\u001b[0m\n\u001b[1;32m    177\u001b[0m     \u001b[38;5;241m*\u001b[39m\u001b[38;5;241m*\u001b[39mkwargs\n\u001b[1;32m    178\u001b[0m ):\n\u001b[0;32m--> 179\u001b[0m     \u001b[38;5;28;43msuper\u001b[39;49m\u001b[43m(\u001b[49m\u001b[43m)\u001b[49m\u001b[38;5;241;43m.\u001b[39;49m\u001b[38;5;21;43m__init__\u001b[39;49m\u001b[43m(\u001b[49m\n\u001b[1;32m    180\u001b[0m \u001b[43m        \u001b[49m\u001b[43mrank\u001b[49m\u001b[38;5;241;43m=\u001b[39;49m\u001b[38;5;241;43m2\u001b[39;49m\u001b[43m,\u001b[49m\n\u001b[1;32m    181\u001b[0m \u001b[43m        \u001b[49m\u001b[43mfilters\u001b[49m\u001b[38;5;241;43m=\u001b[39;49m\u001b[43mfilters\u001b[49m\u001b[43m,\u001b[49m\n\u001b[1;32m    182\u001b[0m \u001b[43m        \u001b[49m\u001b[43mkernel_size\u001b[49m\u001b[38;5;241;43m=\u001b[39;49m\u001b[43mkernel_size\u001b[49m\u001b[43m,\u001b[49m\n\u001b[1;32m    183\u001b[0m \u001b[43m        \u001b[49m\u001b[43mstrides\u001b[49m\u001b[38;5;241;43m=\u001b[39;49m\u001b[43mstrides\u001b[49m\u001b[43m,\u001b[49m\n\u001b[1;32m    184\u001b[0m \u001b[43m        \u001b[49m\u001b[43mpadding\u001b[49m\u001b[38;5;241;43m=\u001b[39;49m\u001b[43mpadding\u001b[49m\u001b[43m,\u001b[49m\n\u001b[1;32m    185\u001b[0m \u001b[43m        \u001b[49m\u001b[43mdata_format\u001b[49m\u001b[38;5;241;43m=\u001b[39;49m\u001b[43mdata_format\u001b[49m\u001b[43m,\u001b[49m\n\u001b[1;32m    186\u001b[0m \u001b[43m        \u001b[49m\u001b[43mdilation_rate\u001b[49m\u001b[38;5;241;43m=\u001b[39;49m\u001b[43mdilation_rate\u001b[49m\u001b[43m,\u001b[49m\n\u001b[1;32m    187\u001b[0m \u001b[43m        \u001b[49m\u001b[43mgroups\u001b[49m\u001b[38;5;241;43m=\u001b[39;49m\u001b[43mgroups\u001b[49m\u001b[43m,\u001b[49m\n\u001b[1;32m    188\u001b[0m \u001b[43m        \u001b[49m\u001b[43mactivation\u001b[49m\u001b[38;5;241;43m=\u001b[39;49m\u001b[43mactivations\u001b[49m\u001b[38;5;241;43m.\u001b[39;49m\u001b[43mget\u001b[49m\u001b[43m(\u001b[49m\u001b[43mactivation\u001b[49m\u001b[43m)\u001b[49m\u001b[43m,\u001b[49m\n\u001b[1;32m    189\u001b[0m \u001b[43m        \u001b[49m\u001b[43muse_bias\u001b[49m\u001b[38;5;241;43m=\u001b[39;49m\u001b[43muse_bias\u001b[49m\u001b[43m,\u001b[49m\n\u001b[1;32m    190\u001b[0m \u001b[43m        \u001b[49m\u001b[43mkernel_initializer\u001b[49m\u001b[38;5;241;43m=\u001b[39;49m\u001b[43minitializers\u001b[49m\u001b[38;5;241;43m.\u001b[39;49m\u001b[43mget\u001b[49m\u001b[43m(\u001b[49m\u001b[43mkernel_initializer\u001b[49m\u001b[43m)\u001b[49m\u001b[43m,\u001b[49m\n\u001b[1;32m    191\u001b[0m \u001b[43m        \u001b[49m\u001b[43mbias_initializer\u001b[49m\u001b[38;5;241;43m=\u001b[39;49m\u001b[43minitializers\u001b[49m\u001b[38;5;241;43m.\u001b[39;49m\u001b[43mget\u001b[49m\u001b[43m(\u001b[49m\u001b[43mbias_initializer\u001b[49m\u001b[43m)\u001b[49m\u001b[43m,\u001b[49m\n\u001b[1;32m    192\u001b[0m \u001b[43m        \u001b[49m\u001b[43mkernel_regularizer\u001b[49m\u001b[38;5;241;43m=\u001b[39;49m\u001b[43mregularizers\u001b[49m\u001b[38;5;241;43m.\u001b[39;49m\u001b[43mget\u001b[49m\u001b[43m(\u001b[49m\u001b[43mkernel_regularizer\u001b[49m\u001b[43m)\u001b[49m\u001b[43m,\u001b[49m\n\u001b[1;32m    193\u001b[0m \u001b[43m        \u001b[49m\u001b[43mbias_regularizer\u001b[49m\u001b[38;5;241;43m=\u001b[39;49m\u001b[43mregularizers\u001b[49m\u001b[38;5;241;43m.\u001b[39;49m\u001b[43mget\u001b[49m\u001b[43m(\u001b[49m\u001b[43mbias_regularizer\u001b[49m\u001b[43m)\u001b[49m\u001b[43m,\u001b[49m\n\u001b[1;32m    194\u001b[0m \u001b[43m        \u001b[49m\u001b[43mactivity_regularizer\u001b[49m\u001b[38;5;241;43m=\u001b[39;49m\u001b[43mregularizers\u001b[49m\u001b[38;5;241;43m.\u001b[39;49m\u001b[43mget\u001b[49m\u001b[43m(\u001b[49m\u001b[43mactivity_regularizer\u001b[49m\u001b[43m)\u001b[49m\u001b[43m,\u001b[49m\n\u001b[1;32m    195\u001b[0m \u001b[43m        \u001b[49m\u001b[43mkernel_constraint\u001b[49m\u001b[38;5;241;43m=\u001b[39;49m\u001b[43mconstraints\u001b[49m\u001b[38;5;241;43m.\u001b[39;49m\u001b[43mget\u001b[49m\u001b[43m(\u001b[49m\u001b[43mkernel_constraint\u001b[49m\u001b[43m)\u001b[49m\u001b[43m,\u001b[49m\n\u001b[1;32m    196\u001b[0m \u001b[43m        \u001b[49m\u001b[43mbias_constraint\u001b[49m\u001b[38;5;241;43m=\u001b[39;49m\u001b[43mconstraints\u001b[49m\u001b[38;5;241;43m.\u001b[39;49m\u001b[43mget\u001b[49m\u001b[43m(\u001b[49m\u001b[43mbias_constraint\u001b[49m\u001b[43m)\u001b[49m\u001b[43m,\u001b[49m\n\u001b[1;32m    197\u001b[0m \u001b[43m        \u001b[49m\u001b[38;5;241;43m*\u001b[39;49m\u001b[38;5;241;43m*\u001b[39;49m\u001b[43mkwargs\u001b[49m\n\u001b[1;32m    198\u001b[0m \u001b[43m    \u001b[49m\u001b[43m)\u001b[49m\n",
      "File \u001b[0;32m~/railway/nature/lib/python3.8/site-packages/keras/src/layers/convolutional/base_conv.py:118\u001b[0m, in \u001b[0;36mConv.__init__\u001b[0;34m(self, rank, filters, kernel_size, strides, padding, data_format, dilation_rate, groups, activation, use_bias, kernel_initializer, bias_initializer, kernel_regularizer, bias_regularizer, activity_regularizer, kernel_constraint, bias_constraint, trainable, name, conv_op, **kwargs)\u001b[0m\n\u001b[1;32m     94\u001b[0m \u001b[38;5;28;01mdef\u001b[39;00m \u001b[38;5;21m__init__\u001b[39m(\n\u001b[1;32m     95\u001b[0m     \u001b[38;5;28mself\u001b[39m,\n\u001b[1;32m     96\u001b[0m     rank,\n\u001b[0;32m   (...)\u001b[0m\n\u001b[1;32m    116\u001b[0m     \u001b[38;5;241m*\u001b[39m\u001b[38;5;241m*\u001b[39mkwargs,\n\u001b[1;32m    117\u001b[0m ):\n\u001b[0;32m--> 118\u001b[0m     \u001b[38;5;28;43msuper\u001b[39;49m\u001b[43m(\u001b[49m\u001b[43m)\u001b[49m\u001b[38;5;241;43m.\u001b[39;49m\u001b[38;5;21;43m__init__\u001b[39;49m\u001b[43m(\u001b[49m\n\u001b[1;32m    119\u001b[0m \u001b[43m        \u001b[49m\u001b[43mtrainable\u001b[49m\u001b[38;5;241;43m=\u001b[39;49m\u001b[43mtrainable\u001b[49m\u001b[43m,\u001b[49m\n\u001b[1;32m    120\u001b[0m \u001b[43m        \u001b[49m\u001b[43mname\u001b[49m\u001b[38;5;241;43m=\u001b[39;49m\u001b[43mname\u001b[49m\u001b[43m,\u001b[49m\n\u001b[1;32m    121\u001b[0m \u001b[43m        \u001b[49m\u001b[43mactivity_regularizer\u001b[49m\u001b[38;5;241;43m=\u001b[39;49m\u001b[43mregularizers\u001b[49m\u001b[38;5;241;43m.\u001b[39;49m\u001b[43mget\u001b[49m\u001b[43m(\u001b[49m\u001b[43mactivity_regularizer\u001b[49m\u001b[43m)\u001b[49m\u001b[43m,\u001b[49m\n\u001b[1;32m    122\u001b[0m \u001b[43m        \u001b[49m\u001b[38;5;241;43m*\u001b[39;49m\u001b[38;5;241;43m*\u001b[39;49m\u001b[43mkwargs\u001b[49m\u001b[43m,\u001b[49m\n\u001b[1;32m    123\u001b[0m \u001b[43m    \u001b[49m\u001b[43m)\u001b[49m\n\u001b[1;32m    124\u001b[0m     \u001b[38;5;28mself\u001b[39m\u001b[38;5;241m.\u001b[39mrank \u001b[38;5;241m=\u001b[39m rank\n\u001b[1;32m    126\u001b[0m     \u001b[38;5;28;01mif\u001b[39;00m \u001b[38;5;28misinstance\u001b[39m(filters, \u001b[38;5;28mfloat\u001b[39m):\n",
      "File \u001b[0;32m~/railway/nature/lib/python3.8/site-packages/tensorflow/python/trackable/base.py:204\u001b[0m, in \u001b[0;36mno_automatic_dependency_tracking.<locals>._method_wrapper\u001b[0;34m(self, *args, **kwargs)\u001b[0m\n\u001b[1;32m    202\u001b[0m \u001b[38;5;28mself\u001b[39m\u001b[38;5;241m.\u001b[39m_self_setattr_tracking \u001b[38;5;241m=\u001b[39m \u001b[38;5;28;01mFalse\u001b[39;00m  \u001b[38;5;66;03m# pylint: disable=protected-access\u001b[39;00m\n\u001b[1;32m    203\u001b[0m \u001b[38;5;28;01mtry\u001b[39;00m:\n\u001b[0;32m--> 204\u001b[0m   result \u001b[38;5;241m=\u001b[39m \u001b[43mmethod\u001b[49m\u001b[43m(\u001b[49m\u001b[38;5;28;43mself\u001b[39;49m\u001b[43m,\u001b[49m\u001b[43m \u001b[49m\u001b[38;5;241;43m*\u001b[39;49m\u001b[43margs\u001b[49m\u001b[43m,\u001b[49m\u001b[43m \u001b[49m\u001b[38;5;241;43m*\u001b[39;49m\u001b[38;5;241;43m*\u001b[39;49m\u001b[43mkwargs\u001b[49m\u001b[43m)\u001b[49m\n\u001b[1;32m    205\u001b[0m \u001b[38;5;28;01mfinally\u001b[39;00m:\n\u001b[1;32m    206\u001b[0m   \u001b[38;5;28mself\u001b[39m\u001b[38;5;241m.\u001b[39m_self_setattr_tracking \u001b[38;5;241m=\u001b[39m previous_value  \u001b[38;5;66;03m# pylint: disable=protected-access\u001b[39;00m\n",
      "File \u001b[0;32m~/railway/nature/lib/python3.8/site-packages/keras/src/engine/base_layer.py:452\u001b[0m, in \u001b[0;36mLayer.__init__\u001b[0;34m(self, trainable, name, dtype, dynamic, **kwargs)\u001b[0m\n\u001b[1;32m    450\u001b[0m         \u001b[38;5;28;01melse\u001b[39;00m:\n\u001b[1;32m    451\u001b[0m             batch_size \u001b[38;5;241m=\u001b[39m \u001b[38;5;28;01mNone\u001b[39;00m\n\u001b[0;32m--> 452\u001b[0m         batch_input_shape \u001b[38;5;241m=\u001b[39m (batch_size,) \u001b[38;5;241m+\u001b[39m \u001b[38;5;28;43mtuple\u001b[39;49m\u001b[43m(\u001b[49m\u001b[43mkwargs\u001b[49m\u001b[43m[\u001b[49m\u001b[38;5;124;43m\"\u001b[39;49m\u001b[38;5;124;43minput_shape\u001b[39;49m\u001b[38;5;124;43m\"\u001b[39;49m\u001b[43m]\u001b[49m\u001b[43m)\u001b[49m\n\u001b[1;32m    453\u001b[0m     \u001b[38;5;28mself\u001b[39m\u001b[38;5;241m.\u001b[39m_batch_input_shape \u001b[38;5;241m=\u001b[39m batch_input_shape\n\u001b[1;32m    455\u001b[0m \u001b[38;5;66;03m# Manage initial weight values if passed.\u001b[39;00m\n",
      "\u001b[0;31mTypeError\u001b[0m: 'int' object is not iterable"
     ]
    }
   ],
   "source": [
    "from tensorflow.keras.models import Model\n",
    "from tensorflow.keras.layers import Conv2D, MaxPooling2D, Flatten, Dense, Input\n",
    "from tensorflow.keras.layers import Activation\n",
    "\n",
    "\n",
    "model_cnrb = Sequential()\n",
    "\n",
    "# Convolutional and Pooling Layers\n",
    "model_cnrb.add(Conv2D(32, (3, 3), activation='relu', input_shape=14))\n",
    "model_cnrb.add(MaxPooling2D((2, 2)))\n",
    "\n",
    "# Flattening Layer\n",
    "model_cnrb.add(Flatten())\n",
    "\n",
    "# Fully Connected Layer\n",
    "model_cnrb.add(Dense(64, activation='relu'))\n",
    "\n",
    "model_cnrb.add(Dropout(0.15))\n",
    "\n",
    "#  RBF Layer\n",
    "model_cnrb.add(RBFLayer(10, 0.05))\n",
    "model_cnrb.add(Activation('softmax'))  # Softmax Layer for Classification\n"
   ]
  },
  {
   "cell_type": "markdown",
   "id": "61d872af-11fe-4c31-a31e-59b91a039eb1",
   "metadata": {},
   "source": [
    "## CNN-LSTM"
   ]
  },
  {
   "cell_type": "code",
   "execution_count": 46,
   "id": "82dba188-d795-4cad-851e-3f6262cd57b1",
   "metadata": {},
   "outputs": [
    {
     "name": "stdout",
     "output_type": "stream",
     "text": [
      "Model: \"sequential_1\"\n",
      "_________________________________________________________________\n",
      " Layer (type)                Output Shape              Param #   \n",
      "=================================================================\n",
      " conv1d (Conv1D)             (None, 838852, 32)        1568      \n",
      "                                                                 \n",
      " batch_normalization (Batch  (None, 838852, 32)        128       \n",
      " Normalization)                                                  \n",
      "                                                                 \n",
      " re_lu (ReLU)                (None, 838852, 32)        0         \n",
      "                                                                 \n",
      " conv1d_1 (Conv1D)           (None, 838852, 64)        6208      \n",
      "                                                                 \n",
      " batch_normalization_1 (Bat  (None, 838852, 64)        256       \n",
      " chNormalization)                                                \n",
      "                                                                 \n",
      " re_lu_1 (ReLU)              (None, 838852, 64)        0         \n",
      "                                                                 \n",
      " max_pooling1d (MaxPooling1  (None, 419426, 64)        0         \n",
      " D)                                                              \n",
      "                                                                 \n",
      " lstm (LSTM)                 (None, 64)                33024     \n",
      "                                                                 \n",
      " dense (Dense)               (None, 128)               8320      \n",
      "                                                                 \n",
      " dense_1 (Dense)             (None, 1)                 129       \n",
      "                                                                 \n",
      "=================================================================\n",
      "Total params: 49633 (193.88 KB)\n",
      "Trainable params: 49441 (193.13 KB)\n",
      "Non-trainable params: 192 (768.00 Byte)\n",
      "_________________________________________________________________\n"
     ]
    }
   ],
   "source": [
    "\n",
    "model_cnnls = keras.Sequential()\n",
    "model_cnnls.add(layers.Input(shape=X_train.shape))\n",
    "model_cnnls.add(layers.Conv1D(filters=32, kernel_size=3, padding=\"same\"))\n",
    "model_cnnls.add(layers.BatchNormalization())\n",
    "model_cnnls.add(layers.ReLU())\n",
    "model_cnnls.add(layers.Conv1D(filters=64, kernel_size=3, padding=\"same\"))\n",
    "model_cnnls.add(layers.BatchNormalization())\n",
    "model_cnnls.add(layers.ReLU())\n",
    "model_cnnls.add(layers.MaxPool1D(2))\n",
    "model_cnnls.add(layers.LSTM(64))\n",
    "model_cnnls.add(layers.Dense(units=128, activation='relu'))\n",
    "model_cnnls.add(layers.Dense(1, activation='softmax'))\n",
    "model_cnnls.summary()"
   ]
  },
  {
   "cell_type": "code",
   "execution_count": 56,
   "id": "3fc79b62-9877-4858-91d6-e1bda073dff0",
   "metadata": {},
   "outputs": [
    {
     "name": "stdout",
     "output_type": "stream",
     "text": [
      "You must install pydot (`pip install pydot`) and install graphviz (see instructions at https://graphviz.gitlab.io/download/) for plot_model to work.\n"
     ]
    }
   ],
   "source": [
    "tf.keras.utils.plot_model(model_cnnls, show_shapes=True)"
   ]
  },
  {
   "cell_type": "code",
   "execution_count": 51,
   "id": "b9f44bfb-b655-4782-99f3-03ba9593a695",
   "metadata": {},
   "outputs": [
    {
     "data": {
      "text/html": [
       "<div>\n",
       "<style scoped>\n",
       "    .dataframe tbody tr th:only-of-type {\n",
       "        vertical-align: middle;\n",
       "    }\n",
       "\n",
       "    .dataframe tbody tr th {\n",
       "        vertical-align: top;\n",
       "    }\n",
       "\n",
       "    .dataframe thead th {\n",
       "        text-align: right;\n",
       "    }\n",
       "</style>\n",
       "<table border=\"1\" class=\"dataframe\">\n",
       "  <thead>\n",
       "    <tr style=\"text-align: right;\">\n",
       "      <th></th>\n",
       "      <th>Order Date</th>\n",
       "      <th>Expected delivery date</th>\n",
       "      <th>Shipment received date</th>\n",
       "      <th>Order Qty</th>\n",
       "      <th>Order value</th>\n",
       "      <th>Shipment Quantity Received</th>\n",
       "      <th>Shipment Quantity Rejected</th>\n",
       "      <th>Shipment Quantity Accepted</th>\n",
       "      <th>CRAC amount</th>\n",
       "      <th>Total payments</th>\n",
       "      <th>price</th>\n",
       "      <th>Purchase Mode_encoded</th>\n",
       "      <th>MSME verfied gender wise_encoded</th>\n",
       "      <th>Order MSME Verified_encoded</th>\n",
       "      <th>Startup verfied_encoded</th>\n",
       "      <th>Payment Type_encoded</th>\n",
       "      <th>MSME verified social category_encoded</th>\n",
       "    </tr>\n",
       "  </thead>\n",
       "  <tbody>\n",
       "    <tr>\n",
       "      <th>283696</th>\n",
       "      <td>2020-08-24</td>\n",
       "      <td>2020-09-23</td>\n",
       "      <td>2020-11-27 00:00:00</td>\n",
       "      <td>50000</td>\n",
       "      <td>4.725000e+07</td>\n",
       "      <td>405.0</td>\n",
       "      <td>0.0</td>\n",
       "      <td>405.0</td>\n",
       "      <td>382725.00</td>\n",
       "      <td>255471</td>\n",
       "      <td>945.00</td>\n",
       "      <td>0</td>\n",
       "      <td>0</td>\n",
       "      <td>0</td>\n",
       "      <td>0</td>\n",
       "      <td>1</td>\n",
       "      <td>0</td>\n",
       "    </tr>\n",
       "    <tr>\n",
       "      <th>1041908</th>\n",
       "      <td>2021-02-09</td>\n",
       "      <td>2021-08-08</td>\n",
       "      <td>2021-02-15 00:00:00</td>\n",
       "      <td>6082</td>\n",
       "      <td>1.033332e+07</td>\n",
       "      <td>120.0</td>\n",
       "      <td>0.0</td>\n",
       "      <td>120.0</td>\n",
       "      <td>203880.00</td>\n",
       "      <td>366984</td>\n",
       "      <td>1699.00</td>\n",
       "      <td>0</td>\n",
       "      <td>0</td>\n",
       "      <td>1</td>\n",
       "      <td>0</td>\n",
       "      <td>1</td>\n",
       "      <td>0</td>\n",
       "    </tr>\n",
       "    <tr>\n",
       "      <th>1005834</th>\n",
       "      <td>2020-12-02</td>\n",
       "      <td>2021-01-01</td>\n",
       "      <td>-</td>\n",
       "      <td>4332</td>\n",
       "      <td>2.815800e+05</td>\n",
       "      <td>0.0</td>\n",
       "      <td>0.0</td>\n",
       "      <td>0.0</td>\n",
       "      <td>0.00</td>\n",
       "      <td>0</td>\n",
       "      <td>65.00</td>\n",
       "      <td>0</td>\n",
       "      <td>1</td>\n",
       "      <td>0</td>\n",
       "      <td>0</td>\n",
       "      <td>0</td>\n",
       "      <td>0</td>\n",
       "    </tr>\n",
       "    <tr>\n",
       "      <th>67152</th>\n",
       "      <td>2020-07-23</td>\n",
       "      <td>2020-09-21</td>\n",
       "      <td>2021-01-05 00:00:00</td>\n",
       "      <td>73</td>\n",
       "      <td>7.665000e+06</td>\n",
       "      <td>1.0</td>\n",
       "      <td>0.0</td>\n",
       "      <td>1.0</td>\n",
       "      <td>105000.00</td>\n",
       "      <td>980620</td>\n",
       "      <td>105000.00</td>\n",
       "      <td>1</td>\n",
       "      <td>1</td>\n",
       "      <td>0</td>\n",
       "      <td>0</td>\n",
       "      <td>2</td>\n",
       "      <td>0</td>\n",
       "    </tr>\n",
       "    <tr>\n",
       "      <th>315531</th>\n",
       "      <td>2020-08-20</td>\n",
       "      <td>2020-11-18</td>\n",
       "      <td>2020-11-05 00:00:00</td>\n",
       "      <td>330</td>\n",
       "      <td>5.445000e+06</td>\n",
       "      <td>6.0</td>\n",
       "      <td>0.0</td>\n",
       "      <td>6.0</td>\n",
       "      <td>99000.00</td>\n",
       "      <td>1041810</td>\n",
       "      <td>16500.00</td>\n",
       "      <td>0</td>\n",
       "      <td>0</td>\n",
       "      <td>0</td>\n",
       "      <td>0</td>\n",
       "      <td>1</td>\n",
       "      <td>0</td>\n",
       "    </tr>\n",
       "    <tr>\n",
       "      <th>...</th>\n",
       "      <td>...</td>\n",
       "      <td>...</td>\n",
       "      <td>...</td>\n",
       "      <td>...</td>\n",
       "      <td>...</td>\n",
       "      <td>...</td>\n",
       "      <td>...</td>\n",
       "      <td>...</td>\n",
       "      <td>...</td>\n",
       "      <td>...</td>\n",
       "      <td>...</td>\n",
       "      <td>...</td>\n",
       "      <td>...</td>\n",
       "      <td>...</td>\n",
       "      <td>...</td>\n",
       "      <td>...</td>\n",
       "      <td>...</td>\n",
       "    </tr>\n",
       "    <tr>\n",
       "      <th>987480</th>\n",
       "      <td>2020-10-29</td>\n",
       "      <td>2021-06-15</td>\n",
       "      <td>2021-01-28 00:00:00</td>\n",
       "      <td>200000</td>\n",
       "      <td>8.836000e+06</td>\n",
       "      <td>9914.0</td>\n",
       "      <td>0.0</td>\n",
       "      <td>9914.0</td>\n",
       "      <td>438000.52</td>\n",
       "      <td>1950149</td>\n",
       "      <td>44.18</td>\n",
       "      <td>1</td>\n",
       "      <td>0</td>\n",
       "      <td>0</td>\n",
       "      <td>0</td>\n",
       "      <td>3</td>\n",
       "      <td>0</td>\n",
       "    </tr>\n",
       "    <tr>\n",
       "      <th>669083</th>\n",
       "      <td>2020-10-12</td>\n",
       "      <td>2021-01-10</td>\n",
       "      <td>2021-11-30 00:00:00</td>\n",
       "      <td>226239895</td>\n",
       "      <td>4.366430e+08</td>\n",
       "      <td>338364.0</td>\n",
       "      <td>0.0</td>\n",
       "      <td>338364.0</td>\n",
       "      <td>653042.52</td>\n",
       "      <td>341454</td>\n",
       "      <td>1.93</td>\n",
       "      <td>0</td>\n",
       "      <td>1</td>\n",
       "      <td>0</td>\n",
       "      <td>0</td>\n",
       "      <td>3</td>\n",
       "      <td>0</td>\n",
       "    </tr>\n",
       "    <tr>\n",
       "      <th>602301</th>\n",
       "      <td>2020-10-12</td>\n",
       "      <td>2021-01-10</td>\n",
       "      <td>2021-11-25 00:00:00</td>\n",
       "      <td>138663161</td>\n",
       "      <td>2.676199e+08</td>\n",
       "      <td>145530.0</td>\n",
       "      <td>0.0</td>\n",
       "      <td>145530.0</td>\n",
       "      <td>280872.90</td>\n",
       "      <td>673079</td>\n",
       "      <td>1.93</td>\n",
       "      <td>0</td>\n",
       "      <td>0</td>\n",
       "      <td>1</td>\n",
       "      <td>0</td>\n",
       "      <td>3</td>\n",
       "      <td>0</td>\n",
       "    </tr>\n",
       "    <tr>\n",
       "      <th>171081</th>\n",
       "      <td>2020-08-14</td>\n",
       "      <td>2020-10-13</td>\n",
       "      <td>2021-06-24 00:00:00</td>\n",
       "      <td>41250</td>\n",
       "      <td>2.021786e+07</td>\n",
       "      <td>1520.0</td>\n",
       "      <td>0.0</td>\n",
       "      <td>1520.0</td>\n",
       "      <td>744997.60</td>\n",
       "      <td>1439374</td>\n",
       "      <td>490.13</td>\n",
       "      <td>0</td>\n",
       "      <td>0</td>\n",
       "      <td>1</td>\n",
       "      <td>0</td>\n",
       "      <td>3</td>\n",
       "      <td>0</td>\n",
       "    </tr>\n",
       "    <tr>\n",
       "      <th>206443</th>\n",
       "      <td>2020-06-06</td>\n",
       "      <td>2020-12-03</td>\n",
       "      <td>2021-02-18 00:00:00</td>\n",
       "      <td>3000000</td>\n",
       "      <td>2.904000e+07</td>\n",
       "      <td>30000.0</td>\n",
       "      <td>0.0</td>\n",
       "      <td>30000.0</td>\n",
       "      <td>290400.00</td>\n",
       "      <td>232126</td>\n",
       "      <td>9.68</td>\n",
       "      <td>1</td>\n",
       "      <td>0</td>\n",
       "      <td>0</td>\n",
       "      <td>0</td>\n",
       "      <td>1</td>\n",
       "      <td>0</td>\n",
       "    </tr>\n",
       "  </tbody>\n",
       "</table>\n",
       "<p>838852 rows × 17 columns</p>\n",
       "</div>"
      ],
      "text/plain": [
       "        Order Date Expected delivery date Shipment received date  Order Qty  \\\n",
       "283696  2020-08-24             2020-09-23    2020-11-27 00:00:00      50000   \n",
       "1041908 2021-02-09             2021-08-08    2021-02-15 00:00:00       6082   \n",
       "1005834 2020-12-02             2021-01-01                      -       4332   \n",
       "67152   2020-07-23             2020-09-21    2021-01-05 00:00:00         73   \n",
       "315531  2020-08-20             2020-11-18    2020-11-05 00:00:00        330   \n",
       "...            ...                    ...                    ...        ...   \n",
       "987480  2020-10-29             2021-06-15    2021-01-28 00:00:00     200000   \n",
       "669083  2020-10-12             2021-01-10    2021-11-30 00:00:00  226239895   \n",
       "602301  2020-10-12             2021-01-10    2021-11-25 00:00:00  138663161   \n",
       "171081  2020-08-14             2020-10-13    2021-06-24 00:00:00      41250   \n",
       "206443  2020-06-06             2020-12-03    2021-02-18 00:00:00    3000000   \n",
       "\n",
       "          Order value  Shipment Quantity Received  Shipment Quantity Rejected  \\\n",
       "283696   4.725000e+07                       405.0                         0.0   \n",
       "1041908  1.033332e+07                       120.0                         0.0   \n",
       "1005834  2.815800e+05                         0.0                         0.0   \n",
       "67152    7.665000e+06                         1.0                         0.0   \n",
       "315531   5.445000e+06                         6.0                         0.0   \n",
       "...               ...                         ...                         ...   \n",
       "987480   8.836000e+06                      9914.0                         0.0   \n",
       "669083   4.366430e+08                    338364.0                         0.0   \n",
       "602301   2.676199e+08                    145530.0                         0.0   \n",
       "171081   2.021786e+07                      1520.0                         0.0   \n",
       "206443   2.904000e+07                     30000.0                         0.0   \n",
       "\n",
       "         Shipment Quantity Accepted  CRAC amount  Total payments      price  \\\n",
       "283696                        405.0    382725.00          255471     945.00   \n",
       "1041908                       120.0    203880.00          366984    1699.00   \n",
       "1005834                         0.0         0.00               0      65.00   \n",
       "67152                           1.0    105000.00          980620  105000.00   \n",
       "315531                          6.0     99000.00         1041810   16500.00   \n",
       "...                             ...          ...             ...        ...   \n",
       "987480                       9914.0    438000.52         1950149      44.18   \n",
       "669083                     338364.0    653042.52          341454       1.93   \n",
       "602301                     145530.0    280872.90          673079       1.93   \n",
       "171081                       1520.0    744997.60         1439374     490.13   \n",
       "206443                      30000.0    290400.00          232126       9.68   \n",
       "\n",
       "         Purchase Mode_encoded  MSME verfied gender wise_encoded  \\\n",
       "283696                       0                                 0   \n",
       "1041908                      0                                 0   \n",
       "1005834                      0                                 1   \n",
       "67152                        1                                 1   \n",
       "315531                       0                                 0   \n",
       "...                        ...                               ...   \n",
       "987480                       1                                 0   \n",
       "669083                       0                                 1   \n",
       "602301                       0                                 0   \n",
       "171081                       0                                 0   \n",
       "206443                       1                                 0   \n",
       "\n",
       "         Order MSME Verified_encoded  Startup verfied_encoded  \\\n",
       "283696                             0                        0   \n",
       "1041908                            1                        0   \n",
       "1005834                            0                        0   \n",
       "67152                              0                        0   \n",
       "315531                             0                        0   \n",
       "...                              ...                      ...   \n",
       "987480                             0                        0   \n",
       "669083                             0                        0   \n",
       "602301                             1                        0   \n",
       "171081                             1                        0   \n",
       "206443                             0                        0   \n",
       "\n",
       "         Payment Type_encoded  MSME verified social category_encoded  \n",
       "283696                      1                                      0  \n",
       "1041908                     1                                      0  \n",
       "1005834                     0                                      0  \n",
       "67152                       2                                      0  \n",
       "315531                      1                                      0  \n",
       "...                       ...                                    ...  \n",
       "987480                      3                                      0  \n",
       "669083                      3                                      0  \n",
       "602301                      3                                      0  \n",
       "171081                      3                                      0  \n",
       "206443                      1                                      0  \n",
       "\n",
       "[838852 rows x 17 columns]"
      ]
     },
     "execution_count": 51,
     "metadata": {},
     "output_type": "execute_result"
    }
   ],
   "source": [
    "callbacks = [keras.callbacks.ModelCheckpoint(\"mhealth_best.h5\", save_best_only=True, monitor=\"val_loss\"),\n",
    "             keras.callbacks.EarlyStopping(monitor=\"val_loss\", patience=50, verbose=1)]\n",
    " \n",
    "model_cnnls.compile(optimizer=\"adam\", loss=\"binary_crossentropy\", metrics=[\"sparse_categorical_accuracy\"],)\n",
    " \n",
    "model_history = model.fit(x_train,y_train, epochs= 10, validation_data=(x_val,y_val), callbacks=callbacks)"
   ]
  },
  {
   "cell_type": "markdown",
   "id": "9b90e99f-0862-4b93-b9b7-76a220bb3079",
   "metadata": {},
   "source": [
    "## LSTM Autoencoder"
   ]
  },
  {
   "cell_type": "code",
   "execution_count": 78,
   "id": "804e38af-d5bf-453c-9db2-1317e10e2e1e",
   "metadata": {},
   "outputs": [],
   "source": [
    "from keras.layers import RepeatVector\n",
    "from keras.layers import Bidirectional"
   ]
  },
  {
   "cell_type": "code",
   "execution_count": 92,
   "id": "11fbdb71-927d-4960-9255-304b1968d216",
   "metadata": {},
   "outputs": [],
   "source": [
    "def create_model():\n",
    "  model = Sequential()\n",
    "  model.add(LSTM(128, activation='relu', return_sequences=True))\n",
    "  model.add(LSTM(64, activation='relu', return_sequences=False))\n",
    "  model.add(RepeatVector(7))\n",
    "  model.add(LSTM(64, activation='relu', return_sequences=True))\n",
    "  model.add(LSTM(128, activation='relu', return_sequences=True))\n",
    "\n",
    "  model.add(Bidirectional(LSTM(128, activation='relu',return_sequences=True)))\n",
    "  model.add(LSTM(64, activation='relu', return_sequences=True))\n",
    "  model.add(Dropout(0.25))\n",
    "  model.add(LSTM(64, activation='relu', return_sequences=False))\n",
    "  model.add(Dropout(0.25))\n",
    "\n",
    "  model.add(Dense(10,activation='relu'))\n",
    "  model.add(Dense(1,activation='relu'))\n",
    "  model.compile(loss='mse', optimizer='adam')\n",
    "  model.build(input_shape=(1,14,1)) \n",
    "  model.summary()\n",
    "  return model"
   ]
  },
  {
   "cell_type": "code",
   "execution_count": 93,
   "id": "efd01672-b9e3-4176-ada9-bd3fa90136b8",
   "metadata": {},
   "outputs": [
    {
     "data": {
      "text/plain": [
       "838852"
      ]
     },
     "execution_count": 93,
     "metadata": {},
     "output_type": "execute_result"
    }
   ],
   "source": [
    "X_train.shape[0]"
   ]
  },
  {
   "cell_type": "code",
   "execution_count": 100,
   "id": "8edad082-c29c-4f9c-b567-89aa72fcc1a4",
   "metadata": {},
   "outputs": [
    {
     "name": "stdout",
     "output_type": "stream",
     "text": [
      "Model: \"sequential_2\"\n",
      "_________________________________________________________________\n",
      " Layer (type)                Output Shape              Param #   \n",
      "=================================================================\n",
      " lstm_14 (LSTM)              (1, 14, 128)              66560     \n",
      "                                                                 \n",
      " lstm_15 (LSTM)              (1, 64)                   49408     \n",
      "                                                                 \n",
      " repeat_vector_2 (RepeatVec  (1, 7, 64)                0         \n",
      " tor)                                                            \n",
      "                                                                 \n",
      " lstm_16 (LSTM)              (1, 7, 64)                33024     \n",
      "                                                                 \n",
      " lstm_17 (LSTM)              (1, 7, 128)               98816     \n",
      "                                                                 \n",
      " bidirectional_2 (Bidirecti  (1, 7, 256)               263168    \n",
      " onal)                                                           \n",
      "                                                                 \n",
      " lstm_19 (LSTM)              (1, 7, 64)                82176     \n",
      "                                                                 \n",
      " dropout_4 (Dropout)         (1, 7, 64)                0         \n",
      "                                                                 \n",
      " lstm_20 (LSTM)              (1, 64)                   33024     \n",
      "                                                                 \n",
      " dropout_5 (Dropout)         (1, 64)                   0         \n",
      "                                                                 \n",
      " dense_4 (Dense)             (1, 10)                   650       \n",
      "                                                                 \n",
      " dense_5 (Dense)             (1, 1)                    11        \n",
      "                                                                 \n",
      "=================================================================\n",
      "Total params: 626837 (2.39 MB)\n",
      "Trainable params: 626837 (2.39 MB)\n",
      "Non-trainable params: 0 (0.00 Byte)\n",
      "_________________________________________________________________\n",
      "Epoch 1/30\n",
      "9471/9471 [==============================] - 367s 38ms/step - loss: 1694067.6250 - val_loss: 12444.5742\n",
      "Epoch 2/30\n",
      "9471/9471 [==============================] - 357s 38ms/step - loss: 274917.5312 - val_loss: 12444.5742\n",
      "Epoch 3/30\n",
      "9471/9471 [==============================] - 351s 37ms/step - loss: 12363.0557 - val_loss: 12444.5742\n",
      "Epoch 4/30\n",
      "9471/9471 [==============================] - 365s 39ms/step - loss: 19979.8320 - val_loss: 12444.5742\n",
      "Epoch 5/30\n",
      "9471/9471 [==============================] - 352s 37ms/step - loss: 379994.0625 - val_loss: 12444.5742\n",
      "Epoch 6/30\n",
      "9471/9471 [==============================] - ETA: 0s - loss: 12363.0098"
     ]
    },
    {
     "ename": "KeyboardInterrupt",
     "evalue": "",
     "output_type": "error",
     "traceback": [
      "\u001b[0;31m---------------------------------------------------------------------------\u001b[0m",
      "\u001b[0;31mKeyboardInterrupt\u001b[0m                         Traceback (most recent call last)",
      "Cell \u001b[0;32mIn[100], line 2\u001b[0m\n\u001b[1;32m      1\u001b[0m model_lsauto\u001b[38;5;241m=\u001b[39mcreate_model()\n\u001b[0;32m----> 2\u001b[0m history_ls \u001b[38;5;241m=\u001b[39m \u001b[43mmodel_lsauto\u001b[49m\u001b[38;5;241;43m.\u001b[39;49m\u001b[43mfit\u001b[49m\u001b[43m(\u001b[49m\u001b[43mX_train_bil\u001b[49m\u001b[43m,\u001b[49m\u001b[43m \u001b[49m\u001b[43my_train_bil\u001b[49m\u001b[43m,\u001b[49m\u001b[43m \u001b[49m\u001b[43mepochs\u001b[49m\u001b[38;5;241;43m=\u001b[39;49m\u001b[38;5;241;43m30\u001b[39;49m\u001b[43m,\u001b[49m\u001b[43m \u001b[49m\u001b[43mbatch_size\u001b[49m\u001b[38;5;241;43m=\u001b[39;49m\u001b[38;5;241;43m62\u001b[39;49m\u001b[43m,\u001b[49m\u001b[43m \u001b[49m\u001b[43mvalidation_split\u001b[49m\u001b[38;5;241;43m=\u001b[39;49m\u001b[38;5;241;43m0.3\u001b[39;49m\u001b[43m)\u001b[49m\n\u001b[1;32m      3\u001b[0m y_pred_lsauto \u001b[38;5;241m=\u001b[39m model_lsauto\u001b[38;5;241m.\u001b[39mpredict(X_test_bil)\n",
      "File \u001b[0;32m~/railway/nature/lib/python3.8/site-packages/keras/src/utils/traceback_utils.py:65\u001b[0m, in \u001b[0;36mfilter_traceback.<locals>.error_handler\u001b[0;34m(*args, **kwargs)\u001b[0m\n\u001b[1;32m     63\u001b[0m filtered_tb \u001b[38;5;241m=\u001b[39m \u001b[38;5;28;01mNone\u001b[39;00m\n\u001b[1;32m     64\u001b[0m \u001b[38;5;28;01mtry\u001b[39;00m:\n\u001b[0;32m---> 65\u001b[0m     \u001b[38;5;28;01mreturn\u001b[39;00m \u001b[43mfn\u001b[49m\u001b[43m(\u001b[49m\u001b[38;5;241;43m*\u001b[39;49m\u001b[43margs\u001b[49m\u001b[43m,\u001b[49m\u001b[43m \u001b[49m\u001b[38;5;241;43m*\u001b[39;49m\u001b[38;5;241;43m*\u001b[39;49m\u001b[43mkwargs\u001b[49m\u001b[43m)\u001b[49m\n\u001b[1;32m     66\u001b[0m \u001b[38;5;28;01mexcept\u001b[39;00m \u001b[38;5;167;01mException\u001b[39;00m \u001b[38;5;28;01mas\u001b[39;00m e:\n\u001b[1;32m     67\u001b[0m     filtered_tb \u001b[38;5;241m=\u001b[39m _process_traceback_frames(e\u001b[38;5;241m.\u001b[39m__traceback__)\n",
      "File \u001b[0;32m~/railway/nature/lib/python3.8/site-packages/keras/src/engine/training.py:1791\u001b[0m, in \u001b[0;36mModel.fit\u001b[0;34m(self, x, y, batch_size, epochs, verbose, callbacks, validation_split, validation_data, shuffle, class_weight, sample_weight, initial_epoch, steps_per_epoch, validation_steps, validation_batch_size, validation_freq, max_queue_size, workers, use_multiprocessing)\u001b[0m\n\u001b[1;32m   1775\u001b[0m \u001b[38;5;28;01mif\u001b[39;00m \u001b[38;5;28mgetattr\u001b[39m(\u001b[38;5;28mself\u001b[39m, \u001b[38;5;124m\"\u001b[39m\u001b[38;5;124m_eval_data_handler\u001b[39m\u001b[38;5;124m\"\u001b[39m, \u001b[38;5;28;01mNone\u001b[39;00m) \u001b[38;5;129;01mis\u001b[39;00m \u001b[38;5;28;01mNone\u001b[39;00m:\n\u001b[1;32m   1776\u001b[0m     \u001b[38;5;28mself\u001b[39m\u001b[38;5;241m.\u001b[39m_eval_data_handler \u001b[38;5;241m=\u001b[39m data_adapter\u001b[38;5;241m.\u001b[39mget_data_handler(\n\u001b[1;32m   1777\u001b[0m         x\u001b[38;5;241m=\u001b[39mval_x,\n\u001b[1;32m   1778\u001b[0m         y\u001b[38;5;241m=\u001b[39mval_y,\n\u001b[0;32m   (...)\u001b[0m\n\u001b[1;32m   1789\u001b[0m         pss_evaluation_shards\u001b[38;5;241m=\u001b[39m\u001b[38;5;28mself\u001b[39m\u001b[38;5;241m.\u001b[39m_pss_evaluation_shards,\n\u001b[1;32m   1790\u001b[0m     )\n\u001b[0;32m-> 1791\u001b[0m val_logs \u001b[38;5;241m=\u001b[39m \u001b[38;5;28;43mself\u001b[39;49m\u001b[38;5;241;43m.\u001b[39;49m\u001b[43mevaluate\u001b[49m\u001b[43m(\u001b[49m\n\u001b[1;32m   1792\u001b[0m \u001b[43m    \u001b[49m\u001b[43mx\u001b[49m\u001b[38;5;241;43m=\u001b[39;49m\u001b[43mval_x\u001b[49m\u001b[43m,\u001b[49m\n\u001b[1;32m   1793\u001b[0m \u001b[43m    \u001b[49m\u001b[43my\u001b[49m\u001b[38;5;241;43m=\u001b[39;49m\u001b[43mval_y\u001b[49m\u001b[43m,\u001b[49m\n\u001b[1;32m   1794\u001b[0m \u001b[43m    \u001b[49m\u001b[43msample_weight\u001b[49m\u001b[38;5;241;43m=\u001b[39;49m\u001b[43mval_sample_weight\u001b[49m\u001b[43m,\u001b[49m\n\u001b[1;32m   1795\u001b[0m \u001b[43m    \u001b[49m\u001b[43mbatch_size\u001b[49m\u001b[38;5;241;43m=\u001b[39;49m\u001b[43mvalidation_batch_size\u001b[49m\u001b[43m \u001b[49m\u001b[38;5;129;43;01mor\u001b[39;49;00m\u001b[43m \u001b[49m\u001b[43mbatch_size\u001b[49m\u001b[43m,\u001b[49m\n\u001b[1;32m   1796\u001b[0m \u001b[43m    \u001b[49m\u001b[43msteps\u001b[49m\u001b[38;5;241;43m=\u001b[39;49m\u001b[43mvalidation_steps\u001b[49m\u001b[43m,\u001b[49m\n\u001b[1;32m   1797\u001b[0m \u001b[43m    \u001b[49m\u001b[43mcallbacks\u001b[49m\u001b[38;5;241;43m=\u001b[39;49m\u001b[43mcallbacks\u001b[49m\u001b[43m,\u001b[49m\n\u001b[1;32m   1798\u001b[0m \u001b[43m    \u001b[49m\u001b[43mmax_queue_size\u001b[49m\u001b[38;5;241;43m=\u001b[39;49m\u001b[43mmax_queue_size\u001b[49m\u001b[43m,\u001b[49m\n\u001b[1;32m   1799\u001b[0m \u001b[43m    \u001b[49m\u001b[43mworkers\u001b[49m\u001b[38;5;241;43m=\u001b[39;49m\u001b[43mworkers\u001b[49m\u001b[43m,\u001b[49m\n\u001b[1;32m   1800\u001b[0m \u001b[43m    \u001b[49m\u001b[43muse_multiprocessing\u001b[49m\u001b[38;5;241;43m=\u001b[39;49m\u001b[43muse_multiprocessing\u001b[49m\u001b[43m,\u001b[49m\n\u001b[1;32m   1801\u001b[0m \u001b[43m    \u001b[49m\u001b[43mreturn_dict\u001b[49m\u001b[38;5;241;43m=\u001b[39;49m\u001b[38;5;28;43;01mTrue\u001b[39;49;00m\u001b[43m,\u001b[49m\n\u001b[1;32m   1802\u001b[0m \u001b[43m    \u001b[49m\u001b[43m_use_cached_eval_dataset\u001b[49m\u001b[38;5;241;43m=\u001b[39;49m\u001b[38;5;28;43;01mTrue\u001b[39;49;00m\u001b[43m,\u001b[49m\n\u001b[1;32m   1803\u001b[0m \u001b[43m\u001b[49m\u001b[43m)\u001b[49m\n\u001b[1;32m   1804\u001b[0m val_logs \u001b[38;5;241m=\u001b[39m {\n\u001b[1;32m   1805\u001b[0m     \u001b[38;5;124m\"\u001b[39m\u001b[38;5;124mval_\u001b[39m\u001b[38;5;124m\"\u001b[39m \u001b[38;5;241m+\u001b[39m name: val \u001b[38;5;28;01mfor\u001b[39;00m name, val \u001b[38;5;129;01min\u001b[39;00m val_logs\u001b[38;5;241m.\u001b[39mitems()\n\u001b[1;32m   1806\u001b[0m }\n\u001b[1;32m   1807\u001b[0m epoch_logs\u001b[38;5;241m.\u001b[39mupdate(val_logs)\n",
      "File \u001b[0;32m~/railway/nature/lib/python3.8/site-packages/keras/src/utils/traceback_utils.py:65\u001b[0m, in \u001b[0;36mfilter_traceback.<locals>.error_handler\u001b[0;34m(*args, **kwargs)\u001b[0m\n\u001b[1;32m     63\u001b[0m filtered_tb \u001b[38;5;241m=\u001b[39m \u001b[38;5;28;01mNone\u001b[39;00m\n\u001b[1;32m     64\u001b[0m \u001b[38;5;28;01mtry\u001b[39;00m:\n\u001b[0;32m---> 65\u001b[0m     \u001b[38;5;28;01mreturn\u001b[39;00m \u001b[43mfn\u001b[49m\u001b[43m(\u001b[49m\u001b[38;5;241;43m*\u001b[39;49m\u001b[43margs\u001b[49m\u001b[43m,\u001b[49m\u001b[43m \u001b[49m\u001b[38;5;241;43m*\u001b[39;49m\u001b[38;5;241;43m*\u001b[39;49m\u001b[43mkwargs\u001b[49m\u001b[43m)\u001b[49m\n\u001b[1;32m     66\u001b[0m \u001b[38;5;28;01mexcept\u001b[39;00m \u001b[38;5;167;01mException\u001b[39;00m \u001b[38;5;28;01mas\u001b[39;00m e:\n\u001b[1;32m     67\u001b[0m     filtered_tb \u001b[38;5;241m=\u001b[39m _process_traceback_frames(e\u001b[38;5;241m.\u001b[39m__traceback__)\n",
      "File \u001b[0;32m~/railway/nature/lib/python3.8/site-packages/keras/src/engine/training.py:2200\u001b[0m, in \u001b[0;36mModel.evaluate\u001b[0;34m(self, x, y, batch_size, verbose, sample_weight, steps, callbacks, max_queue_size, workers, use_multiprocessing, return_dict, **kwargs)\u001b[0m\n\u001b[1;32m   2196\u001b[0m             \u001b[38;5;28;01mwith\u001b[39;00m tf\u001b[38;5;241m.\u001b[39mprofiler\u001b[38;5;241m.\u001b[39mexperimental\u001b[38;5;241m.\u001b[39mTrace(\n\u001b[1;32m   2197\u001b[0m                 \u001b[38;5;124m\"\u001b[39m\u001b[38;5;124mtest\u001b[39m\u001b[38;5;124m\"\u001b[39m, step_num\u001b[38;5;241m=\u001b[39mstep, _r\u001b[38;5;241m=\u001b[39m\u001b[38;5;241m1\u001b[39m\n\u001b[1;32m   2198\u001b[0m             ):\n\u001b[1;32m   2199\u001b[0m                 callbacks\u001b[38;5;241m.\u001b[39mon_test_batch_begin(step)\n\u001b[0;32m-> 2200\u001b[0m                 logs \u001b[38;5;241m=\u001b[39m \u001b[43mtest_function_runner\u001b[49m\u001b[38;5;241;43m.\u001b[39;49m\u001b[43mrun_step\u001b[49m\u001b[43m(\u001b[49m\n\u001b[1;32m   2201\u001b[0m \u001b[43m                    \u001b[49m\u001b[43mdataset_or_iterator\u001b[49m\u001b[43m,\u001b[49m\n\u001b[1;32m   2202\u001b[0m \u001b[43m                    \u001b[49m\u001b[43mdata_handler\u001b[49m\u001b[43m,\u001b[49m\n\u001b[1;32m   2203\u001b[0m \u001b[43m                    \u001b[49m\u001b[43mstep\u001b[49m\u001b[43m,\u001b[49m\n\u001b[1;32m   2204\u001b[0m \u001b[43m                    \u001b[49m\u001b[38;5;28;43mself\u001b[39;49m\u001b[38;5;241;43m.\u001b[39;49m\u001b[43m_pss_evaluation_shards\u001b[49m\u001b[43m,\u001b[49m\n\u001b[1;32m   2205\u001b[0m \u001b[43m                \u001b[49m\u001b[43m)\u001b[49m\n\u001b[1;32m   2207\u001b[0m logs \u001b[38;5;241m=\u001b[39m tf_utils\u001b[38;5;241m.\u001b[39msync_to_numpy_or_python_type(logs)\n\u001b[1;32m   2208\u001b[0m \u001b[38;5;66;03m# Override with model metrics instead of last step logs\u001b[39;00m\n",
      "File \u001b[0;32m~/railway/nature/lib/python3.8/site-packages/keras/src/engine/training.py:4000\u001b[0m, in \u001b[0;36m_TestFunction.run_step\u001b[0;34m(self, dataset_or_iterator, data_handler, step, unused_shards)\u001b[0m\n\u001b[1;32m   3999\u001b[0m \u001b[38;5;28;01mdef\u001b[39;00m \u001b[38;5;21mrun_step\u001b[39m(\u001b[38;5;28mself\u001b[39m, dataset_or_iterator, data_handler, step, unused_shards):\n\u001b[0;32m-> 4000\u001b[0m     tmp_logs \u001b[38;5;241m=\u001b[39m \u001b[38;5;28;43mself\u001b[39;49m\u001b[38;5;241;43m.\u001b[39;49m\u001b[43m_function\u001b[49m\u001b[43m(\u001b[49m\u001b[43mdataset_or_iterator\u001b[49m\u001b[43m)\u001b[49m\n\u001b[1;32m   4001\u001b[0m     \u001b[38;5;28;01mif\u001b[39;00m data_handler\u001b[38;5;241m.\u001b[39mshould_sync:\n\u001b[1;32m   4002\u001b[0m         context\u001b[38;5;241m.\u001b[39masync_wait()\n",
      "File \u001b[0;32m~/railway/nature/lib/python3.8/site-packages/tensorflow/python/util/traceback_utils.py:150\u001b[0m, in \u001b[0;36mfilter_traceback.<locals>.error_handler\u001b[0;34m(*args, **kwargs)\u001b[0m\n\u001b[1;32m    148\u001b[0m filtered_tb \u001b[38;5;241m=\u001b[39m \u001b[38;5;28;01mNone\u001b[39;00m\n\u001b[1;32m    149\u001b[0m \u001b[38;5;28;01mtry\u001b[39;00m:\n\u001b[0;32m--> 150\u001b[0m   \u001b[38;5;28;01mreturn\u001b[39;00m \u001b[43mfn\u001b[49m\u001b[43m(\u001b[49m\u001b[38;5;241;43m*\u001b[39;49m\u001b[43margs\u001b[49m\u001b[43m,\u001b[49m\u001b[43m \u001b[49m\u001b[38;5;241;43m*\u001b[39;49m\u001b[38;5;241;43m*\u001b[39;49m\u001b[43mkwargs\u001b[49m\u001b[43m)\u001b[49m\n\u001b[1;32m    151\u001b[0m \u001b[38;5;28;01mexcept\u001b[39;00m \u001b[38;5;167;01mException\u001b[39;00m \u001b[38;5;28;01mas\u001b[39;00m e:\n\u001b[1;32m    152\u001b[0m   filtered_tb \u001b[38;5;241m=\u001b[39m _process_traceback_frames(e\u001b[38;5;241m.\u001b[39m__traceback__)\n",
      "File \u001b[0;32m~/railway/nature/lib/python3.8/site-packages/tensorflow/python/eager/polymorphic_function/polymorphic_function.py:825\u001b[0m, in \u001b[0;36mFunction.__call__\u001b[0;34m(self, *args, **kwds)\u001b[0m\n\u001b[1;32m    822\u001b[0m compiler \u001b[38;5;241m=\u001b[39m \u001b[38;5;124m\"\u001b[39m\u001b[38;5;124mxla\u001b[39m\u001b[38;5;124m\"\u001b[39m \u001b[38;5;28;01mif\u001b[39;00m \u001b[38;5;28mself\u001b[39m\u001b[38;5;241m.\u001b[39m_jit_compile \u001b[38;5;28;01melse\u001b[39;00m \u001b[38;5;124m\"\u001b[39m\u001b[38;5;124mnonXla\u001b[39m\u001b[38;5;124m\"\u001b[39m\n\u001b[1;32m    824\u001b[0m \u001b[38;5;28;01mwith\u001b[39;00m OptionalXlaContext(\u001b[38;5;28mself\u001b[39m\u001b[38;5;241m.\u001b[39m_jit_compile):\n\u001b[0;32m--> 825\u001b[0m   result \u001b[38;5;241m=\u001b[39m \u001b[38;5;28;43mself\u001b[39;49m\u001b[38;5;241;43m.\u001b[39;49m\u001b[43m_call\u001b[49m\u001b[43m(\u001b[49m\u001b[38;5;241;43m*\u001b[39;49m\u001b[43margs\u001b[49m\u001b[43m,\u001b[49m\u001b[43m \u001b[49m\u001b[38;5;241;43m*\u001b[39;49m\u001b[38;5;241;43m*\u001b[39;49m\u001b[43mkwds\u001b[49m\u001b[43m)\u001b[49m\n\u001b[1;32m    827\u001b[0m new_tracing_count \u001b[38;5;241m=\u001b[39m \u001b[38;5;28mself\u001b[39m\u001b[38;5;241m.\u001b[39mexperimental_get_tracing_count()\n\u001b[1;32m    828\u001b[0m without_tracing \u001b[38;5;241m=\u001b[39m (tracing_count \u001b[38;5;241m==\u001b[39m new_tracing_count)\n",
      "File \u001b[0;32m~/railway/nature/lib/python3.8/site-packages/tensorflow/python/eager/polymorphic_function/polymorphic_function.py:864\u001b[0m, in \u001b[0;36mFunction._call\u001b[0;34m(self, *args, **kwds)\u001b[0m\n\u001b[1;32m    861\u001b[0m \u001b[38;5;28mself\u001b[39m\u001b[38;5;241m.\u001b[39m_lock\u001b[38;5;241m.\u001b[39mrelease()\n\u001b[1;32m    862\u001b[0m \u001b[38;5;66;03m# In this case we have not created variables on the first call. So we can\u001b[39;00m\n\u001b[1;32m    863\u001b[0m \u001b[38;5;66;03m# run the first trace but we should fail if variables are created.\u001b[39;00m\n\u001b[0;32m--> 864\u001b[0m results \u001b[38;5;241m=\u001b[39m \u001b[38;5;28;43mself\u001b[39;49m\u001b[38;5;241;43m.\u001b[39;49m\u001b[43m_variable_creation_fn\u001b[49m\u001b[43m(\u001b[49m\u001b[38;5;241;43m*\u001b[39;49m\u001b[43margs\u001b[49m\u001b[43m,\u001b[49m\u001b[43m \u001b[49m\u001b[38;5;241;43m*\u001b[39;49m\u001b[38;5;241;43m*\u001b[39;49m\u001b[43mkwds\u001b[49m\u001b[43m)\u001b[49m\n\u001b[1;32m    865\u001b[0m \u001b[38;5;28;01mif\u001b[39;00m \u001b[38;5;28mself\u001b[39m\u001b[38;5;241m.\u001b[39m_created_variables \u001b[38;5;129;01mand\u001b[39;00m \u001b[38;5;129;01mnot\u001b[39;00m ALLOW_DYNAMIC_VARIABLE_CREATION:\n\u001b[1;32m    866\u001b[0m   \u001b[38;5;28;01mraise\u001b[39;00m \u001b[38;5;167;01mValueError\u001b[39;00m(\u001b[38;5;124m\"\u001b[39m\u001b[38;5;124mCreating variables on a non-first call to a function\u001b[39m\u001b[38;5;124m\"\u001b[39m\n\u001b[1;32m    867\u001b[0m                    \u001b[38;5;124m\"\u001b[39m\u001b[38;5;124m decorated with tf.function.\u001b[39m\u001b[38;5;124m\"\u001b[39m)\n",
      "File \u001b[0;32m~/railway/nature/lib/python3.8/site-packages/tensorflow/python/eager/polymorphic_function/tracing_compiler.py:148\u001b[0m, in \u001b[0;36mTracingCompiler.__call__\u001b[0;34m(self, *args, **kwargs)\u001b[0m\n\u001b[1;32m    145\u001b[0m \u001b[38;5;28;01mwith\u001b[39;00m \u001b[38;5;28mself\u001b[39m\u001b[38;5;241m.\u001b[39m_lock:\n\u001b[1;32m    146\u001b[0m   (concrete_function,\n\u001b[1;32m    147\u001b[0m    filtered_flat_args) \u001b[38;5;241m=\u001b[39m \u001b[38;5;28mself\u001b[39m\u001b[38;5;241m.\u001b[39m_maybe_define_function(args, kwargs)\n\u001b[0;32m--> 148\u001b[0m \u001b[38;5;28;01mreturn\u001b[39;00m \u001b[43mconcrete_function\u001b[49m\u001b[38;5;241;43m.\u001b[39;49m\u001b[43m_call_flat\u001b[49m\u001b[43m(\u001b[49m\n\u001b[1;32m    149\u001b[0m \u001b[43m    \u001b[49m\u001b[43mfiltered_flat_args\u001b[49m\u001b[43m,\u001b[49m\u001b[43m \u001b[49m\u001b[43mcaptured_inputs\u001b[49m\u001b[38;5;241;43m=\u001b[39;49m\u001b[43mconcrete_function\u001b[49m\u001b[38;5;241;43m.\u001b[39;49m\u001b[43mcaptured_inputs\u001b[49m\u001b[43m)\u001b[49m\n",
      "File \u001b[0;32m~/railway/nature/lib/python3.8/site-packages/tensorflow/python/eager/polymorphic_function/monomorphic_function.py:1349\u001b[0m, in \u001b[0;36mConcreteFunction._call_flat\u001b[0;34m(self, args, captured_inputs)\u001b[0m\n\u001b[1;32m   1345\u001b[0m possible_gradient_type \u001b[38;5;241m=\u001b[39m gradients_util\u001b[38;5;241m.\u001b[39mPossibleTapeGradientTypes(args)\n\u001b[1;32m   1346\u001b[0m \u001b[38;5;28;01mif\u001b[39;00m (possible_gradient_type \u001b[38;5;241m==\u001b[39m gradients_util\u001b[38;5;241m.\u001b[39mPOSSIBLE_GRADIENT_TYPES_NONE\n\u001b[1;32m   1347\u001b[0m     \u001b[38;5;129;01mand\u001b[39;00m executing_eagerly):\n\u001b[1;32m   1348\u001b[0m   \u001b[38;5;66;03m# No tape is watching; skip to running the function.\u001b[39;00m\n\u001b[0;32m-> 1349\u001b[0m   \u001b[38;5;28;01mreturn\u001b[39;00m \u001b[38;5;28mself\u001b[39m\u001b[38;5;241m.\u001b[39m_build_call_outputs(\u001b[38;5;28;43mself\u001b[39;49m\u001b[38;5;241;43m.\u001b[39;49m\u001b[43m_inference_function\u001b[49m\u001b[43m(\u001b[49m\u001b[38;5;241;43m*\u001b[39;49m\u001b[43margs\u001b[49m\u001b[43m)\u001b[49m)\n\u001b[1;32m   1350\u001b[0m forward_backward \u001b[38;5;241m=\u001b[39m \u001b[38;5;28mself\u001b[39m\u001b[38;5;241m.\u001b[39m_select_forward_and_backward_functions(\n\u001b[1;32m   1351\u001b[0m     args,\n\u001b[1;32m   1352\u001b[0m     possible_gradient_type,\n\u001b[1;32m   1353\u001b[0m     executing_eagerly)\n\u001b[1;32m   1354\u001b[0m forward_function, args_with_tangents \u001b[38;5;241m=\u001b[39m forward_backward\u001b[38;5;241m.\u001b[39mforward()\n",
      "File \u001b[0;32m~/railway/nature/lib/python3.8/site-packages/tensorflow/python/eager/polymorphic_function/atomic_function.py:196\u001b[0m, in \u001b[0;36mAtomicFunction.__call__\u001b[0;34m(self, *args)\u001b[0m\n\u001b[1;32m    194\u001b[0m \u001b[38;5;28;01mwith\u001b[39;00m record\u001b[38;5;241m.\u001b[39mstop_recording():\n\u001b[1;32m    195\u001b[0m   \u001b[38;5;28;01mif\u001b[39;00m \u001b[38;5;28mself\u001b[39m\u001b[38;5;241m.\u001b[39m_bound_context\u001b[38;5;241m.\u001b[39mexecuting_eagerly():\n\u001b[0;32m--> 196\u001b[0m     outputs \u001b[38;5;241m=\u001b[39m \u001b[38;5;28;43mself\u001b[39;49m\u001b[38;5;241;43m.\u001b[39;49m\u001b[43m_bound_context\u001b[49m\u001b[38;5;241;43m.\u001b[39;49m\u001b[43mcall_function\u001b[49m\u001b[43m(\u001b[49m\n\u001b[1;32m    197\u001b[0m \u001b[43m        \u001b[49m\u001b[38;5;28;43mself\u001b[39;49m\u001b[38;5;241;43m.\u001b[39;49m\u001b[43mname\u001b[49m\u001b[43m,\u001b[49m\n\u001b[1;32m    198\u001b[0m \u001b[43m        \u001b[49m\u001b[38;5;28;43mlist\u001b[39;49m\u001b[43m(\u001b[49m\u001b[43margs\u001b[49m\u001b[43m)\u001b[49m\u001b[43m,\u001b[49m\n\u001b[1;32m    199\u001b[0m \u001b[43m        \u001b[49m\u001b[38;5;28;43mlen\u001b[39;49m\u001b[43m(\u001b[49m\u001b[38;5;28;43mself\u001b[39;49m\u001b[38;5;241;43m.\u001b[39;49m\u001b[43mfunction_type\u001b[49m\u001b[38;5;241;43m.\u001b[39;49m\u001b[43mflat_outputs\u001b[49m\u001b[43m)\u001b[49m\u001b[43m,\u001b[49m\n\u001b[1;32m    200\u001b[0m \u001b[43m    \u001b[49m\u001b[43m)\u001b[49m\n\u001b[1;32m    201\u001b[0m   \u001b[38;5;28;01melse\u001b[39;00m:\n\u001b[1;32m    202\u001b[0m     outputs \u001b[38;5;241m=\u001b[39m make_call_op_in_graph(\u001b[38;5;28mself\u001b[39m, \u001b[38;5;28mlist\u001b[39m(args))\n",
      "File \u001b[0;32m~/railway/nature/lib/python3.8/site-packages/tensorflow/python/eager/context.py:1457\u001b[0m, in \u001b[0;36mContext.call_function\u001b[0;34m(self, name, tensor_inputs, num_outputs)\u001b[0m\n\u001b[1;32m   1455\u001b[0m cancellation_context \u001b[38;5;241m=\u001b[39m cancellation\u001b[38;5;241m.\u001b[39mcontext()\n\u001b[1;32m   1456\u001b[0m \u001b[38;5;28;01mif\u001b[39;00m cancellation_context \u001b[38;5;129;01mis\u001b[39;00m \u001b[38;5;28;01mNone\u001b[39;00m:\n\u001b[0;32m-> 1457\u001b[0m   outputs \u001b[38;5;241m=\u001b[39m \u001b[43mexecute\u001b[49m\u001b[38;5;241;43m.\u001b[39;49m\u001b[43mexecute\u001b[49m\u001b[43m(\u001b[49m\n\u001b[1;32m   1458\u001b[0m \u001b[43m      \u001b[49m\u001b[43mname\u001b[49m\u001b[38;5;241;43m.\u001b[39;49m\u001b[43mdecode\u001b[49m\u001b[43m(\u001b[49m\u001b[38;5;124;43m\"\u001b[39;49m\u001b[38;5;124;43mutf-8\u001b[39;49m\u001b[38;5;124;43m\"\u001b[39;49m\u001b[43m)\u001b[49m\u001b[43m,\u001b[49m\n\u001b[1;32m   1459\u001b[0m \u001b[43m      \u001b[49m\u001b[43mnum_outputs\u001b[49m\u001b[38;5;241;43m=\u001b[39;49m\u001b[43mnum_outputs\u001b[49m\u001b[43m,\u001b[49m\n\u001b[1;32m   1460\u001b[0m \u001b[43m      \u001b[49m\u001b[43minputs\u001b[49m\u001b[38;5;241;43m=\u001b[39;49m\u001b[43mtensor_inputs\u001b[49m\u001b[43m,\u001b[49m\n\u001b[1;32m   1461\u001b[0m \u001b[43m      \u001b[49m\u001b[43mattrs\u001b[49m\u001b[38;5;241;43m=\u001b[39;49m\u001b[43mattrs\u001b[49m\u001b[43m,\u001b[49m\n\u001b[1;32m   1462\u001b[0m \u001b[43m      \u001b[49m\u001b[43mctx\u001b[49m\u001b[38;5;241;43m=\u001b[39;49m\u001b[38;5;28;43mself\u001b[39;49m\u001b[43m,\u001b[49m\n\u001b[1;32m   1463\u001b[0m \u001b[43m  \u001b[49m\u001b[43m)\u001b[49m\n\u001b[1;32m   1464\u001b[0m \u001b[38;5;28;01melse\u001b[39;00m:\n\u001b[1;32m   1465\u001b[0m   outputs \u001b[38;5;241m=\u001b[39m execute\u001b[38;5;241m.\u001b[39mexecute_with_cancellation(\n\u001b[1;32m   1466\u001b[0m       name\u001b[38;5;241m.\u001b[39mdecode(\u001b[38;5;124m\"\u001b[39m\u001b[38;5;124mutf-8\u001b[39m\u001b[38;5;124m\"\u001b[39m),\n\u001b[1;32m   1467\u001b[0m       num_outputs\u001b[38;5;241m=\u001b[39mnum_outputs,\n\u001b[0;32m   (...)\u001b[0m\n\u001b[1;32m   1471\u001b[0m       cancellation_manager\u001b[38;5;241m=\u001b[39mcancellation_context,\n\u001b[1;32m   1472\u001b[0m   )\n",
      "File \u001b[0;32m~/railway/nature/lib/python3.8/site-packages/tensorflow/python/eager/execute.py:53\u001b[0m, in \u001b[0;36mquick_execute\u001b[0;34m(op_name, num_outputs, inputs, attrs, ctx, name)\u001b[0m\n\u001b[1;32m     51\u001b[0m \u001b[38;5;28;01mtry\u001b[39;00m:\n\u001b[1;32m     52\u001b[0m   ctx\u001b[38;5;241m.\u001b[39mensure_initialized()\n\u001b[0;32m---> 53\u001b[0m   tensors \u001b[38;5;241m=\u001b[39m \u001b[43mpywrap_tfe\u001b[49m\u001b[38;5;241;43m.\u001b[39;49m\u001b[43mTFE_Py_Execute\u001b[49m\u001b[43m(\u001b[49m\u001b[43mctx\u001b[49m\u001b[38;5;241;43m.\u001b[39;49m\u001b[43m_handle\u001b[49m\u001b[43m,\u001b[49m\u001b[43m \u001b[49m\u001b[43mdevice_name\u001b[49m\u001b[43m,\u001b[49m\u001b[43m \u001b[49m\u001b[43mop_name\u001b[49m\u001b[43m,\u001b[49m\n\u001b[1;32m     54\u001b[0m \u001b[43m                                      \u001b[49m\u001b[43minputs\u001b[49m\u001b[43m,\u001b[49m\u001b[43m \u001b[49m\u001b[43mattrs\u001b[49m\u001b[43m,\u001b[49m\u001b[43m \u001b[49m\u001b[43mnum_outputs\u001b[49m\u001b[43m)\u001b[49m\n\u001b[1;32m     55\u001b[0m \u001b[38;5;28;01mexcept\u001b[39;00m core\u001b[38;5;241m.\u001b[39m_NotOkStatusException \u001b[38;5;28;01mas\u001b[39;00m e:\n\u001b[1;32m     56\u001b[0m   \u001b[38;5;28;01mif\u001b[39;00m name \u001b[38;5;129;01mis\u001b[39;00m \u001b[38;5;129;01mnot\u001b[39;00m \u001b[38;5;28;01mNone\u001b[39;00m:\n",
      "\u001b[0;31mKeyboardInterrupt\u001b[0m: "
     ]
    }
   ],
   "source": [
    "model_lsauto=create_model()\n",
    "history_ls = model_lsauto.fit(X_train_bil, y_train_bil, epochs=30, batch_size=62, validation_split=0.3)\n",
    "y_pred_lsauto = model_lsauto.predict(X_test_bil)\n",
    "\n"
   ]
  },
  {
   "cell_type": "code",
   "execution_count": 95,
   "id": "de6ab1c0-be74-4664-8752-cd2c8c858ce5",
   "metadata": {},
   "outputs": [
    {
     "name": "stdout",
     "output_type": "stream",
     "text": [
      "6554/6554 [==============================] - 54s 8ms/step\n"
     ]
    }
   ],
   "source": [
    "y_pred_lsauto = model_lsauto.predict(X_test_bil)"
   ]
  },
  {
   "cell_type": "code",
   "execution_count": 105,
   "id": "a132aa5d-3223-4f09-8daa-b35f4f1d4c27",
   "metadata": {},
   "outputs": [
    {
     "name": "stdout",
     "output_type": "stream",
     "text": [
      "Model: \"sequential_3\"\n",
      "_________________________________________________________________\n",
      " Layer (type)                Output Shape              Param #   \n",
      "=================================================================\n",
      " lstm_8 (LSTM)               (1, 14, 128)              66560     \n",
      "                                                                 \n",
      " lstm_9 (LSTM)               (1, 64)                   49408     \n",
      "                                                                 \n",
      " repeat_vector_1 (RepeatVec  (1, 7, 64)                0         \n",
      " tor)                                                            \n",
      "                                                                 \n",
      " lstm_10 (LSTM)              (1, 7, 64)                33024     \n",
      "                                                                 \n",
      " lstm_11 (LSTM)              (1, 7, 128)               98816     \n",
      "                                                                 \n",
      " bidirectional_1 (Bidirecti  (1, 7, 256)               263168    \n",
      " onal)                                                           \n",
      "                                                                 \n",
      " lstm_13 (LSTM)              (1, 7, 64)                82176     \n",
      "                                                                 \n",
      " dropout_2 (Dropout)         (1, 7, 64)                0         \n",
      "                                                                 \n",
      " lstm_14 (LSTM)              (1, 64)                   33024     \n",
      "                                                                 \n",
      " dropout_3 (Dropout)         (1, 64)                   0         \n",
      "                                                                 \n",
      " dense_4 (Dense)             (1, 10)                   650       \n",
      "                                                                 \n",
      " dense_5 (Dense)             (1, 1)                    11        \n",
      "                                                                 \n",
      "=================================================================\n",
      "Total params: 626837 (2.39 MB)\n",
      "Trainable params: 626837 (2.39 MB)\n",
      "Non-trainable params: 0 (0.00 Byte)\n",
      "_________________________________________________________________\n",
      "Epoch 1/10\n",
      "4588/4588 [==============================] - 261s 56ms/step - loss: 58922148.0000 - val_loss: 12336.3301\n",
      "Epoch 2/10\n",
      "4588/4588 [==============================] - 249s 54ms/step - loss: 13351.2168 - val_loss: 12336.3301\n",
      "Epoch 3/10\n",
      "4588/4588 [==============================] - 264s 57ms/step - loss: 23848.3398 - val_loss: 12336.3301\n",
      "Epoch 4/10\n",
      "4588/4588 [==============================] - 280s 61ms/step - loss: 14267.1299 - val_loss: 12336.3301\n",
      "Epoch 5/10\n",
      "4588/4588 [==============================] - 288s 63ms/step - loss: 13011.7207 - val_loss: 12336.3301\n",
      "Epoch 6/10\n",
      "4588/4588 [==============================] - 282s 61ms/step - loss: 12639.7207 - val_loss: 12336.3301\n",
      "Epoch 7/10\n",
      "4588/4588 [==============================] - 269s 59ms/step - loss: 12893.3975 - val_loss: 12336.3301\n",
      "Epoch 8/10\n",
      "4588/4588 [==============================] - 262s 57ms/step - loss: 12359.4375 - val_loss: 12336.3301\n",
      "Epoch 9/10\n",
      "4588/4588 [==============================] - 265s 58ms/step - loss: 12362.1807 - val_loss: 12336.3301\n",
      "Epoch 10/10\n",
      "4588/4588 [==============================] - 277s 60ms/step - loss: 13273.3828 - val_loss: 12336.3301\n",
      "6554/6554 [==============================] - 56s 8ms/step\n"
     ]
    }
   ],
   "source": [
    "model_lsauto=create_model()\n",
    "history = model_lsauto.fit(X_train, y_train, epochs=10, batch_size=128, validation_split=0.3)\n",
    "y_pred_lsauto = model_lsauto.predict(X_test)"
   ]
  },
  {
   "cell_type": "code",
   "execution_count": 170,
   "id": "97bc504f-7886-41da-8fc1-eefe883470d8",
   "metadata": {},
   "outputs": [],
   "source": [
    "def MAPE_Value(Y_actual,Y_Predicted):\n",
    "    mape = np.mean(np.abs((Y_actual - Y_Predicted)/Y_actual))*100\n",
    "    return mape"
   ]
  },
  {
   "cell_type": "code",
   "execution_count": 96,
   "id": "f3d9895a-09ad-4a12-aeba-ff0235fcf2b8",
   "metadata": {},
   "outputs": [],
   "source": [
    "#y_train_inv_lsauto = cnt_transformer.inverse_transform(y_train.reshape(1,-1))\n",
    "#y_test_inv_lsauto = cnt_transformer.inverse_transform(y_test.reshape(1,-1))\n",
    "#y_pred_inv_lsauto = cnt_transformer.inverse_transform(y_pred.reshape(1,-1))\n",
    "from sklearn.metrics import mean_absolute_error\n",
    "from keras.layers import Bidirectional\n",
    "from sklearn.metrics import mean_squared_error,r2_score,mean_absolute_error\n",
    "from sklearn.preprocessing import MinMaxScaler\n"
   ]
  },
  {
   "cell_type": "code",
   "execution_count": 114,
   "id": "5e9fedc3-ae5f-41b5-b616-2bb27bebbc17",
   "metadata": {},
   "outputs": [],
   "source": [
    "\n",
    "cnt_transformer = MinMaxScaler()"
   ]
  },
  {
   "cell_type": "code",
   "execution_count": 118,
   "id": "36e0ea8c-c40e-4959-b629-4654d9d4bc4f",
   "metadata": {},
   "outputs": [
    {
     "ename": "NotFittedError",
     "evalue": "This MinMaxScaler instance is not fitted yet. Call 'fit' with appropriate arguments before using this estimator.",
     "output_type": "error",
     "traceback": [
      "\u001b[0;31m---------------------------------------------------------------------------\u001b[0m",
      "\u001b[0;31mNotFittedError\u001b[0m                            Traceback (most recent call last)",
      "Cell \u001b[0;32mIn[118], line 1\u001b[0m\n\u001b[0;32m----> 1\u001b[0m y_train_inv_lsauto \u001b[38;5;241m=\u001b[39m \u001b[43mcnt_transformer\u001b[49m\u001b[38;5;241;43m.\u001b[39;49m\u001b[43minverse_transform\u001b[49m\u001b[43m(\u001b[49m\u001b[43my_train\u001b[49m\u001b[43m)\u001b[49m\n\u001b[1;32m      2\u001b[0m y_test_inv_lsauto \u001b[38;5;241m=\u001b[39m cnt_transformer\u001b[38;5;241m.\u001b[39minverse_transform(y_test)\n\u001b[1;32m      3\u001b[0m y_pred_inv_lsauto \u001b[38;5;241m=\u001b[39m cnt_transformer\u001b[38;5;241m.\u001b[39minverse_transform(y_pred_lsauto)\n",
      "File \u001b[0;32m~/railway/nature/lib/python3.8/site-packages/sklearn/preprocessing/_data.py:542\u001b[0m, in \u001b[0;36mMinMaxScaler.inverse_transform\u001b[0;34m(self, X)\u001b[0m\n\u001b[1;32m    529\u001b[0m \u001b[38;5;28;01mdef\u001b[39;00m \u001b[38;5;21minverse_transform\u001b[39m(\u001b[38;5;28mself\u001b[39m, X):\n\u001b[1;32m    530\u001b[0m \u001b[38;5;250m    \u001b[39m\u001b[38;5;124;03m\"\"\"Undo the scaling of X according to feature_range.\u001b[39;00m\n\u001b[1;32m    531\u001b[0m \n\u001b[1;32m    532\u001b[0m \u001b[38;5;124;03m    Parameters\u001b[39;00m\n\u001b[0;32m   (...)\u001b[0m\n\u001b[1;32m    540\u001b[0m \u001b[38;5;124;03m        Transformed data.\u001b[39;00m\n\u001b[1;32m    541\u001b[0m \u001b[38;5;124;03m    \"\"\"\u001b[39;00m\n\u001b[0;32m--> 542\u001b[0m     \u001b[43mcheck_is_fitted\u001b[49m\u001b[43m(\u001b[49m\u001b[38;5;28;43mself\u001b[39;49m\u001b[43m)\u001b[49m\n\u001b[1;32m    544\u001b[0m     X \u001b[38;5;241m=\u001b[39m check_array(\n\u001b[1;32m    545\u001b[0m         X, copy\u001b[38;5;241m=\u001b[39m\u001b[38;5;28mself\u001b[39m\u001b[38;5;241m.\u001b[39mcopy, dtype\u001b[38;5;241m=\u001b[39mFLOAT_DTYPES, force_all_finite\u001b[38;5;241m=\u001b[39m\u001b[38;5;124m\"\u001b[39m\u001b[38;5;124mallow-nan\u001b[39m\u001b[38;5;124m\"\u001b[39m\n\u001b[1;32m    546\u001b[0m     )\n\u001b[1;32m    548\u001b[0m     X \u001b[38;5;241m-\u001b[39m\u001b[38;5;241m=\u001b[39m \u001b[38;5;28mself\u001b[39m\u001b[38;5;241m.\u001b[39mmin_\n",
      "File \u001b[0;32m~/railway/nature/lib/python3.8/site-packages/sklearn/utils/validation.py:1461\u001b[0m, in \u001b[0;36mcheck_is_fitted\u001b[0;34m(estimator, attributes, msg, all_or_any)\u001b[0m\n\u001b[1;32m   1458\u001b[0m     \u001b[38;5;28;01mraise\u001b[39;00m \u001b[38;5;167;01mTypeError\u001b[39;00m(\u001b[38;5;124m\"\u001b[39m\u001b[38;5;132;01m%s\u001b[39;00m\u001b[38;5;124m is not an estimator instance.\u001b[39m\u001b[38;5;124m\"\u001b[39m \u001b[38;5;241m%\u001b[39m (estimator))\n\u001b[1;32m   1460\u001b[0m \u001b[38;5;28;01mif\u001b[39;00m \u001b[38;5;129;01mnot\u001b[39;00m _is_fitted(estimator, attributes, all_or_any):\n\u001b[0;32m-> 1461\u001b[0m     \u001b[38;5;28;01mraise\u001b[39;00m NotFittedError(msg \u001b[38;5;241m%\u001b[39m {\u001b[38;5;124m\"\u001b[39m\u001b[38;5;124mname\u001b[39m\u001b[38;5;124m\"\u001b[39m: \u001b[38;5;28mtype\u001b[39m(estimator)\u001b[38;5;241m.\u001b[39m\u001b[38;5;18m__name__\u001b[39m})\n",
      "\u001b[0;31mNotFittedError\u001b[0m: This MinMaxScaler instance is not fitted yet. Call 'fit' with appropriate arguments before using this estimator."
     ]
    }
   ],
   "source": [
    "y_train_inv_lsauto = cnt_transformer.inverse_transform(y_train)\n",
    "y_test_inv_lsauto = cnt_transformer.inverse_transform(y_test)\n",
    "y_pred_inv_lsauto = cnt_transformer.inverse_transform(y_pred_lsauto)"
   ]
  },
  {
   "cell_type": "code",
   "execution_count": 98,
   "id": "dce8089e-7187-468d-b87f-23debb25e421",
   "metadata": {},
   "outputs": [],
   "source": [
    "RMSE = math.sqrt(mean_squared_error(y_test_bil, y_pred_lsauto))\n",
    "#MAPE=MAPE_Value(y_test_bil,y_pred_lsauto)\n",
    "MAE= (mean_absolute_error(y_test_bil, y_pred_lsauto))"
   ]
  },
  {
   "cell_type": "code",
   "execution_count": null,
   "id": "27ae83f7-2bd6-489a-8770-5e411b3119a8",
   "metadata": {},
   "outputs": [],
   "source": [
    "y_test_bil"
   ]
  },
  {
   "cell_type": "code",
   "execution_count": 112,
   "id": "4a04a2cc-6164-4a68-ae45-1dc8bca9bdfc",
   "metadata": {},
   "outputs": [
    {
     "data": {
      "text/plain": [
       "array([[0.],\n",
       "       [0.],\n",
       "       [0.],\n",
       "       ...,\n",
       "       [0.],\n",
       "       [0.],\n",
       "       [0.]], dtype=float32)"
      ]
     },
     "execution_count": 112,
     "metadata": {},
     "output_type": "execute_result"
    }
   ],
   "source": [
    "RMSE = math.sqrt(mean_squared_error(y_test, y_pred_lsauto))\n",
    "MAPE=MAPE_Value(y_test,y_pred_lsauto)\n",
    "MAE= (mean_absolute_error(y_test, y_pred_lsauto))"
   ]
  },
  {
   "cell_type": "code",
   "execution_count": 99,
   "id": "04f65797-00f5-4e8f-a025-6aa96d1123d1",
   "metadata": {},
   "outputs": [
    {
     "name": "stdout",
     "output_type": "stream",
     "text": [
      "MAE is 10772991.323936624\n",
      "RMSE is 17617850.953140523\n"
     ]
    }
   ],
   "source": [
    "print('MAE is {}'.format(MAE))\n",
    "print('RMSE is {}'.format(RMSE))\n",
    "#print('MAPE is {}'.format(MAPE))"
   ]
  },
  {
   "cell_type": "code",
   "execution_count": 85,
   "id": "6fd843be-ada6-4ff1-b07b-ca6aa0669d40",
   "metadata": {},
   "outputs": [
    {
     "data": {
      "image/png": "[encoded data removed]",
      "text/plain": [
       "<Figure size 348.761x300 with 1 Axes>"
      ]
     },
     "metadata": {},
     "output_type": "display_data"
    },
    {
     "data": {
      "text/plain": [
       "<Figure size 640x480 with 0 Axes>"
      ]
     },
     "metadata": {},
     "output_type": "display_data"
    }
   ],
   "source": [
    "plt.figure(figsize=(3.48761,3))\n",
    "plt.plot(y_test_bil.flatten(), marker=',',label='true',linewidth=0.8)\n",
    "plt.plot(y_pred_lsauto.flatten(), marker='|',label='Predicted',linewidth=0.8)\n",
    "plt.xlabel('Time')\n",
    "plt.ylabel('Time taken to deliver')\n",
    "\n",
    "plt.legend(['actual', 'prediction'], loc='upper center', bbox_to_anchor=(0.5, 1.15), ncol=2)\n",
    "plt.tight_layout()\n",
    "plt.show()\n",
    "plt.savefig('fig5.pgf')"
   ]
  },
  {
   "cell_type": "code",
   "execution_count": 86,
   "id": "17fba335-3191-491d-8509-ffd623ff273a",
   "metadata": {},
   "outputs": [],
   "source": [
    "df22 = pd.read_excel(r\"~/Downloads/BID_RA_data/BID_RA_21_22.xlsx\")"
   ]
  },
  {
   "cell_type": "code",
   "execution_count": 88,
   "id": "9c300cbe-3169-4eea-97fb-8975a9af5f33",
   "metadata": {},
   "outputs": [
    {
     "name": "stdout",
     "output_type": "stream",
     "text": [
      "(838852, 14) (838852,) (209713, 14) (209713,)\n"
     ]
    }
   ],
   "source": [
    "df22_1 = df22.drop(df22.columns[[0, 7, 8, 14, 19, 20, 21, 31 ]], axis=1)\n",
    "df22_1[\"price\"] = df22_1[\"Order value\"]/df22_1[\"Order Qty\"]\n",
    "df22_1[\"Time taken to deliver\"] = (df22_1[\"Expected delivery date\"] - df22_1[\"Order Date\"]).dt.days\n",
    "df22_1.drop(columns=[\"Month_Name_OrderDate\", \"Order_Quarter\", \"Invoice Date\",\"CRAC date\", \"Payment Date\"], inplace=True)\n",
    "for column in columns_to_encode:\n",
    "       df22_1[column+'_encoded'] = le.fit_transform(df22_1[column])\n",
    "df22_1 = df22_1.drop(columns=[\"FY_OrderDate\", \"Bid start date\", \"Bid end date\"])\n",
    "df22_1[\"Payment Type\"+'_encoded'] = le.fit_transform(df22_1[\"Payment Type\"])\n",
    "df22_1[\"MSME verified social category\"+'_encoded'] = le.fit_transform(df22_1[\"MSME verified social category\"])\n",
    "df22_1 = df22_1.drop(columns=[\"MSME verified social category\", \"Payment Type\"])\n",
    "df22_1 = df22_1.drop(columns=[\"Order Date\", \"Expected delivery date\", \"Shipment received date\"])\n",
    "df22_1 = df22_1.drop(columns=[\"Purchase Mode\", \"Order MSME Verified\", \"MSME verfied gender wise\", \"Startup verfied\"])\n",
    "I = df22_1.drop(columns=['Time taken to deliver'])\n",
    "j = df22_1['Time taken to deliver']\n",
    "I_train, I_test, j_train, j_test = train_test_split(I, j, test_size=0.2)\n",
    "I_train_bil, j_train_bil = np.array(I_train), np.array(j_train)\n",
    "I_test_bil, j_test_bil = np.array(I_test), np.array(j_test)\n",
    "#X_train_bil = X_train_bil.reshape((X_train_bil.shape[0], 1, X_train_bil.shape[1]))\n",
    "#X_test_bil = X_test_bil.reshape((X_test_bil.shape[0], 1, X_test_bil.shape[1]))\n",
    "print(I_train_bil.shape, j_train_bil.shape, I_test_bil.shape, j_test_bil.shape)"
   ]
  },
  {
   "cell_type": "code",
   "execution_count": 89,
   "id": "0dfca2ff-b3d2-4e60-abee-e9352ecfa4eb",
   "metadata": {},
   "outputs": [
    {
     "name": "stdout",
     "output_type": "stream",
     "text": [
      "6554/6554 [==============================] - 54s 8ms/step\n"
     ]
    }
   ],
   "source": [
    "# Make predictions\n",
    "j_pred_lsauto = model_lsauto.predict(I_test_bil)\n"
   ]
  },
  {
   "cell_type": "code",
   "execution_count": 90,
   "id": "a7cc8a72-6743-4278-9f1a-49b3157e2ee6",
   "metadata": {},
   "outputs": [
    {
     "name": "stdout",
     "output_type": "stream",
     "text": [
      "Root Mean Squared Error: 328.82127160094154\n",
      "Mean Squared Error: 108123.42865726016\n"
     ]
    }
   ],
   "source": [
    "mse_lsauto_uns = mean_squared_error(j_test, j_pred_lsauto)\n",
    "rmse_lsauto_uns = np.sqrt(mse_lsauto_uns)\n",
    "print(f\"Root Mean Squared Error: {rmse_lsauto_uns}\")\n",
    "print(f\"Mean Squared Error: {mse_lsauto_uns}\")"
   ]
  },
  {
   "cell_type": "code",
   "execution_count": 91,
   "id": "1f76f6e8-0d66-4fe0-8be5-885441acfa08",
   "metadata": {},
   "outputs": [
    {
     "data": {
      "text/html": [
       "<div>\n",
       "<style scoped>\n",
       "    .dataframe tbody tr th:only-of-type {\n",
       "        vertical-align: middle;\n",
       "    }\n",
       "\n",
       "    .dataframe tbody tr th {\n",
       "        vertical-align: top;\n",
       "    }\n",
       "\n",
       "    .dataframe thead th {\n",
       "        text-align: right;\n",
       "    }\n",
       "</style>\n",
       "<table border=\"1\" class=\"dataframe\">\n",
       "  <thead>\n",
       "    <tr style=\"text-align: right;\">\n",
       "      <th></th>\n",
       "      <th>Real</th>\n",
       "      <th>Predicted</th>\n",
       "    </tr>\n",
       "  </thead>\n",
       "  <tbody>\n",
       "    <tr>\n",
       "      <th>838852</th>\n",
       "      <td>519</td>\n",
       "      <td>0.0</td>\n",
       "    </tr>\n",
       "    <tr>\n",
       "      <th>838853</th>\n",
       "      <td>292</td>\n",
       "      <td>0.0</td>\n",
       "    </tr>\n",
       "    <tr>\n",
       "      <th>838854</th>\n",
       "      <td>562</td>\n",
       "      <td>0.0</td>\n",
       "    </tr>\n",
       "    <tr>\n",
       "      <th>838855</th>\n",
       "      <td>45</td>\n",
       "      <td>0.0</td>\n",
       "    </tr>\n",
       "    <tr>\n",
       "      <th>838856</th>\n",
       "      <td>83</td>\n",
       "      <td>0.0</td>\n",
       "    </tr>\n",
       "  </tbody>\n",
       "</table>\n",
       "</div>"
      ],
      "text/plain": [
       "        Real  Predicted\n",
       "838852   519        0.0\n",
       "838853   292        0.0\n",
       "838854   562        0.0\n",
       "838855    45        0.0\n",
       "838856    83        0.0"
      ]
     },
     "execution_count": 91,
     "metadata": {},
     "output_type": "execute_result"
    }
   ],
   "source": [
    "# Create a DataFrame of Real and Predicted values\n",
    "prices_lsauto_unseen = pd.DataFrame({\n",
    "    \"Real\": j_test.ravel(),\n",
    "    \"Predicted\": j_pred_lsauto.ravel()\n",
    "}, index = df1.index[-len(y_test): ]) \n",
    "prices_lsauto_unseen.head()"
   ]
  },
  {
   "cell_type": "code",
   "execution_count": null,
   "id": "f12a78eb-1989-40b7-b2d6-4d22f6ff6477",
   "metadata": {},
   "outputs": [],
   "source": []
  },
  {
   "cell_type": "code",
   "execution_count": 47,
   "id": "1949d45d-4c1e-440f-866b-831d85609f0d",
   "metadata": {},
   "outputs": [],
   "source": [
    "from keras.layers import Dense, Dropout, Activation, LSTM, Convolution1D, MaxPooling1D, Flatten"
   ]
  },
  {
   "cell_type": "code",
   "execution_count": 128,
   "id": "708cc975-9db6-4fd0-8bf3-7efded6e904d",
   "metadata": {},
   "outputs": [
    {
     "data": {
      "text/plain": [
       "(838852, 14)"
      ]
     },
     "execution_count": 128,
     "metadata": {},
     "output_type": "execute_result"
    }
   ],
   "source": [
    "X_train.shape"
   ]
  },
  {
   "cell_type": "markdown",
   "id": "80998a8c-a04c-4cef-9507-69ada82c0439",
   "metadata": {},
   "source": [
    "## LSTM conv1d"
   ]
  },
  {
   "cell_type": "code",
   "execution_count": 143,
   "id": "466728ed-9f34-4a7f-9d27-598904056a65",
   "metadata": {},
   "outputs": [
    {
     "ename": "ValueError",
     "evalue": "Input 0 of layer \"max_pooling1d_16\" is incompatible with the layer: expected ndim=3, found ndim=4. Full shape received: (None, 1, 12, 64)",
     "output_type": "error",
     "traceback": [
      "\u001b[0;31m---------------------------------------------------------------------------\u001b[0m",
      "\u001b[0;31mValueError\u001b[0m                                Traceback (most recent call last)",
      "Cell \u001b[0;32mIn[143], line 3\u001b[0m\n\u001b[1;32m      1\u001b[0m model_lscon \u001b[38;5;241m=\u001b[39m Sequential()\n\u001b[1;32m      2\u001b[0m model_lscon\u001b[38;5;241m.\u001b[39madd(Convolution1D(\u001b[38;5;241m64\u001b[39m, \u001b[38;5;241m3\u001b[39m, input_shape\u001b[38;5;241m=\u001b[39m(\u001b[38;5;241m1\u001b[39m,\u001b[38;5;241m14\u001b[39m,\u001b[38;5;241m1\u001b[39m)))\n\u001b[0;32m----> 3\u001b[0m \u001b[43mmodel_lscon\u001b[49m\u001b[38;5;241;43m.\u001b[39;49m\u001b[43madd\u001b[49m\u001b[43m(\u001b[49m\u001b[43mMaxPooling1D\u001b[49m\u001b[43m(\u001b[49m\u001b[43mpool_size\u001b[49m\u001b[38;5;241;43m=\u001b[39;49m\u001b[38;5;241;43m2\u001b[39;49m\u001b[43m)\u001b[49m\u001b[43m)\u001b[49m\n\u001b[1;32m      4\u001b[0m model_lscon\u001b[38;5;241m.\u001b[39madd(LSTM(\u001b[38;5;241m100\u001b[39m, return_sequences\u001b[38;5;241m=\u001b[39m\u001b[38;5;28;01mTrue\u001b[39;00m))\n\u001b[1;32m      5\u001b[0m model_lscon\u001b[38;5;241m.\u001b[39madd(Dropout(\u001b[38;5;241m0.2\u001b[39m))\n",
      "File \u001b[0;32m~/railway/nature/lib/python3.8/site-packages/tensorflow/python/trackable/base.py:204\u001b[0m, in \u001b[0;36mno_automatic_dependency_tracking.<locals>._method_wrapper\u001b[0;34m(self, *args, **kwargs)\u001b[0m\n\u001b[1;32m    202\u001b[0m \u001b[38;5;28mself\u001b[39m\u001b[38;5;241m.\u001b[39m_self_setattr_tracking \u001b[38;5;241m=\u001b[39m \u001b[38;5;28;01mFalse\u001b[39;00m  \u001b[38;5;66;03m# pylint: disable=protected-access\u001b[39;00m\n\u001b[1;32m    203\u001b[0m \u001b[38;5;28;01mtry\u001b[39;00m:\n\u001b[0;32m--> 204\u001b[0m   result \u001b[38;5;241m=\u001b[39m \u001b[43mmethod\u001b[49m\u001b[43m(\u001b[49m\u001b[38;5;28;43mself\u001b[39;49m\u001b[43m,\u001b[49m\u001b[43m \u001b[49m\u001b[38;5;241;43m*\u001b[39;49m\u001b[43margs\u001b[49m\u001b[43m,\u001b[49m\u001b[43m \u001b[49m\u001b[38;5;241;43m*\u001b[39;49m\u001b[38;5;241;43m*\u001b[39;49m\u001b[43mkwargs\u001b[49m\u001b[43m)\u001b[49m\n\u001b[1;32m    205\u001b[0m \u001b[38;5;28;01mfinally\u001b[39;00m:\n\u001b[1;32m    206\u001b[0m   \u001b[38;5;28mself\u001b[39m\u001b[38;5;241m.\u001b[39m_self_setattr_tracking \u001b[38;5;241m=\u001b[39m previous_value  \u001b[38;5;66;03m# pylint: disable=protected-access\u001b[39;00m\n",
      "File \u001b[0;32m~/railway/nature/lib/python3.8/site-packages/keras/src/utils/traceback_utils.py:70\u001b[0m, in \u001b[0;36mfilter_traceback.<locals>.error_handler\u001b[0;34m(*args, **kwargs)\u001b[0m\n\u001b[1;32m     67\u001b[0m     filtered_tb \u001b[38;5;241m=\u001b[39m _process_traceback_frames(e\u001b[38;5;241m.\u001b[39m__traceback__)\n\u001b[1;32m     68\u001b[0m     \u001b[38;5;66;03m# To get the full stack trace, call:\u001b[39;00m\n\u001b[1;32m     69\u001b[0m     \u001b[38;5;66;03m# `tf.debugging.disable_traceback_filtering()`\u001b[39;00m\n\u001b[0;32m---> 70\u001b[0m     \u001b[38;5;28;01mraise\u001b[39;00m e\u001b[38;5;241m.\u001b[39mwith_traceback(filtered_tb) \u001b[38;5;28;01mfrom\u001b[39;00m \u001b[38;5;28;01mNone\u001b[39;00m\n\u001b[1;32m     71\u001b[0m \u001b[38;5;28;01mfinally\u001b[39;00m:\n\u001b[1;32m     72\u001b[0m     \u001b[38;5;28;01mdel\u001b[39;00m filtered_tb\n",
      "File \u001b[0;32m~/railway/nature/lib/python3.8/site-packages/keras/src/engine/input_spec.py:235\u001b[0m, in \u001b[0;36massert_input_compatibility\u001b[0;34m(input_spec, inputs, layer_name)\u001b[0m\n\u001b[1;32m    233\u001b[0m     ndim \u001b[38;5;241m=\u001b[39m shape\u001b[38;5;241m.\u001b[39mrank\n\u001b[1;32m    234\u001b[0m     \u001b[38;5;28;01mif\u001b[39;00m ndim \u001b[38;5;241m!=\u001b[39m spec\u001b[38;5;241m.\u001b[39mndim:\n\u001b[0;32m--> 235\u001b[0m         \u001b[38;5;28;01mraise\u001b[39;00m \u001b[38;5;167;01mValueError\u001b[39;00m(\n\u001b[1;32m    236\u001b[0m             \u001b[38;5;124mf\u001b[39m\u001b[38;5;124m'\u001b[39m\u001b[38;5;124mInput \u001b[39m\u001b[38;5;132;01m{\u001b[39;00minput_index\u001b[38;5;132;01m}\u001b[39;00m\u001b[38;5;124m of layer \u001b[39m\u001b[38;5;124m\"\u001b[39m\u001b[38;5;132;01m{\u001b[39;00mlayer_name\u001b[38;5;132;01m}\u001b[39;00m\u001b[38;5;124m\"\u001b[39m\u001b[38;5;124m \u001b[39m\u001b[38;5;124m'\u001b[39m\n\u001b[1;32m    237\u001b[0m             \u001b[38;5;124m\"\u001b[39m\u001b[38;5;124mis incompatible with the layer: \u001b[39m\u001b[38;5;124m\"\u001b[39m\n\u001b[1;32m    238\u001b[0m             \u001b[38;5;124mf\u001b[39m\u001b[38;5;124m\"\u001b[39m\u001b[38;5;124mexpected ndim=\u001b[39m\u001b[38;5;132;01m{\u001b[39;00mspec\u001b[38;5;241m.\u001b[39mndim\u001b[38;5;132;01m}\u001b[39;00m\u001b[38;5;124m, found ndim=\u001b[39m\u001b[38;5;132;01m{\u001b[39;00mndim\u001b[38;5;132;01m}\u001b[39;00m\u001b[38;5;124m. \u001b[39m\u001b[38;5;124m\"\u001b[39m\n\u001b[1;32m    239\u001b[0m             \u001b[38;5;124mf\u001b[39m\u001b[38;5;124m\"\u001b[39m\u001b[38;5;124mFull shape received: \u001b[39m\u001b[38;5;132;01m{\u001b[39;00m\u001b[38;5;28mtuple\u001b[39m(shape)\u001b[38;5;132;01m}\u001b[39;00m\u001b[38;5;124m\"\u001b[39m\n\u001b[1;32m    240\u001b[0m         )\n\u001b[1;32m    241\u001b[0m \u001b[38;5;28;01mif\u001b[39;00m spec\u001b[38;5;241m.\u001b[39mmax_ndim \u001b[38;5;129;01mis\u001b[39;00m \u001b[38;5;129;01mnot\u001b[39;00m \u001b[38;5;28;01mNone\u001b[39;00m:\n\u001b[1;32m    242\u001b[0m     ndim \u001b[38;5;241m=\u001b[39m x\u001b[38;5;241m.\u001b[39mshape\u001b[38;5;241m.\u001b[39mrank\n",
      "\u001b[0;31mValueError\u001b[0m: Input 0 of layer \"max_pooling1d_16\" is incompatible with the layer: expected ndim=3, found ndim=4. Full shape received: (None, 1, 12, 64)"
     ]
    }
   ],
   "source": [
    "model_lscon = Sequential()\n",
    "model_lscon.add(Convolution1D(64, 3, input_shape=(1,14,1)))\n",
    "model_lscon.add(MaxPooling1D(pool_size=2))\n",
    "model_lscon.add(LSTM(100, return_sequences=True))\n",
    "model_lscon.add(Dropout(0.2))\n",
    "model_lscon.add(Convolution1D(32, 3))\n",
    "model_lscon.add(MaxPooling1D(pool_size=2))\n",
    "model_lscon.add(Flatten())\n",
    "model_lscon.add(Dense(units=1))\n",
    "model_lscon.add(Activation('linear'))\n",
    "\n",
    "model_lscon.summary()"
   ]
  },
  {
   "cell_type": "code",
   "execution_count": 134,
   "id": "8cc57c01-6fb8-4fb4-bccc-5c7afd95a9f1",
   "metadata": {},
   "outputs": [],
   "source": [
    "model_lscon.compile(loss='mse', optimizer='rmsprop', metrics=['accuracy'])"
   ]
  },
  {
   "cell_type": "code",
   "execution_count": 136,
   "id": "df71a1bd-556e-43ed-97f3-db88c90f413e",
   "metadata": {},
   "outputs": [
    {
     "name": "stdout",
     "output_type": "stream",
     "text": [
      "Epoch 1/75\n"
     ]
    },
    {
     "ename": "ValueError",
     "evalue": "in user code:\n\n    File \"/home/amit/railway/nature/lib/python3.8/site-packages/keras/src/engine/training.py\", line 1338, in train_function  *\n        return step_function(self, iterator)\n    File \"/home/amit/railway/nature/lib/python3.8/site-packages/keras/src/engine/training.py\", line 1322, in step_function  **\n        outputs = model.distribute_strategy.run(run_step, args=(data,))\n    File \"/home/amit/railway/nature/lib/python3.8/site-packages/keras/src/engine/training.py\", line 1303, in run_step  **\n        outputs = model.train_step(data)\n    File \"/home/amit/railway/nature/lib/python3.8/site-packages/keras/src/engine/training.py\", line 1080, in train_step\n        y_pred = self(x, training=True)\n    File \"/home/amit/railway/nature/lib/python3.8/site-packages/keras/src/utils/traceback_utils.py\", line 70, in error_handler\n        raise e.with_traceback(filtered_tb) from None\n    File \"/home/amit/railway/nature/lib/python3.8/site-packages/keras/src/engine/input_spec.py\", line 298, in assert_input_compatibility\n        raise ValueError(\n\n    ValueError: Input 0 of layer \"sequential_16\" is incompatible with the layer: expected shape=(None, 838852, 14), found shape=(None, 14)\n",
     "output_type": "error",
     "traceback": [
      "\u001b[0;31m---------------------------------------------------------------------------\u001b[0m",
      "\u001b[0;31mValueError\u001b[0m                                Traceback (most recent call last)",
      "Cell \u001b[0;32mIn[136], line 1\u001b[0m\n\u001b[0;32m----> 1\u001b[0m \u001b[43mmodel_lscon\u001b[49m\u001b[38;5;241;43m.\u001b[39;49m\u001b[43mfit\u001b[49m\u001b[43m(\u001b[49m\u001b[43mX_train\u001b[49m\u001b[43m,\u001b[49m\u001b[43m \u001b[49m\u001b[43my_train\u001b[49m\u001b[43m,\u001b[49m\u001b[43m \u001b[49m\u001b[43mbatch_size\u001b[49m\u001b[38;5;241;43m=\u001b[39;49m\u001b[38;5;241;43m256\u001b[39;49m\u001b[43m,\u001b[49m\u001b[43m \u001b[49m\u001b[43mepochs\u001b[49m\u001b[38;5;241;43m=\u001b[39;49m\u001b[38;5;241;43m75\u001b[39;49m\u001b[43m,\u001b[49m\u001b[43m \u001b[49m\u001b[43mvalidation_data\u001b[49m\u001b[43m \u001b[49m\u001b[38;5;241;43m=\u001b[39;49m\u001b[43m \u001b[49m\u001b[43m(\u001b[49m\u001b[43mX_test\u001b[49m\u001b[43m,\u001b[49m\u001b[43m \u001b[49m\u001b[43my_test\u001b[49m\u001b[43m)\u001b[49m\u001b[43m,\u001b[49m\u001b[43m \u001b[49m\u001b[43mverbose\u001b[49m\u001b[38;5;241;43m=\u001b[39;49m\u001b[38;5;241;43m2\u001b[39;49m\u001b[43m)\u001b[49m\n",
      "File \u001b[0;32m~/railway/nature/lib/python3.8/site-packages/keras/src/utils/traceback_utils.py:70\u001b[0m, in \u001b[0;36mfilter_traceback.<locals>.error_handler\u001b[0;34m(*args, **kwargs)\u001b[0m\n\u001b[1;32m     67\u001b[0m     filtered_tb \u001b[38;5;241m=\u001b[39m _process_traceback_frames(e\u001b[38;5;241m.\u001b[39m__traceback__)\n\u001b[1;32m     68\u001b[0m     \u001b[38;5;66;03m# To get the full stack trace, call:\u001b[39;00m\n\u001b[1;32m     69\u001b[0m     \u001b[38;5;66;03m# `tf.debugging.disable_traceback_filtering()`\u001b[39;00m\n\u001b[0;32m---> 70\u001b[0m     \u001b[38;5;28;01mraise\u001b[39;00m e\u001b[38;5;241m.\u001b[39mwith_traceback(filtered_tb) \u001b[38;5;28;01mfrom\u001b[39;00m \u001b[38;5;28;01mNone\u001b[39;00m\n\u001b[1;32m     71\u001b[0m \u001b[38;5;28;01mfinally\u001b[39;00m:\n\u001b[1;32m     72\u001b[0m     \u001b[38;5;28;01mdel\u001b[39;00m filtered_tb\n",
      "File \u001b[0;32m/tmp/__autograph_generated_filear6q0xcl.py:15\u001b[0m, in \u001b[0;36mouter_factory.<locals>.inner_factory.<locals>.tf__train_function\u001b[0;34m(iterator)\u001b[0m\n\u001b[1;32m     13\u001b[0m \u001b[38;5;28;01mtry\u001b[39;00m:\n\u001b[1;32m     14\u001b[0m     do_return \u001b[38;5;241m=\u001b[39m \u001b[38;5;28;01mTrue\u001b[39;00m\n\u001b[0;32m---> 15\u001b[0m     retval_ \u001b[38;5;241m=\u001b[39m ag__\u001b[38;5;241m.\u001b[39mconverted_call(ag__\u001b[38;5;241m.\u001b[39mld(step_function), (ag__\u001b[38;5;241m.\u001b[39mld(\u001b[38;5;28mself\u001b[39m), ag__\u001b[38;5;241m.\u001b[39mld(iterator)), \u001b[38;5;28;01mNone\u001b[39;00m, fscope)\n\u001b[1;32m     16\u001b[0m \u001b[38;5;28;01mexcept\u001b[39;00m:\n\u001b[1;32m     17\u001b[0m     do_return \u001b[38;5;241m=\u001b[39m \u001b[38;5;28;01mFalse\u001b[39;00m\n",
      "\u001b[0;31mValueError\u001b[0m: in user code:\n\n    File \"/home/amit/railway/nature/lib/python3.8/site-packages/keras/src/engine/training.py\", line 1338, in train_function  *\n        return step_function(self, iterator)\n    File \"/home/amit/railway/nature/lib/python3.8/site-packages/keras/src/engine/training.py\", line 1322, in step_function  **\n        outputs = model.distribute_strategy.run(run_step, args=(data,))\n    File \"/home/amit/railway/nature/lib/python3.8/site-packages/keras/src/engine/training.py\", line 1303, in run_step  **\n        outputs = model.train_step(data)\n    File \"/home/amit/railway/nature/lib/python3.8/site-packages/keras/src/engine/training.py\", line 1080, in train_step\n        y_pred = self(x, training=True)\n    File \"/home/amit/railway/nature/lib/python3.8/site-packages/keras/src/utils/traceback_utils.py\", line 70, in error_handler\n        raise e.with_traceback(filtered_tb) from None\n    File \"/home/amit/railway/nature/lib/python3.8/site-packages/keras/src/engine/input_spec.py\", line 298, in assert_input_compatibility\n        raise ValueError(\n\n    ValueError: Input 0 of layer \"sequential_16\" is incompatible with the layer: expected shape=(None, 838852, 14), found shape=(None, 14)\n"
     ]
    }
   ],
   "source": [
    "model_lscon.fit(X_train, y_train, batch_size=256, epochs=75, validation_data = (X_test, y_test), verbose=2)"
   ]
  },
  {
   "cell_type": "code",
   "execution_count": 155,
   "id": "23527e49-53a7-4b1e-bea9-b802a9a4a8b5",
   "metadata": {},
   "outputs": [
    {
     "data": {
      "text/plain": [
       "(838852, 14)"
      ]
     },
     "execution_count": 155,
     "metadata": {},
     "output_type": "execute_result"
    }
   ],
   "source": [
    "X_train.shape"
   ]
  },
  {
   "cell_type": "code",
   "execution_count": 158,
   "id": "3cf6fbca-7712-4f69-a9e2-9701a7dc1612",
   "metadata": {},
   "outputs": [
    {
     "name": "stdout",
     "output_type": "stream",
     "text": [
      "Model: \"sequential_31\"\n",
      "_________________________________________________________________\n",
      " Layer (type)                Output Shape              Param #   \n",
      "=================================================================\n",
      " conv1d_33 (Conv1D)          (None, 838850, 32)        1376      \n",
      "                                                                 \n",
      " max_pooling1d_24 (MaxPooli  (None, 419425, 32)        0         \n",
      " ng1D)                                                           \n",
      "                                                                 \n",
      " flatten_11 (Flatten)        (None, 13421600)          0         \n",
      "                                                                 \n",
      " dropout_24 (Dropout)        (None, 13421600)          0         \n",
      "                                                                 \n",
      " dense_23 (Dense)            (None, 32)                429491232 \n",
      "                                                                 \n",
      " dropout_25 (Dropout)        (None, 32)                0         \n",
      "                                                                 \n",
      " dense_24 (Dense)            (None, 1)                 33        \n",
      "                                                                 \n",
      "=================================================================\n",
      "Total params: 429492641 (1.60 GB)\n",
      "Trainable params: 429492641 (1.60 GB)\n",
      "Non-trainable params: 0 (0.00 Byte)\n",
      "_________________________________________________________________\n"
     ]
    }
   ],
   "source": [
    "# Create Conv1D model\n",
    "Conv1Dmodel = keras.models.Sequential([\n",
    "    Conv1D(filters=32, kernel_size=3, activation='relu', input_shape=X_train.shape),\n",
    "    MaxPooling1D(pool_size=2),\n",
    "    Flatten(),\n",
    "    keras.layers.Dropout(0.2),  # Add dropout regularization\n",
    "    keras.layers.Dense(32, activation='relu'),\n",
    "    keras.layers.Dropout(0.2),  # Add dropout regularization\n",
    "    keras.layers.Dense(1, activation=None)\n",
    "])\n",
    "Conv1Dmodel.summary()"
   ]
  },
  {
   "cell_type": "code",
   "execution_count": 150,
   "id": "88bce8bb-344c-4c97-9d2b-6436463167a0",
   "metadata": {},
   "outputs": [],
   "source": [
    "# Compile the model with Mean Squared Error loss and Nadam optimizer\n",
    "Conv1Dmodel.compile(\n",
    "    loss=\"mean_squared_error\", \n",
    "    optimizer=tf.keras.optimizers.Nadam(learning_rate=0.001), \n",
    "    metrics=[tf.keras.metrics.MeanSquaredError(), tf.keras.metrics.RootMeanSquaredError()]\n",
    ")"
   ]
  },
  {
   "cell_type": "code",
   "execution_count": 152,
   "id": "03cf7f13-710d-4625-a39e-5d00cec56fb2",
   "metadata": {},
   "outputs": [
    {
     "name": "stdout",
     "output_type": "stream",
     "text": [
      "Epoch 1/600\n"
     ]
    },
    {
     "ename": "ValueError",
     "evalue": "in user code:\n\n    File \"/home/amit/railway/nature/lib/python3.8/site-packages/keras/src/engine/training.py\", line 1338, in train_function  *\n        return step_function(self, iterator)\n    File \"/home/amit/railway/nature/lib/python3.8/site-packages/keras/src/engine/training.py\", line 1322, in step_function  **\n        outputs = model.distribute_strategy.run(run_step, args=(data,))\n    File \"/home/amit/railway/nature/lib/python3.8/site-packages/keras/src/engine/training.py\", line 1303, in run_step  **\n        outputs = model.train_step(data)\n    File \"/home/amit/railway/nature/lib/python3.8/site-packages/keras/src/engine/training.py\", line 1080, in train_step\n        y_pred = self(x, training=True)\n    File \"/home/amit/railway/nature/lib/python3.8/site-packages/keras/src/utils/traceback_utils.py\", line 70, in error_handler\n        raise e.with_traceback(filtered_tb) from None\n    File \"/home/amit/railway/nature/lib/python3.8/site-packages/keras/src/engine/input_spec.py\", line 298, in assert_input_compatibility\n        raise ValueError(\n\n    ValueError: Input 0 of layer \"sequential_28\" is incompatible with the layer: expected shape=(None, 838852, 14), found shape=(None, 14)\n",
     "output_type": "error",
     "traceback": [
      "\u001b[0;31m---------------------------------------------------------------------------\u001b[0m",
      "\u001b[0;31mValueError\u001b[0m                                Traceback (most recent call last)",
      "Cell \u001b[0;32mIn[152], line 3\u001b[0m\n\u001b[1;32m      1\u001b[0m early_stop \u001b[38;5;241m=\u001b[39m EarlyStopping(monitor\u001b[38;5;241m=\u001b[39m\u001b[38;5;124m'\u001b[39m\u001b[38;5;124mval_root_mean_squared_error\u001b[39m\u001b[38;5;124m'\u001b[39m, min_delta\u001b[38;5;241m=\u001b[39m\u001b[38;5;241m0.0\u001b[39m, patience\u001b[38;5;241m=\u001b[39m\u001b[38;5;241m10\u001b[39m, verbose\u001b[38;5;241m=\u001b[39m\u001b[38;5;241m1\u001b[39m, mode\u001b[38;5;241m=\u001b[39m\u001b[38;5;124m'\u001b[39m\u001b[38;5;124mmin\u001b[39m\u001b[38;5;124m'\u001b[39m)\n\u001b[0;32m----> 3\u001b[0m history \u001b[38;5;241m=\u001b[39m \u001b[43mConv1Dmodel\u001b[49m\u001b[38;5;241;43m.\u001b[39;49m\u001b[43mfit\u001b[49m\u001b[43m(\u001b[49m\n\u001b[1;32m      4\u001b[0m \u001b[43m    \u001b[49m\u001b[43mX_train\u001b[49m\u001b[43m,\u001b[49m\u001b[43m \u001b[49m\n\u001b[1;32m      5\u001b[0m \u001b[43m    \u001b[49m\u001b[43my_train\u001b[49m\u001b[43m,\u001b[49m\u001b[43m \u001b[49m\n\u001b[1;32m      6\u001b[0m \u001b[43m    \u001b[49m\u001b[43mepochs\u001b[49m\u001b[38;5;241;43m=\u001b[39;49m\u001b[38;5;241;43m600\u001b[39;49m\u001b[43m,\u001b[49m\n\u001b[1;32m      7\u001b[0m \u001b[43m    \u001b[49m\u001b[43mvalidation_data\u001b[49m\u001b[38;5;241;43m=\u001b[39;49m\u001b[43m(\u001b[49m\u001b[43mX_test\u001b[49m\u001b[43m,\u001b[49m\u001b[43m \u001b[49m\u001b[43my_test\u001b[49m\u001b[43m)\u001b[49m\u001b[43m,\u001b[49m\u001b[43m \u001b[49m\n\u001b[1;32m      8\u001b[0m \u001b[43m    \u001b[49m\u001b[43mcallbacks\u001b[49m\u001b[38;5;241;43m=\u001b[39;49m\u001b[43m[\u001b[49m\u001b[43mearly_stop\u001b[49m\u001b[43m]\u001b[49m\n\u001b[1;32m      9\u001b[0m \u001b[43m)\u001b[49m\n",
      "File \u001b[0;32m~/railway/nature/lib/python3.8/site-packages/keras/src/utils/traceback_utils.py:70\u001b[0m, in \u001b[0;36mfilter_traceback.<locals>.error_handler\u001b[0;34m(*args, **kwargs)\u001b[0m\n\u001b[1;32m     67\u001b[0m     filtered_tb \u001b[38;5;241m=\u001b[39m _process_traceback_frames(e\u001b[38;5;241m.\u001b[39m__traceback__)\n\u001b[1;32m     68\u001b[0m     \u001b[38;5;66;03m# To get the full stack trace, call:\u001b[39;00m\n\u001b[1;32m     69\u001b[0m     \u001b[38;5;66;03m# `tf.debugging.disable_traceback_filtering()`\u001b[39;00m\n\u001b[0;32m---> 70\u001b[0m     \u001b[38;5;28;01mraise\u001b[39;00m e\u001b[38;5;241m.\u001b[39mwith_traceback(filtered_tb) \u001b[38;5;28;01mfrom\u001b[39;00m \u001b[38;5;28;01mNone\u001b[39;00m\n\u001b[1;32m     71\u001b[0m \u001b[38;5;28;01mfinally\u001b[39;00m:\n\u001b[1;32m     72\u001b[0m     \u001b[38;5;28;01mdel\u001b[39;00m filtered_tb\n",
      "File \u001b[0;32m/tmp/__autograph_generated_filear6q0xcl.py:15\u001b[0m, in \u001b[0;36mouter_factory.<locals>.inner_factory.<locals>.tf__train_function\u001b[0;34m(iterator)\u001b[0m\n\u001b[1;32m     13\u001b[0m \u001b[38;5;28;01mtry\u001b[39;00m:\n\u001b[1;32m     14\u001b[0m     do_return \u001b[38;5;241m=\u001b[39m \u001b[38;5;28;01mTrue\u001b[39;00m\n\u001b[0;32m---> 15\u001b[0m     retval_ \u001b[38;5;241m=\u001b[39m ag__\u001b[38;5;241m.\u001b[39mconverted_call(ag__\u001b[38;5;241m.\u001b[39mld(step_function), (ag__\u001b[38;5;241m.\u001b[39mld(\u001b[38;5;28mself\u001b[39m), ag__\u001b[38;5;241m.\u001b[39mld(iterator)), \u001b[38;5;28;01mNone\u001b[39;00m, fscope)\n\u001b[1;32m     16\u001b[0m \u001b[38;5;28;01mexcept\u001b[39;00m:\n\u001b[1;32m     17\u001b[0m     do_return \u001b[38;5;241m=\u001b[39m \u001b[38;5;28;01mFalse\u001b[39;00m\n",
      "\u001b[0;31mValueError\u001b[0m: in user code:\n\n    File \"/home/amit/railway/nature/lib/python3.8/site-packages/keras/src/engine/training.py\", line 1338, in train_function  *\n        return step_function(self, iterator)\n    File \"/home/amit/railway/nature/lib/python3.8/site-packages/keras/src/engine/training.py\", line 1322, in step_function  **\n        outputs = model.distribute_strategy.run(run_step, args=(data,))\n    File \"/home/amit/railway/nature/lib/python3.8/site-packages/keras/src/engine/training.py\", line 1303, in run_step  **\n        outputs = model.train_step(data)\n    File \"/home/amit/railway/nature/lib/python3.8/site-packages/keras/src/engine/training.py\", line 1080, in train_step\n        y_pred = self(x, training=True)\n    File \"/home/amit/railway/nature/lib/python3.8/site-packages/keras/src/utils/traceback_utils.py\", line 70, in error_handler\n        raise e.with_traceback(filtered_tb) from None\n    File \"/home/amit/railway/nature/lib/python3.8/site-packages/keras/src/engine/input_spec.py\", line 298, in assert_input_compatibility\n        raise ValueError(\n\n    ValueError: Input 0 of layer \"sequential_28\" is incompatible with the layer: expected shape=(None, 838852, 14), found shape=(None, 14)\n"
     ]
    }
   ],
   "source": [
    "early_stop = EarlyStopping(monitor='val_root_mean_squared_error', min_delta=0.0, patience=10, verbose=1, mode='min')\n",
    "\n",
    "history = Conv1Dmodel.fit(\n",
    "    X_train, \n",
    "    y_train, \n",
    "    epochs=600,\n",
    "    validation_data=(X_test, y_test), \n",
    "    callbacks=[early_stop]\n",
    ")\n"
   ]
  },
  {
   "cell_type": "code",
   "execution_count": null,
   "id": "4ead3df0-0bf6-457f-bcf2-a03b4285f1cf",
   "metadata": {},
   "outputs": [],
   "source": []
  },
  {
   "cell_type": "code",
   "execution_count": 47,
   "id": "c5ed06cf-925b-4e6c-b730-82b1d76fc349",
   "metadata": {},
   "outputs": [
    {
     "data": {
      "text/plain": [
       "Order Qty                                  int64\n",
       "Order value                              float64\n",
       "Shipment Quantity Received               float64\n",
       "Shipment Quantity Rejected               float64\n",
       "Shipment Quantity Accepted               float64\n",
       "CRAC amount                              float64\n",
       "Total payments                             int64\n",
       "price                                    float64\n",
       "Purchase Mode_encoded                      int64\n",
       "MSME verfied gender wise_encoded           int64\n",
       "Order MSME Verified_encoded                int64\n",
       "Startup verfied_encoded                    int64\n",
       "Payment Type_encoded                       int64\n",
       "MSME verified social category_encoded      int64\n",
       "dtype: object"
      ]
     },
     "execution_count": 47,
     "metadata": {},
     "output_type": "execute_result"
    }
   ],
   "source": [
    "X_train.dtypes"
   ]
  },
  {
   "cell_type": "code",
   "execution_count": 77,
   "id": "a25c141a-e674-4b7c-b88f-152790ea27de",
   "metadata": {},
   "outputs": [
    {
     "name": "stdout",
     "output_type": "stream",
     "text": [
      "(838852, 14) (838852,) (209713, 14) (209713,)\n"
     ]
    }
   ],
   "source": [
    "X_train_bil, y_train_bil = np.array(X_train), np.array(y_train)\n",
    "X_test_bil, y_test_bil = np.array(X_test), np.array(y_test)\n",
    "#X_train_bil = X_train_bil.reshape((X_train_bil.shape[0], 1, X_train_bil.shape[1]))\n",
    "#X_test_bil = X_test_bil.reshape((X_test_bil.shape[0], 1, X_test_bil.shape[1]))\n",
    "print(X_train_bil.shape, y_train_bil.shape, X_test_bil.shape, y_test_bil.shape)"
   ]
  },
  {
   "cell_type": "code",
   "execution_count": 122,
   "id": "6fb22b30-5014-40c4-902e-292fe2eac76b",
   "metadata": {},
   "outputs": [
    {
     "data": {
      "text/plain": [
       "14"
      ]
     },
     "execution_count": 122,
     "metadata": {},
     "output_type": "execute_result"
    }
   ],
   "source": [
    "X_train_bil.shape[2]"
   ]
  },
  {
   "cell_type": "code",
   "execution_count": 123,
   "id": "c49581d1-5a53-4020-9b4c-45140fe7702b",
   "metadata": {},
   "outputs": [
    {
     "data": {
      "text/plain": [
       "1"
      ]
     },
     "execution_count": 123,
     "metadata": {},
     "output_type": "execute_result"
    }
   ],
   "source": [
    "X_train_bil.shape[1]"
   ]
  },
  {
   "cell_type": "code",
   "execution_count": 124,
   "id": "c8a49070-7a88-4e3d-af1d-e2bf979bf244",
   "metadata": {},
   "outputs": [
    {
     "data": {
      "text/plain": [
       "838852"
      ]
     },
     "execution_count": 124,
     "metadata": {},
     "output_type": "execute_result"
    }
   ],
   "source": [
    "X_train_bil.shape[0]"
   ]
  },
  {
   "cell_type": "code",
   "execution_count": 115,
   "id": "111eddab-67a9-4250-afca-726bf8be2fc9",
   "metadata": {},
   "outputs": [],
   "source": [
    "# The LSTM architecture\n",
    "regressorBilstm = Sequential()\n",
    "# First LSTM layer with Dropout regularisation\n",
    "regressorBilstm.add(LSTM( units=50, dropout = 0.10, return_sequences=True, input_shape = (X_train_bil.shape[0], X_train_bil.shape[1])))\n",
    "regressorBilstm.add(Dropout(0.2))\n",
    "# Second LSTM layer\n",
    "regressorBilstm.add(LSTM(units=50, dropout = 0.10, return_sequences=True))\n",
    "regressorBilstm.add(Dropout(0.2))\n",
    "# Third LSTM layer\n",
    "regressorBilstm.add(LSTM(units=50, dropout = 0.10, return_sequences=True))\n",
    "regressorBilstm.add(Dropout(0.2))\n",
    "# Fourth LSTM layer\n",
    "regressorBilstm.add(LSTM( units=50, dropout = 0.10))\n",
    "regressorBilstm.add(Dropout(0.2))\n",
    "# The output layer\n",
    "regressorBilstm.add(Dense(units=1))\n",
    "\n",
    "# Compiling the LSTM\n",
    "regressorBilstm.compile(optimizer='adam',loss='mean_squared_error')\n"
   ]
  },
  {
   "cell_type": "code",
   "execution_count": 116,
   "id": "c222f078-d7c4-45ac-9b35-0b1bee472c23",
   "metadata": {},
   "outputs": [
    {
     "name": "stdout",
     "output_type": "stream",
     "text": [
      "Model: \"sequential_16\"\n",
      "_________________________________________________________________\n",
      " Layer (type)                Output Shape              Param #   \n",
      "=================================================================\n",
      " lstm_64 (LSTM)              (None, 838852, 50)        13000     \n",
      "                                                                 \n",
      " dropout_64 (Dropout)        (None, 838852, 50)        0         \n",
      "                                                                 \n",
      " lstm_65 (LSTM)              (None, 838852, 50)        20200     \n",
      "                                                                 \n",
      " dropout_65 (Dropout)        (None, 838852, 50)        0         \n",
      "                                                                 \n",
      " lstm_66 (LSTM)              (None, 838852, 50)        20200     \n",
      "                                                                 \n",
      " dropout_66 (Dropout)        (None, 838852, 50)        0         \n",
      "                                                                 \n",
      " lstm_67 (LSTM)              (None, 50)                20200     \n",
      "                                                                 \n",
      " dropout_67 (Dropout)        (None, 50)                0         \n",
      "                                                                 \n",
      " dense_16 (Dense)            (None, 1)                 51        \n",
      "                                                                 \n",
      "=================================================================\n",
      "Total params: 73651 (287.70 KB)\n",
      "Trainable params: 73651 (287.70 KB)\n",
      "Non-trainable params: 0 (0.00 Byte)\n",
      "_________________________________________________________________\n",
      "Epoch 1/50\n"
     ]
    },
    {
     "ename": "ValueError",
     "evalue": "in user code:\n\n    File \"/home/amit/railway/nature/lib/python3.8/site-packages/keras/src/engine/training.py\", line 1338, in train_function  *\n        return step_function(self, iterator)\n    File \"/home/amit/railway/nature/lib/python3.8/site-packages/keras/src/engine/training.py\", line 1322, in step_function  **\n        outputs = model.distribute_strategy.run(run_step, args=(data,))\n    File \"/home/amit/railway/nature/lib/python3.8/site-packages/keras/src/engine/training.py\", line 1303, in run_step  **\n        outputs = model.train_step(data)\n    File \"/home/amit/railway/nature/lib/python3.8/site-packages/keras/src/engine/training.py\", line 1080, in train_step\n        y_pred = self(x, training=True)\n    File \"/home/amit/railway/nature/lib/python3.8/site-packages/keras/src/utils/traceback_utils.py\", line 70, in error_handler\n        raise e.with_traceback(filtered_tb) from None\n    File \"/home/amit/railway/nature/lib/python3.8/site-packages/keras/src/engine/input_spec.py\", line 298, in assert_input_compatibility\n        raise ValueError(\n\n    ValueError: Input 0 of layer \"sequential_16\" is incompatible with the layer: expected shape=(None, 838852, 14), found shape=(None, 14)\n",
     "output_type": "error",
     "traceback": [
      "\u001b[0;31m---------------------------------------------------------------------------\u001b[0m",
      "\u001b[0;31mValueError\u001b[0m                                Traceback (most recent call last)",
      "Cell \u001b[0;32mIn[116], line 3\u001b[0m\n\u001b[1;32m      1\u001b[0m \u001b[38;5;66;03m# Fitting to the training set\u001b[39;00m\n\u001b[1;32m      2\u001b[0m regressorBilstm\u001b[38;5;241m.\u001b[39msummary()\n\u001b[0;32m----> 3\u001b[0m history_bil\u001b[38;5;241m=\u001b[39m\u001b[43mregressorBilstm\u001b[49m\u001b[38;5;241;43m.\u001b[39;49m\u001b[43mfit\u001b[49m\u001b[43m(\u001b[49m\u001b[43mX_train_bil\u001b[49m\u001b[43m,\u001b[49m\u001b[43my_train_bil\u001b[49m\u001b[43m,\u001b[49m\u001b[43mvalidation_data\u001b[49m\u001b[38;5;241;43m=\u001b[39;49m\u001b[43m(\u001b[49m\u001b[43mX_test_bil\u001b[49m\u001b[43m,\u001b[49m\u001b[43m \u001b[49m\u001b[43my_test_bil\u001b[49m\u001b[43m)\u001b[49m\u001b[43m,\u001b[49m\u001b[43mepochs\u001b[49m\u001b[38;5;241;43m=\u001b[39;49m\u001b[38;5;241;43m50\u001b[39;49m\u001b[43m,\u001b[49m\u001b[43mshuffle\u001b[49m\u001b[38;5;241;43m=\u001b[39;49m\u001b[38;5;28;43;01mFalse\u001b[39;49;00m\u001b[43m)\u001b[49m\n",
      "File \u001b[0;32m~/railway/nature/lib/python3.8/site-packages/keras/src/utils/traceback_utils.py:70\u001b[0m, in \u001b[0;36mfilter_traceback.<locals>.error_handler\u001b[0;34m(*args, **kwargs)\u001b[0m\n\u001b[1;32m     67\u001b[0m     filtered_tb \u001b[38;5;241m=\u001b[39m _process_traceback_frames(e\u001b[38;5;241m.\u001b[39m__traceback__)\n\u001b[1;32m     68\u001b[0m     \u001b[38;5;66;03m# To get the full stack trace, call:\u001b[39;00m\n\u001b[1;32m     69\u001b[0m     \u001b[38;5;66;03m# `tf.debugging.disable_traceback_filtering()`\u001b[39;00m\n\u001b[0;32m---> 70\u001b[0m     \u001b[38;5;28;01mraise\u001b[39;00m e\u001b[38;5;241m.\u001b[39mwith_traceback(filtered_tb) \u001b[38;5;28;01mfrom\u001b[39;00m \u001b[38;5;28;01mNone\u001b[39;00m\n\u001b[1;32m     71\u001b[0m \u001b[38;5;28;01mfinally\u001b[39;00m:\n\u001b[1;32m     72\u001b[0m     \u001b[38;5;28;01mdel\u001b[39;00m filtered_tb\n",
      "File \u001b[0;32m/tmp/__autograph_generated_filemw2ztg_h.py:15\u001b[0m, in \u001b[0;36mouter_factory.<locals>.inner_factory.<locals>.tf__train_function\u001b[0;34m(iterator)\u001b[0m\n\u001b[1;32m     13\u001b[0m \u001b[38;5;28;01mtry\u001b[39;00m:\n\u001b[1;32m     14\u001b[0m     do_return \u001b[38;5;241m=\u001b[39m \u001b[38;5;28;01mTrue\u001b[39;00m\n\u001b[0;32m---> 15\u001b[0m     retval_ \u001b[38;5;241m=\u001b[39m ag__\u001b[38;5;241m.\u001b[39mconverted_call(ag__\u001b[38;5;241m.\u001b[39mld(step_function), (ag__\u001b[38;5;241m.\u001b[39mld(\u001b[38;5;28mself\u001b[39m), ag__\u001b[38;5;241m.\u001b[39mld(iterator)), \u001b[38;5;28;01mNone\u001b[39;00m, fscope)\n\u001b[1;32m     16\u001b[0m \u001b[38;5;28;01mexcept\u001b[39;00m:\n\u001b[1;32m     17\u001b[0m     do_return \u001b[38;5;241m=\u001b[39m \u001b[38;5;28;01mFalse\u001b[39;00m\n",
      "\u001b[0;31mValueError\u001b[0m: in user code:\n\n    File \"/home/amit/railway/nature/lib/python3.8/site-packages/keras/src/engine/training.py\", line 1338, in train_function  *\n        return step_function(self, iterator)\n    File \"/home/amit/railway/nature/lib/python3.8/site-packages/keras/src/engine/training.py\", line 1322, in step_function  **\n        outputs = model.distribute_strategy.run(run_step, args=(data,))\n    File \"/home/amit/railway/nature/lib/python3.8/site-packages/keras/src/engine/training.py\", line 1303, in run_step  **\n        outputs = model.train_step(data)\n    File \"/home/amit/railway/nature/lib/python3.8/site-packages/keras/src/engine/training.py\", line 1080, in train_step\n        y_pred = self(x, training=True)\n    File \"/home/amit/railway/nature/lib/python3.8/site-packages/keras/src/utils/traceback_utils.py\", line 70, in error_handler\n        raise e.with_traceback(filtered_tb) from None\n    File \"/home/amit/railway/nature/lib/python3.8/site-packages/keras/src/engine/input_spec.py\", line 298, in assert_input_compatibility\n        raise ValueError(\n\n    ValueError: Input 0 of layer \"sequential_16\" is incompatible with the layer: expected shape=(None, 838852, 14), found shape=(None, 14)\n"
     ]
    }
   ],
   "source": [
    "# Fitting to the training set\n",
    "regressorBilstm.summary()\n",
    "history_bil=regressorBilstm.fit(X_train_bil,y_train_bil,validation_data=(X_test_bil, y_test_bil),epochs=50,shuffle=False)"
   ]
  },
  {
   "cell_type": "code",
   "execution_count": 55,
   "id": "eee66758-0822-41bb-b316-61c13416b985",
   "metadata": {},
   "outputs": [
    {
     "data": {
      "text/plain": [
       "array([180,  90,  60, ...,  90,   7,  90])"
      ]
     },
     "execution_count": 55,
     "metadata": {},
     "output_type": "execute_result"
    }
   ],
   "source": [
    "y_test_bil"
   ]
  },
  {
   "cell_type": "code",
   "execution_count": null,
   "id": "de07da14-2436-468f-a996-1b50b54e3ad3",
   "metadata": {},
   "outputs": [],
   "source": []
  },
  {
   "cell_type": "markdown",
   "id": "33a798ad-b21c-4f6c-99d0-42631518cb80",
   "metadata": {},
   "source": [
    "## LSTM Architecture"
   ]
  },
  {
   "cell_type": "code",
   "execution_count": 79,
   "id": "fcdb3241-7efb-4179-80f2-7f8c925374be",
   "metadata": {},
   "outputs": [],
   "source": [
    "# The LSTM architecture\n",
    "regressor = Sequential()\n",
    "# First LSTM layer with Dropout regularisation\n",
    "regressor.add(LSTM(activation = \"sigmoid\", units=50, dropout = 0.10, return_sequences=True, input_shape = (X_train_bil.shape[1], X_train_bil.shape[2])))\n",
    "regressor.add(Dropout(0.2))\n",
    "# Second LSTM layer\n",
    "regressor.add(LSTM(units=50, dropout = 0.10, return_sequences=True))\n",
    "regressor.add(Dropout(0.2))\n",
    "# Third LSTM layer\n",
    "regressor.add(LSTM(activation = \"sigmoid\", units=50, dropout = 0.10, return_sequences=True))\n",
    "regressor.add(Dropout(0.2))\n",
    "# Fourth LSTM layer\n",
    "regressor.add(LSTM(activation = \"tanh\", units=50, dropout = 0.10))\n",
    "regressor.add(Dropout(0.2))\n",
    "# The output layer\n",
    "regressor.add(Dense(units=1))\n",
    "\n",
    "# Compiling the LSTM\n",
    "regressor.compile(optimizer='adam',loss='mean_squared_error')\n"
   ]
  },
  {
   "cell_type": "code",
   "execution_count": 80,
   "id": "836b6a3d-ff0b-4d73-af04-788b1390e322",
   "metadata": {},
   "outputs": [
    {
     "name": "stdout",
     "output_type": "stream",
     "text": [
      "Model: \"sequential_11\"\n",
      "_________________________________________________________________\n",
      " Layer (type)                Output Shape              Param #   \n",
      "=================================================================\n",
      " lstm_44 (LSTM)              (None, 1, 50)             13000     \n",
      "                                                                 \n",
      " dropout_44 (Dropout)        (None, 1, 50)             0         \n",
      "                                                                 \n",
      " lstm_45 (LSTM)              (None, 1, 50)             20200     \n",
      "                                                                 \n",
      " dropout_45 (Dropout)        (None, 1, 50)             0         \n",
      "                                                                 \n",
      " lstm_46 (LSTM)              (None, 1, 50)             20200     \n",
      "                                                                 \n",
      " dropout_46 (Dropout)        (None, 1, 50)             0         \n",
      "                                                                 \n",
      " lstm_47 (LSTM)              (None, 50)                20200     \n",
      "                                                                 \n",
      " dropout_47 (Dropout)        (None, 50)                0         \n",
      "                                                                 \n",
      " dense_11 (Dense)            (None, 1)                 51        \n",
      "                                                                 \n",
      "=================================================================\n",
      "Total params: 73651 (287.70 KB)\n",
      "Trainable params: 73651 (287.70 KB)\n",
      "Non-trainable params: 0 (0.00 Byte)\n",
      "_________________________________________________________________\n",
      "Epoch 1/10\n",
      " 22875/167771 [===>..........................] - ETA: 9:10 - loss: 5249.6211"
     ]
    },
    {
     "ename": "KeyboardInterrupt",
     "evalue": "",
     "output_type": "error",
     "traceback": [
      "\u001b[0;31m---------------------------------------------------------------------------\u001b[0m",
      "\u001b[0;31mKeyboardInterrupt\u001b[0m                         Traceback (most recent call last)",
      "Cell \u001b[0;32mIn[80], line 3\u001b[0m\n\u001b[1;32m      1\u001b[0m \u001b[38;5;66;03m# Fitting to the training set\u001b[39;00m\n\u001b[1;32m      2\u001b[0m regressor\u001b[38;5;241m.\u001b[39msummary()\n\u001b[0;32m----> 3\u001b[0m history_lstmn\u001b[38;5;241m=\u001b[39m\u001b[43mregressor\u001b[49m\u001b[38;5;241;43m.\u001b[39;49m\u001b[43mfit\u001b[49m\u001b[43m(\u001b[49m\u001b[43mX_train_bil\u001b[49m\u001b[43m,\u001b[49m\u001b[43my_train_bil\u001b[49m\u001b[43m,\u001b[49m\u001b[43m \u001b[49m\u001b[43mepochs\u001b[49m\u001b[38;5;241;43m=\u001b[39;49m\u001b[38;5;241;43m10\u001b[39;49m\u001b[43m,\u001b[49m\u001b[43m \u001b[49m\u001b[43mbatch_size\u001b[49m\u001b[38;5;241;43m=\u001b[39;49m\u001b[38;5;241;43m5\u001b[39;49m\u001b[43m,\u001b[49m\u001b[43m \u001b[49m\u001b[43mshuffle\u001b[49m\u001b[38;5;241;43m=\u001b[39;49m\u001b[38;5;28;43;01mFalse\u001b[39;49;00m\u001b[43m)\u001b[49m\n",
      "File \u001b[0;32m~/railway/nature/lib/python3.8/site-packages/keras/src/utils/traceback_utils.py:65\u001b[0m, in \u001b[0;36mfilter_traceback.<locals>.error_handler\u001b[0;34m(*args, **kwargs)\u001b[0m\n\u001b[1;32m     63\u001b[0m filtered_tb \u001b[38;5;241m=\u001b[39m \u001b[38;5;28;01mNone\u001b[39;00m\n\u001b[1;32m     64\u001b[0m \u001b[38;5;28;01mtry\u001b[39;00m:\n\u001b[0;32m---> 65\u001b[0m     \u001b[38;5;28;01mreturn\u001b[39;00m \u001b[43mfn\u001b[49m\u001b[43m(\u001b[49m\u001b[38;5;241;43m*\u001b[39;49m\u001b[43margs\u001b[49m\u001b[43m,\u001b[49m\u001b[43m \u001b[49m\u001b[38;5;241;43m*\u001b[39;49m\u001b[38;5;241;43m*\u001b[39;49m\u001b[43mkwargs\u001b[49m\u001b[43m)\u001b[49m\n\u001b[1;32m     66\u001b[0m \u001b[38;5;28;01mexcept\u001b[39;00m \u001b[38;5;167;01mException\u001b[39;00m \u001b[38;5;28;01mas\u001b[39;00m e:\n\u001b[1;32m     67\u001b[0m     filtered_tb \u001b[38;5;241m=\u001b[39m _process_traceback_frames(e\u001b[38;5;241m.\u001b[39m__traceback__)\n",
      "File \u001b[0;32m~/railway/nature/lib/python3.8/site-packages/keras/src/engine/training.py:1742\u001b[0m, in \u001b[0;36mModel.fit\u001b[0;34m(self, x, y, batch_size, epochs, verbose, callbacks, validation_split, validation_data, shuffle, class_weight, sample_weight, initial_epoch, steps_per_epoch, validation_steps, validation_batch_size, validation_freq, max_queue_size, workers, use_multiprocessing)\u001b[0m\n\u001b[1;32m   1734\u001b[0m \u001b[38;5;28;01mwith\u001b[39;00m tf\u001b[38;5;241m.\u001b[39mprofiler\u001b[38;5;241m.\u001b[39mexperimental\u001b[38;5;241m.\u001b[39mTrace(\n\u001b[1;32m   1735\u001b[0m     \u001b[38;5;124m\"\u001b[39m\u001b[38;5;124mtrain\u001b[39m\u001b[38;5;124m\"\u001b[39m,\n\u001b[1;32m   1736\u001b[0m     epoch_num\u001b[38;5;241m=\u001b[39mepoch,\n\u001b[0;32m   (...)\u001b[0m\n\u001b[1;32m   1739\u001b[0m     _r\u001b[38;5;241m=\u001b[39m\u001b[38;5;241m1\u001b[39m,\n\u001b[1;32m   1740\u001b[0m ):\n\u001b[1;32m   1741\u001b[0m     callbacks\u001b[38;5;241m.\u001b[39mon_train_batch_begin(step)\n\u001b[0;32m-> 1742\u001b[0m     tmp_logs \u001b[38;5;241m=\u001b[39m \u001b[38;5;28;43mself\u001b[39;49m\u001b[38;5;241;43m.\u001b[39;49m\u001b[43mtrain_function\u001b[49m\u001b[43m(\u001b[49m\u001b[43miterator\u001b[49m\u001b[43m)\u001b[49m\n\u001b[1;32m   1743\u001b[0m     \u001b[38;5;28;01mif\u001b[39;00m data_handler\u001b[38;5;241m.\u001b[39mshould_sync:\n\u001b[1;32m   1744\u001b[0m         context\u001b[38;5;241m.\u001b[39masync_wait()\n",
      "File \u001b[0;32m~/railway/nature/lib/python3.8/site-packages/tensorflow/python/util/traceback_utils.py:150\u001b[0m, in \u001b[0;36mfilter_traceback.<locals>.error_handler\u001b[0;34m(*args, **kwargs)\u001b[0m\n\u001b[1;32m    148\u001b[0m filtered_tb \u001b[38;5;241m=\u001b[39m \u001b[38;5;28;01mNone\u001b[39;00m\n\u001b[1;32m    149\u001b[0m \u001b[38;5;28;01mtry\u001b[39;00m:\n\u001b[0;32m--> 150\u001b[0m   \u001b[38;5;28;01mreturn\u001b[39;00m \u001b[43mfn\u001b[49m\u001b[43m(\u001b[49m\u001b[38;5;241;43m*\u001b[39;49m\u001b[43margs\u001b[49m\u001b[43m,\u001b[49m\u001b[43m \u001b[49m\u001b[38;5;241;43m*\u001b[39;49m\u001b[38;5;241;43m*\u001b[39;49m\u001b[43mkwargs\u001b[49m\u001b[43m)\u001b[49m\n\u001b[1;32m    151\u001b[0m \u001b[38;5;28;01mexcept\u001b[39;00m \u001b[38;5;167;01mException\u001b[39;00m \u001b[38;5;28;01mas\u001b[39;00m e:\n\u001b[1;32m    152\u001b[0m   filtered_tb \u001b[38;5;241m=\u001b[39m _process_traceback_frames(e\u001b[38;5;241m.\u001b[39m__traceback__)\n",
      "File \u001b[0;32m~/railway/nature/lib/python3.8/site-packages/tensorflow/python/eager/polymorphic_function/polymorphic_function.py:825\u001b[0m, in \u001b[0;36mFunction.__call__\u001b[0;34m(self, *args, **kwds)\u001b[0m\n\u001b[1;32m    822\u001b[0m compiler \u001b[38;5;241m=\u001b[39m \u001b[38;5;124m\"\u001b[39m\u001b[38;5;124mxla\u001b[39m\u001b[38;5;124m\"\u001b[39m \u001b[38;5;28;01mif\u001b[39;00m \u001b[38;5;28mself\u001b[39m\u001b[38;5;241m.\u001b[39m_jit_compile \u001b[38;5;28;01melse\u001b[39;00m \u001b[38;5;124m\"\u001b[39m\u001b[38;5;124mnonXla\u001b[39m\u001b[38;5;124m\"\u001b[39m\n\u001b[1;32m    824\u001b[0m \u001b[38;5;28;01mwith\u001b[39;00m OptionalXlaContext(\u001b[38;5;28mself\u001b[39m\u001b[38;5;241m.\u001b[39m_jit_compile):\n\u001b[0;32m--> 825\u001b[0m   result \u001b[38;5;241m=\u001b[39m \u001b[38;5;28;43mself\u001b[39;49m\u001b[38;5;241;43m.\u001b[39;49m\u001b[43m_call\u001b[49m\u001b[43m(\u001b[49m\u001b[38;5;241;43m*\u001b[39;49m\u001b[43margs\u001b[49m\u001b[43m,\u001b[49m\u001b[43m \u001b[49m\u001b[38;5;241;43m*\u001b[39;49m\u001b[38;5;241;43m*\u001b[39;49m\u001b[43mkwds\u001b[49m\u001b[43m)\u001b[49m\n\u001b[1;32m    827\u001b[0m new_tracing_count \u001b[38;5;241m=\u001b[39m \u001b[38;5;28mself\u001b[39m\u001b[38;5;241m.\u001b[39mexperimental_get_tracing_count()\n\u001b[1;32m    828\u001b[0m without_tracing \u001b[38;5;241m=\u001b[39m (tracing_count \u001b[38;5;241m==\u001b[39m new_tracing_count)\n",
      "File \u001b[0;32m~/railway/nature/lib/python3.8/site-packages/tensorflow/python/eager/polymorphic_function/polymorphic_function.py:857\u001b[0m, in \u001b[0;36mFunction._call\u001b[0;34m(self, *args, **kwds)\u001b[0m\n\u001b[1;32m    854\u001b[0m   \u001b[38;5;28mself\u001b[39m\u001b[38;5;241m.\u001b[39m_lock\u001b[38;5;241m.\u001b[39mrelease()\n\u001b[1;32m    855\u001b[0m   \u001b[38;5;66;03m# In this case we have created variables on the first call, so we run the\u001b[39;00m\n\u001b[1;32m    856\u001b[0m   \u001b[38;5;66;03m# defunned version which is guaranteed to never create variables.\u001b[39;00m\n\u001b[0;32m--> 857\u001b[0m   \u001b[38;5;28;01mreturn\u001b[39;00m \u001b[38;5;28;43mself\u001b[39;49m\u001b[38;5;241;43m.\u001b[39;49m\u001b[43m_no_variable_creation_fn\u001b[49m\u001b[43m(\u001b[49m\u001b[38;5;241;43m*\u001b[39;49m\u001b[43margs\u001b[49m\u001b[43m,\u001b[49m\u001b[43m \u001b[49m\u001b[38;5;241;43m*\u001b[39;49m\u001b[38;5;241;43m*\u001b[39;49m\u001b[43mkwds\u001b[49m\u001b[43m)\u001b[49m  \u001b[38;5;66;03m# pylint: disable=not-callable\u001b[39;00m\n\u001b[1;32m    858\u001b[0m \u001b[38;5;28;01melif\u001b[39;00m \u001b[38;5;28mself\u001b[39m\u001b[38;5;241m.\u001b[39m_variable_creation_fn \u001b[38;5;129;01mis\u001b[39;00m \u001b[38;5;129;01mnot\u001b[39;00m \u001b[38;5;28;01mNone\u001b[39;00m:\n\u001b[1;32m    859\u001b[0m   \u001b[38;5;66;03m# Release the lock early so that multiple threads can perform the call\u001b[39;00m\n\u001b[1;32m    860\u001b[0m   \u001b[38;5;66;03m# in parallel.\u001b[39;00m\n\u001b[1;32m    861\u001b[0m   \u001b[38;5;28mself\u001b[39m\u001b[38;5;241m.\u001b[39m_lock\u001b[38;5;241m.\u001b[39mrelease()\n",
      "File \u001b[0;32m~/railway/nature/lib/python3.8/site-packages/tensorflow/python/eager/polymorphic_function/tracing_compiler.py:148\u001b[0m, in \u001b[0;36mTracingCompiler.__call__\u001b[0;34m(self, *args, **kwargs)\u001b[0m\n\u001b[1;32m    145\u001b[0m \u001b[38;5;28;01mwith\u001b[39;00m \u001b[38;5;28mself\u001b[39m\u001b[38;5;241m.\u001b[39m_lock:\n\u001b[1;32m    146\u001b[0m   (concrete_function,\n\u001b[1;32m    147\u001b[0m    filtered_flat_args) \u001b[38;5;241m=\u001b[39m \u001b[38;5;28mself\u001b[39m\u001b[38;5;241m.\u001b[39m_maybe_define_function(args, kwargs)\n\u001b[0;32m--> 148\u001b[0m \u001b[38;5;28;01mreturn\u001b[39;00m \u001b[43mconcrete_function\u001b[49m\u001b[38;5;241;43m.\u001b[39;49m\u001b[43m_call_flat\u001b[49m\u001b[43m(\u001b[49m\n\u001b[1;32m    149\u001b[0m \u001b[43m    \u001b[49m\u001b[43mfiltered_flat_args\u001b[49m\u001b[43m,\u001b[49m\u001b[43m \u001b[49m\u001b[43mcaptured_inputs\u001b[49m\u001b[38;5;241;43m=\u001b[39;49m\u001b[43mconcrete_function\u001b[49m\u001b[38;5;241;43m.\u001b[39;49m\u001b[43mcaptured_inputs\u001b[49m\u001b[43m)\u001b[49m\n",
      "File \u001b[0;32m~/railway/nature/lib/python3.8/site-packages/tensorflow/python/eager/polymorphic_function/monomorphic_function.py:1349\u001b[0m, in \u001b[0;36mConcreteFunction._call_flat\u001b[0;34m(self, args, captured_inputs)\u001b[0m\n\u001b[1;32m   1345\u001b[0m possible_gradient_type \u001b[38;5;241m=\u001b[39m gradients_util\u001b[38;5;241m.\u001b[39mPossibleTapeGradientTypes(args)\n\u001b[1;32m   1346\u001b[0m \u001b[38;5;28;01mif\u001b[39;00m (possible_gradient_type \u001b[38;5;241m==\u001b[39m gradients_util\u001b[38;5;241m.\u001b[39mPOSSIBLE_GRADIENT_TYPES_NONE\n\u001b[1;32m   1347\u001b[0m     \u001b[38;5;129;01mand\u001b[39;00m executing_eagerly):\n\u001b[1;32m   1348\u001b[0m   \u001b[38;5;66;03m# No tape is watching; skip to running the function.\u001b[39;00m\n\u001b[0;32m-> 1349\u001b[0m   \u001b[38;5;28;01mreturn\u001b[39;00m \u001b[38;5;28mself\u001b[39m\u001b[38;5;241m.\u001b[39m_build_call_outputs(\u001b[38;5;28;43mself\u001b[39;49m\u001b[38;5;241;43m.\u001b[39;49m\u001b[43m_inference_function\u001b[49m\u001b[43m(\u001b[49m\u001b[38;5;241;43m*\u001b[39;49m\u001b[43margs\u001b[49m\u001b[43m)\u001b[49m)\n\u001b[1;32m   1350\u001b[0m forward_backward \u001b[38;5;241m=\u001b[39m \u001b[38;5;28mself\u001b[39m\u001b[38;5;241m.\u001b[39m_select_forward_and_backward_functions(\n\u001b[1;32m   1351\u001b[0m     args,\n\u001b[1;32m   1352\u001b[0m     possible_gradient_type,\n\u001b[1;32m   1353\u001b[0m     executing_eagerly)\n\u001b[1;32m   1354\u001b[0m forward_function, args_with_tangents \u001b[38;5;241m=\u001b[39m forward_backward\u001b[38;5;241m.\u001b[39mforward()\n",
      "File \u001b[0;32m~/railway/nature/lib/python3.8/site-packages/tensorflow/python/eager/polymorphic_function/atomic_function.py:196\u001b[0m, in \u001b[0;36mAtomicFunction.__call__\u001b[0;34m(self, *args)\u001b[0m\n\u001b[1;32m    194\u001b[0m \u001b[38;5;28;01mwith\u001b[39;00m record\u001b[38;5;241m.\u001b[39mstop_recording():\n\u001b[1;32m    195\u001b[0m   \u001b[38;5;28;01mif\u001b[39;00m \u001b[38;5;28mself\u001b[39m\u001b[38;5;241m.\u001b[39m_bound_context\u001b[38;5;241m.\u001b[39mexecuting_eagerly():\n\u001b[0;32m--> 196\u001b[0m     outputs \u001b[38;5;241m=\u001b[39m \u001b[38;5;28;43mself\u001b[39;49m\u001b[38;5;241;43m.\u001b[39;49m\u001b[43m_bound_context\u001b[49m\u001b[38;5;241;43m.\u001b[39;49m\u001b[43mcall_function\u001b[49m\u001b[43m(\u001b[49m\n\u001b[1;32m    197\u001b[0m \u001b[43m        \u001b[49m\u001b[38;5;28;43mself\u001b[39;49m\u001b[38;5;241;43m.\u001b[39;49m\u001b[43mname\u001b[49m\u001b[43m,\u001b[49m\n\u001b[1;32m    198\u001b[0m \u001b[43m        \u001b[49m\u001b[38;5;28;43mlist\u001b[39;49m\u001b[43m(\u001b[49m\u001b[43margs\u001b[49m\u001b[43m)\u001b[49m\u001b[43m,\u001b[49m\n\u001b[1;32m    199\u001b[0m \u001b[43m        \u001b[49m\u001b[38;5;28;43mlen\u001b[39;49m\u001b[43m(\u001b[49m\u001b[38;5;28;43mself\u001b[39;49m\u001b[38;5;241;43m.\u001b[39;49m\u001b[43mfunction_type\u001b[49m\u001b[38;5;241;43m.\u001b[39;49m\u001b[43mflat_outputs\u001b[49m\u001b[43m)\u001b[49m\u001b[43m,\u001b[49m\n\u001b[1;32m    200\u001b[0m \u001b[43m    \u001b[49m\u001b[43m)\u001b[49m\n\u001b[1;32m    201\u001b[0m   \u001b[38;5;28;01melse\u001b[39;00m:\n\u001b[1;32m    202\u001b[0m     outputs \u001b[38;5;241m=\u001b[39m make_call_op_in_graph(\u001b[38;5;28mself\u001b[39m, \u001b[38;5;28mlist\u001b[39m(args))\n",
      "File \u001b[0;32m~/railway/nature/lib/python3.8/site-packages/tensorflow/python/eager/context.py:1457\u001b[0m, in \u001b[0;36mContext.call_function\u001b[0;34m(self, name, tensor_inputs, num_outputs)\u001b[0m\n\u001b[1;32m   1455\u001b[0m cancellation_context \u001b[38;5;241m=\u001b[39m cancellation\u001b[38;5;241m.\u001b[39mcontext()\n\u001b[1;32m   1456\u001b[0m \u001b[38;5;28;01mif\u001b[39;00m cancellation_context \u001b[38;5;129;01mis\u001b[39;00m \u001b[38;5;28;01mNone\u001b[39;00m:\n\u001b[0;32m-> 1457\u001b[0m   outputs \u001b[38;5;241m=\u001b[39m \u001b[43mexecute\u001b[49m\u001b[38;5;241;43m.\u001b[39;49m\u001b[43mexecute\u001b[49m\u001b[43m(\u001b[49m\n\u001b[1;32m   1458\u001b[0m \u001b[43m      \u001b[49m\u001b[43mname\u001b[49m\u001b[38;5;241;43m.\u001b[39;49m\u001b[43mdecode\u001b[49m\u001b[43m(\u001b[49m\u001b[38;5;124;43m\"\u001b[39;49m\u001b[38;5;124;43mutf-8\u001b[39;49m\u001b[38;5;124;43m\"\u001b[39;49m\u001b[43m)\u001b[49m\u001b[43m,\u001b[49m\n\u001b[1;32m   1459\u001b[0m \u001b[43m      \u001b[49m\u001b[43mnum_outputs\u001b[49m\u001b[38;5;241;43m=\u001b[39;49m\u001b[43mnum_outputs\u001b[49m\u001b[43m,\u001b[49m\n\u001b[1;32m   1460\u001b[0m \u001b[43m      \u001b[49m\u001b[43minputs\u001b[49m\u001b[38;5;241;43m=\u001b[39;49m\u001b[43mtensor_inputs\u001b[49m\u001b[43m,\u001b[49m\n\u001b[1;32m   1461\u001b[0m \u001b[43m      \u001b[49m\u001b[43mattrs\u001b[49m\u001b[38;5;241;43m=\u001b[39;49m\u001b[43mattrs\u001b[49m\u001b[43m,\u001b[49m\n\u001b[1;32m   1462\u001b[0m \u001b[43m      \u001b[49m\u001b[43mctx\u001b[49m\u001b[38;5;241;43m=\u001b[39;49m\u001b[38;5;28;43mself\u001b[39;49m\u001b[43m,\u001b[49m\n\u001b[1;32m   1463\u001b[0m \u001b[43m  \u001b[49m\u001b[43m)\u001b[49m\n\u001b[1;32m   1464\u001b[0m \u001b[38;5;28;01melse\u001b[39;00m:\n\u001b[1;32m   1465\u001b[0m   outputs \u001b[38;5;241m=\u001b[39m execute\u001b[38;5;241m.\u001b[39mexecute_with_cancellation(\n\u001b[1;32m   1466\u001b[0m       name\u001b[38;5;241m.\u001b[39mdecode(\u001b[38;5;124m\"\u001b[39m\u001b[38;5;124mutf-8\u001b[39m\u001b[38;5;124m\"\u001b[39m),\n\u001b[1;32m   1467\u001b[0m       num_outputs\u001b[38;5;241m=\u001b[39mnum_outputs,\n\u001b[0;32m   (...)\u001b[0m\n\u001b[1;32m   1471\u001b[0m       cancellation_manager\u001b[38;5;241m=\u001b[39mcancellation_context,\n\u001b[1;32m   1472\u001b[0m   )\n",
      "File \u001b[0;32m~/railway/nature/lib/python3.8/site-packages/tensorflow/python/eager/execute.py:53\u001b[0m, in \u001b[0;36mquick_execute\u001b[0;34m(op_name, num_outputs, inputs, attrs, ctx, name)\u001b[0m\n\u001b[1;32m     51\u001b[0m \u001b[38;5;28;01mtry\u001b[39;00m:\n\u001b[1;32m     52\u001b[0m   ctx\u001b[38;5;241m.\u001b[39mensure_initialized()\n\u001b[0;32m---> 53\u001b[0m   tensors \u001b[38;5;241m=\u001b[39m \u001b[43mpywrap_tfe\u001b[49m\u001b[38;5;241;43m.\u001b[39;49m\u001b[43mTFE_Py_Execute\u001b[49m\u001b[43m(\u001b[49m\u001b[43mctx\u001b[49m\u001b[38;5;241;43m.\u001b[39;49m\u001b[43m_handle\u001b[49m\u001b[43m,\u001b[49m\u001b[43m \u001b[49m\u001b[43mdevice_name\u001b[49m\u001b[43m,\u001b[49m\u001b[43m \u001b[49m\u001b[43mop_name\u001b[49m\u001b[43m,\u001b[49m\n\u001b[1;32m     54\u001b[0m \u001b[43m                                      \u001b[49m\u001b[43minputs\u001b[49m\u001b[43m,\u001b[49m\u001b[43m \u001b[49m\u001b[43mattrs\u001b[49m\u001b[43m,\u001b[49m\u001b[43m \u001b[49m\u001b[43mnum_outputs\u001b[49m\u001b[43m)\u001b[49m\n\u001b[1;32m     55\u001b[0m \u001b[38;5;28;01mexcept\u001b[39;00m core\u001b[38;5;241m.\u001b[39m_NotOkStatusException \u001b[38;5;28;01mas\u001b[39;00m e:\n\u001b[1;32m     56\u001b[0m   \u001b[38;5;28;01mif\u001b[39;00m name \u001b[38;5;129;01mis\u001b[39;00m \u001b[38;5;129;01mnot\u001b[39;00m \u001b[38;5;28;01mNone\u001b[39;00m:\n",
      "\u001b[0;31mKeyboardInterrupt\u001b[0m: "
     ]
    }
   ],
   "source": [
    "# Fitting to the training set\n",
    "regressor.summary()\n",
    "history_lstmn=regressor.fit(X_train_bil,y_train_bil, epochs=10, batch_size=5, shuffle=False)"
   ]
  },
  {
   "cell_type": "code",
   "execution_count": 109,
   "id": "4c80fb34-2a83-4da0-9c93-e833d9a90d94",
   "metadata": {},
   "outputs": [
    {
     "data": {
      "text/plain": [
       "838852"
      ]
     },
     "execution_count": 109,
     "metadata": {},
     "output_type": "execute_result"
    }
   ],
   "source": [
    "X_train.shape[1]\n",
    "X_train.shape[0]"
   ]
  },
  {
   "cell_type": "code",
   "execution_count": 56,
   "id": "c04ab270-a963-4076-b15a-98565eb77b52",
   "metadata": {},
   "outputs": [],
   "source": [
    "from keras.layers import Dense, Embedding, GRU, LSTM, SpatialDropout1D,SimpleRNN,  Flatten, Bidirectional,  Dropout, Embedding"
   ]
  },
  {
   "cell_type": "code",
   "execution_count": 132,
   "id": "b2a6c867-8f17-4ebb-bdfb-113606e5630f",
   "metadata": {
    "scrolled": true
   },
   "outputs": [
    {
     "name": "stdout",
     "output_type": "stream",
     "text": [
      "Model: \"sequential_25\"\n",
      "_________________________________________________________________\n",
      " Layer (type)                Output Shape              Param #   \n",
      "=================================================================\n",
      " simple_rnn_7 (SimpleRNN)    (None, 60)                4500      \n",
      "                                                                 \n",
      " dense_24 (Dense)            (None, 1)                 61        \n",
      "                                                                 \n",
      "=================================================================\n",
      "Total params: 4561 (17.82 KB)\n",
      "Trainable params: 4561 (17.82 KB)\n",
      "Non-trainable params: 0 (0.00 Byte)\n",
      "_________________________________________________________________\n",
      "Epoch 1/300\n",
      "9587/9587 [==============================] - 12s 1ms/step - loss: nan - acc: 0.0020 - val_loss: nan - val_acc: 0.0034\n",
      "Epoch 2/300\n",
      "9587/9587 [==============================] - 12s 1ms/step - loss: nan - acc: 0.0033 - val_loss: nan - val_acc: 0.0034\n",
      "Epoch 3/300\n",
      "9587/9587 [==============================] - 12s 1ms/step - loss: nan - acc: 0.0033 - val_loss: nan - val_acc: 0.0034\n",
      "Epoch 4/300\n",
      "9587/9587 [==============================] - 10s 1ms/step - loss: nan - acc: 0.0033 - val_loss: nan - val_acc: 0.0034\n",
      "Epoch 5/300\n",
      "9587/9587 [==============================] - 10s 1ms/step - loss: nan - acc: 0.0033 - val_loss: nan - val_acc: 0.0034\n",
      "Epoch 6/300\n",
      "9587/9587 [==============================] - 10s 1ms/step - loss: nan - acc: 0.0033 - val_loss: nan - val_acc: 0.0034\n",
      "Epoch 7/300\n",
      "9587/9587 [==============================] - 10s 1ms/step - loss: nan - acc: 0.0033 - val_loss: nan - val_acc: 0.0034\n",
      "Epoch 8/300\n",
      "9587/9587 [==============================] - 10s 1ms/step - loss: nan - acc: 0.0033 - val_loss: nan - val_acc: 0.0034\n",
      "Epoch 9/300\n",
      "9587/9587 [==============================] - 10s 1ms/step - loss: nan - acc: 0.0033 - val_loss: nan - val_acc: 0.0034\n",
      "Epoch 10/300\n",
      "9587/9587 [==============================] - 10s 1ms/step - loss: nan - acc: 0.0033 - val_loss: nan - val_acc: 0.0034\n",
      "Epoch 11/300\n",
      "9571/9587 [============================>.] - ETA: 0s - loss: nan - acc: 0.0033Restoring model weights from the end of the best epoch: 1.\n",
      "9587/9587 [==============================] - 10s 1ms/step - loss: nan - acc: 0.0033 - val_loss: nan - val_acc: 0.0034\n",
      "Epoch 11: early stopping\n"
     ]
    },
    {
     "data": {
      "text/plain": [
       "<keras.src.callbacks.History at 0x7f6f256f7340>"
      ]
     },
     "execution_count": 132,
     "metadata": {},
     "output_type": "execute_result"
    }
   ],
   "source": [
    "n_steps = X_train_bil.shape[0]\n",
    "n_features = X_train_bil.shape[2]\n",
    "\n",
    "# define model\n",
    "model = Sequential()\n",
    "model.add(SimpleRNN(60, input_shape=(n_steps,n_features), activation='relu'))\n",
    "model.add(Dense(1, activation='sigmoid'))\n",
    "model.summary()\n",
    "\n",
    "model.compile(optimizer='adam', loss='binary_crossentropy',metrics=['acc'])\n",
    "\n",
    "\n",
    "es = EarlyStopping(monitor='val_acc', mode='max', \n",
    "                   patience=10, \n",
    "                   verbose=1,\n",
    "                   restore_best_weights=True)\n",
    "\n",
    "# fit model (uses early stopping)\n",
    "model.fit(X_train_bil, y_train_bil, \n",
    "          epochs=300, \n",
    "          batch_size=70, \n",
    "          validation_split=0.2, # val is a random 20% of the data since shuffle = True\n",
    "          verbose=1,\n",
    "          callbacks=[es],\n",
    "          shuffle=True)"
   ]
  },
  {
   "cell_type": "code",
   "execution_count": 138,
   "id": "e07528d8-7fa5-4e46-b7ad-721a16f4f85c",
   "metadata": {},
   "outputs": [
    {
     "data": {
      "text/plain": [
       "1"
      ]
     },
     "execution_count": 138,
     "metadata": {},
     "output_type": "execute_result"
    }
   ],
   "source": [
    "X_train_bil.shape[1]"
   ]
  },
  {
   "cell_type": "code",
   "execution_count": 136,
   "id": "e80cb442-ddae-40bf-988f-443fe2e22c07",
   "metadata": {},
   "outputs": [
    {
     "name": "stdout",
     "output_type": "stream",
     "text": [
      "6554/6554 [==============================] - 4s 642us/step\n",
      "[[nan]\n",
      " [nan]\n",
      " [nan]\n",
      " ...\n",
      " [nan]\n",
      " [nan]\n",
      " [nan]]\n"
     ]
    }
   ],
   "source": [
    "# make a prediction\n",
    "pred_rnn = model.predict(X_test_bil)# the pred\n",
    "print(pred_rnn) # round them!\n"
   ]
  },
  {
   "cell_type": "code",
   "execution_count": 47,
   "id": "a67ecc5e-c1b5-4187-9fac-a74512c5d51d",
   "metadata": {},
   "outputs": [],
   "source": [
    "#reshape data\n",
    "X_train_bilnw = np.reshape(X_train_bil, (X_train.shape[0], X_train.shape[1],1))"
   ]
  },
  {
   "cell_type": "code",
   "execution_count": 49,
   "id": "3a4f1bc0-f9b0-47dc-8a0b-0a6bddfe3a97",
   "metadata": {},
   "outputs": [
    {
     "data": {
      "text/plain": [
       "array([[[1.00000000e+04],\n",
       "        [2.95000000e+06],\n",
       "        [3.45000000e+02],\n",
       "        ...,\n",
       "        [0.00000000e+00],\n",
       "        [1.00000000e+00],\n",
       "        [0.00000000e+00]],\n",
       "\n",
       "       [[2.26239895e+08],\n",
       "        [4.36642997e+08],\n",
       "        [1.88190000e+05],\n",
       "        ...,\n",
       "        [0.00000000e+00],\n",
       "        [3.00000000e+00],\n",
       "        [0.00000000e+00]],\n",
       "\n",
       "       [[4.13868000e+05],\n",
       "        [5.54790054e+07],\n",
       "        [1.45600000e+04],\n",
       "        ...,\n",
       "        [0.00000000e+00],\n",
       "        [2.00000000e+00],\n",
       "        [0.00000000e+00]],\n",
       "\n",
       "       ...,\n",
       "\n",
       "       [[8.00000000e+02],\n",
       "        [1.32640000e+09],\n",
       "        [1.00000000e+00],\n",
       "        ...,\n",
       "        [0.00000000e+00],\n",
       "        [1.00000000e+00],\n",
       "        [0.00000000e+00]],\n",
       "\n",
       "       [[6.08200000e+03],\n",
       "        [1.03333180e+07],\n",
       "        [1.40000000e+02],\n",
       "        ...,\n",
       "        [0.00000000e+00],\n",
       "        [1.00000000e+00],\n",
       "        [0.00000000e+00]],\n",
       "\n",
       "       [[2.26239895e+08],\n",
       "        [4.36642997e+08],\n",
       "        [2.50992000e+05],\n",
       "        ...,\n",
       "        [0.00000000e+00],\n",
       "        [3.00000000e+00],\n",
       "        [0.00000000e+00]]])"
      ]
     },
     "execution_count": 49,
     "metadata": {},
     "output_type": "execute_result"
    }
   ],
   "source": [
    "X_train_bilnw"
   ]
  },
  {
   "cell_type": "code",
   "execution_count": 50,
   "id": "469f49ad-4d0c-4cd8-979b-20237249932b",
   "metadata": {},
   "outputs": [
    {
     "data": {
      "text/plain": [
       "array([[1.00000000e+04, 2.95000000e+06, 3.45000000e+02, ...,\n",
       "        0.00000000e+00, 1.00000000e+00, 0.00000000e+00],\n",
       "       [2.26239895e+08, 4.36642997e+08, 1.88190000e+05, ...,\n",
       "        0.00000000e+00, 3.00000000e+00, 0.00000000e+00],\n",
       "       [4.13868000e+05, 5.54790054e+07, 1.45600000e+04, ...,\n",
       "        0.00000000e+00, 2.00000000e+00, 0.00000000e+00],\n",
       "       ...,\n",
       "       [8.00000000e+02, 1.32640000e+09, 1.00000000e+00, ...,\n",
       "        0.00000000e+00, 1.00000000e+00, 0.00000000e+00],\n",
       "       [6.08200000e+03, 1.03333180e+07, 1.40000000e+02, ...,\n",
       "        0.00000000e+00, 1.00000000e+00, 0.00000000e+00],\n",
       "       [2.26239895e+08, 4.36642997e+08, 2.50992000e+05, ...,\n",
       "        0.00000000e+00, 3.00000000e+00, 0.00000000e+00]])"
      ]
     },
     "execution_count": 50,
     "metadata": {},
     "output_type": "execute_result"
    }
   ],
   "source": [
    "X_train_bil"
   ]
  },
  {
   "cell_type": "code",
   "execution_count": 45,
   "id": "4cca9277-8ee4-4f12-b496-7c841c606b01",
   "metadata": {},
   "outputs": [
    {
     "data": {
      "text/plain": [
       "14"
      ]
     },
     "execution_count": 45,
     "metadata": {},
     "output_type": "execute_result"
    }
   ],
   "source": [
    "X_train_bil.shape[1]"
   ]
  },
  {
   "cell_type": "code",
   "execution_count": 162,
   "id": "94ce96b9-b12c-4875-9ab3-1df09a43df10",
   "metadata": {},
   "outputs": [],
   "source": [
    "#LSTM architecture\n",
    "\n",
    "# The LSTM architecture\n",
    "regressor_new = Sequential()\n",
    "\n",
    "# layer 1\n",
    "regressor_new.add(LSTM(units=50, return_sequences=True, input_shape=(X_train_bil.shape[1],1)))\n",
    "regressor_new.add(Dropout(0.2))\n",
    "# layer 2\n",
    "regressor_new.add(LSTM(units=50, return_sequences=True))\n",
    "regressor_new.add(Dropout(0.2))\n",
    "# layer 3\n",
    "regressor_new.add(LSTM(units=50, return_sequences=True))\n",
    "regressor_new.add(Dropout(0.2))\n",
    "# layer 4\n",
    "regressor_new.add(LSTM(units=50))\n",
    "regressor_new.add(Dropout(0.2))\n",
    "# output\n",
    "regressor_new.add(Dense(units=1))\n",
    "\n",
    "# compile RNN, MSE loss, rmsprop optimizer\n",
    "regressor_new.compile(optimizer='rmsprop',loss='mean_squared_error')\n"
   ]
  },
  {
   "cell_type": "code",
   "execution_count": null,
   "id": "5ae42bd5-4f9f-49b6-85f7-5ce95b64ecf3",
   "metadata": {},
   "outputs": [
    {
     "name": "stdout",
     "output_type": "stream",
     "text": [
      "Epoch 1/20\n",
      "16778/16778 [==============================] - 312s 18ms/step - loss: nan\n",
      "Epoch 2/20\n",
      "16778/16778 [==============================] - 290s 17ms/step - loss: nan\n",
      "Epoch 3/20\n",
      "16778/16778 [==============================] - 283s 17ms/step - loss: nan\n",
      "Epoch 4/20\n",
      "16778/16778 [==============================] - 289s 17ms/step - loss: nan\n",
      "Epoch 5/20\n",
      "16778/16778 [==============================] - 289s 17ms/step - loss: nan\n",
      "Epoch 6/20\n",
      "16778/16778 [==============================] - 278s 17ms/step - loss: nan\n",
      "Epoch 7/20\n",
      "16778/16778 [==============================] - 268s 16ms/step - loss: nan\n",
      "Epoch 8/20\n",
      "16778/16778 [==============================] - 277s 17ms/step - loss: nan\n",
      "Epoch 9/20\n",
      " 8317/16778 [=============>................] - ETA: 2:24 - loss: nan"
     ]
    }
   ],
   "source": [
    "# Fitting to the training set\n",
    "regressor_new.fit(X_train_bil,y_train_bil,epochs=20,batch_size=50)"
   ]
  },
  {
   "cell_type": "code",
   "execution_count": 151,
   "id": "4db849d1-3803-417d-84e9-888457f031e5",
   "metadata": {},
   "outputs": [
    {
     "data": {
      "text/plain": [
       "array([[1.38663161e+08, 2.67619901e+08, 1.59534000e+05, ...,\n",
       "        0.00000000e+00, 3.00000000e+00, 0.00000000e+00],\n",
       "       [2.00000000e+05, 8.83600000e+06, 5.76880000e+04, ...,\n",
       "        0.00000000e+00, 2.00000000e+00, 0.00000000e+00],\n",
       "       [1.38663161e+08, 2.67619901e+08, 2.02392000e+05, ...,\n",
       "        0.00000000e+00, 3.00000000e+00, 0.00000000e+00],\n",
       "       ...,\n",
       "       [1.38663161e+08, 2.67619901e+08, 3.60180000e+05, ...,\n",
       "        0.00000000e+00, 3.00000000e+00, 0.00000000e+00],\n",
       "       [2.26239895e+08, 4.36642997e+08, 0.00000000e+00, ...,\n",
       "        0.00000000e+00, 3.00000000e+00, 0.00000000e+00],\n",
       "       [9.30000000e+01, 2.88300000e+06, 1.00000000e+00, ...,\n",
       "        0.00000000e+00, 2.00000000e+00, 0.00000000e+00]])"
      ]
     },
     "execution_count": 151,
     "metadata": {},
     "output_type": "execute_result"
    }
   ],
   "source": [
    "X_train_bil"
   ]
  },
  {
   "cell_type": "code",
   "execution_count": 53,
   "id": "44d60de0-9ce5-410a-ab2f-27ff71a1db2a",
   "metadata": {},
   "outputs": [
    {
     "data": {
      "text/plain": [
       "array([[1.00000000e+04, 2.95000000e+06, 3.45000000e+02, ...,\n",
       "        0.00000000e+00, 1.00000000e+00, 0.00000000e+00],\n",
       "       [2.26239895e+08, 4.36642997e+08, 1.88190000e+05, ...,\n",
       "        0.00000000e+00, 3.00000000e+00, 0.00000000e+00],\n",
       "       [4.13868000e+05, 5.54790054e+07, 1.45600000e+04, ...,\n",
       "        0.00000000e+00, 2.00000000e+00, 0.00000000e+00],\n",
       "       ...,\n",
       "       [8.00000000e+02, 1.32640000e+09, 1.00000000e+00, ...,\n",
       "        0.00000000e+00, 1.00000000e+00, 0.00000000e+00],\n",
       "       [6.08200000e+03, 1.03333180e+07, 1.40000000e+02, ...,\n",
       "        0.00000000e+00, 1.00000000e+00, 0.00000000e+00],\n",
       "       [2.26239895e+08, 4.36642997e+08, 2.50992000e+05, ...,\n",
       "        0.00000000e+00, 3.00000000e+00, 0.00000000e+00]])"
      ]
     },
     "execution_count": 53,
     "metadata": {},
     "output_type": "execute_result"
    }
   ],
   "source": [
    "X_train_bil"
   ]
  },
  {
   "cell_type": "code",
   "execution_count": null,
   "id": "a1c740a3-ff66-42a1-b012-2e1a274480f5",
   "metadata": {},
   "outputs": [],
   "source": [
    "## NEW"
   ]
  },
  {
   "cell_type": "code",
   "execution_count": 54,
   "id": "036f943a-1931-4259-9743-df05156a999f",
   "metadata": {},
   "outputs": [],
   "source": [
    "X_train_bw = X_train_bil.reshape((X_train_bil.shape[0], X_train_bil.shape[1], 1))\n",
    "X_test_bw = X_test_bil.reshape((X_test_bil.shape[0], X_test_bil.shape[1], 1))"
   ]
  },
  {
   "cell_type": "code",
   "execution_count": 55,
   "id": "294c8e55-f580-46ef-a217-b79d0288af19",
   "metadata": {},
   "outputs": [
    {
     "data": {
      "text/plain": [
       "array([[[1.00000000e+04],\n",
       "        [2.95000000e+06],\n",
       "        [3.45000000e+02],\n",
       "        ...,\n",
       "        [0.00000000e+00],\n",
       "        [1.00000000e+00],\n",
       "        [0.00000000e+00]],\n",
       "\n",
       "       [[2.26239895e+08],\n",
       "        [4.36642997e+08],\n",
       "        [1.88190000e+05],\n",
       "        ...,\n",
       "        [0.00000000e+00],\n",
       "        [3.00000000e+00],\n",
       "        [0.00000000e+00]],\n",
       "\n",
       "       [[4.13868000e+05],\n",
       "        [5.54790054e+07],\n",
       "        [1.45600000e+04],\n",
       "        ...,\n",
       "        [0.00000000e+00],\n",
       "        [2.00000000e+00],\n",
       "        [0.00000000e+00]],\n",
       "\n",
       "       ...,\n",
       "\n",
       "       [[8.00000000e+02],\n",
       "        [1.32640000e+09],\n",
       "        [1.00000000e+00],\n",
       "        ...,\n",
       "        [0.00000000e+00],\n",
       "        [1.00000000e+00],\n",
       "        [0.00000000e+00]],\n",
       "\n",
       "       [[6.08200000e+03],\n",
       "        [1.03333180e+07],\n",
       "        [1.40000000e+02],\n",
       "        ...,\n",
       "        [0.00000000e+00],\n",
       "        [1.00000000e+00],\n",
       "        [0.00000000e+00]],\n",
       "\n",
       "       [[2.26239895e+08],\n",
       "        [4.36642997e+08],\n",
       "        [2.50992000e+05],\n",
       "        ...,\n",
       "        [0.00000000e+00],\n",
       "        [3.00000000e+00],\n",
       "        [0.00000000e+00]]])"
      ]
     },
     "execution_count": 55,
     "metadata": {},
     "output_type": "execute_result"
    }
   ],
   "source": [
    "X_train_bw"
   ]
  },
  {
   "cell_type": "code",
   "execution_count": 81,
   "id": "46609697-87ad-4bc2-a783-9d7c9675eb3b",
   "metadata": {},
   "outputs": [],
   "source": [
    "\n",
    "## Build new LSTM Model\n",
    "\n",
    "\n",
    "model_lsprice = Sequential()\n",
    "\n",
    "number_units = 5\n",
    "dropout_fraction = 0.2\n",
    "\n",
    "# Layer 1\n",
    "model_lsprice.add(LSTM(\n",
    "    units=number_units,\n",
    "    return_sequences=True,\n",
    "    input_shape=(X_train_bw.shape[1], 1))\n",
    "    )\n",
    "model_lsprice.add(Dropout(dropout_fraction))\n",
    "# Layer 2\n",
    "model_lsprice.add(LSTM(units=number_units, return_sequences=True))\n",
    "model_lsprice.add(Dropout(dropout_fraction))\n",
    "# Layer 3\n",
    "model_lsprice.add(LSTM(units=number_units))\n",
    "model_lsprice.add(Dropout(dropout_fraction))\n",
    "# Output layer\n",
    "model_lsprice.add(Dense(1))"
   ]
  },
  {
   "cell_type": "code",
   "execution_count": null,
   "id": "4a681d71-2141-456c-a2bb-f9c9b5c4fd24",
   "metadata": {},
   "outputs": [],
   "source": []
  },
  {
   "cell_type": "code",
   "execution_count": 62,
   "id": "eb7b471b-f70f-4f57-8c06-53b5dc1e2692",
   "metadata": {},
   "outputs": [
    {
     "data": {
      "text/plain": [
       "(838852, 14, 1)"
      ]
     },
     "execution_count": 62,
     "metadata": {},
     "output_type": "execute_result"
    }
   ],
   "source": [
    "X_train_bw.shape"
   ]
  },
  {
   "cell_type": "code",
   "execution_count": 65,
   "id": "6a97cf14-401f-4593-945d-a557be83a21f",
   "metadata": {},
   "outputs": [
    {
     "data": {
      "text/plain": [
       "1"
      ]
     },
     "execution_count": 65,
     "metadata": {},
     "output_type": "execute_result"
    }
   ],
   "source": [
    "X_train_bw.shape[2]"
   ]
  },
  {
   "cell_type": "code",
   "execution_count": 82,
   "id": "1b53c0cc-a93b-45f2-bedf-41b694ea4cc1",
   "metadata": {},
   "outputs": [],
   "source": [
    "# Compile the model\n",
    "model_lsprice.compile(optimizer=\"adam\", loss=\"mean_squared_error\")"
   ]
  },
  {
   "cell_type": "code",
   "execution_count": 83,
   "id": "2e33408a-67ca-4076-98b1-30214d211ce5",
   "metadata": {},
   "outputs": [
    {
     "name": "stdout",
     "output_type": "stream",
     "text": [
      "Model: \"sequential_6\"\n",
      "_________________________________________________________________\n",
      " Layer (type)                Output Shape              Param #   \n",
      "=================================================================\n",
      " lstm_15 (LSTM)              (None, 14, 5)             140       \n",
      "                                                                 \n",
      " dropout_15 (Dropout)        (None, 14, 5)             0         \n",
      "                                                                 \n",
      " lstm_16 (LSTM)              (None, 14, 5)             220       \n",
      "                                                                 \n",
      " dropout_16 (Dropout)        (None, 14, 5)             0         \n",
      "                                                                 \n",
      " lstm_17 (LSTM)              (None, 5)                 220       \n",
      "                                                                 \n",
      " dropout_17 (Dropout)        (None, 5)                 0         \n",
      "                                                                 \n",
      " dense_5 (Dense)             (None, 1)                 6         \n",
      "                                                                 \n",
      "=================================================================\n",
      "Total params: 586 (2.29 KB)\n",
      "Trainable params: 586 (2.29 KB)\n",
      "Non-trainable params: 0 (0.00 Byte)\n",
      "_________________________________________________________________\n"
     ]
    }
   ],
   "source": [
    "# Summarize the model\n",
    "model_lsprice.summary()"
   ]
  },
  {
   "cell_type": "code",
   "execution_count": 101,
   "id": "d7d78c42-6b71-4bed-9550-d2ee9d6e1283",
   "metadata": {},
   "outputs": [
    {
     "name": "stdout",
     "output_type": "stream",
     "text": [
      "Epoch 1/10\n",
      "22370/22370 [==============================] - 289s 13ms/step - loss: nan - val_loss: nan\n",
      "Epoch 2/10\n",
      "22370/22370 [==============================] - 282s 13ms/step - loss: nan - val_loss: nan\n",
      "Epoch 3/10\n",
      "22370/22370 [==============================] - 289s 13ms/step - loss: nan - val_loss: nan\n",
      "Epoch 4/10\n",
      "22370/22370 [==============================] - 299s 13ms/step - loss: nan - val_loss: nan\n",
      "Epoch 5/10\n",
      "22370/22370 [==============================] - 306s 14ms/step - loss: nan - val_loss: nan\n",
      "Epoch 6/10\n",
      "22370/22370 [==============================] - 344s 15ms/step - loss: nan - val_loss: nan\n",
      "Epoch 7/10\n",
      "22370/22370 [==============================] - 329s 15ms/step - loss: nan - val_loss: nan\n",
      "Epoch 8/10\n",
      "22370/22370 [==============================] - 312s 14ms/step - loss: nan - val_loss: nan\n",
      "Epoch 9/10\n",
      "22370/22370 [==============================] - 311s 14ms/step - loss: nan - val_loss: nan\n",
      "Epoch 10/10\n",
      "22370/22370 [==============================] - 329s 15ms/step - loss: nan - val_loss: nan\n"
     ]
    },
    {
     "data": {
      "text/plain": [
       "<keras.src.callbacks.History at 0x7f5a9c27aeb0>"
      ]
     },
     "execution_count": 101,
     "metadata": {},
     "output_type": "execute_result"
    }
   ],
   "source": [
    "model_lsprice.fit(X_train_bw, y_train, epochs=10, shuffle=False, batch_size=30, validation_split=0.2, verbose=1)"
   ]
  },
  {
   "cell_type": "code",
   "execution_count": 72,
   "id": "24f9d966-db33-4de3-9a45-a4c5a8653a3e",
   "metadata": {},
   "outputs": [
    {
     "data": {
      "text/plain": [
       "337321      10\n",
       "704898      90\n",
       "349443     180\n",
       "144020      17\n",
       "62192       60\n",
       "          ... \n",
       "820640      60\n",
       "504346      90\n",
       "924242     180\n",
       "1041424    180\n",
       "706503      90\n",
       "Name: Time taken to deliver, Length: 838852, dtype: int64"
      ]
     },
     "execution_count": 72,
     "metadata": {},
     "output_type": "execute_result"
    }
   ],
   "source": [
    "y_train"
   ]
  },
  {
   "cell_type": "code",
   "execution_count": 103,
   "id": "53709307-abb1-45f8-9f3e-3450c8b8104f",
   "metadata": {},
   "outputs": [
    {
     "name": "stdout",
     "output_type": "stream",
     "text": [
      "6554/6554 [==============================] - 16s 2ms/step\n"
     ]
    }
   ],
   "source": [
    "lsp_pred = model_lsprice.predict(X_test_bw)"
   ]
  },
  {
   "cell_type": "code",
   "execution_count": 104,
   "id": "60ad051f-28bc-4fc0-8888-9cba612a0ad4",
   "metadata": {},
   "outputs": [
    {
     "data": {
      "text/plain": [
       "array([[nan],\n",
       "       [nan],\n",
       "       [nan],\n",
       "       ...,\n",
       "       [nan],\n",
       "       [nan],\n",
       "       [nan]], dtype=float32)"
      ]
     },
     "execution_count": 104,
     "metadata": {},
     "output_type": "execute_result"
    }
   ],
   "source": [
    "lsp_pred"
   ]
  },
  {
   "cell_type": "code",
   "execution_count": null,
   "id": "25da996f-a209-4112-b79c-4f632549a3a4",
   "metadata": {},
   "outputs": [],
   "source": [
    "## XGBOOST"
   ]
  },
  {
   "cell_type": "code",
   "execution_count": 88,
   "id": "667d226a-5f46-4501-b7d2-c4da913f118a",
   "metadata": {},
   "outputs": [],
   "source": [
    "import xgboost as xgb"
   ]
  },
  {
   "cell_type": "code",
   "execution_count": 90,
   "id": "820a7126-4065-4a1f-ad97-18dc780d4528",
   "metadata": {},
   "outputs": [],
   "source": [
    "# Create an XGBoost DMatrix for training and testing\n",
    "dtrain = xgb.DMatrix(X_train_bil, label=y_train_bil)\n",
    "dtest = xgb.DMatrix(X_test_bil, label=y_test_bil)\n"
   ]
  },
  {
   "cell_type": "code",
   "execution_count": 92,
   "id": "9002668e-9cf6-4ea6-9057-d1d580368b6b",
   "metadata": {},
   "outputs": [],
   "source": [
    "# Set hyperparameters\n",
    "params = {\n",
    "    'max_depth': 3,\n",
    "    'eta': 0.1,\n",
    "    'objective': 'reg:squarederror',  # for regression tasks\n",
    "    'eval_metric': 'rmse'  # root mean squared error for regression\n",
    "}\n"
   ]
  },
  {
   "cell_type": "code",
   "execution_count": 93,
   "id": "1c684b30-65f9-4bb1-98c3-caa7b9b05186",
   "metadata": {},
   "outputs": [],
   "source": [
    "# Train the XGBoost model\n",
    "num_rounds = 100\n",
    "model_xgbt = xgb.train(params, dtrain, num_rounds)"
   ]
  },
  {
   "cell_type": "code",
   "execution_count": 94,
   "id": "169deabb-ef46-4727-ab05-077a9c6c8d5e",
   "metadata": {},
   "outputs": [],
   "source": [
    "y_pred_xgbt = model_xgbt.predict(dtest)"
   ]
  },
  {
   "cell_type": "code",
   "execution_count": 95,
   "id": "c24d33de-602b-4135-bfc0-1b7600c5eb2a",
   "metadata": {},
   "outputs": [
    {
     "data": {
      "text/plain": [
       "array([92.46563 , 86.34876 , 90.16688 , ..., 13.814928, 88.76918 ,\n",
       "       90.14639 ], dtype=float32)"
      ]
     },
     "execution_count": 95,
     "metadata": {},
     "output_type": "execute_result"
    }
   ],
   "source": [
    "y_pred_xgbt"
   ]
  },
  {
   "cell_type": "code",
   "execution_count": 97,
   "id": "392c73ed-c065-447c-b49b-f61ad17a4d15",
   "metadata": {},
   "outputs": [
    {
     "name": "stdout",
     "output_type": "stream",
     "text": [
      "Root Mean Squared Error: 38.763815013177705\n"
     ]
    }
   ],
   "source": [
    "# Evaluate the model using mean squared error\n",
    "mse = mean_squared_error(y_test, y_pred_xgbt)\n",
    "rmse = np.sqrt(mse)\n",
    "print(f\"Root Mean Squared Error: {rmse}\")"
   ]
  },
  {
   "cell_type": "code",
   "execution_count": 100,
   "id": "0c4f6ee9-7863-4186-ac26-87c3a58fdb8f",
   "metadata": {},
   "outputs": [
    {
     "data": {
      "text/html": [
       "<div>\n",
       "<style scoped>\n",
       "    .dataframe tbody tr th:only-of-type {\n",
       "        vertical-align: middle;\n",
       "    }\n",
       "\n",
       "    .dataframe tbody tr th {\n",
       "        vertical-align: top;\n",
       "    }\n",
       "\n",
       "    .dataframe thead th {\n",
       "        text-align: right;\n",
       "    }\n",
       "</style>\n",
       "<table border=\"1\" class=\"dataframe\">\n",
       "  <thead>\n",
       "    <tr style=\"text-align: right;\">\n",
       "      <th></th>\n",
       "      <th>Real</th>\n",
       "      <th>Predicted</th>\n",
       "    </tr>\n",
       "  </thead>\n",
       "  <tbody>\n",
       "    <tr>\n",
       "      <th>838852</th>\n",
       "      <td>90</td>\n",
       "      <td>92.465630</td>\n",
       "    </tr>\n",
       "    <tr>\n",
       "      <th>838853</th>\n",
       "      <td>60</td>\n",
       "      <td>86.348763</td>\n",
       "    </tr>\n",
       "    <tr>\n",
       "      <th>838854</th>\n",
       "      <td>90</td>\n",
       "      <td>90.166878</td>\n",
       "    </tr>\n",
       "    <tr>\n",
       "      <th>838855</th>\n",
       "      <td>20</td>\n",
       "      <td>33.023415</td>\n",
       "    </tr>\n",
       "    <tr>\n",
       "      <th>838856</th>\n",
       "      <td>28</td>\n",
       "      <td>65.440323</td>\n",
       "    </tr>\n",
       "  </tbody>\n",
       "</table>\n",
       "</div>"
      ],
      "text/plain": [
       "        Real  Predicted\n",
       "838852    90  92.465630\n",
       "838853    60  86.348763\n",
       "838854    90  90.166878\n",
       "838855    20  33.023415\n",
       "838856    28  65.440323"
      ]
     },
     "execution_count": 100,
     "metadata": {},
     "output_type": "execute_result"
    }
   ],
   "source": [
    "# Create a DataFrame of Real and Predicted values\n",
    "prices_xgb = pd.DataFrame({\n",
    "    \"Real\": y_test.ravel(),\n",
    "    \"Predicted\": y_pred_xgbt.ravel()\n",
    "}, index = df1.index[-len(y_test): ]) \n",
    "prices_xgb.head()"
   ]
  },
  {
   "cell_type": "code",
   "execution_count": 105,
   "id": "65513780-dc41-4bd3-b86f-e36413a05f6d",
   "metadata": {
    "scrolled": true
   },
   "outputs": [
    {
     "data": {
      "text/plain": [
       "array([[[1.00000000e+04],\n",
       "        [2.95000000e+06],\n",
       "        [3.45000000e+02],\n",
       "        ...,\n",
       "        [0.00000000e+00],\n",
       "        [1.00000000e+00],\n",
       "        [0.00000000e+00]],\n",
       "\n",
       "       [[2.26239895e+08],\n",
       "        [4.36642997e+08],\n",
       "        [1.88190000e+05],\n",
       "        ...,\n",
       "        [0.00000000e+00],\n",
       "        [3.00000000e+00],\n",
       "        [0.00000000e+00]],\n",
       "\n",
       "       [[4.13868000e+05],\n",
       "        [5.54790054e+07],\n",
       "        [1.45600000e+04],\n",
       "        ...,\n",
       "        [0.00000000e+00],\n",
       "        [2.00000000e+00],\n",
       "        [0.00000000e+00]],\n",
       "\n",
       "       ...,\n",
       "\n",
       "       [[8.00000000e+02],\n",
       "        [1.32640000e+09],\n",
       "        [1.00000000e+00],\n",
       "        ...,\n",
       "        [0.00000000e+00],\n",
       "        [1.00000000e+00],\n",
       "        [0.00000000e+00]],\n",
       "\n",
       "       [[6.08200000e+03],\n",
       "        [1.03333180e+07],\n",
       "        [1.40000000e+02],\n",
       "        ...,\n",
       "        [0.00000000e+00],\n",
       "        [1.00000000e+00],\n",
       "        [0.00000000e+00]],\n",
       "\n",
       "       [[2.26239895e+08],\n",
       "        [4.36642997e+08],\n",
       "        [2.50992000e+05],\n",
       "        ...,\n",
       "        [0.00000000e+00],\n",
       "        [3.00000000e+00],\n",
       "        [0.00000000e+00]]])"
      ]
     },
     "execution_count": 105,
     "metadata": {},
     "output_type": "execute_result"
    }
   ],
   "source": [
    "## Uncertainty Estimation with Probabilistic and Bayesian neural network"
   ]
  },
  {
   "cell_type": "code",
   "execution_count": 52,
   "id": "804608eb-557c-4391-94fa-9e28658495b0",
   "metadata": {},
   "outputs": [],
   "source": [
    "### REFINED LSTM Model"
   ]
  },
  {
   "cell_type": "code",
   "execution_count": 53,
   "id": "03927573-296c-449b-ac1c-672cd5fbdc0c",
   "metadata": {},
   "outputs": [
    {
     "name": "stdout",
     "output_type": "stream",
     "text": [
      "Model: \"sequential\"\n",
      "_________________________________________________________________\n",
      " Layer (type)                Output Shape              Param #   \n",
      "=================================================================\n",
      " lstm (LSTM)                 (None, 14, 100)           40800     \n",
      "                                                                 \n",
      " dropout (Dropout)           (None, 14, 100)           0         \n",
      "                                                                 \n",
      " lstm_1 (LSTM)               (None, 100)               80400     \n",
      "                                                                 \n",
      " dropout_1 (Dropout)         (None, 100)               0         \n",
      "                                                                 \n",
      " dense (Dense)               (None, 1)                 101       \n",
      "                                                                 \n",
      "=================================================================\n",
      "Total params: 121301 (473.83 KB)\n",
      "Trainable params: 121301 (473.83 KB)\n",
      "Non-trainable params: 0 (0.00 Byte)\n",
      "_________________________________________________________________\n"
     ]
    }
   ],
   "source": [
    "LSTMModel = tf.keras.Sequential([\n",
    "    LSTM(100, return_sequences=True, input_shape = (X_train_bil.shape[1], 1)),\n",
    "    Dropout(0.3),\n",
    "    LSTM(100, return_sequences=False), \n",
    "    Dropout(0.3),\n",
    "    # tfp.layers.DenseVariational(\n",
    "    # 50,\n",
    "    # make_posterior_fn = posterior_fn,\n",
    "    # make_prior_fn = prior_fn),\n",
    "    Dense(1)\n",
    "])\n",
    "LSTMModel.compile(optimizer = 'adam', loss = 'mean_squared_error')\n",
    "LSTMModel.summary()"
   ]
  },
  {
   "cell_type": "code",
   "execution_count": 67,
   "id": "35c03fca-2185-4988-9892-a4f26c0fc56f",
   "metadata": {},
   "outputs": [
    {
     "name": "stdout",
     "output_type": "stream",
     "text": [
      "Epoch 1/50\n",
      "12230/26215 [============>.................] - ETA: 2:45 - loss: nan"
     ]
    },
    {
     "ename": "KeyboardInterrupt",
     "evalue": "",
     "output_type": "error",
     "traceback": [
      "\u001b[0;31m---------------------------------------------------------------------------\u001b[0m",
      "\u001b[0;31mKeyboardInterrupt\u001b[0m                         Traceback (most recent call last)",
      "Cell \u001b[0;32mIn[67], line 1\u001b[0m\n\u001b[0;32m----> 1\u001b[0m history_lst \u001b[38;5;241m=\u001b[39m \u001b[43mLSTMModel\u001b[49m\u001b[38;5;241;43m.\u001b[39;49m\u001b[43mfit\u001b[49m\u001b[43m(\u001b[49m\n\u001b[1;32m      2\u001b[0m \u001b[43m    \u001b[49m\u001b[43mX_train_bil\u001b[49m\u001b[43m,\u001b[49m\n\u001b[1;32m      3\u001b[0m \u001b[43m    \u001b[49m\u001b[43my_train_bil\u001b[49m\u001b[43m,\u001b[49m\u001b[43m \u001b[49m\u001b[43mepochs\u001b[49m\u001b[43m \u001b[49m\u001b[38;5;241;43m=\u001b[39;49m\u001b[43m \u001b[49m\u001b[38;5;241;43m50\u001b[39;49m\u001b[43m,\u001b[49m\n\u001b[1;32m      4\u001b[0m \u001b[43m    \u001b[49m\u001b[43mbatch_size\u001b[49m\u001b[43m \u001b[49m\u001b[38;5;241;43m=\u001b[39;49m\u001b[43m \u001b[49m\u001b[38;5;241;43m32\u001b[39;49m\u001b[43m,\u001b[49m\u001b[43m \u001b[49m\n\u001b[1;32m      5\u001b[0m \u001b[43m    \u001b[49m\u001b[43mverbose\u001b[49m\u001b[43m \u001b[49m\u001b[38;5;241;43m=\u001b[39;49m\u001b[43m \u001b[49m\u001b[38;5;241;43m1\u001b[39;49m\n\u001b[1;32m      6\u001b[0m \u001b[43m)\u001b[49m\n",
      "File \u001b[0;32m~/railway/nature/lib/python3.8/site-packages/keras/src/utils/traceback_utils.py:65\u001b[0m, in \u001b[0;36mfilter_traceback.<locals>.error_handler\u001b[0;34m(*args, **kwargs)\u001b[0m\n\u001b[1;32m     63\u001b[0m filtered_tb \u001b[38;5;241m=\u001b[39m \u001b[38;5;28;01mNone\u001b[39;00m\n\u001b[1;32m     64\u001b[0m \u001b[38;5;28;01mtry\u001b[39;00m:\n\u001b[0;32m---> 65\u001b[0m     \u001b[38;5;28;01mreturn\u001b[39;00m \u001b[43mfn\u001b[49m\u001b[43m(\u001b[49m\u001b[38;5;241;43m*\u001b[39;49m\u001b[43margs\u001b[49m\u001b[43m,\u001b[49m\u001b[43m \u001b[49m\u001b[38;5;241;43m*\u001b[39;49m\u001b[38;5;241;43m*\u001b[39;49m\u001b[43mkwargs\u001b[49m\u001b[43m)\u001b[49m\n\u001b[1;32m     66\u001b[0m \u001b[38;5;28;01mexcept\u001b[39;00m \u001b[38;5;167;01mException\u001b[39;00m \u001b[38;5;28;01mas\u001b[39;00m e:\n\u001b[1;32m     67\u001b[0m     filtered_tb \u001b[38;5;241m=\u001b[39m _process_traceback_frames(e\u001b[38;5;241m.\u001b[39m__traceback__)\n",
      "File \u001b[0;32m~/railway/nature/lib/python3.8/site-packages/keras/src/engine/training.py:1742\u001b[0m, in \u001b[0;36mModel.fit\u001b[0;34m(self, x, y, batch_size, epochs, verbose, callbacks, validation_split, validation_data, shuffle, class_weight, sample_weight, initial_epoch, steps_per_epoch, validation_steps, validation_batch_size, validation_freq, max_queue_size, workers, use_multiprocessing)\u001b[0m\n\u001b[1;32m   1734\u001b[0m \u001b[38;5;28;01mwith\u001b[39;00m tf\u001b[38;5;241m.\u001b[39mprofiler\u001b[38;5;241m.\u001b[39mexperimental\u001b[38;5;241m.\u001b[39mTrace(\n\u001b[1;32m   1735\u001b[0m     \u001b[38;5;124m\"\u001b[39m\u001b[38;5;124mtrain\u001b[39m\u001b[38;5;124m\"\u001b[39m,\n\u001b[1;32m   1736\u001b[0m     epoch_num\u001b[38;5;241m=\u001b[39mepoch,\n\u001b[0;32m   (...)\u001b[0m\n\u001b[1;32m   1739\u001b[0m     _r\u001b[38;5;241m=\u001b[39m\u001b[38;5;241m1\u001b[39m,\n\u001b[1;32m   1740\u001b[0m ):\n\u001b[1;32m   1741\u001b[0m     callbacks\u001b[38;5;241m.\u001b[39mon_train_batch_begin(step)\n\u001b[0;32m-> 1742\u001b[0m     tmp_logs \u001b[38;5;241m=\u001b[39m \u001b[38;5;28;43mself\u001b[39;49m\u001b[38;5;241;43m.\u001b[39;49m\u001b[43mtrain_function\u001b[49m\u001b[43m(\u001b[49m\u001b[43miterator\u001b[49m\u001b[43m)\u001b[49m\n\u001b[1;32m   1743\u001b[0m     \u001b[38;5;28;01mif\u001b[39;00m data_handler\u001b[38;5;241m.\u001b[39mshould_sync:\n\u001b[1;32m   1744\u001b[0m         context\u001b[38;5;241m.\u001b[39masync_wait()\n",
      "File \u001b[0;32m~/railway/nature/lib/python3.8/site-packages/tensorflow/python/util/traceback_utils.py:150\u001b[0m, in \u001b[0;36mfilter_traceback.<locals>.error_handler\u001b[0;34m(*args, **kwargs)\u001b[0m\n\u001b[1;32m    148\u001b[0m filtered_tb \u001b[38;5;241m=\u001b[39m \u001b[38;5;28;01mNone\u001b[39;00m\n\u001b[1;32m    149\u001b[0m \u001b[38;5;28;01mtry\u001b[39;00m:\n\u001b[0;32m--> 150\u001b[0m   \u001b[38;5;28;01mreturn\u001b[39;00m \u001b[43mfn\u001b[49m\u001b[43m(\u001b[49m\u001b[38;5;241;43m*\u001b[39;49m\u001b[43margs\u001b[49m\u001b[43m,\u001b[49m\u001b[43m \u001b[49m\u001b[38;5;241;43m*\u001b[39;49m\u001b[38;5;241;43m*\u001b[39;49m\u001b[43mkwargs\u001b[49m\u001b[43m)\u001b[49m\n\u001b[1;32m    151\u001b[0m \u001b[38;5;28;01mexcept\u001b[39;00m \u001b[38;5;167;01mException\u001b[39;00m \u001b[38;5;28;01mas\u001b[39;00m e:\n\u001b[1;32m    152\u001b[0m   filtered_tb \u001b[38;5;241m=\u001b[39m _process_traceback_frames(e\u001b[38;5;241m.\u001b[39m__traceback__)\n",
      "File \u001b[0;32m~/railway/nature/lib/python3.8/site-packages/tensorflow/python/eager/polymorphic_function/polymorphic_function.py:825\u001b[0m, in \u001b[0;36mFunction.__call__\u001b[0;34m(self, *args, **kwds)\u001b[0m\n\u001b[1;32m    822\u001b[0m compiler \u001b[38;5;241m=\u001b[39m \u001b[38;5;124m\"\u001b[39m\u001b[38;5;124mxla\u001b[39m\u001b[38;5;124m\"\u001b[39m \u001b[38;5;28;01mif\u001b[39;00m \u001b[38;5;28mself\u001b[39m\u001b[38;5;241m.\u001b[39m_jit_compile \u001b[38;5;28;01melse\u001b[39;00m \u001b[38;5;124m\"\u001b[39m\u001b[38;5;124mnonXla\u001b[39m\u001b[38;5;124m\"\u001b[39m\n\u001b[1;32m    824\u001b[0m \u001b[38;5;28;01mwith\u001b[39;00m OptionalXlaContext(\u001b[38;5;28mself\u001b[39m\u001b[38;5;241m.\u001b[39m_jit_compile):\n\u001b[0;32m--> 825\u001b[0m   result \u001b[38;5;241m=\u001b[39m \u001b[38;5;28;43mself\u001b[39;49m\u001b[38;5;241;43m.\u001b[39;49m\u001b[43m_call\u001b[49m\u001b[43m(\u001b[49m\u001b[38;5;241;43m*\u001b[39;49m\u001b[43margs\u001b[49m\u001b[43m,\u001b[49m\u001b[43m \u001b[49m\u001b[38;5;241;43m*\u001b[39;49m\u001b[38;5;241;43m*\u001b[39;49m\u001b[43mkwds\u001b[49m\u001b[43m)\u001b[49m\n\u001b[1;32m    827\u001b[0m new_tracing_count \u001b[38;5;241m=\u001b[39m \u001b[38;5;28mself\u001b[39m\u001b[38;5;241m.\u001b[39mexperimental_get_tracing_count()\n\u001b[1;32m    828\u001b[0m without_tracing \u001b[38;5;241m=\u001b[39m (tracing_count \u001b[38;5;241m==\u001b[39m new_tracing_count)\n",
      "File \u001b[0;32m~/railway/nature/lib/python3.8/site-packages/tensorflow/python/eager/polymorphic_function/polymorphic_function.py:857\u001b[0m, in \u001b[0;36mFunction._call\u001b[0;34m(self, *args, **kwds)\u001b[0m\n\u001b[1;32m    854\u001b[0m   \u001b[38;5;28mself\u001b[39m\u001b[38;5;241m.\u001b[39m_lock\u001b[38;5;241m.\u001b[39mrelease()\n\u001b[1;32m    855\u001b[0m   \u001b[38;5;66;03m# In this case we have created variables on the first call, so we run the\u001b[39;00m\n\u001b[1;32m    856\u001b[0m   \u001b[38;5;66;03m# defunned version which is guaranteed to never create variables.\u001b[39;00m\n\u001b[0;32m--> 857\u001b[0m   \u001b[38;5;28;01mreturn\u001b[39;00m \u001b[38;5;28;43mself\u001b[39;49m\u001b[38;5;241;43m.\u001b[39;49m\u001b[43m_no_variable_creation_fn\u001b[49m\u001b[43m(\u001b[49m\u001b[38;5;241;43m*\u001b[39;49m\u001b[43margs\u001b[49m\u001b[43m,\u001b[49m\u001b[43m \u001b[49m\u001b[38;5;241;43m*\u001b[39;49m\u001b[38;5;241;43m*\u001b[39;49m\u001b[43mkwds\u001b[49m\u001b[43m)\u001b[49m  \u001b[38;5;66;03m# pylint: disable=not-callable\u001b[39;00m\n\u001b[1;32m    858\u001b[0m \u001b[38;5;28;01melif\u001b[39;00m \u001b[38;5;28mself\u001b[39m\u001b[38;5;241m.\u001b[39m_variable_creation_fn \u001b[38;5;129;01mis\u001b[39;00m \u001b[38;5;129;01mnot\u001b[39;00m \u001b[38;5;28;01mNone\u001b[39;00m:\n\u001b[1;32m    859\u001b[0m   \u001b[38;5;66;03m# Release the lock early so that multiple threads can perform the call\u001b[39;00m\n\u001b[1;32m    860\u001b[0m   \u001b[38;5;66;03m# in parallel.\u001b[39;00m\n\u001b[1;32m    861\u001b[0m   \u001b[38;5;28mself\u001b[39m\u001b[38;5;241m.\u001b[39m_lock\u001b[38;5;241m.\u001b[39mrelease()\n",
      "File \u001b[0;32m~/railway/nature/lib/python3.8/site-packages/tensorflow/python/eager/polymorphic_function/tracing_compiler.py:148\u001b[0m, in \u001b[0;36mTracingCompiler.__call__\u001b[0;34m(self, *args, **kwargs)\u001b[0m\n\u001b[1;32m    145\u001b[0m \u001b[38;5;28;01mwith\u001b[39;00m \u001b[38;5;28mself\u001b[39m\u001b[38;5;241m.\u001b[39m_lock:\n\u001b[1;32m    146\u001b[0m   (concrete_function,\n\u001b[1;32m    147\u001b[0m    filtered_flat_args) \u001b[38;5;241m=\u001b[39m \u001b[38;5;28mself\u001b[39m\u001b[38;5;241m.\u001b[39m_maybe_define_function(args, kwargs)\n\u001b[0;32m--> 148\u001b[0m \u001b[38;5;28;01mreturn\u001b[39;00m \u001b[43mconcrete_function\u001b[49m\u001b[38;5;241;43m.\u001b[39;49m\u001b[43m_call_flat\u001b[49m\u001b[43m(\u001b[49m\n\u001b[1;32m    149\u001b[0m \u001b[43m    \u001b[49m\u001b[43mfiltered_flat_args\u001b[49m\u001b[43m,\u001b[49m\u001b[43m \u001b[49m\u001b[43mcaptured_inputs\u001b[49m\u001b[38;5;241;43m=\u001b[39;49m\u001b[43mconcrete_function\u001b[49m\u001b[38;5;241;43m.\u001b[39;49m\u001b[43mcaptured_inputs\u001b[49m\u001b[43m)\u001b[49m\n",
      "File \u001b[0;32m~/railway/nature/lib/python3.8/site-packages/tensorflow/python/eager/polymorphic_function/monomorphic_function.py:1349\u001b[0m, in \u001b[0;36mConcreteFunction._call_flat\u001b[0;34m(self, args, captured_inputs)\u001b[0m\n\u001b[1;32m   1345\u001b[0m possible_gradient_type \u001b[38;5;241m=\u001b[39m gradients_util\u001b[38;5;241m.\u001b[39mPossibleTapeGradientTypes(args)\n\u001b[1;32m   1346\u001b[0m \u001b[38;5;28;01mif\u001b[39;00m (possible_gradient_type \u001b[38;5;241m==\u001b[39m gradients_util\u001b[38;5;241m.\u001b[39mPOSSIBLE_GRADIENT_TYPES_NONE\n\u001b[1;32m   1347\u001b[0m     \u001b[38;5;129;01mand\u001b[39;00m executing_eagerly):\n\u001b[1;32m   1348\u001b[0m   \u001b[38;5;66;03m# No tape is watching; skip to running the function.\u001b[39;00m\n\u001b[0;32m-> 1349\u001b[0m   \u001b[38;5;28;01mreturn\u001b[39;00m \u001b[38;5;28mself\u001b[39m\u001b[38;5;241m.\u001b[39m_build_call_outputs(\u001b[38;5;28;43mself\u001b[39;49m\u001b[38;5;241;43m.\u001b[39;49m\u001b[43m_inference_function\u001b[49m\u001b[43m(\u001b[49m\u001b[38;5;241;43m*\u001b[39;49m\u001b[43margs\u001b[49m\u001b[43m)\u001b[49m)\n\u001b[1;32m   1350\u001b[0m forward_backward \u001b[38;5;241m=\u001b[39m \u001b[38;5;28mself\u001b[39m\u001b[38;5;241m.\u001b[39m_select_forward_and_backward_functions(\n\u001b[1;32m   1351\u001b[0m     args,\n\u001b[1;32m   1352\u001b[0m     possible_gradient_type,\n\u001b[1;32m   1353\u001b[0m     executing_eagerly)\n\u001b[1;32m   1354\u001b[0m forward_function, args_with_tangents \u001b[38;5;241m=\u001b[39m forward_backward\u001b[38;5;241m.\u001b[39mforward()\n",
      "File \u001b[0;32m~/railway/nature/lib/python3.8/site-packages/tensorflow/python/eager/polymorphic_function/atomic_function.py:196\u001b[0m, in \u001b[0;36mAtomicFunction.__call__\u001b[0;34m(self, *args)\u001b[0m\n\u001b[1;32m    194\u001b[0m \u001b[38;5;28;01mwith\u001b[39;00m record\u001b[38;5;241m.\u001b[39mstop_recording():\n\u001b[1;32m    195\u001b[0m   \u001b[38;5;28;01mif\u001b[39;00m \u001b[38;5;28mself\u001b[39m\u001b[38;5;241m.\u001b[39m_bound_context\u001b[38;5;241m.\u001b[39mexecuting_eagerly():\n\u001b[0;32m--> 196\u001b[0m     outputs \u001b[38;5;241m=\u001b[39m \u001b[38;5;28;43mself\u001b[39;49m\u001b[38;5;241;43m.\u001b[39;49m\u001b[43m_bound_context\u001b[49m\u001b[38;5;241;43m.\u001b[39;49m\u001b[43mcall_function\u001b[49m\u001b[43m(\u001b[49m\n\u001b[1;32m    197\u001b[0m \u001b[43m        \u001b[49m\u001b[38;5;28;43mself\u001b[39;49m\u001b[38;5;241;43m.\u001b[39;49m\u001b[43mname\u001b[49m\u001b[43m,\u001b[49m\n\u001b[1;32m    198\u001b[0m \u001b[43m        \u001b[49m\u001b[38;5;28;43mlist\u001b[39;49m\u001b[43m(\u001b[49m\u001b[43margs\u001b[49m\u001b[43m)\u001b[49m\u001b[43m,\u001b[49m\n\u001b[1;32m    199\u001b[0m \u001b[43m        \u001b[49m\u001b[38;5;28;43mlen\u001b[39;49m\u001b[43m(\u001b[49m\u001b[38;5;28;43mself\u001b[39;49m\u001b[38;5;241;43m.\u001b[39;49m\u001b[43mfunction_type\u001b[49m\u001b[38;5;241;43m.\u001b[39;49m\u001b[43mflat_outputs\u001b[49m\u001b[43m)\u001b[49m\u001b[43m,\u001b[49m\n\u001b[1;32m    200\u001b[0m \u001b[43m    \u001b[49m\u001b[43m)\u001b[49m\n\u001b[1;32m    201\u001b[0m   \u001b[38;5;28;01melse\u001b[39;00m:\n\u001b[1;32m    202\u001b[0m     outputs \u001b[38;5;241m=\u001b[39m make_call_op_in_graph(\u001b[38;5;28mself\u001b[39m, \u001b[38;5;28mlist\u001b[39m(args))\n",
      "File \u001b[0;32m~/railway/nature/lib/python3.8/site-packages/tensorflow/python/eager/context.py:1457\u001b[0m, in \u001b[0;36mContext.call_function\u001b[0;34m(self, name, tensor_inputs, num_outputs)\u001b[0m\n\u001b[1;32m   1455\u001b[0m cancellation_context \u001b[38;5;241m=\u001b[39m cancellation\u001b[38;5;241m.\u001b[39mcontext()\n\u001b[1;32m   1456\u001b[0m \u001b[38;5;28;01mif\u001b[39;00m cancellation_context \u001b[38;5;129;01mis\u001b[39;00m \u001b[38;5;28;01mNone\u001b[39;00m:\n\u001b[0;32m-> 1457\u001b[0m   outputs \u001b[38;5;241m=\u001b[39m \u001b[43mexecute\u001b[49m\u001b[38;5;241;43m.\u001b[39;49m\u001b[43mexecute\u001b[49m\u001b[43m(\u001b[49m\n\u001b[1;32m   1458\u001b[0m \u001b[43m      \u001b[49m\u001b[43mname\u001b[49m\u001b[38;5;241;43m.\u001b[39;49m\u001b[43mdecode\u001b[49m\u001b[43m(\u001b[49m\u001b[38;5;124;43m\"\u001b[39;49m\u001b[38;5;124;43mutf-8\u001b[39;49m\u001b[38;5;124;43m\"\u001b[39;49m\u001b[43m)\u001b[49m\u001b[43m,\u001b[49m\n\u001b[1;32m   1459\u001b[0m \u001b[43m      \u001b[49m\u001b[43mnum_outputs\u001b[49m\u001b[38;5;241;43m=\u001b[39;49m\u001b[43mnum_outputs\u001b[49m\u001b[43m,\u001b[49m\n\u001b[1;32m   1460\u001b[0m \u001b[43m      \u001b[49m\u001b[43minputs\u001b[49m\u001b[38;5;241;43m=\u001b[39;49m\u001b[43mtensor_inputs\u001b[49m\u001b[43m,\u001b[49m\n\u001b[1;32m   1461\u001b[0m \u001b[43m      \u001b[49m\u001b[43mattrs\u001b[49m\u001b[38;5;241;43m=\u001b[39;49m\u001b[43mattrs\u001b[49m\u001b[43m,\u001b[49m\n\u001b[1;32m   1462\u001b[0m \u001b[43m      \u001b[49m\u001b[43mctx\u001b[49m\u001b[38;5;241;43m=\u001b[39;49m\u001b[38;5;28;43mself\u001b[39;49m\u001b[43m,\u001b[49m\n\u001b[1;32m   1463\u001b[0m \u001b[43m  \u001b[49m\u001b[43m)\u001b[49m\n\u001b[1;32m   1464\u001b[0m \u001b[38;5;28;01melse\u001b[39;00m:\n\u001b[1;32m   1465\u001b[0m   outputs \u001b[38;5;241m=\u001b[39m execute\u001b[38;5;241m.\u001b[39mexecute_with_cancellation(\n\u001b[1;32m   1466\u001b[0m       name\u001b[38;5;241m.\u001b[39mdecode(\u001b[38;5;124m\"\u001b[39m\u001b[38;5;124mutf-8\u001b[39m\u001b[38;5;124m\"\u001b[39m),\n\u001b[1;32m   1467\u001b[0m       num_outputs\u001b[38;5;241m=\u001b[39mnum_outputs,\n\u001b[0;32m   (...)\u001b[0m\n\u001b[1;32m   1471\u001b[0m       cancellation_manager\u001b[38;5;241m=\u001b[39mcancellation_context,\n\u001b[1;32m   1472\u001b[0m   )\n",
      "File \u001b[0;32m~/railway/nature/lib/python3.8/site-packages/tensorflow/python/eager/execute.py:53\u001b[0m, in \u001b[0;36mquick_execute\u001b[0;34m(op_name, num_outputs, inputs, attrs, ctx, name)\u001b[0m\n\u001b[1;32m     51\u001b[0m \u001b[38;5;28;01mtry\u001b[39;00m:\n\u001b[1;32m     52\u001b[0m   ctx\u001b[38;5;241m.\u001b[39mensure_initialized()\n\u001b[0;32m---> 53\u001b[0m   tensors \u001b[38;5;241m=\u001b[39m \u001b[43mpywrap_tfe\u001b[49m\u001b[38;5;241;43m.\u001b[39;49m\u001b[43mTFE_Py_Execute\u001b[49m\u001b[43m(\u001b[49m\u001b[43mctx\u001b[49m\u001b[38;5;241;43m.\u001b[39;49m\u001b[43m_handle\u001b[49m\u001b[43m,\u001b[49m\u001b[43m \u001b[49m\u001b[43mdevice_name\u001b[49m\u001b[43m,\u001b[49m\u001b[43m \u001b[49m\u001b[43mop_name\u001b[49m\u001b[43m,\u001b[49m\n\u001b[1;32m     54\u001b[0m \u001b[43m                                      \u001b[49m\u001b[43minputs\u001b[49m\u001b[43m,\u001b[49m\u001b[43m \u001b[49m\u001b[43mattrs\u001b[49m\u001b[43m,\u001b[49m\u001b[43m \u001b[49m\u001b[43mnum_outputs\u001b[49m\u001b[43m)\u001b[49m\n\u001b[1;32m     55\u001b[0m \u001b[38;5;28;01mexcept\u001b[39;00m core\u001b[38;5;241m.\u001b[39m_NotOkStatusException \u001b[38;5;28;01mas\u001b[39;00m e:\n\u001b[1;32m     56\u001b[0m   \u001b[38;5;28;01mif\u001b[39;00m name \u001b[38;5;129;01mis\u001b[39;00m \u001b[38;5;129;01mnot\u001b[39;00m \u001b[38;5;28;01mNone\u001b[39;00m:\n",
      "\u001b[0;31mKeyboardInterrupt\u001b[0m: "
     ]
    }
   ],
   "source": [
    "history_lst = LSTMModel.fit(\n",
    "    X_train_bil,\n",
    "    y_train_bil, epochs = 50,\n",
    "    batch_size = 32, \n",
    "    verbose = 1\n",
    ")"
   ]
  },
  {
   "cell_type": "code",
   "execution_count": 58,
   "id": "4a8127d2-2e04-4946-a7fa-d47d37094144",
   "metadata": {},
   "outputs": [
    {
     "data": {
      "text/plain": [
       "(838852, 14, 1)"
      ]
     },
     "execution_count": 58,
     "metadata": {},
     "output_type": "execute_result"
    }
   ],
   "source": [
    "X_train_bw.shape"
   ]
  },
  {
   "cell_type": "code",
   "execution_count": 59,
   "id": "02d8986d-348b-446f-a1f2-a9368f543cec",
   "metadata": {},
   "outputs": [
    {
     "data": {
      "text/plain": [
       "array([90, 15, 90, ..., 17, 30, 30])"
      ]
     },
     "execution_count": 59,
     "metadata": {},
     "output_type": "execute_result"
    }
   ],
   "source": [
    "y_train_bil"
   ]
  },
  {
   "cell_type": "code",
   "execution_count": 69,
   "id": "0dc7749e-590e-4539-bd72-fdd4c7b33fcc",
   "metadata": {},
   "outputs": [
    {
     "name": "stdout",
     "output_type": "stream",
     "text": [
      "Collecting catboost\n",
      "  Obtaining dependency information for catboost from https://files.pythonhosted.org/packages/77/c0/c601b9848353eec5e4eb3714a48c19e94749f0a518447cdda192eed663fc/catboost-1.2.2-cp38-cp38-manylinux2014_x86_64.whl.metadata\n",
      "  Downloading catboost-1.2.2-cp38-cp38-manylinux2014_x86_64.whl.metadata (1.2 kB)\n",
      "Collecting graphviz (from catboost)\n",
      "  Downloading graphviz-0.20.1-py3-none-any.whl (47 kB)\n",
      "\u001b[2K     \u001b[38;2;114;156;31m━━━━━━━━━━━━━━━━━━━━━━━━━━━━━━━━━━━━━━━\u001b[0m \u001b[32m47.0/47.0 kB\u001b[0m \u001b[31m504.1 kB/s\u001b[0m eta \u001b[36m0:00:00\u001b[0m31m53.3 MB/s\u001b[0m eta \u001b[36m0:00:01\u001b[0m\n",
      "\u001b[?25hRequirement already satisfied: matplotlib in /home/amit/railway/nature/lib/python3.8/site-packages (from catboost) (3.7.3)\n",
      "Requirement already satisfied: numpy>=1.16.0 in /home/amit/railway/nature/lib/python3.8/site-packages (from catboost) (1.24.3)\n",
      "Requirement already satisfied: pandas>=0.24 in /home/amit/railway/nature/lib/python3.8/site-packages (from catboost) (2.0.3)\n",
      "Requirement already satisfied: scipy in /home/amit/railway/nature/lib/python3.8/site-packages (from catboost) (1.10.1)\n",
      "Collecting plotly (from catboost)\n",
      "  Obtaining dependency information for plotly from https://files.pythonhosted.org/packages/a8/07/72953cf70e3bd3a24cbc3e743e6f8539abe6e3e6d83c3c0c83426eaffd39/plotly-5.18.0-py3-none-any.whl.metadata\n",
      "  Downloading plotly-5.18.0-py3-none-any.whl.metadata (7.0 kB)\n",
      "Requirement already satisfied: six in /home/amit/railway/nature/lib/python3.8/site-packages (from catboost) (1.16.0)\n",
      "Requirement already satisfied: python-dateutil>=2.8.2 in /home/amit/railway/nature/lib/python3.8/site-packages (from pandas>=0.24->catboost) (2.8.2)\n",
      "Requirement already satisfied: pytz>=2020.1 in /home/amit/railway/nature/lib/python3.8/site-packages (from pandas>=0.24->catboost) (2023.3.post1)\n",
      "Requirement already satisfied: tzdata>=2022.1 in /home/amit/railway/nature/lib/python3.8/site-packages (from pandas>=0.24->catboost) (2023.3)\n",
      "Requirement already satisfied: contourpy>=1.0.1 in /home/amit/railway/nature/lib/python3.8/site-packages (from matplotlib->catboost) (1.1.1)\n",
      "Requirement already satisfied: cycler>=0.10 in /home/amit/railway/nature/lib/python3.8/site-packages (from matplotlib->catboost) (0.11.0)\n",
      "Requirement already satisfied: fonttools>=4.22.0 in /home/amit/railway/nature/lib/python3.8/site-packages (from matplotlib->catboost) (4.42.1)\n",
      "Requirement already satisfied: kiwisolver>=1.0.1 in /home/amit/railway/nature/lib/python3.8/site-packages (from matplotlib->catboost) (1.4.5)\n",
      "Requirement already satisfied: packaging>=20.0 in /home/amit/railway/nature/lib/python3.8/site-packages (from matplotlib->catboost) (23.1)\n",
      "Requirement already satisfied: pillow>=6.2.0 in /home/amit/railway/nature/lib/python3.8/site-packages (from matplotlib->catboost) (10.0.1)\n",
      "Requirement already satisfied: pyparsing>=2.3.1 in /home/amit/railway/nature/lib/python3.8/site-packages (from matplotlib->catboost) (3.1.1)\n",
      "Requirement already satisfied: importlib-resources>=3.2.0 in /home/amit/railway/nature/lib/python3.8/site-packages (from matplotlib->catboost) (6.0.1)\n",
      "Collecting tenacity>=6.2.0 (from plotly->catboost)\n",
      "  Obtaining dependency information for tenacity>=6.2.0 from https://files.pythonhosted.org/packages/f4/f1/990741d5bb2487d529d20a433210ffa136a367751e454214013b441c4575/tenacity-8.2.3-py3-none-any.whl.metadata\n",
      "  Downloading tenacity-8.2.3-py3-none-any.whl.metadata (1.0 kB)\n",
      "Requirement already satisfied: zipp>=3.1.0 in /home/amit/railway/nature/lib/python3.8/site-packages (from importlib-resources>=3.2.0->matplotlib->catboost) (3.17.0)\n",
      "Downloading catboost-1.2.2-cp38-cp38-manylinux2014_x86_64.whl (98.7 MB)\n",
      "\u001b[2K   \u001b[38;2;114;156;31m━━━━━━━━━━━━━━━━━━━━━━━━━━━━━━━━━━━━━━━━\u001b[0m \u001b[32m98.7/98.7 MB\u001b[0m \u001b[31m16.9 MB/s\u001b[0m eta \u001b[36m0:00:00\u001b[0mm eta \u001b[36m0:00:01\u001b[0m[36m0:00:01\u001b[0m\n",
      "\u001b[?25hDownloading plotly-5.18.0-py3-none-any.whl (15.6 MB)\n",
      "\u001b[2K   \u001b[38;2;114;156;31m━━━━━━━━━━━━━━━━━━━━━━━━━━━━━━━━━━━━━━━━\u001b[0m \u001b[32m15.6/15.6 MB\u001b[0m \u001b[31m12.5 MB/s\u001b[0m eta \u001b[36m0:00:00\u001b[0mm eta \u001b[36m0:00:01\u001b[0m0:01\u001b[0m:01\u001b[0m\n",
      "\u001b[?25hDownloading tenacity-8.2.3-py3-none-any.whl (24 kB)\n",
      "Installing collected packages: tenacity, graphviz, plotly, catboost\n",
      "Successfully installed catboost-1.2.2 graphviz-0.20.1 plotly-5.18.0 tenacity-8.2.3\n",
      "\n",
      "\u001b[1m[\u001b[0m\u001b[34;49mnotice\u001b[0m\u001b[1;39;49m]\u001b[0m\u001b[39;49m A new release of pip is available: \u001b[0m\u001b[31;49m23.2.1\u001b[0m\u001b[39;49m -> \u001b[0m\u001b[32;49m23.3.2\u001b[0m\n",
      "\u001b[1m[\u001b[0m\u001b[34;49mnotice\u001b[0m\u001b[1;39;49m]\u001b[0m\u001b[39;49m To update, run: \u001b[0m\u001b[32;49mpip install --upgrade pip\u001b[0m\n"
     ]
    }
   ],
   "source": [
    "!pip install catboost"
   ]
  },
  {
   "cell_type": "code",
   "execution_count": 70,
   "id": "8513beb7-da32-4a0c-a512-2d0183068c26",
   "metadata": {},
   "outputs": [],
   "source": [
    "import catboost\n",
    "from catboost import CatBoostRegressor"
   ]
  },
  {
   "cell_type": "code",
   "execution_count": 71,
   "id": "d536b2f2-5f02-41c9-b16e-494aa0a3a604",
   "metadata": {},
   "outputs": [],
   "source": [
    "# Initialize CatBoostRegressor\n",
    "catboost_model = CatBoostRegressor(iterations=1000,  # Adjust the number of iterations as needed\n",
    "                                   learning_rate=0.1,  # Adjust the learning rate as needed\n",
    "                                   depth=6,  # Adjust the depth of the trees\n",
    "                                   loss_function='RMSE',  # Specify the loss function for regression\n",
    "                                   random_seed=42,\n",
    "                                   verbose=100)  # Set verbose to True for progress information\n"
   ]
  },
  {
   "cell_type": "code",
   "execution_count": 77,
   "id": "357df9a4-bb41-4bf0-aaeb-448270b35a7f",
   "metadata": {},
   "outputs": [
    {
     "name": "stdout",
     "output_type": "stream",
     "text": [
      "0:\tlearn: 68.6214234\ttest: 69.0715591\tbest: 69.0715591 (0)\ttotal: 136ms\tremaining: 2m 15s\n",
      "100:\tlearn: 29.1382083\ttest: 28.9905704\tbest: 28.9905704 (100)\ttotal: 5.29s\tremaining: 47.1s\n",
      "200:\tlearn: 22.6252750\ttest: 22.1147196\tbest: 22.1147196 (200)\ttotal: 9.95s\tremaining: 39.5s\n",
      "300:\tlearn: 19.9879936\ttest: 19.5475675\tbest: 19.5475675 (300)\ttotal: 15.1s\tremaining: 35s\n",
      "400:\tlearn: 18.1048322\ttest: 17.7311283\tbest: 17.7311283 (400)\ttotal: 19.6s\tremaining: 29.3s\n",
      "500:\tlearn: 16.8995794\ttest: 16.5875414\tbest: 16.5875414 (500)\ttotal: 24.3s\tremaining: 24.2s\n",
      "600:\tlearn: 15.9764252\ttest: 15.7097636\tbest: 15.7097636 (600)\ttotal: 29s\tremaining: 19.3s\n",
      "700:\tlearn: 15.2998866\ttest: 15.0954714\tbest: 15.0954714 (700)\ttotal: 33.3s\tremaining: 14.2s\n",
      "800:\tlearn: 14.7591282\ttest: 14.6013453\tbest: 14.6013453 (800)\ttotal: 38s\tremaining: 9.45s\n",
      "900:\tlearn: 14.2956678\ttest: 14.1616931\tbest: 14.1616931 (900)\ttotal: 42.4s\tremaining: 4.66s\n",
      "999:\tlearn: 13.8885895\ttest: 13.7826605\tbest: 13.7826605 (999)\ttotal: 46.7s\tremaining: 0us\n",
      "\n",
      "bestTest = 13.78266051\n",
      "bestIteration = 999\n",
      "\n"
     ]
    },
    {
     "data": {
      "text/plain": [
       "<catboost.core.CatBoostRegressor at 0x7f697307c670>"
      ]
     },
     "execution_count": 77,
     "metadata": {},
     "output_type": "execute_result"
    }
   ],
   "source": [
    "# Fit the model\n",
    "catboost_model.fit(X_train_bil, y_train_bil, eval_set=(X_test_bil, y_test_bil), use_best_model=True)\n"
   ]
  },
  {
   "cell_type": "code",
   "execution_count": 78,
   "id": "fbbada69-c6dd-4f7b-ac53-9ae1d3d520a5",
   "metadata": {},
   "outputs": [],
   "source": [
    "# Make predictions\n",
    "y_pred_catb = catboost_model.predict(X_test_bil)\n"
   ]
  },
  {
   "cell_type": "code",
   "execution_count": 79,
   "id": "fd4abf6c-ded1-44b8-a4a7-4e9ab1986386",
   "metadata": {},
   "outputs": [
    {
     "data": {
      "text/plain": [
       "array([ 26.1742342 , 179.66737394,  60.18423768, ..., 370.07063371,\n",
       "        90.16239215, 180.40368132])"
      ]
     },
     "execution_count": 79,
     "metadata": {},
     "output_type": "execute_result"
    }
   ],
   "source": [
    "y_pred_catb"
   ]
  },
  {
   "cell_type": "code",
   "execution_count": 82,
   "id": "6be93d76-afd6-4055-a12c-a45c1edeef7b",
   "metadata": {},
   "outputs": [
    {
     "name": "stdout",
     "output_type": "stream",
     "text": [
      "Root Mean Squared Error: 13.782660510799502\n",
      "Mean Squared Error: 189.961730755952\n"
     ]
    }
   ],
   "source": [
    "mse_cat = mean_squared_error(y_test, y_pred_catb)\n",
    "rmse_cat = np.sqrt(mse_cat)\n",
    "print(f\"Root Mean Squared Error: {rmse_cat}\")\n",
    "print(f\"Mean Squared Error: {mse_cat}\")"
   ]
  },
  {
   "cell_type": "code",
   "execution_count": 83,
   "id": "d9e54922-fc09-4969-b9e3-e8f741fea7c2",
   "metadata": {},
   "outputs": [
    {
     "data": {
      "text/html": [
       "<div>\n",
       "<style scoped>\n",
       "    .dataframe tbody tr th:only-of-type {\n",
       "        vertical-align: middle;\n",
       "    }\n",
       "\n",
       "    .dataframe tbody tr th {\n",
       "        vertical-align: top;\n",
       "    }\n",
       "\n",
       "    .dataframe thead th {\n",
       "        text-align: right;\n",
       "    }\n",
       "</style>\n",
       "<table border=\"1\" class=\"dataframe\">\n",
       "  <thead>\n",
       "    <tr style=\"text-align: right;\">\n",
       "      <th></th>\n",
       "      <th>Real</th>\n",
       "      <th>Predicted</th>\n",
       "    </tr>\n",
       "  </thead>\n",
       "  <tbody>\n",
       "    <tr>\n",
       "      <th>838852</th>\n",
       "      <td>23</td>\n",
       "      <td>26.174234</td>\n",
       "    </tr>\n",
       "    <tr>\n",
       "      <th>838853</th>\n",
       "      <td>180</td>\n",
       "      <td>179.667374</td>\n",
       "    </tr>\n",
       "    <tr>\n",
       "      <th>838854</th>\n",
       "      <td>60</td>\n",
       "      <td>60.184238</td>\n",
       "    </tr>\n",
       "    <tr>\n",
       "      <th>838855</th>\n",
       "      <td>222</td>\n",
       "      <td>221.455454</td>\n",
       "    </tr>\n",
       "    <tr>\n",
       "      <th>838856</th>\n",
       "      <td>60</td>\n",
       "      <td>58.578243</td>\n",
       "    </tr>\n",
       "  </tbody>\n",
       "</table>\n",
       "</div>"
      ],
      "text/plain": [
       "        Real   Predicted\n",
       "838852    23   26.174234\n",
       "838853   180  179.667374\n",
       "838854    60   60.184238\n",
       "838855   222  221.455454\n",
       "838856    60   58.578243"
      ]
     },
     "execution_count": 83,
     "metadata": {},
     "output_type": "execute_result"
    }
   ],
   "source": [
    "# Create a DataFrame of Real and Predicted values\n",
    "prices_catb = pd.DataFrame({\n",
    "    \"Real\": y_test.ravel(),\n",
    "    \"Predicted\": y_pred_catb.ravel()\n",
    "}, index = df1.index[-len(y_test): ]) \n",
    "prices_catb.head()"
   ]
  },
  {
   "cell_type": "code",
   "execution_count": null,
   "id": "e2d0b159-eb0b-4231-8403-00e27cac8472",
   "metadata": {},
   "outputs": [],
   "source": [
    "## ON Unseen Data"
   ]
  },
  {
   "cell_type": "code",
   "execution_count": 87,
   "id": "9c140151-7117-4498-b8f1-b87a86244eef",
   "metadata": {},
   "outputs": [
    {
     "data": {
      "text/html": [
       "<div>\n",
       "<style scoped>\n",
       "    .dataframe tbody tr th:only-of-type {\n",
       "        vertical-align: middle;\n",
       "    }\n",
       "\n",
       "    .dataframe tbody tr th {\n",
       "        vertical-align: top;\n",
       "    }\n",
       "\n",
       "    .dataframe thead th {\n",
       "        text-align: right;\n",
       "    }\n",
       "</style>\n",
       "<table border=\"1\" class=\"dataframe\">\n",
       "  <thead>\n",
       "    <tr style=\"text-align: right;\">\n",
       "      <th></th>\n",
       "      <th>Real</th>\n",
       "      <th>Predicted</th>\n",
       "    </tr>\n",
       "  </thead>\n",
       "  <tbody>\n",
       "    <tr>\n",
       "      <th>838852</th>\n",
       "      <td>23</td>\n",
       "      <td>26.174234</td>\n",
       "    </tr>\n",
       "    <tr>\n",
       "      <th>838853</th>\n",
       "      <td>180</td>\n",
       "      <td>179.667374</td>\n",
       "    </tr>\n",
       "    <tr>\n",
       "      <th>838854</th>\n",
       "      <td>60</td>\n",
       "      <td>60.184238</td>\n",
       "    </tr>\n",
       "    <tr>\n",
       "      <th>838855</th>\n",
       "      <td>222</td>\n",
       "      <td>221.455454</td>\n",
       "    </tr>\n",
       "    <tr>\n",
       "      <th>838856</th>\n",
       "      <td>60</td>\n",
       "      <td>58.578243</td>\n",
       "    </tr>\n",
       "    <tr>\n",
       "      <th>...</th>\n",
       "      <td>...</td>\n",
       "      <td>...</td>\n",
       "    </tr>\n",
       "    <tr>\n",
       "      <th>1048560</th>\n",
       "      <td>90</td>\n",
       "      <td>90.116419</td>\n",
       "    </tr>\n",
       "    <tr>\n",
       "      <th>1048561</th>\n",
       "      <td>60</td>\n",
       "      <td>18.805456</td>\n",
       "    </tr>\n",
       "    <tr>\n",
       "      <th>1048562</th>\n",
       "      <td>365</td>\n",
       "      <td>370.070634</td>\n",
       "    </tr>\n",
       "    <tr>\n",
       "      <th>1048563</th>\n",
       "      <td>90</td>\n",
       "      <td>90.162392</td>\n",
       "    </tr>\n",
       "    <tr>\n",
       "      <th>1048564</th>\n",
       "      <td>180</td>\n",
       "      <td>180.403681</td>\n",
       "    </tr>\n",
       "  </tbody>\n",
       "</table>\n",
       "<p>209713 rows × 2 columns</p>\n",
       "</div>"
      ],
      "text/plain": [
       "         Real   Predicted\n",
       "838852     23   26.174234\n",
       "838853    180  179.667374\n",
       "838854     60   60.184238\n",
       "838855    222  221.455454\n",
       "838856     60   58.578243\n",
       "...       ...         ...\n",
       "1048560    90   90.116419\n",
       "1048561    60   18.805456\n",
       "1048562   365  370.070634\n",
       "1048563    90   90.162392\n",
       "1048564   180  180.403681\n",
       "\n",
       "[209713 rows x 2 columns]"
      ]
     },
     "execution_count": 87,
     "metadata": {},
     "output_type": "execute_result"
    }
   ],
   "source": [
    "prices_catb"
   ]
  },
  {
   "cell_type": "code",
   "execution_count": null,
   "id": "27ced5aa-6ab5-4f35-a0d5-4a8cd52656a2",
   "metadata": {},
   "outputs": [],
   "source": [
    "df22 = pd.read_excel(r\"~/Downloads/BID_RA_data/BID_RA_21_22.xlsx\")\n",
    "df22_1 = df22.drop(df22.columns[[0, 7, 8, 14, 19, 20, 21, 31 ]], axis=1)\n",
    "df22_1[\"price\"] = df22_1[\"Order value\"]/df22_1[\"Order Qty\"]\n",
    "df22_1[\"Time taken to deliver\"] = (df22_1[\"Expected delivery date\"] - df22_1[\"Order Date\"]).dt.days\n",
    "df22_1.drop(columns=[\"Month_Name_OrderDate\", \"Order_Quarter\", \"Invoice Date\",\"CRAC date\", \"Payment Date\"], inplace=True)\n",
    "for column in columns_to_encode:\n",
    "       df22_1[column+'_encoded'] = le.fit_transform(df22_1[column])\n",
    "df22_1 = df22_1.drop(columns=[\"FY_OrderDate\", \"Bid start date\", \"Bid end date\"])\n",
    "df22_1[\"Payment Type\"+'_encoded'] = le.fit_transform(df22_1[\"Payment Type\"])\n",
    "df22_1[\"MSME verified social category\"+'_encoded'] = le.fit_transform(df22_1[\"MSME verified social category\"])\n",
    "df22_1 = df22_1.drop(columns=[\"MSME verified social category\", \"Payment Type\"])\n",
    "df22_1 = df22_1.drop(columns=[\"Order Date\", \"Expected delivery date\", \"Shipment received date\"])\n",
    "df22_1 = df22_1.drop(columns=[\"Purchase Mode\", \"Order MSME Verified\", \"MSME verfied gender wise\", \"Startup verfied\"])\n",
    "I = df22_1.drop(columns=['Time taken to deliver'])\n",
    "j = df22_1['Time taken to deliver']\n",
    "I_train, I_test, j_train, j_test = train_test_split(I, j, test_size=0.2)\n",
    "I_train_bil, j_train_bil = np.array(I_train), np.array(j_train)\n",
    "I_test_bil, j_test_bil = np.array(I_test), np.array(j_test)\n",
    "#X_train_bil = X_train_bil.reshape((X_train_bil.shape[0], 1, X_train_bil.shape[1]))\n",
    "#X_test_bil = X_test_bil.reshape((X_test_bil.shape[0], 1, X_test_bil.shape[1]))\n",
    "print(I_train_bil.shape, j_train_bil.shape, I_test_bil.shape, j_test_bil.shape)\n",
    "\n"
   ]
  },
  {
   "cell_type": "code",
   "execution_count": 122,
   "id": "5bb9c364-41fe-4ebd-a958-2c0356f3b05d",
   "metadata": {},
   "outputs": [],
   "source": [
    "df22 = pd.read_excel(r\"~/Downloads/BID_RA_data/BID_RA_21_22.xlsx\")"
   ]
  },
  {
   "cell_type": "code",
   "execution_count": 123,
   "id": "87afde1e-086f-4c5d-aac8-b40c71b5320d",
   "metadata": {},
   "outputs": [],
   "source": [
    "df22_1 = df22.drop(df22.columns[[0, 7, 8, 14, 19, 20, 21, 31 ]], axis=1)"
   ]
  },
  {
   "cell_type": "code",
   "execution_count": 124,
   "id": "0ed5cc9c-db50-4fae-8586-fce96c3ec414",
   "metadata": {},
   "outputs": [],
   "source": [
    "df22_1[\"price\"] = df22_1[\"Order value\"]/df22_1[\"Order Qty\"]"
   ]
  },
  {
   "cell_type": "code",
   "execution_count": 125,
   "id": "6dee5704-8e99-4643-a36c-8f3bea0d5227",
   "metadata": {},
   "outputs": [],
   "source": [
    "df22_1[\"Time taken to deliver\"] = (df22_1[\"Expected delivery date\"] - df22_1[\"Order Date\"]).dt.days"
   ]
  },
  {
   "cell_type": "code",
   "execution_count": 126,
   "id": "df358f68-bcb9-492e-915b-fc66b3888a18",
   "metadata": {},
   "outputs": [],
   "source": [
    "df22_1.drop(columns=[\"Month_Name_OrderDate\", \"Order_Quarter\", \"Invoice Date\",\"CRAC date\", \"Payment Date\"], inplace=True)"
   ]
  },
  {
   "cell_type": "code",
   "execution_count": 127,
   "id": "d2989f00-3f0c-4df2-815d-108d2dba5296",
   "metadata": {},
   "outputs": [],
   "source": [
    "for column in columns_to_encode:\n",
    "       df22_1[column+'_encoded'] = le.fit_transform(df22_1[column])"
   ]
  },
  {
   "cell_type": "code",
   "execution_count": 128,
   "id": "efe7ba34-a57c-489b-bb9d-c96d436129b2",
   "metadata": {},
   "outputs": [],
   "source": [
    "df22_1 = df22_1.drop(columns=[\"FY_OrderDate\", \"Bid start date\", \"Bid end date\"])"
   ]
  },
  {
   "cell_type": "code",
   "execution_count": 129,
   "id": "b0b67bca-0733-4c49-8e40-43e9a6d21c98",
   "metadata": {},
   "outputs": [],
   "source": [
    "df22_1[\"Payment Type\"+'_encoded'] = le.fit_transform(df22_1[\"Payment Type\"])"
   ]
  },
  {
   "cell_type": "code",
   "execution_count": 130,
   "id": "162c13c9-9acb-4b10-bcd9-4f78f98dd6e3",
   "metadata": {},
   "outputs": [],
   "source": [
    "df22_1[\"MSME verified social category\"+'_encoded'] = le.fit_transform(df22_1[\"MSME verified social category\"])"
   ]
  },
  {
   "cell_type": "code",
   "execution_count": 131,
   "id": "70100d83-bf3b-43eb-83f3-39d1be7894b8",
   "metadata": {},
   "outputs": [],
   "source": [
    "df22_1 = df22_1.drop(columns=[\"MSME verified social category\", \"Payment Type\"])"
   ]
  },
  {
   "cell_type": "code",
   "execution_count": 132,
   "id": "de50c0c6-6628-4a08-8683-99e9d4f01847",
   "metadata": {},
   "outputs": [],
   "source": [
    "df22_1 = df22_1.drop(columns=[\"Order Date\", \"Expected delivery date\", \"Shipment received date\"])"
   ]
  },
  {
   "cell_type": "code",
   "execution_count": 133,
   "id": "8f1ac469-1287-4922-a1c0-28a8a32e10c7",
   "metadata": {},
   "outputs": [],
   "source": [
    "df22_1 = df22_1.drop(columns=[\"Purchase Mode\", \"Order MSME Verified\", \"MSME verfied gender wise\", \"Startup verfied\"])"
   ]
  },
  {
   "cell_type": "code",
   "execution_count": null,
   "id": "893256ad-cb58-4130-9d17-c471ec9cc744",
   "metadata": {},
   "outputs": [],
   "source": []
  },
  {
   "cell_type": "code",
   "execution_count": 134,
   "id": "78926899-7463-4acc-87ae-4a40d59e40be",
   "metadata": {},
   "outputs": [],
   "source": [
    "I = df22_1.drop(columns=['Time taken to deliver'])\n",
    "j = df22_1['Time taken to deliver']"
   ]
  },
  {
   "cell_type": "code",
   "execution_count": 135,
   "id": "dd811390-aec4-43e9-91ad-b66abb285bd9",
   "metadata": {},
   "outputs": [
    {
     "data": {
      "text/plain": [
       "(1048565, 14)"
      ]
     },
     "execution_count": 135,
     "metadata": {},
     "output_type": "execute_result"
    }
   ],
   "source": [
    "I.shape"
   ]
  },
  {
   "cell_type": "code",
   "execution_count": 136,
   "id": "975ea5be-738c-40d0-aae6-f883041a1f52",
   "metadata": {},
   "outputs": [],
   "source": [
    "I_train, I_test, j_train, j_test = train_test_split(I, j, test_size=0.2)"
   ]
  },
  {
   "cell_type": "code",
   "execution_count": 137,
   "id": "411abf49-a9bc-4f30-a938-406cbd1b9bf9",
   "metadata": {},
   "outputs": [
    {
     "name": "stdout",
     "output_type": "stream",
     "text": [
      "(838852, 14) (838852,) (209713, 14) (209713,)\n"
     ]
    }
   ],
   "source": [
    "I_train_bil, j_train_bil = np.array(I_train), np.array(j_train)\n",
    "I_test_bil, j_test_bil = np.array(I_test), np.array(j_test)\n",
    "#X_train_bil = X_train_bil.reshape((X_train_bil.shape[0], 1, X_train_bil.shape[1]))\n",
    "#X_test_bil = X_test_bil.reshape((X_test_bil.shape[0], 1, X_test_bil.shape[1]))\n",
    "print(I_train_bil.shape, j_train_bil.shape, I_test_bil.shape, j_test_bil.shape)"
   ]
  },
  {
   "cell_type": "code",
   "execution_count": 108,
   "id": "42ea771e-2550-434a-9610-8a4b30e97344",
   "metadata": {},
   "outputs": [],
   "source": [
    "# Testing on unseen data"
   ]
  },
  {
   "cell_type": "code",
   "execution_count": 138,
   "id": "32e120b4-6ebe-422e-a4f3-52e4bbdc36f1",
   "metadata": {},
   "outputs": [],
   "source": [
    "# Make predictions\n",
    "j_pred_catb = catboost_model.predict(I_test_bil)"
   ]
  },
  {
   "cell_type": "code",
   "execution_count": 139,
   "id": "c0007df1-c853-41a8-a66d-8833efa5c183",
   "metadata": {},
   "outputs": [
    {
     "name": "stdout",
     "output_type": "stream",
     "text": [
      "Root Mean Squared Error: 269.45634312571195\n",
      "Mean Squared Error: 72606.7208506814\n"
     ]
    }
   ],
   "source": [
    "mse_cat_uns = mean_squared_error(j_test, j_pred_catb)\n",
    "rmse_cat_uns = np.sqrt(mse_cat_uns)\n",
    "print(f\"Root Mean Squared Error: {rmse_cat_uns}\")\n",
    "print(f\"Mean Squared Error: {mse_cat_uns}\")"
   ]
  },
  {
   "cell_type": "code",
   "execution_count": 140,
   "id": "5475dbdf-19c4-4ce8-aa05-0f2d500ceb3a",
   "metadata": {},
   "outputs": [
    {
     "data": {
      "text/html": [
       "<div>\n",
       "<style scoped>\n",
       "    .dataframe tbody tr th:only-of-type {\n",
       "        vertical-align: middle;\n",
       "    }\n",
       "\n",
       "    .dataframe tbody tr th {\n",
       "        vertical-align: top;\n",
       "    }\n",
       "\n",
       "    .dataframe thead th {\n",
       "        text-align: right;\n",
       "    }\n",
       "</style>\n",
       "<table border=\"1\" class=\"dataframe\">\n",
       "  <thead>\n",
       "    <tr style=\"text-align: right;\">\n",
       "      <th></th>\n",
       "      <th>Real</th>\n",
       "      <th>Predicted</th>\n",
       "    </tr>\n",
       "  </thead>\n",
       "  <tbody>\n",
       "    <tr>\n",
       "      <th>838852</th>\n",
       "      <td>180</td>\n",
       "      <td>90.326261</td>\n",
       "    </tr>\n",
       "    <tr>\n",
       "      <th>838853</th>\n",
       "      <td>180</td>\n",
       "      <td>27.018569</td>\n",
       "    </tr>\n",
       "    <tr>\n",
       "      <th>838854</th>\n",
       "      <td>7</td>\n",
       "      <td>101.870700</td>\n",
       "    </tr>\n",
       "    <tr>\n",
       "      <th>838855</th>\n",
       "      <td>150</td>\n",
       "      <td>108.538470</td>\n",
       "    </tr>\n",
       "    <tr>\n",
       "      <th>838856</th>\n",
       "      <td>60</td>\n",
       "      <td>57.317024</td>\n",
       "    </tr>\n",
       "  </tbody>\n",
       "</table>\n",
       "</div>"
      ],
      "text/plain": [
       "        Real   Predicted\n",
       "838852   180   90.326261\n",
       "838853   180   27.018569\n",
       "838854     7  101.870700\n",
       "838855   150  108.538470\n",
       "838856    60   57.317024"
      ]
     },
     "execution_count": 140,
     "metadata": {},
     "output_type": "execute_result"
    }
   ],
   "source": [
    "# Create a DataFrame of Real and Predicted values\n",
    "prices_catb_unseen = pd.DataFrame({\n",
    "    \"Real\": j_test.ravel(),\n",
    "    \"Predicted\": j_pred_catb.ravel()\n",
    "}, index = df1.index[-len(y_test): ]) \n",
    "prices_catb_unseen.head()"
   ]
  },
  {
   "cell_type": "code",
   "execution_count": null,
   "id": "1c5b1d81-83cb-48b1-819c-bd59951db8ae",
   "metadata": {},
   "outputs": [],
   "source": []
  }
 ],
 "metadata": {
  "kernelspec": {
   "display_name": "Python 3 (ipykernel)",
   "language": "python",
   "name": "python3"
  },
  "language_info": {
   "codemirror_mode": {
    "name": "ipython",
    "version": 3
   },
   "file_extension": ".py",
   "mimetype": "text/x-python",
   "name": "python",
   "nbconvert_exporter": "python",
   "pygments_lexer": "ipython3",
   "version": "3.8.10"
  }
 },
 "nbformat": 4,
 "nbformat_minor": 5
}

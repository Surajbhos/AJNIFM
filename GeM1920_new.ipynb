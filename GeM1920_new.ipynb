{
 "cells": [
  {
   "cell_type": "code",
   "execution_count": 1,
   "id": "868cf3bd-de3c-45f0-a691-1d48f9ae079e",
   "metadata": {},
   "outputs": [
    {
     "name": "stderr",
     "output_type": "stream",
     "text": [
      "2024-01-11 09:50:57.134943: I tensorflow/core/util/port.cc:110] oneDNN custom operations are on. You may see slightly different numerical results due to floating-point round-off errors from different computation orders. To turn them off, set the environment variable `TF_ENABLE_ONEDNN_OPTS=0`.\n",
      "2024-01-11 09:50:57.163170: I tensorflow/tsl/cuda/cudart_stub.cc:28] Could not find cuda drivers on your machine, GPU will not be used.\n",
      "2024-01-11 09:50:57.320962: I tensorflow/tsl/cuda/cudart_stub.cc:28] Could not find cuda drivers on your machine, GPU will not be used.\n",
      "2024-01-11 09:50:57.322201: I tensorflow/core/platform/cpu_feature_guard.cc:182] This TensorFlow binary is optimized to use available CPU instructions in performance-critical operations.\n",
      "To enable the following instructions: AVX2 AVX512F AVX512_VNNI FMA, in other operations, rebuild TensorFlow with the appropriate compiler flags.\n",
      "2024-01-11 09:50:58.341691: W tensorflow/compiler/tf2tensorrt/utils/py_utils.cc:38] TF-TRT Warning: Could not find TensorRT\n"
     ]
    }
   ],
   "source": [
    "import numpy as np\n",
    "import pandas as pd\n",
    "import seaborn as sns\n",
    "import matplotlib.pyplot as plt\n",
    "import tensorflow as tf\n",
    "from keras import layers\n",
    "import keras\n",
    "\n",
    "%matplotlib inline\n",
    "tf.random.set_seed(42)"
   ]
  },
  {
   "cell_type": "code",
   "execution_count": 2,
   "id": "70c96910-c2e1-41ef-8097-4893fcf7b185",
   "metadata": {},
   "outputs": [],
   "source": [
    "import numpy as np\n",
    "import pandas as pd\n",
    "import math\n",
    "import seaborn as sns\n",
    "import xgboost as xgb\n",
    "import matplotlib.pyplot as plt\n",
    "#import plotly.graph_objects as go\n",
    "import tensorflow as tf\n",
    "#import tensorflow_addons as tfa\n",
    "\n",
    "from sklearn.model_selection import train_test_split\n",
    "from sklearn.ensemble import RandomForestRegressor\n",
    "from sklearn.preprocessing import LabelEncoder\n",
    "from sklearn.svm import SVR\n",
    "#from plotly.subplots import make_subplots\n",
    "from statsmodels.tsa.seasonal import seasonal_decompose\n",
    "from statsmodels.tsa.stattools import adfuller\n",
    "from statsmodels.graphics.tsaplots import plot_acf, plot_pacf\n",
    "from statsmodels.tsa.stattools import acf, pacf\n",
    "from sklearn.pipeline import make_pipeline\n",
    "from sklearn.preprocessing import StandardScaler\n",
    "from sklearn.preprocessing import MinMaxScaler\n",
    "from sklearn.decomposition import PCA\n",
    "from sklearn.model_selection import GridSearchCV\n",
    "from sklearn.metrics import mean_absolute_error\n",
    "from keras import Sequential\n",
    "from keras import layers\n",
    "from keras.models import Model\n",
    "from keras.layers import LSTM, BatchNormalization, Dropout, Dense, Flatten, Conv1D\n",
    "from keras.layers import MaxPooling1D, GRU, Input,Masking, Concatenate, dot\n",
    "from keras.optimizers import Adam, SGD\n",
    "from keras.losses import MeanAbsoluteError\n",
    "from keras.metrics import RootMeanSquaredError\n",
    "from keras.callbacks import EarlyStopping\n",
    "from keras.callbacks import LearningRateScheduler\n",
    "from sklearn.metrics import mean_squared_error"
   ]
  },
  {
   "cell_type": "code",
   "execution_count": 3,
   "id": "243a3fe9-2295-4ee4-bfe2-b4ed8a185957",
   "metadata": {},
   "outputs": [],
   "source": [
    "df = pd.read_excel(r\"~/Downloads/BID_RA_data/BID_RA_19_20.xlsx\")"
   ]
  },
  {
   "cell_type": "code",
   "execution_count": 4,
   "id": "7bdcfef4-0abf-4e9c-9bf1-a206033e4fca",
   "metadata": {},
   "outputs": [
    {
     "data": {
      "text/plain": [
       "Order ID                                  int64\n",
       "Order Date                       datetime64[ns]\n",
       "FY_OrderDate                             object\n",
       "Month_Name_OrderDate                     object\n",
       "Purchase Mode                            object\n",
       "Bid start date                   datetime64[ns]\n",
       "Bid end date                     datetime64[ns]\n",
       "HOD ID                                   object\n",
       "Seller ID                                object\n",
       "Order_Quarter                            object\n",
       "Order MSME Verified                      object\n",
       "MSME verfied gender wise                 object\n",
       "MSME verified social category            object\n",
       "Startup verfied                          object\n",
       "Sub Category ID                          object\n",
       "Expected delivery date           datetime64[ns]\n",
       "Shipment received date                   object\n",
       "Order Qty                                 int64\n",
       "Order value                             float64\n",
       "Consignment ID                            int64\n",
       "GeM Invoice Number                       object\n",
       "BID Number                               object\n",
       "Shipment Quantity Received                int64\n",
       "Shipment Quantity Rejected                int64\n",
       "Shipment Quantity Accepted                int64\n",
       "CRAC amount                             float64\n",
       "Total payments                          float64\n",
       "Invoice Date                             object\n",
       "CRAC date                                object\n",
       "Payment Date                             object\n",
       "Payment Type                             object\n",
       "Consignee ID                             object\n",
       "dtype: object"
      ]
     },
     "execution_count": 4,
     "metadata": {},
     "output_type": "execute_result"
    }
   ],
   "source": [
    "df.dtypes"
   ]
  },
  {
   "cell_type": "code",
   "execution_count": 5,
   "id": "65ba92d2-5939-4357-bed0-8955c011856a",
   "metadata": {},
   "outputs": [],
   "source": [
    "df1 = df.drop(df.columns[[0, 7, 19, 20, 21, 31]], axis=1)"
   ]
  },
  {
   "cell_type": "code",
   "execution_count": 6,
   "id": "e67d6a7e-36a0-4032-be0c-dda2887d17e2",
   "metadata": {},
   "outputs": [],
   "source": [
    "df1[\"price\"] = df1[\"Order value\"]/df1[\"Order Qty\"]"
   ]
  },
  {
   "cell_type": "code",
   "execution_count": 7,
   "id": "688c78a5-1875-495d-b5f5-f672b5aefbb9",
   "metadata": {},
   "outputs": [],
   "source": [
    "import datetime\n",
    "from datetime import datetime as dt"
   ]
  },
  {
   "cell_type": "code",
   "execution_count": 8,
   "id": "1ed4bb31-ac1e-4500-a8de-e71124dc2851",
   "metadata": {},
   "outputs": [],
   "source": [
    "df1[\"Time taken to deliver\"] = (df1[\"Expected delivery date\"] - df1[\"Order Date\"]).dt.days"
   ]
  },
  {
   "cell_type": "code",
   "execution_count": 9,
   "id": "7639b708-d58e-4c61-a1ec-812651398bee",
   "metadata": {},
   "outputs": [],
   "source": [
    "df1.drop(columns=[\"Month_Name_OrderDate\", \"Order_Quarter\", \"Invoice Date\",\"CRAC date\", \"Payment Date\"], inplace=True)"
   ]
  },
  {
   "cell_type": "code",
   "execution_count": 10,
   "id": "80b17ab8-05db-4283-8458-43b1bd918eac",
   "metadata": {},
   "outputs": [],
   "source": [
    "columns_to_encode = [\"Purchase Mode\", \"MSME verfied gender wise\", \"Order MSME Verified\", \"Startup verfied\"]"
   ]
  },
  {
   "cell_type": "code",
   "execution_count": 11,
   "id": "7bc54d16-dd67-4895-b2a6-b588ff26fdff",
   "metadata": {},
   "outputs": [],
   "source": [
    "le = LabelEncoder()"
   ]
  },
  {
   "cell_type": "code",
   "execution_count": 12,
   "id": "7607487d-035f-4dc0-a744-1bde143fefc1",
   "metadata": {},
   "outputs": [],
   "source": [
    "for column in columns_to_encode:\n",
    "       df1[column+'_encoded'] = le.fit_transform(df1[column])"
   ]
  },
  {
   "cell_type": "code",
   "execution_count": 13,
   "id": "8687eb8a-e693-49a9-bed3-623af40422e6",
   "metadata": {},
   "outputs": [],
   "source": [
    "df1 = df1.drop(columns=[\"Purchase Mode\", \"MSME verfied gender wise\", \"Order MSME Verified\", \"Startup verfied\"])"
   ]
  },
  {
   "cell_type": "code",
   "execution_count": 14,
   "id": "9418cb98-65ba-4d34-834e-407c8e98b3e2",
   "metadata": {},
   "outputs": [],
   "source": [
    "df1 = df1.drop(columns=[\"FY_OrderDate\", \"Bid start date\", \"Bid end date\"])"
   ]
  },
  {
   "cell_type": "code",
   "execution_count": 15,
   "id": "197f6a37-84a6-4cb2-83a9-ca7fc9e33b55",
   "metadata": {},
   "outputs": [],
   "source": [
    "df1[\"Payment Type\"+'_encoded'] = le.fit_transform(df1[\"Payment Type\"])"
   ]
  },
  {
   "cell_type": "code",
   "execution_count": 16,
   "id": "57953bd1-6ba1-4f04-9f8a-0d5b530ad765",
   "metadata": {},
   "outputs": [],
   "source": [
    "df1[\"MSME verified social category\"+'_encoded'] = le.fit_transform(df1[\"MSME verified social category\"])"
   ]
  },
  {
   "cell_type": "code",
   "execution_count": 17,
   "id": "6417d9a0-517a-435f-95ae-f26f3d94682a",
   "metadata": {},
   "outputs": [],
   "source": [
    "df1 = df1.drop(columns=[\"MSME verified social category\", \"Payment Type\"])"
   ]
  },
  {
   "cell_type": "code",
   "execution_count": 18,
   "id": "5ba19121-ffdc-4748-b04a-2a14320767bf",
   "metadata": {},
   "outputs": [],
   "source": [
    "df1 = df1.drop(columns=[\"Order Date\", \"Expected delivery date\", \"Shipment received date\"])"
   ]
  },
  {
   "cell_type": "code",
   "execution_count": 19,
   "id": "766fa1f0-2c66-40ec-93cb-b7da5b90d561",
   "metadata": {},
   "outputs": [],
   "source": [
    "df1 = df1.drop(columns=['Seller ID'])"
   ]
  },
  {
   "cell_type": "code",
   "execution_count": 20,
   "id": "6bdb8c66-f0c5-4281-98f1-f674e2ce8fcf",
   "metadata": {},
   "outputs": [
    {
     "data": {
      "text/plain": [
       "Sub Category ID\n",
       "home_info_comp_comp_de52008682          811482\n",
       "home_comm_nonm_peda_bicy                 89195\n",
       "home_comm_moto_auto_ambu                 61019\n",
       "home_appa_foot_sh88838715_sh71256827      8535\n",
       "home_furn_acco_furn_almi                  7739\n",
       "                                         ...  \n",
       "home_mine_fabr_spec_cott                     1\n",
       "home_medi_medi_me16126272_me82121660         1\n",
       "home_offi_of64586874_draf_geom               1\n",
       "home_appa_pers_bath_swac                     1\n",
       "home_info_data_netw_outd                     1\n",
       "Name: count, Length: 1352, dtype: int64"
      ]
     },
     "execution_count": 20,
     "metadata": {},
     "output_type": "execute_result"
    }
   ],
   "source": [
    "df1[\"Sub Category ID\"].value_counts()"
   ]
  },
  {
   "cell_type": "code",
   "execution_count": null,
   "id": "a78dc89b-6c92-4cb9-88b2-4c6c083c6d7e",
   "metadata": {},
   "outputs": [],
   "source": [
    "home_info_comp_comp_de52008682"
   ]
  },
  {
   "cell_type": "code",
   "execution_count": 21,
   "id": "67caf902-3722-4455-96a3-7011638a2843",
   "metadata": {},
   "outputs": [],
   "source": [
    "df2=df1[df1[\"Sub Category ID\"]==\"home_info_comp_comp_de52008682\"]"
   ]
  },
  {
   "cell_type": "code",
   "execution_count": 22,
   "id": "a4ef4b1c-5201-4284-9c94-bc2e5c8287a3",
   "metadata": {},
   "outputs": [
    {
     "data": {
      "text/plain": [
       "(811482, 16)"
      ]
     },
     "execution_count": 22,
     "metadata": {},
     "output_type": "execute_result"
    }
   ],
   "source": [
    "df2.shape"
   ]
  },
  {
   "cell_type": "code",
   "execution_count": 23,
   "id": "baabe355-288b-4188-b332-867c1bfea8b9",
   "metadata": {},
   "outputs": [],
   "source": [
    "df2 = df2.drop(columns=['Sub Category ID'])"
   ]
  },
  {
   "cell_type": "code",
   "execution_count": 24,
   "id": "3cb28b2f-085a-4d06-87cd-328bbd537556",
   "metadata": {},
   "outputs": [],
   "source": [
    "X = df2.drop(columns=['Time taken to deliver'])\n",
    "y = df2['Time taken to deliver']"
   ]
  },
  {
   "cell_type": "code",
   "execution_count": 25,
   "id": "5420f83c-7979-4470-a84c-6a5559d8b5ab",
   "metadata": {},
   "outputs": [
    {
     "data": {
      "text/plain": [
       "Index(['Order Qty', 'Order value', 'Shipment Quantity Received',\n",
       "       'Shipment Quantity Rejected', 'Shipment Quantity Accepted',\n",
       "       'CRAC amount', 'Total payments', 'price', 'Purchase Mode_encoded',\n",
       "       'MSME verfied gender wise_encoded', 'Order MSME Verified_encoded',\n",
       "       'Startup verfied_encoded', 'Payment Type_encoded',\n",
       "       'MSME verified social category_encoded'],\n",
       "      dtype='object')"
      ]
     },
     "execution_count": 25,
     "metadata": {},
     "output_type": "execute_result"
    }
   ],
   "source": [
    "X.columns"
   ]
  },
  {
   "cell_type": "code",
   "execution_count": 26,
   "id": "6c5c40ee-5672-4c5e-bce4-782b355845a1",
   "metadata": {},
   "outputs": [
    {
     "data": {
      "text/plain": [
       "(811482, 14)"
      ]
     },
     "execution_count": 26,
     "metadata": {},
     "output_type": "execute_result"
    }
   ],
   "source": [
    "X.shape"
   ]
  },
  {
   "cell_type": "code",
   "execution_count": 27,
   "id": "a02da9ce-3824-40bb-be00-df689817d648",
   "metadata": {},
   "outputs": [],
   "source": [
    "X_train, X_test, y_train, y_test = train_test_split(X, y, test_size=0.2)"
   ]
  },
  {
   "cell_type": "code",
   "execution_count": 28,
   "id": "83a6540b-004d-4481-aac3-abe9508bd040",
   "metadata": {},
   "outputs": [
    {
     "data": {
      "text/html": [
       "<div>\n",
       "<style scoped>\n",
       "    .dataframe tbody tr th:only-of-type {\n",
       "        vertical-align: middle;\n",
       "    }\n",
       "\n",
       "    .dataframe tbody tr th {\n",
       "        vertical-align: top;\n",
       "    }\n",
       "\n",
       "    .dataframe thead th {\n",
       "        text-align: right;\n",
       "    }\n",
       "</style>\n",
       "<table border=\"1\" class=\"dataframe\">\n",
       "  <thead>\n",
       "    <tr style=\"text-align: right;\">\n",
       "      <th></th>\n",
       "      <th>Order Qty</th>\n",
       "      <th>Order value</th>\n",
       "      <th>Shipment Quantity Received</th>\n",
       "      <th>Shipment Quantity Rejected</th>\n",
       "      <th>Shipment Quantity Accepted</th>\n",
       "      <th>CRAC amount</th>\n",
       "      <th>Total payments</th>\n",
       "      <th>price</th>\n",
       "      <th>Purchase Mode_encoded</th>\n",
       "      <th>MSME verfied gender wise_encoded</th>\n",
       "      <th>Order MSME Verified_encoded</th>\n",
       "      <th>Startup verfied_encoded</th>\n",
       "      <th>Payment Type_encoded</th>\n",
       "      <th>MSME verified social category_encoded</th>\n",
       "    </tr>\n",
       "  </thead>\n",
       "  <tbody>\n",
       "    <tr>\n",
       "      <th>604980</th>\n",
       "      <td>1432</td>\n",
       "      <td>74870688.0</td>\n",
       "      <td>2</td>\n",
       "      <td>0</td>\n",
       "      <td>2</td>\n",
       "      <td>104568.0</td>\n",
       "      <td>52284.0</td>\n",
       "      <td>52284.0</td>\n",
       "      <td>0</td>\n",
       "      <td>0</td>\n",
       "      <td>1</td>\n",
       "      <td>0</td>\n",
       "      <td>1</td>\n",
       "      <td>0</td>\n",
       "    </tr>\n",
       "    <tr>\n",
       "      <th>393838</th>\n",
       "      <td>953</td>\n",
       "      <td>48015952.0</td>\n",
       "      <td>2</td>\n",
       "      <td>0</td>\n",
       "      <td>2</td>\n",
       "      <td>100768.0</td>\n",
       "      <td>90691.0</td>\n",
       "      <td>50384.0</td>\n",
       "      <td>1</td>\n",
       "      <td>0</td>\n",
       "      <td>1</td>\n",
       "      <td>0</td>\n",
       "      <td>1</td>\n",
       "      <td>0</td>\n",
       "    </tr>\n",
       "    <tr>\n",
       "      <th>906272</th>\n",
       "      <td>1432</td>\n",
       "      <td>74870688.0</td>\n",
       "      <td>1</td>\n",
       "      <td>0</td>\n",
       "      <td>1</td>\n",
       "      <td>52284.0</td>\n",
       "      <td>104568.0</td>\n",
       "      <td>52284.0</td>\n",
       "      <td>0</td>\n",
       "      <td>0</td>\n",
       "      <td>1</td>\n",
       "      <td>0</td>\n",
       "      <td>1</td>\n",
       "      <td>0</td>\n",
       "    </tr>\n",
       "    <tr>\n",
       "      <th>559813</th>\n",
       "      <td>1432</td>\n",
       "      <td>74870688.0</td>\n",
       "      <td>2</td>\n",
       "      <td>0</td>\n",
       "      <td>2</td>\n",
       "      <td>104568.0</td>\n",
       "      <td>52284.0</td>\n",
       "      <td>52284.0</td>\n",
       "      <td>0</td>\n",
       "      <td>0</td>\n",
       "      <td>1</td>\n",
       "      <td>0</td>\n",
       "      <td>1</td>\n",
       "      <td>0</td>\n",
       "    </tr>\n",
       "    <tr>\n",
       "      <th>1043661</th>\n",
       "      <td>1432</td>\n",
       "      <td>74870688.0</td>\n",
       "      <td>2</td>\n",
       "      <td>0</td>\n",
       "      <td>2</td>\n",
       "      <td>104568.0</td>\n",
       "      <td>104568.0</td>\n",
       "      <td>52284.0</td>\n",
       "      <td>0</td>\n",
       "      <td>0</td>\n",
       "      <td>1</td>\n",
       "      <td>0</td>\n",
       "      <td>1</td>\n",
       "      <td>0</td>\n",
       "    </tr>\n",
       "  </tbody>\n",
       "</table>\n",
       "</div>"
      ],
      "text/plain": [
       "         Order Qty  Order value  Shipment Quantity Received  \\\n",
       "604980        1432   74870688.0                           2   \n",
       "393838         953   48015952.0                           2   \n",
       "906272        1432   74870688.0                           1   \n",
       "559813        1432   74870688.0                           2   \n",
       "1043661       1432   74870688.0                           2   \n",
       "\n",
       "         Shipment Quantity Rejected  Shipment Quantity Accepted  CRAC amount  \\\n",
       "604980                            0                           2     104568.0   \n",
       "393838                            0                           2     100768.0   \n",
       "906272                            0                           1      52284.0   \n",
       "559813                            0                           2     104568.0   \n",
       "1043661                           0                           2     104568.0   \n",
       "\n",
       "         Total payments    price  Purchase Mode_encoded  \\\n",
       "604980          52284.0  52284.0                      0   \n",
       "393838          90691.0  50384.0                      1   \n",
       "906272         104568.0  52284.0                      0   \n",
       "559813          52284.0  52284.0                      0   \n",
       "1043661        104568.0  52284.0                      0   \n",
       "\n",
       "         MSME verfied gender wise_encoded  Order MSME Verified_encoded  \\\n",
       "604980                                  0                            1   \n",
       "393838                                  0                            1   \n",
       "906272                                  0                            1   \n",
       "559813                                  0                            1   \n",
       "1043661                                 0                            1   \n",
       "\n",
       "         Startup verfied_encoded  Payment Type_encoded  \\\n",
       "604980                         0                     1   \n",
       "393838                         0                     1   \n",
       "906272                         0                     1   \n",
       "559813                         0                     1   \n",
       "1043661                        0                     1   \n",
       "\n",
       "         MSME verified social category_encoded  \n",
       "604980                                       0  \n",
       "393838                                       0  \n",
       "906272                                       0  \n",
       "559813                                       0  \n",
       "1043661                                      0  "
      ]
     },
     "execution_count": 28,
     "metadata": {},
     "output_type": "execute_result"
    }
   ],
   "source": [
    "X_train.head()"
   ]
  },
  {
   "cell_type": "code",
   "execution_count": 29,
   "id": "27584e92-c485-4650-a796-269943252156",
   "metadata": {},
   "outputs": [
    {
     "name": "stdout",
     "output_type": "stream",
     "text": [
      "(649185, 14) (649185,) (162297, 14) (162297,)\n"
     ]
    }
   ],
   "source": [
    "X_train_bil, y_train_bil = np.array(X_train), np.array(y_train)\n",
    "X_test_bil, y_test_bil = np.array(X_test), np.array(y_test)\n",
    "#X_train_bil = X_train_bil.reshape((X_train_bil.shape[0], 1, X_train_bil.shape[1]))\n",
    "#X_test_bil = X_test_bil.reshape((X_test_bil.shape[0], 1, X_test_bil.shape[1]))\n",
    "print(X_train_bil.shape, y_train_bil.shape, X_test_bil.shape, y_test_bil.shape)"
   ]
  },
  {
   "cell_type": "code",
   "execution_count": null,
   "id": "5a12fb9c-871e-488f-a0ff-d92ba62392da",
   "metadata": {},
   "outputs": [],
   "source": []
  },
  {
   "cell_type": "code",
   "execution_count": 30,
   "id": "8101d6ac-d3cb-4def-aa9d-b1c2a38a9b44",
   "metadata": {},
   "outputs": [],
   "source": [
    "from keras.callbacks import EarlyStopping"
   ]
  },
  {
   "cell_type": "code",
   "execution_count": 135,
   "id": "8be5e94f-0be7-4785-a7eb-12475eb38461",
   "metadata": {},
   "outputs": [],
   "source": [
    "from keras.models import Sequential\n",
    "from keras.layers import Dense, Dropout, Activation, Flatten,Reshape\n",
    "from keras.layers import Conv1D, MaxPooling1D, LeakyReLU\n",
    "import np_utils\n",
    "from keras.layers import GRU\n",
    "model_GRU = Sequential()\n",
    "\n",
    "model_GRU.add(GRU(units=50, input_shape=(14,1),return_sequences=False))\n",
    "model_GRU.add(Activation('tanh'))\n",
    "model_GRU.add(Dropout(0.3))\n",
    "model_GRU.add(Dense(1))\n",
    "model_GRU.add(Activation('relu'))\n",
    "model_GRU.compile(loss='mse', optimizer='adam', metrics = ('MAPE'))"
   ]
  },
  {
   "cell_type": "code",
   "execution_count": 136,
   "id": "29395732-d397-41e9-b075-661ccb59f811",
   "metadata": {},
   "outputs": [
    {
     "name": "stdout",
     "output_type": "stream",
     "text": [
      "Model: \"sequential_4\"\n",
      "_________________________________________________________________\n",
      " Layer (type)                Output Shape              Param #   \n",
      "=================================================================\n",
      " gru_4 (GRU)                 (None, 50)                7950      \n",
      "                                                                 \n",
      " activation_8 (Activation)   (None, 50)                0         \n",
      "                                                                 \n",
      " dropout_4 (Dropout)         (None, 50)                0         \n",
      "                                                                 \n",
      " dense_4 (Dense)             (None, 1)                 51        \n",
      "                                                                 \n",
      " activation_9 (Activation)   (None, 1)                 0         \n",
      "                                                                 \n",
      "=================================================================\n",
      "Total params: 8001 (31.25 KB)\n",
      "Trainable params: 8001 (31.25 KB)\n",
      "Non-trainable params: 0 (0.00 Byte)\n",
      "_________________________________________________________________\n"
     ]
    }
   ],
   "source": [
    "model_GRU.summary()"
   ]
  },
  {
   "cell_type": "code",
   "execution_count": 137,
   "id": "0e8057e1-a8f8-4e62-b10a-5baeb2faaa05",
   "metadata": {},
   "outputs": [],
   "source": [
    "callbacks = [keras.callbacks.EarlyStopping(monitor='val_loss', patience=60,verbose=1)]"
   ]
  },
  {
   "cell_type": "code",
   "execution_count": 138,
   "id": "169b29b7-7ecd-42d9-932c-c674d8eb4598",
   "metadata": {},
   "outputs": [
    {
     "name": "stdout",
     "output_type": "stream",
     "text": [
      "Epoch 1/60\n",
      "5072/5072 [==============================] - 36s 7ms/step - loss: 55.6374 - MAPE: 10769.9736 - val_loss: 1.6808 - val_MAPE: 1.4891\n",
      "Epoch 2/60\n",
      "5072/5072 [==============================] - 33s 6ms/step - loss: 8.0559 - MAPE: 36992.1055 - val_loss: 0.5216 - val_MAPE: 1.0386\n",
      "Epoch 3/60\n",
      "5072/5072 [==============================] - 31s 6ms/step - loss: 6.6016 - MAPE: 37358.1523 - val_loss: 0.5223 - val_MAPE: 1.2131\n",
      "Epoch 4/60\n",
      "5072/5072 [==============================] - 32s 6ms/step - loss: 5.3271 - MAPE: 38917.6133 - val_loss: 0.4228 - val_MAPE: 0.6301\n",
      "Epoch 5/60\n",
      "5072/5072 [==============================] - 34s 7ms/step - loss: 4.2015 - MAPE: 38103.2852 - val_loss: 0.4853 - val_MAPE: 1.1517\n",
      "Epoch 6/60\n",
      "5072/5072 [==============================] - 31s 6ms/step - loss: 3.2289 - MAPE: 34017.4180 - val_loss: 0.4145 - val_MAPE: 0.6727\n",
      "Epoch 7/60\n",
      "5072/5072 [==============================] - 34s 7ms/step - loss: 2.3901 - MAPE: 38449.8242 - val_loss: 0.3912 - val_MAPE: 0.8350\n",
      "Epoch 8/60\n",
      "5072/5072 [==============================] - 37s 7ms/step - loss: 1.7281 - MAPE: 36227.3242 - val_loss: 0.3409 - val_MAPE: 0.5127\n",
      "Epoch 9/60\n",
      "5072/5072 [==============================] - 37s 7ms/step - loss: 1.2443 - MAPE: 41901.2930 - val_loss: 0.2876 - val_MAPE: 0.2179\n",
      "Epoch 10/60\n",
      "5072/5072 [==============================] - 34s 7ms/step - loss: 0.8995 - MAPE: 39033.8281 - val_loss: 0.2957 - val_MAPE: 0.4388\n",
      "Epoch 11/60\n",
      "5072/5072 [==============================] - 460s 91ms/step - loss: 0.7124 - MAPE: 39117.2148 - val_loss: 0.2892 - val_MAPE: 0.3004\n",
      "Epoch 12/60\n",
      "5072/5072 [==============================] - 30s 6ms/step - loss: 0.5904 - MAPE: 38649.7188 - val_loss: 0.2842 - val_MAPE: 0.2602\n",
      "Epoch 13/60\n",
      "5072/5072 [==============================] - 30s 6ms/step - loss: 0.5286 - MAPE: 35197.4727 - val_loss: 0.2556 - val_MAPE: 0.2205\n",
      "Epoch 14/60\n",
      "5072/5072 [==============================] - 30s 6ms/step - loss: 0.5029 - MAPE: 32288.5078 - val_loss: 0.2469 - val_MAPE: 0.3061\n",
      "Epoch 15/60\n",
      "5072/5072 [==============================] - 186s 37ms/step - loss: 0.5159 - MAPE: 39974.5430 - val_loss: 0.2495 - val_MAPE: 0.2442\n",
      "Epoch 16/60\n",
      "5072/5072 [==============================] - 31s 6ms/step - loss: 0.4894 - MAPE: 43350.8516 - val_loss: 0.2493 - val_MAPE: 0.2706\n",
      "Epoch 17/60\n",
      "5072/5072 [==============================] - 32s 6ms/step - loss: 0.4799 - MAPE: 37687.7500 - val_loss: 0.2188 - val_MAPE: 0.1665\n",
      "Epoch 18/60\n",
      "5072/5072 [==============================] - 34s 7ms/step - loss: 0.4737 - MAPE: 48930.9727 - val_loss: 0.2199 - val_MAPE: 0.2390\n",
      "Epoch 19/60\n",
      "5072/5072 [==============================] - 35s 7ms/step - loss: 0.4689 - MAPE: 40567.2188 - val_loss: 0.2096 - val_MAPE: 0.2284\n",
      "Epoch 20/60\n",
      "5072/5072 [==============================] - 34s 7ms/step - loss: 0.4714 - MAPE: 34609.8398 - val_loss: 0.2035 - val_MAPE: 0.1811\n",
      "Epoch 21/60\n",
      "5072/5072 [==============================] - 34s 7ms/step - loss: 0.4591 - MAPE: 37391.7539 - val_loss: 0.2313 - val_MAPE: 0.3055\n",
      "Epoch 22/60\n",
      "5072/5072 [==============================] - 34s 7ms/step - loss: 0.4696 - MAPE: 34562.4844 - val_loss: 0.2218 - val_MAPE: 0.2611\n",
      "Epoch 23/60\n",
      "5072/5072 [==============================] - 35s 7ms/step - loss: 0.4498 - MAPE: 39139.8203 - val_loss: 0.2044 - val_MAPE: 0.2301\n",
      "Epoch 24/60\n",
      "5072/5072 [==============================] - 34s 7ms/step - loss: 0.4430 - MAPE: 37842.6250 - val_loss: 0.2239 - val_MAPE: 0.1991\n",
      "Epoch 25/60\n",
      "5072/5072 [==============================] - 34s 7ms/step - loss: 0.4352 - MAPE: 37898.1602 - val_loss: 0.2011 - val_MAPE: 0.2185\n",
      "Epoch 26/60\n",
      "5072/5072 [==============================] - 34s 7ms/step - loss: 0.4395 - MAPE: 39484.7031 - val_loss: 0.2282 - val_MAPE: 0.2458\n",
      "Epoch 27/60\n",
      "5072/5072 [==============================] - 34s 7ms/step - loss: 0.4406 - MAPE: 28115.3457 - val_loss: 0.2328 - val_MAPE: 0.2843\n",
      "Epoch 28/60\n",
      "5072/5072 [==============================] - 34s 7ms/step - loss: 0.4422 - MAPE: 37233.5742 - val_loss: 0.2053 - val_MAPE: 0.1285\n",
      "Epoch 29/60\n",
      "5072/5072 [==============================] - 34s 7ms/step - loss: 0.4439 - MAPE: 38247.7500 - val_loss: 0.2034 - val_MAPE: 0.1744\n",
      "Epoch 30/60\n",
      "5072/5072 [==============================] - 34s 7ms/step - loss: 0.4372 - MAPE: 47750.5977 - val_loss: 0.1938 - val_MAPE: 0.2393\n",
      "Epoch 31/60\n",
      "5072/5072 [==============================] - 34s 7ms/step - loss: 0.4403 - MAPE: 31975.4727 - val_loss: 0.1959 - val_MAPE: 0.2418\n",
      "Epoch 32/60\n",
      "5072/5072 [==============================] - 34s 7ms/step - loss: 0.4316 - MAPE: 34912.8633 - val_loss: 0.2005 - val_MAPE: 0.2269\n",
      "Epoch 33/60\n",
      "5072/5072 [==============================] - 34s 7ms/step - loss: 0.4338 - MAPE: 38636.0859 - val_loss: 0.1862 - val_MAPE: 0.3125\n",
      "Epoch 34/60\n",
      "5072/5072 [==============================] - 34s 7ms/step - loss: 0.4245 - MAPE: 35637.9180 - val_loss: 0.2031 - val_MAPE: 0.3327\n",
      "Epoch 35/60\n",
      "5072/5072 [==============================] - 34s 7ms/step - loss: 0.4582 - MAPE: 46935.5352 - val_loss: 0.1979 - val_MAPE: 0.1932\n",
      "Epoch 36/60\n",
      "5072/5072 [==============================] - 35s 7ms/step - loss: 0.4345 - MAPE: 42515.1133 - val_loss: 0.2108 - val_MAPE: 0.2241\n",
      "Epoch 37/60\n",
      "5072/5072 [==============================] - 35s 7ms/step - loss: 0.4335 - MAPE: 37767.6953 - val_loss: 0.1810 - val_MAPE: 0.1389\n",
      "Epoch 38/60\n",
      "5072/5072 [==============================] - 35s 7ms/step - loss: 0.4313 - MAPE: 29801.4043 - val_loss: 0.2584 - val_MAPE: 0.2028\n",
      "Epoch 39/60\n",
      "5072/5072 [==============================] - 35s 7ms/step - loss: 0.4404 - MAPE: 31395.2246 - val_loss: 0.2023 - val_MAPE: 0.2588\n",
      "Epoch 40/60\n",
      "5072/5072 [==============================] - 35s 7ms/step - loss: 0.4538 - MAPE: 42535.3711 - val_loss: 0.2093 - val_MAPE: 0.1852\n",
      "Epoch 41/60\n",
      "5072/5072 [==============================] - 35s 7ms/step - loss: 0.4461 - MAPE: 47191.2539 - val_loss: 0.1889 - val_MAPE: 0.2055\n",
      "Epoch 42/60\n",
      "5072/5072 [==============================] - 35s 7ms/step - loss: 0.4320 - MAPE: 40330.0156 - val_loss: 0.1855 - val_MAPE: 0.2064\n",
      "Epoch 43/60\n",
      "5072/5072 [==============================] - 34s 7ms/step - loss: 0.4313 - MAPE: 33817.5312 - val_loss: 0.2044 - val_MAPE: 0.2269\n",
      "Epoch 44/60\n",
      "5072/5072 [==============================] - 34s 7ms/step - loss: 0.4244 - MAPE: 36399.9531 - val_loss: 0.1877 - val_MAPE: 0.1471\n",
      "Epoch 45/60\n",
      "5072/5072 [==============================] - 35s 7ms/step - loss: 0.4228 - MAPE: 37957.1992 - val_loss: 0.1892 - val_MAPE: 0.1358\n",
      "Epoch 46/60\n",
      "5072/5072 [==============================] - 35s 7ms/step - loss: 0.4287 - MAPE: 37648.2656 - val_loss: 0.2000 - val_MAPE: 0.1611\n",
      "Epoch 47/60\n",
      "5072/5072 [==============================] - 35s 7ms/step - loss: 0.4290 - MAPE: 39770.2109 - val_loss: 0.1978 - val_MAPE: 0.2444\n",
      "Epoch 48/60\n",
      "5072/5072 [==============================] - 35s 7ms/step - loss: 0.4181 - MAPE: 34534.7227 - val_loss: 0.1859 - val_MAPE: 0.1434\n",
      "Epoch 49/60\n",
      "5072/5072 [==============================] - 35s 7ms/step - loss: 0.4133 - MAPE: 33221.7109 - val_loss: 0.1996 - val_MAPE: 0.2178\n",
      "Epoch 50/60\n",
      "5072/5072 [==============================] - 36s 7ms/step - loss: 0.4256 - MAPE: 30365.5977 - val_loss: 0.1896 - val_MAPE: 0.1818\n",
      "Epoch 51/60\n",
      "5072/5072 [==============================] - 35s 7ms/step - loss: 0.4147 - MAPE: 32628.1289 - val_loss: 0.1966 - val_MAPE: 0.2207\n",
      "Epoch 52/60\n",
      "5072/5072 [==============================] - 36s 7ms/step - loss: 0.4068 - MAPE: 35755.8398 - val_loss: 0.2021 - val_MAPE: 0.1820\n",
      "Epoch 53/60\n",
      "5072/5072 [==============================] - 35s 7ms/step - loss: 0.4124 - MAPE: 40156.2461 - val_loss: 0.2011 - val_MAPE: 0.2386\n",
      "Epoch 54/60\n",
      "5072/5072 [==============================] - 34s 7ms/step - loss: 0.4126 - MAPE: 34146.6875 - val_loss: 0.1853 - val_MAPE: 0.1921\n",
      "Epoch 55/60\n",
      "5072/5072 [==============================] - 35s 7ms/step - loss: 0.4268 - MAPE: 40302.5000 - val_loss: 0.2086 - val_MAPE: 0.3017\n",
      "Epoch 56/60\n",
      "5072/5072 [==============================] - 41s 8ms/step - loss: 0.4225 - MAPE: 36531.5703 - val_loss: 0.2064 - val_MAPE: 0.1585\n",
      "Epoch 57/60\n",
      "5072/5072 [==============================] - 33s 7ms/step - loss: 0.4063 - MAPE: 31239.6055 - val_loss: 0.1960 - val_MAPE: 0.2815\n",
      "Epoch 58/60\n",
      "5072/5072 [==============================] - 34s 7ms/step - loss: 0.4127 - MAPE: 39398.6133 - val_loss: 0.1984 - val_MAPE: 0.2086\n",
      "Epoch 59/60\n",
      "5072/5072 [==============================] - 37s 7ms/step - loss: 0.4118 - MAPE: 32813.8789 - val_loss: 0.2082 - val_MAPE: 0.2923\n",
      "Epoch 60/60\n",
      "5072/5072 [==============================] - 38s 8ms/step - loss: 0.4119 - MAPE: 36254.8203 - val_loss: 0.2065 - val_MAPE: 0.2553\n"
     ]
    }
   ],
   "source": [
    "history_GRU = model_GRU.fit(X_train_bil, y_train_bil, validation_data=(X_test_bil, y_test_bil), batch_size = 128, epochs = 60, callbacks=callbacks)"
   ]
  },
  {
   "cell_type": "code",
   "execution_count": 132,
   "id": "e4185311-a9b8-4cfd-b54f-5866591bf608",
   "metadata": {},
   "outputs": [],
   "source": [
    "from sklearn.gaussian_process import GaussianProcessRegressor\n",
    "from sklearn.gaussian_process.kernels import RBF, ConstantKernel as C"
   ]
  },
  {
   "cell_type": "code",
   "execution_count": null,
   "id": "f078fe7e-c0b2-48c3-85f8-280941b2ddf1",
   "metadata": {},
   "outputs": [],
   "source": []
  },
  {
   "cell_type": "code",
   "execution_count": null,
   "id": "c0586895-7dd8-448e-b86e-e55bef188668",
   "metadata": {},
   "outputs": [],
   "source": []
  },
  {
   "cell_type": "code",
   "execution_count": null,
   "id": "fb49e3f5-154d-4aed-b89b-4928d311b557",
   "metadata": {},
   "outputs": [],
   "source": []
  },
  {
   "cell_type": "code",
   "execution_count": null,
   "id": "ba1250de-e914-4f5c-ad56-77084a498077",
   "metadata": {},
   "outputs": [],
   "source": []
  },
  {
   "cell_type": "code",
   "execution_count": 140,
   "id": "1d0e2069-b646-482a-a6c1-20a1ad423750",
   "metadata": {},
   "outputs": [
    {
     "name": "stdout",
     "output_type": "stream",
     "text": [
      "5072/5072 [==============================] - 8s 2ms/step\n"
     ]
    }
   ],
   "source": [
    "pred_GRU = model_GRU.predict(X_test_bil)"
   ]
  },
  {
   "cell_type": "code",
   "execution_count": 31,
   "id": "58c47511-db0a-4d4c-94ea-152e1c028a71",
   "metadata": {},
   "outputs": [],
   "source": [
    "from sklearn.metrics import mean_absolute_error\n",
    "from keras.layers import Bidirectional\n",
    "from sklearn.metrics import mean_squared_error,r2_score,mean_absolute_error\n",
    "from sklearn.preprocessing import MinMaxScaler"
   ]
  },
  {
   "cell_type": "code",
   "execution_count": 142,
   "id": "e094f1f9-6de1-4433-acdd-188ddeda9751",
   "metadata": {},
   "outputs": [
    {
     "name": "stdout",
     "output_type": "stream",
     "text": [
      "Root Mean Squared Error: 0.45439463453759427\n",
      "Mean Squared Error: 0.20647448389655387\n"
     ]
    }
   ],
   "source": [
    "mse_gru_seen = mean_squared_error(y_test, pred_GRU)\n",
    "rmse_gru_seen = np.sqrt(mse_gru_seen)\n",
    "print(f\"Root Mean Squared Error: {rmse_gru_seen}\")\n",
    "print(f\"Mean Squared Error: {mse_gru_seen}\")"
   ]
  },
  {
   "cell_type": "code",
   "execution_count": 143,
   "id": "0998a9e2-67fa-4371-9d26-0417cc8f172f",
   "metadata": {},
   "outputs": [
    {
     "data": {
      "text/html": [
       "<div>\n",
       "<style scoped>\n",
       "    .dataframe tbody tr th:only-of-type {\n",
       "        vertical-align: middle;\n",
       "    }\n",
       "\n",
       "    .dataframe tbody tr th {\n",
       "        vertical-align: top;\n",
       "    }\n",
       "\n",
       "    .dataframe thead th {\n",
       "        text-align: right;\n",
       "    }\n",
       "</style>\n",
       "<table border=\"1\" class=\"dataframe\">\n",
       "  <thead>\n",
       "    <tr style=\"text-align: right;\">\n",
       "      <th></th>\n",
       "      <th>Real</th>\n",
       "      <th>Predicted</th>\n",
       "    </tr>\n",
       "  </thead>\n",
       "  <tbody>\n",
       "    <tr>\n",
       "      <th>886268</th>\n",
       "      <td>30</td>\n",
       "      <td>30.025566</td>\n",
       "    </tr>\n",
       "    <tr>\n",
       "      <th>886269</th>\n",
       "      <td>30</td>\n",
       "      <td>30.038054</td>\n",
       "    </tr>\n",
       "    <tr>\n",
       "      <th>886270</th>\n",
       "      <td>30</td>\n",
       "      <td>30.025566</td>\n",
       "    </tr>\n",
       "    <tr>\n",
       "      <th>886271</th>\n",
       "      <td>30</td>\n",
       "      <td>30.025566</td>\n",
       "    </tr>\n",
       "    <tr>\n",
       "      <th>886272</th>\n",
       "      <td>30</td>\n",
       "      <td>30.038054</td>\n",
       "    </tr>\n",
       "  </tbody>\n",
       "</table>\n",
       "</div>"
      ],
      "text/plain": [
       "        Real  Predicted\n",
       "886268    30  30.025566\n",
       "886269    30  30.038054\n",
       "886270    30  30.025566\n",
       "886271    30  30.025566\n",
       "886272    30  30.038054"
      ]
     },
     "execution_count": 143,
     "metadata": {},
     "output_type": "execute_result"
    }
   ],
   "source": [
    "# Create a DataFrame of Real and Predicted values\n",
    "prices_gru_seen = pd.DataFrame({\n",
    "    \"Real\": y_test.ravel(),\n",
    "    \"Predicted\": pred_GRU.ravel()\n",
    "}, index = df1.index[-len(y_test): ]) \n",
    "prices_gru_seen.head()"
   ]
  },
  {
   "cell_type": "code",
   "execution_count": null,
   "id": "626a87d7-c1f6-4b62-97d5-84a95acd7fdc",
   "metadata": {},
   "outputs": [],
   "source": []
  },
  {
   "cell_type": "code",
   "execution_count": 63,
   "id": "a67a0a2e-cf4f-44fe-8c62-20da1504952d",
   "metadata": {},
   "outputs": [
    {
     "name": "stdout",
     "output_type": "stream",
     "text": [
      "0:\tlearn: 4.3064231\ttotal: 45.5ms\tremaining: 45.4s\n",
      "100:\tlearn: 1.6309289\ttotal: 5.56s\tremaining: 49.5s\n",
      "200:\tlearn: 0.7059445\ttotal: 11.3s\tremaining: 44.9s\n",
      "300:\tlearn: 0.4372984\ttotal: 16.8s\tremaining: 39.1s\n",
      "400:\tlearn: 0.3711044\ttotal: 22.4s\tremaining: 33.4s\n",
      "500:\tlearn: 0.3472348\ttotal: 28s\tremaining: 27.9s\n",
      "600:\tlearn: 0.3317389\ttotal: 33.6s\tremaining: 22.3s\n",
      "700:\tlearn: 0.3189981\ttotal: 39.3s\tremaining: 16.8s\n",
      "800:\tlearn: 0.3057439\ttotal: 45s\tremaining: 11.2s\n",
      "900:\tlearn: 0.2951812\ttotal: 50.8s\tremaining: 5.58s\n",
      "999:\tlearn: 0.2859277\ttotal: 56.7s\tremaining: 0us\n",
      "Root Mean Squared Error: 0.3793144059783939\n",
      "Mean Squared Error: 0.1438794185827418\n"
     ]
    }
   ],
   "source": [
    "from catboost import CatBoostRegressor\n",
    "model_cb = CatBoostRegressor(iterations=1000,  # Adjust the number of iterations as needed\n",
    "                             learning_rate=0.01,  # Adjust the learning rate as needed\n",
    "                             depth=10,  # Adjust the depth of the trees\n",
    "                             loss_function='RMSE',  # Specify the loss function for regression\n",
    "                             random_seed=42,\n",
    "                            verbose=100)\n",
    "model_cb.fit(X_train_bil, y_train_bil)\n",
    "y_pred_cb = model_cb.predict(X_test_bil)\n",
    "from sklearn.metrics import mean_squared_error\n",
    "mse_cat = mean_squared_error(y_test_bil, y_pred_cb)\n",
    "rmse_cat = np.sqrt(mse_cat)\n",
    "print(f\"Root Mean Squared Error: {rmse_cat}\")\n",
    "print(f\"Mean Squared Error: {mse_cat}\")"
   ]
  },
  {
   "cell_type": "code",
   "execution_count": 65,
   "id": "f57e2608-d1a8-4707-88ce-6da0d895f0a5",
   "metadata": {},
   "outputs": [
    {
     "data": {
      "text/html": [
       "<div>\n",
       "<style scoped>\n",
       "    .dataframe tbody tr th:only-of-type {\n",
       "        vertical-align: middle;\n",
       "    }\n",
       "\n",
       "    .dataframe tbody tr th {\n",
       "        vertical-align: top;\n",
       "    }\n",
       "\n",
       "    .dataframe thead th {\n",
       "        text-align: right;\n",
       "    }\n",
       "</style>\n",
       "<table border=\"1\" class=\"dataframe\">\n",
       "  <thead>\n",
       "    <tr style=\"text-align: right;\">\n",
       "      <th></th>\n",
       "      <th>Real</th>\n",
       "      <th>Predicted</th>\n",
       "    </tr>\n",
       "  </thead>\n",
       "  <tbody>\n",
       "    <tr>\n",
       "      <th>886268</th>\n",
       "      <td>30</td>\n",
       "      <td>30.001597</td>\n",
       "    </tr>\n",
       "    <tr>\n",
       "      <th>886269</th>\n",
       "      <td>30</td>\n",
       "      <td>30.003218</td>\n",
       "    </tr>\n",
       "    <tr>\n",
       "      <th>886270</th>\n",
       "      <td>28</td>\n",
       "      <td>27.999835</td>\n",
       "    </tr>\n",
       "    <tr>\n",
       "      <th>886271</th>\n",
       "      <td>30</td>\n",
       "      <td>30.002701</td>\n",
       "    </tr>\n",
       "    <tr>\n",
       "      <th>886272</th>\n",
       "      <td>30</td>\n",
       "      <td>30.001988</td>\n",
       "    </tr>\n",
       "  </tbody>\n",
       "</table>\n",
       "</div>"
      ],
      "text/plain": [
       "        Real  Predicted\n",
       "886268    30  30.001597\n",
       "886269    30  30.003218\n",
       "886270    28  27.999835\n",
       "886271    30  30.002701\n",
       "886272    30  30.001988"
      ]
     },
     "execution_count": 65,
     "metadata": {},
     "output_type": "execute_result"
    }
   ],
   "source": [
    "# Create a DataFrame of Real and Predicted values\n",
    "prices_catb_seen = pd.DataFrame({\n",
    "    \"Real\": y_test.ravel(),\n",
    "    \"Predicted\": y_pred_cb.ravel()\n",
    "}, index = df1.index[-len(y_test): ]) \n",
    "prices_catb_seen.head()"
   ]
  },
  {
   "cell_type": "code",
   "execution_count": null,
   "id": "32fce590-a6be-4cd8-8f65-0ceefada8362",
   "metadata": {},
   "outputs": [],
   "source": []
  },
  {
   "cell_type": "code",
   "execution_count": null,
   "id": "6cc9b104-8cb9-4036-8347-d50fe992cd7d",
   "metadata": {},
   "outputs": [],
   "source": []
  },
  {
   "cell_type": "code",
   "execution_count": null,
   "id": "25d3d1ef-7568-4d0a-8c54-2965f758da04",
   "metadata": {},
   "outputs": [],
   "source": []
  },
  {
   "cell_type": "code",
   "execution_count": null,
   "id": "2f1b199c-3e69-4294-a1eb-c792ce1d952b",
   "metadata": {},
   "outputs": [],
   "source": [
    "## On unseeen data"
   ]
  },
  {
   "cell_type": "code",
   "execution_count": 34,
   "id": "558691a7-9b27-4a33-b57e-347682a4c563",
   "metadata": {},
   "outputs": [],
   "source": [
    "df22 = pd.read_excel(r\"~/Downloads/BID_RA_data/BID_RA_22_23.xlsx\")"
   ]
  },
  {
   "cell_type": "code",
   "execution_count": 35,
   "id": "48b4e357-8f3d-45ec-9c9d-83297bd19a29",
   "metadata": {},
   "outputs": [
    {
     "data": {
      "text/plain": [
       "Sub Category ID\n",
       "home_info_comp_comp_de52008682          305420\n",
       "home_info_comp_co36451542_inte          172531\n",
       "home_elec_elec_powe_line                170724\n",
       "home_elec_elec_powe_onli                170494\n",
       "home_univ_univ_univ_univ                133236\n",
       "                                         ...  \n",
       "home_powe_elec_elec_weld                     1\n",
       "home_dome_cons_audi_di68048835               1\n",
       "home_dist_he28016675_vent_smok               1\n",
       "home_labo_clin_clin_ferr                     1\n",
       "home_dome_do42264188_dome_do10278707         1\n",
       "Name: count, Length: 1380, dtype: int64"
      ]
     },
     "execution_count": 35,
     "metadata": {},
     "output_type": "execute_result"
    }
   ],
   "source": [
    "df22_1 = df22.drop(df22.columns[[0, 7, 19, 20, 21, 31 ]], axis=1)\n",
    "df22_1[\"price\"] = df22_1[\"Order value\"]/df22_1[\"Order Qty\"]\n",
    "df22_1[\"Time taken to deliver\"] = (df22_1[\"Expected delivery date\"] - df22_1[\"Order Date\"]).dt.days\n",
    "df22_1.drop(columns=[\"Month_Name_OrderDate\", \"Order_Quarter\", \"Invoice Date\",\"CRAC date\", \"Payment Date\"], inplace=True)\n",
    "for column in columns_to_encode:\n",
    "       df22_1[column+'_encoded'] = le.fit_transform(df22_1[column])\n",
    "df22_1 = df22_1.drop(columns=[\"FY_OrderDate\", \"Bid start date\", \"Bid end date\"])\n",
    "df22_1[\"Payment Type\"+'_encoded'] = le.fit_transform(df22_1[\"Payment Type\"])\n",
    "df22_1[\"MSME verified social category\"+'_encoded'] = le.fit_transform(df22_1[\"MSME verified social category\"])\n",
    "\n",
    "df22_1= df22_1.drop(columns=['Seller ID'])\n",
    "df22_1 = df22_1.drop(columns=[\"MSME verified social category\", \"Payment Type\"])\n",
    "df22_1 = df22_1.drop(columns=[\"Order Date\", \"Expected delivery date\", \"Shipment received date\"])\n",
    "df22_1 = df22_1.drop(columns=[\"Purchase Mode\", \"Order MSME Verified\", \"MSME verfied gender wise\", \"Startup verfied\"])\n",
    "df22_1[\"Sub Category ID\"].value_counts()\n",
    "#df22_1=df22_1[df22_1[\"Sub Category ID\"]==\"home_comm_nonm_peda_bicy\"]\n",
    "#print(df22_1.shape)\n",
    "#df22_1 = df22_1.drop(columns=[\"Sub Category ID\"])\n",
    "#I = df22_1.drop(columns=['Time taken to deliver'])\n",
    "#j = df22_1['Time taken to deliver']\n",
    "#I_train, I_test, j_train, j_test = train_test_split(I, j, test_size=0.2)\n",
    "#I_train_bil, j_train_bil = np.array(I_train), np.array(j_train)\n",
    "#I_test_bil, j_test_bil = np.array(I_test), np.array(j_test)\n",
    "\n",
    "#print(I_train_bil.shape, j_train_bil.shape, I_test_bil.shape, j_test_bil.shape)"
   ]
  },
  {
   "cell_type": "code",
   "execution_count": 36,
   "id": "567f3b56-2c3f-4367-966c-a92b3dbcdd21",
   "metadata": {},
   "outputs": [],
   "source": [
    "#df33=df22_1[df22_1[\"Sub Category ID\"]==\"home_comm_nonm_peda_bicy\"]\n",
    "df33=df22_1[df22_1[\"Sub Category ID\"]==\"home_info_comp_comp_de52008682\"]\n"
   ]
  },
  {
   "cell_type": "code",
   "execution_count": 37,
   "id": "3cf4f20e-ccf7-4588-b677-a744713e570d",
   "metadata": {},
   "outputs": [
    {
     "data": {
      "text/plain": [
       "(305420, 16)"
      ]
     },
     "execution_count": 37,
     "metadata": {},
     "output_type": "execute_result"
    }
   ],
   "source": [
    "df33.shape"
   ]
  },
  {
   "cell_type": "code",
   "execution_count": 38,
   "id": "e6dcd685-89aa-4304-b5ad-a82a10a7c90b",
   "metadata": {},
   "outputs": [
    {
     "data": {
      "text/plain": [
       "Index(['Sub Category ID', 'Order Qty', 'Order value',\n",
       "       'Shipment Quantity Received', 'Shipment Quantity Rejected',\n",
       "       'Shipment Quantity Accepted', 'CRAC amount', 'Total payments', 'price',\n",
       "       'Time taken to deliver', 'Purchase Mode_encoded',\n",
       "       'MSME verfied gender wise_encoded', 'Order MSME Verified_encoded',\n",
       "       'Startup verfied_encoded', 'Payment Type_encoded',\n",
       "       'MSME verified social category_encoded'],\n",
       "      dtype='object')"
      ]
     },
     "execution_count": 38,
     "metadata": {},
     "output_type": "execute_result"
    }
   ],
   "source": [
    "df33.columns"
   ]
  },
  {
   "cell_type": "code",
   "execution_count": 39,
   "id": "f9965002-a55e-4f1c-a44c-91aa5835e618",
   "metadata": {},
   "outputs": [
    {
     "name": "stdout",
     "output_type": "stream",
     "text": [
      "(244336, 14) (244336,) (61084, 14) (61084,)\n"
     ]
    }
   ],
   "source": [
    "df33 = df33.drop(columns=[\"Sub Category ID\"])\n",
    "I = df33.drop(columns=['Time taken to deliver'])\n",
    "j = df33['Time taken to deliver']\n",
    "I_train, I_test, j_train, j_test = train_test_split(I, j, test_size=0.2)\n",
    "I_train_bil, j_train_bil = np.array(I_train), np.array(j_train)\n",
    "I_test_bil, j_test_bil = np.array(I_test), np.array(j_test)\n",
    "\n",
    "print(I_train_bil.shape, j_train_bil.shape, I_test_bil.shape, j_test_bil.shape)"
   ]
  },
  {
   "cell_type": "code",
   "execution_count": 67,
   "id": "4e5826a4-52b5-47da-8228-a1690dbe9a43",
   "metadata": {},
   "outputs": [
    {
     "data": {
      "text/plain": [
       "array([[2.49200000e+03, 1.09530876e+08, 4.00000000e+00, ...,\n",
       "        0.00000000e+00, 1.00000000e+00, 0.00000000e+00],\n",
       "       [2.49200000e+03, 1.09530876e+08, 4.00000000e+00, ...,\n",
       "        0.00000000e+00, 1.00000000e+00, 0.00000000e+00],\n",
       "       [6.00000000e+03, 2.49810000e+08, 1.00000000e+00, ...,\n",
       "        0.00000000e+00, 1.00000000e+00, 0.00000000e+00],\n",
       "       ...,\n",
       "       [6.00000000e+03, 2.49810000e+08, 1.10000000e+01, ...,\n",
       "        0.00000000e+00, 1.00000000e+00, 0.00000000e+00],\n",
       "       [2.49200000e+03, 1.09530876e+08, 4.00000000e+00, ...,\n",
       "        0.00000000e+00, 1.00000000e+00, 0.00000000e+00],\n",
       "       [6.00000000e+03, 2.49810000e+08, 6.00000000e+00, ...,\n",
       "        0.00000000e+00, 1.00000000e+00, 0.00000000e+00]])"
      ]
     },
     "execution_count": 67,
     "metadata": {},
     "output_type": "execute_result"
    }
   ],
   "source": [
    "I_test_bil"
   ]
  },
  {
   "cell_type": "code",
   "execution_count": 40,
   "id": "65f99015-305b-483c-b7e4-8bc14225b3a3",
   "metadata": {},
   "outputs": [
    {
     "ename": "NameError",
     "evalue": "name 'model_GRU' is not defined",
     "output_type": "error",
     "traceback": [
      "\u001b[0;31m---------------------------------------------------------------------------\u001b[0m",
      "\u001b[0;31mNameError\u001b[0m                                 Traceback (most recent call last)",
      "Cell \u001b[0;32mIn[40], line 1\u001b[0m\n\u001b[0;32m----> 1\u001b[0m j_pred_gru \u001b[38;5;241m=\u001b[39m \u001b[43mmodel_GRU\u001b[49m\u001b[38;5;241m.\u001b[39mpredict(I_test_bil)\n",
      "\u001b[0;31mNameError\u001b[0m: name 'model_GRU' is not defined"
     ]
    }
   ],
   "source": [
    "j_pred_gru = model_GRU.predict(I_test_bil)"
   ]
  },
  {
   "cell_type": "code",
   "execution_count": 153,
   "id": "c55642f9-3b65-4d96-b5bb-4998f2cc6d78",
   "metadata": {},
   "outputs": [
    {
     "name": "stdout",
     "output_type": "stream",
     "text": [
      "Root Mean Squared Error: 194.71178741722082\n",
      "Mean Squared Error: 37912.68015920899\n"
     ]
    }
   ],
   "source": [
    "mse_gru_unseen = mean_squared_error(j_test, j_pred_gru)\n",
    "rmse_gru_unseen = np.sqrt(mse_gru_unseen)\n",
    "print(f\"Root Mean Squared Error: {rmse_gru_unseen}\")\n",
    "print(f\"Mean Squared Error: {mse_gru_unseen}\")"
   ]
  },
  {
   "cell_type": "code",
   "execution_count": 155,
   "id": "6cc391f7-0b5b-47fb-b1ea-9b05df6b1078",
   "metadata": {},
   "outputs": [
    {
     "data": {
      "text/html": [
       "<div>\n",
       "<style scoped>\n",
       "    .dataframe tbody tr th:only-of-type {\n",
       "        vertical-align: middle;\n",
       "    }\n",
       "\n",
       "    .dataframe tbody tr th {\n",
       "        vertical-align: top;\n",
       "    }\n",
       "\n",
       "    .dataframe thead th {\n",
       "        text-align: right;\n",
       "    }\n",
       "</style>\n",
       "<table border=\"1\" class=\"dataframe\">\n",
       "  <thead>\n",
       "    <tr style=\"text-align: right;\">\n",
       "      <th></th>\n",
       "      <th>Real</th>\n",
       "      <th>Predicted</th>\n",
       "    </tr>\n",
       "  </thead>\n",
       "  <tbody>\n",
       "    <tr>\n",
       "      <th>1048560</th>\n",
       "      <td>214</td>\n",
       "      <td>30.030535</td>\n",
       "    </tr>\n",
       "    <tr>\n",
       "      <th>1048561</th>\n",
       "      <td>214</td>\n",
       "      <td>30.030535</td>\n",
       "    </tr>\n",
       "    <tr>\n",
       "      <th>1048562</th>\n",
       "      <td>214</td>\n",
       "      <td>30.030535</td>\n",
       "    </tr>\n",
       "    <tr>\n",
       "      <th>1048563</th>\n",
       "      <td>238</td>\n",
       "      <td>30.895760</td>\n",
       "    </tr>\n",
       "    <tr>\n",
       "      <th>1048564</th>\n",
       "      <td>214</td>\n",
       "      <td>30.030535</td>\n",
       "    </tr>\n",
       "  </tbody>\n",
       "</table>\n",
       "</div>"
      ],
      "text/plain": [
       "         Real  Predicted\n",
       "1048560   214  30.030535\n",
       "1048561   214  30.030535\n",
       "1048562   214  30.030535\n",
       "1048563   238  30.895760\n",
       "1048564   214  30.030535"
      ]
     },
     "execution_count": 155,
     "metadata": {},
     "output_type": "execute_result"
    }
   ],
   "source": [
    "# Create a DataFrame of Real and Predicted values\n",
    "prices_gru_unseen = pd.DataFrame({\n",
    "    \"Real\": j_test.ravel(),\n",
    "    \"Predicted\": j_pred_gru.ravel()\n",
    "}, index = df1.index[-len(j_test): ]) \n",
    "#prices_gru_unseen.head()\n",
    "prices_gru_unseen.tail()"
   ]
  },
  {
   "cell_type": "code",
   "execution_count": null,
   "id": "a04e3e0b-ac92-4b3d-b33e-479afe14120b",
   "metadata": {},
   "outputs": [],
   "source": []
  },
  {
   "cell_type": "code",
   "execution_count": null,
   "id": "4c4291fb-20e9-47e3-ae0a-f7103b3bda0c",
   "metadata": {},
   "outputs": [],
   "source": []
  },
  {
   "cell_type": "code",
   "execution_count": 46,
   "id": "c4c44c53-74ff-4f61-b74c-d031e22648df",
   "metadata": {},
   "outputs": [
    {
     "data": {
      "text/plain": [
       "array([30.00143668, 30.00312341, 28.00608967, ..., 30.00312341,\n",
       "       27.99381113, 30.002073  ])"
      ]
     },
     "execution_count": 46,
     "metadata": {},
     "output_type": "execute_result"
    }
   ],
   "source": [
    "y_pred_cb"
   ]
  },
  {
   "cell_type": "code",
   "execution_count": null,
   "id": "5c094872-36ca-4854-9fbb-22fef4593fdf",
   "metadata": {},
   "outputs": [],
   "source": [
    "## catBOOST"
   ]
  },
  {
   "cell_type": "code",
   "execution_count": 68,
   "id": "4d5eda8d-2e75-47b0-922d-a981a672e95d",
   "metadata": {},
   "outputs": [],
   "source": [
    "j_pred_cb = model_cb.predict(I_test_bil)"
   ]
  },
  {
   "cell_type": "code",
   "execution_count": 69,
   "id": "af2081ab-8a20-4389-aa43-f872798e6a5c",
   "metadata": {},
   "outputs": [
    {
     "data": {
      "text/plain": [
       "array([29.39583455, 29.25809166, 29.83443704, ..., 29.92551066,\n",
       "       29.25809166, 29.69597849])"
      ]
     },
     "execution_count": 69,
     "metadata": {},
     "output_type": "execute_result"
    }
   ],
   "source": [
    "j_pred_cb"
   ]
  },
  {
   "cell_type": "code",
   "execution_count": 71,
   "id": "9a0200c0-8ee9-4cb8-a88f-574e0cc35bd1",
   "metadata": {},
   "outputs": [
    {
     "name": "stdout",
     "output_type": "stream",
     "text": [
      "Root Mean Squared Error: 195.44410908749919\n",
      "Mean Squared Error: 38198.399777006285\n"
     ]
    }
   ],
   "source": [
    "from sklearn.metrics import mean_squared_error\n",
    "mse_cat_uns = mean_squared_error(j_test_bil, j_pred_cb)\n",
    "rmse_cat_uns = np.sqrt(mse_cat_uns)\n",
    "print(f\"Root Mean Squared Error: {rmse_cat_uns}\")\n",
    "print(f\"Mean Squared Error: {mse_cat_uns}\")"
   ]
  },
  {
   "cell_type": "code",
   "execution_count": 54,
   "id": "7be7931d-051a-41b1-be1f-d853d483a4cf",
   "metadata": {},
   "outputs": [],
   "source": [
    "dc = j_test.ravel()"
   ]
  },
  {
   "cell_type": "code",
   "execution_count": 56,
   "id": "6e3b61b5-22ea-49fe-a495-5839114f8c54",
   "metadata": {},
   "outputs": [
    {
     "data": {
      "text/plain": [
       "array([214, 214, 238, ..., 238, 214, 238])"
      ]
     },
     "execution_count": 56,
     "metadata": {},
     "output_type": "execute_result"
    }
   ],
   "source": [
    "dc"
   ]
  },
  {
   "cell_type": "code",
   "execution_count": 57,
   "id": "d072c385-c94c-49af-92ee-f2033d86a140",
   "metadata": {},
   "outputs": [
    {
     "data": {
      "text/plain": [
       "array([30.14531898, 29.94960655, 29.14062266, ..., 28.91224665,\n",
       "       29.94960655, 29.27214931])"
      ]
     },
     "execution_count": 57,
     "metadata": {},
     "output_type": "execute_result"
    }
   ],
   "source": [
    "j_pred_cb"
   ]
  },
  {
   "cell_type": "code",
   "execution_count": 58,
   "id": "32755549-d14c-4974-aa72-36f22465a243",
   "metadata": {},
   "outputs": [],
   "source": [
    "cv = j_pred_cb.ravel()"
   ]
  },
  {
   "cell_type": "code",
   "execution_count": 59,
   "id": "4979a4e4-cbf9-477c-83bb-3edf52a56ff7",
   "metadata": {},
   "outputs": [
    {
     "data": {
      "text/plain": [
       "array([30.14531898, 29.94960655, 29.14062266, ..., 28.91224665,\n",
       "       29.94960655, 29.27214931])"
      ]
     },
     "execution_count": 59,
     "metadata": {},
     "output_type": "execute_result"
    }
   ],
   "source": [
    "cv"
   ]
  },
  {
   "cell_type": "code",
   "execution_count": null,
   "id": "25b6ce70-028d-4545-a7ad-fbce944eecb5",
   "metadata": {},
   "outputs": [],
   "source": []
  },
  {
   "cell_type": "code",
   "execution_count": 72,
   "id": "f9a191e2-84fa-4f5a-a66b-bf04804d856f",
   "metadata": {},
   "outputs": [
    {
     "data": {
      "text/html": [
       "<div>\n",
       "<style scoped>\n",
       "    .dataframe tbody tr th:only-of-type {\n",
       "        vertical-align: middle;\n",
       "    }\n",
       "\n",
       "    .dataframe tbody tr th {\n",
       "        vertical-align: top;\n",
       "    }\n",
       "\n",
       "    .dataframe thead th {\n",
       "        text-align: right;\n",
       "    }\n",
       "</style>\n",
       "<table border=\"1\" class=\"dataframe\">\n",
       "  <thead>\n",
       "    <tr style=\"text-align: right;\">\n",
       "      <th></th>\n",
       "      <th>Real</th>\n",
       "      <th>Predicted</th>\n",
       "    </tr>\n",
       "  </thead>\n",
       "  <tbody>\n",
       "    <tr>\n",
       "      <th>801745</th>\n",
       "      <td>214</td>\n",
       "      <td>29.395835</td>\n",
       "    </tr>\n",
       "    <tr>\n",
       "      <th>801746</th>\n",
       "      <td>214</td>\n",
       "      <td>29.258092</td>\n",
       "    </tr>\n",
       "    <tr>\n",
       "      <th>801747</th>\n",
       "      <td>238</td>\n",
       "      <td>29.834437</td>\n",
       "    </tr>\n",
       "    <tr>\n",
       "      <th>801748</th>\n",
       "      <td>238</td>\n",
       "      <td>29.584772</td>\n",
       "    </tr>\n",
       "    <tr>\n",
       "      <th>801749</th>\n",
       "      <td>238</td>\n",
       "      <td>29.968514</td>\n",
       "    </tr>\n",
       "  </tbody>\n",
       "</table>\n",
       "</div>"
      ],
      "text/plain": [
       "        Real  Predicted\n",
       "801745   214  29.395835\n",
       "801746   214  29.258092\n",
       "801747   238  29.834437\n",
       "801748   238  29.584772\n",
       "801749   238  29.968514"
      ]
     },
     "execution_count": 72,
     "metadata": {},
     "output_type": "execute_result"
    }
   ],
   "source": [
    "# Create a DataFrame of Real and Predicted values\n",
    "prices_catb_unseen = pd.DataFrame({\n",
    "    \"Real\": j_test.ravel(),\n",
    "    \"Predicted\": j_pred_cb.ravel()\n",
    "}, index = df33.index[-len(j_test): ]) \n",
    "prices_catb_unseen.head()"
   ]
  },
  {
   "cell_type": "code",
   "execution_count": null,
   "id": "d604687c-6a75-478a-8a1e-0da46b9a971b",
   "metadata": {},
   "outputs": [],
   "source": []
  },
  {
   "cell_type": "code",
   "execution_count": null,
   "id": "1f7045d0-7a05-4dcf-8481-11897b4fe4d8",
   "metadata": {},
   "outputs": [],
   "source": []
  },
  {
   "cell_type": "code",
   "execution_count": null,
   "id": "ef2b61cc-0d8a-4ee0-8f5c-fa77c5dcca23",
   "metadata": {},
   "outputs": [],
   "source": []
  },
  {
   "cell_type": "code",
   "execution_count": null,
   "id": "e99619cb-d753-454a-a903-ee77074eadd2",
   "metadata": {},
   "outputs": [],
   "source": []
  },
  {
   "cell_type": "code",
   "execution_count": null,
   "id": "e4c1c827-fabf-4afc-be7f-223e257eeb8d",
   "metadata": {},
   "outputs": [],
   "source": []
  },
  {
   "cell_type": "code",
   "execution_count": null,
   "id": "8ce5a803-1676-4e1e-bcd5-07a13b92f43d",
   "metadata": {},
   "outputs": [],
   "source": []
  },
  {
   "cell_type": "code",
   "execution_count": null,
   "id": "7aac10f8-fffd-4b6b-ae5a-6b24fefff997",
   "metadata": {},
   "outputs": [],
   "source": []
  },
  {
   "cell_type": "code",
   "execution_count": null,
   "id": "162699dd-0437-4106-9ee5-857e8cba2eb5",
   "metadata": {},
   "outputs": [],
   "source": []
  },
  {
   "cell_type": "code",
   "execution_count": null,
   "id": "0e23d5a2-f94d-4e38-9f73-a8c9ed40f457",
   "metadata": {},
   "outputs": [],
   "source": []
  },
  {
   "cell_type": "code",
   "execution_count": null,
   "id": "44c84720-7fc2-4146-8673-3f0f007ecdc0",
   "metadata": {},
   "outputs": [],
   "source": []
  },
  {
   "cell_type": "code",
   "execution_count": null,
   "id": "a63ec897-f7cb-48c2-9d92-9babcedd34e6",
   "metadata": {},
   "outputs": [],
   "source": []
  },
  {
   "cell_type": "code",
   "execution_count": null,
   "id": "0d0211d1-62cc-44bb-8f37-7df579d9a0b6",
   "metadata": {},
   "outputs": [],
   "source": []
  },
  {
   "cell_type": "code",
   "execution_count": null,
   "id": "5ce74d55-014f-47db-a484-316c80dfc834",
   "metadata": {},
   "outputs": [],
   "source": []
  },
  {
   "cell_type": "code",
   "execution_count": null,
   "id": "5c1528f9-4a55-4e13-9c3a-264266f0d081",
   "metadata": {},
   "outputs": [],
   "source": []
  },
  {
   "cell_type": "code",
   "execution_count": null,
   "id": "4d967d8c-3346-43a5-bba4-0e5c4de23af0",
   "metadata": {},
   "outputs": [],
   "source": []
  },
  {
   "cell_type": "code",
   "execution_count": null,
   "id": "31dd575e-bb56-4031-8c69-b9ff8c787794",
   "metadata": {},
   "outputs": [],
   "source": []
  },
  {
   "cell_type": "code",
   "execution_count": null,
   "id": "c10103e2-270b-448f-a8d0-e13380f757af",
   "metadata": {},
   "outputs": [],
   "source": []
  },
  {
   "cell_type": "code",
   "execution_count": null,
   "id": "ff9f2697-1ec8-4568-8534-665ea864822f",
   "metadata": {},
   "outputs": [],
   "source": []
  },
  {
   "cell_type": "code",
   "execution_count": null,
   "id": "7ed8fb14-64f8-404d-b892-1fb30e0163d4",
   "metadata": {},
   "outputs": [],
   "source": []
  },
  {
   "cell_type": "code",
   "execution_count": null,
   "id": "d48d186e-8c4f-4091-ad8f-a6ce6cd60672",
   "metadata": {},
   "outputs": [],
   "source": []
  },
  {
   "cell_type": "code",
   "execution_count": null,
   "id": "fc7b05f8-480b-459a-b239-43c5906c79d3",
   "metadata": {},
   "outputs": [],
   "source": []
  },
  {
   "cell_type": "code",
   "execution_count": null,
   "id": "c220f295-ceeb-43d8-bf9f-039da45e1d09",
   "metadata": {},
   "outputs": [],
   "source": []
  },
  {
   "cell_type": "code",
   "execution_count": null,
   "id": "90b415a9-3039-4827-8ac4-bb4457701be1",
   "metadata": {},
   "outputs": [],
   "source": []
  },
  {
   "cell_type": "code",
   "execution_count": null,
   "id": "474e306e-fe25-4be7-a7a8-9be599eab934",
   "metadata": {},
   "outputs": [],
   "source": []
  },
  {
   "cell_type": "code",
   "execution_count": null,
   "id": "152c4e33-40fe-42f5-8483-48873e1a87af",
   "metadata": {},
   "outputs": [],
   "source": []
  },
  {
   "cell_type": "code",
   "execution_count": null,
   "id": "50c0cd36-f081-458d-9fa4-35714155680f",
   "metadata": {},
   "outputs": [],
   "source": []
  },
  {
   "cell_type": "code",
   "execution_count": null,
   "id": "a39cd1fa-8b11-4a70-8fef-4023af4ff8ae",
   "metadata": {},
   "outputs": [],
   "source": []
  },
  {
   "cell_type": "code",
   "execution_count": null,
   "id": "0c40778b-ca6b-4c50-92e5-2828fd81d90e",
   "metadata": {},
   "outputs": [],
   "source": []
  },
  {
   "cell_type": "code",
   "execution_count": null,
   "id": "04029647-fa75-4cb7-ae2e-ffc0a95a5edb",
   "metadata": {},
   "outputs": [],
   "source": []
  },
  {
   "cell_type": "code",
   "execution_count": null,
   "id": "5aea912d-f046-4f9f-ac99-8fa33bf96a2d",
   "metadata": {},
   "outputs": [],
   "source": []
  },
  {
   "cell_type": "code",
   "execution_count": null,
   "id": "40831114-13a9-42ef-acf4-06a2640618a8",
   "metadata": {},
   "outputs": [],
   "source": []
  },
  {
   "cell_type": "code",
   "execution_count": null,
   "id": "611ab983-ffb0-4ee2-948c-9c8c693d1277",
   "metadata": {},
   "outputs": [],
   "source": []
  },
  {
   "cell_type": "code",
   "execution_count": null,
   "id": "38f8c80b-f813-4505-9d5e-b07a1c82033a",
   "metadata": {},
   "outputs": [],
   "source": []
  }
 ],
 "metadata": {
  "kernelspec": {
   "display_name": "Python 3 (ipykernel)",
   "language": "python",
   "name": "python3"
  },
  "language_info": {
   "codemirror_mode": {
    "name": "ipython",
    "version": 3
   },
   "file_extension": ".py",
   "mimetype": "text/x-python",
   "name": "python",
   "nbconvert_exporter": "python",
   "pygments_lexer": "ipython3",
   "version": "3.8.10"
  }
 },
 "nbformat": 4,
 "nbformat_minor": 5
}
